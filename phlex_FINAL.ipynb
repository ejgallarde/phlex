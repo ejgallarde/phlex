{
 "cells": [
  {
   "cell_type": "markdown",
   "id": "808ec107-ed43-404a-ac02-56e1c909b61d",
   "metadata": {},
   "source": [
    "## **Introduction**"
   ]
  },
  {
   "cell_type": "markdown",
   "id": "6b288ebd-5335-488c-bd71-00ebe2c88c1e",
   "metadata": {},
   "source": [
    "The justice system in the Philippines faces challenges such as long pretrial detention periods, a substantial backlog of cases, and delays in case resolution. The dysfunctional judicial system contributes directly to prolonged trial periods, impacting the efficiency of legal processes **(Lee & Narag, 2018)**. The backlog of cases in the Philippines is a pressing concern due to the large volume of cases filed annually, further exacerbating delays in case resolution **(Lee & Narag, 2018)**. The phrase \"justice delayed is justice denied\" underscores the negative consequences of prolonged legal processes on individuals seeking justice, emphasizing the importance of timely resolution to uphold fairness and accountability **(Ngoepe & Makhubela, 2015)**.\n",
    "\n",
    "Efforts to address these challenges include judicial reforms, capacity building, and the implementation of restorative justice practices **(Guinigundo, 2021)**. The backlog in the Philippine courts raises concerns about the adequacy of judicial resources, including the number of judges available to handle the caseload **(Narag, 2017)**. Insufficient judicial manpower can further contribute to delays in case resolution and exacerbate the backlog issue **(Narag, 2017)**. \n",
    "\n",
    "While there is no definitive timeline for clearing the backlog, improving judicial efficiency, increasing judicial capacity, and implementing alternative dispute resolution mechanisms can help expedite case resolution and reduce the backlog over time.\n",
    "\n",
    "The implementation of e-courts involves integrating digital technologies into court management systems to streamline processes and enhance access to justice. E-courts utilize features like Case Tracking Information Systems and Decision Directories to improve efficiency and transparency **(Masriyani, 2024)**. By digitizing court records and enabling online case management, e-courts aim to expedite legal proceedings and increase connectivity to court services **(Kondori, 2023)**. The use of e-courts has been particularly relevant during the COVID-19 pandemic, offering online solutions for litigation to reduce physical gatherings and ensure continuity in legal processes (Arifany, 2021). While digital court tools hold promise for enhancing efficiency and accessibility, they also pose challenges related to privacy, transparency, and the potential for injustice **(Donoghue, 2017; Eltis, 2011)**. Efforts to implement e-courts require considerations of critical success factors, such as the electronic registration of cases and the digitalization of court processes **(Muhammad, 2023)**. Despite the benefits of e-justice systems, challenges remain in fully adopting computer-based information systems for case management in many courts **(Grepon, 2021)**. Overall, the digital transformation of courts through e-courts is essential for increasing transparency, efficiency, and public access to judicial processes **(Setiawan, 2024; Andrade-Udarbe & Ballena, 2021)**.\n",
    "\n",
    "While e-courts generally help, it does not come with the ability to directly help come up with case resolutions. A study conducted in Indonesia explored the capabilities of AI in handling criminal cases in e-courts **(Santosa, 2023)**. The research highlighted the potential benefits of AI in facilitating court processes and improving the handling of criminal cases. To date, there is currently no specific reference to the use of AI in e-courts in the Philippines. There is also a lack of information regarding its specific use in the Philippines."
   ]
  },
  {
   "cell_type": "markdown",
   "id": "054025a0-1cd3-4c47-b580-f3038e611e9c",
   "metadata": {},
   "source": [
    "## **Motivation**"
   ]
  },
  {
   "cell_type": "markdown",
   "id": "b078eb40-0d8d-4825-9713-2b381b93925e",
   "metadata": {},
   "source": [
    "Given the wealth of jurisprudence produced by the Philippine Supreme Court, there exists a vast repository of legal knowledge that can be leveraged to improve judicial decision-making processes. This project seeks to develop a Retrieval-Augmented Generation (RAG) system using Philippine Supreme Court jurisprudence as the foundational data for vector embeddings. The RAG system aims to facilitate more efficient case research, provide insights into legal precedents, and potentially assist in expediting case resolutions. By harnessing the power of AI and the extensive legal corpus of the Supreme Court, this project aspires to contribute to the modernization and improvement of the Philippine justice system."
   ]
  },
  {
   "cell_type": "markdown",
   "id": "59bbd7f4-812a-429c-8ac0-093edbc5bd94",
   "metadata": {},
   "source": [
    "## **Problem Statement**"
   ]
  },
  {
   "cell_type": "markdown",
   "id": "e48fd50a-6b26-4901-ba01-7e23b56cae66",
   "metadata": {},
   "source": [
    "How can a Retrieval-Augmented Generation (RAG) system, utilizing Philippine Supreme Court jurisprudence, improve the efficiency of legal research and case resolution in the Philippines? To what extent can the integration of AI into e-courts in the Philippines enhance the accuracy and speed of legal decision-making?"
   ]
  },
  {
   "cell_type": "markdown",
   "id": "0ce77a88-cd11-4f85-8806-4496e8960259",
   "metadata": {},
   "source": [
    "## **Installations**"
   ]
  },
  {
   "cell_type": "code",
   "execution_count": 1,
   "id": "fc95769c-bae2-4d1b-834b-72d01798fe38",
   "metadata": {
    "execution": {
     "iopub.execute_input": "2024-08-26T06:06:27.252798Z",
     "iopub.status.busy": "2024-08-26T06:06:27.252136Z",
     "iopub.status.idle": "2024-08-26T06:06:33.290023Z",
     "shell.execute_reply": "2024-08-26T06:06:33.288157Z",
     "shell.execute_reply.started": "2024-08-26T06:06:27.252739Z"
    }
   },
   "outputs": [
    {
     "name": "stdout",
     "output_type": "stream",
     "text": [
      "Defaulting to user installation because normal site-packages is not writeable\n",
      "Requirement already satisfied: openai in /home/msds-pt2025a/egallarde/.local/lib/python3.11/site-packages (1.42.0)\n",
      "Requirement already satisfied: pinecone in /home/msds-pt2025a/egallarde/.local/lib/python3.11/site-packages (4.0.0)\n",
      "Requirement already satisfied: tf-keras in /home/msds-pt2025a/egallarde/.local/lib/python3.11/site-packages (2.17.0)\n",
      "Requirement already satisfied: tiktoken in /home/msds-pt2025a/egallarde/.local/lib/python3.11/site-packages (0.7.0)\n",
      "Requirement already satisfied: ipynb in /home/msds-pt2025a/egallarde/.local/lib/python3.11/site-packages (0.5.1)\n",
      "Requirement already satisfied: sumy in /home/msds-pt2025a/egallarde/.local/lib/python3.11/site-packages (0.11.0)\n",
      "Requirement already satisfied: nltk in /opt/conda/lib/python3.11/site-packages (3.8.1)\n",
      "Requirement already satisfied: yake in /home/msds-pt2025a/egallarde/.local/lib/python3.11/site-packages (0.4.8)\n",
      "Requirement already satisfied: python-dotenv in /opt/conda/lib/python3.11/site-packages (1.0.1)\n",
      "Requirement already satisfied: anyio<5,>=3.5.0 in /opt/conda/lib/python3.11/site-packages (from openai) (4.3.0)\n",
      "Requirement already satisfied: distro<2,>=1.7.0 in /opt/conda/lib/python3.11/site-packages (from openai) (1.9.0)\n",
      "Requirement already satisfied: httpx<1,>=0.23.0 in /opt/conda/lib/python3.11/site-packages (from openai) (0.27.0)\n",
      "Requirement already satisfied: jiter<1,>=0.4.0 in /home/msds-pt2025a/egallarde/.local/lib/python3.11/site-packages (from openai) (0.5.0)\n",
      "Requirement already satisfied: pydantic<3,>=1.9.0 in /opt/conda/lib/python3.11/site-packages (from openai) (2.6.4)\n",
      "Requirement already satisfied: sniffio in /opt/conda/lib/python3.11/site-packages (from openai) (1.3.1)\n",
      "Requirement already satisfied: tqdm>4 in /opt/conda/lib/python3.11/site-packages (from openai) (4.66.2)\n",
      "Requirement already satisfied: typing-extensions<5,>=4.11 in /home/msds-pt2025a/egallarde/.local/lib/python3.11/site-packages (from openai) (4.12.2)\n",
      "Requirement already satisfied: certifi>=2019.11.17 in /opt/conda/lib/python3.11/site-packages (from pinecone) (2024.2.2)\n",
      "Requirement already satisfied: urllib3>=1.26.0 in /opt/conda/lib/python3.11/site-packages (from pinecone) (2.0.7)\n",
      "Requirement already satisfied: tensorflow<2.18,>=2.17 in /home/msds-pt2025a/egallarde/.local/lib/python3.11/site-packages (from tf-keras) (2.17.0)\n",
      "Requirement already satisfied: regex>=2022.1.18 in /opt/conda/lib/python3.11/site-packages (from tiktoken) (2023.12.25)\n",
      "Requirement already satisfied: requests>=2.26.0 in /opt/conda/lib/python3.11/site-packages (from tiktoken) (2.31.0)\n",
      "Requirement already satisfied: docopt<0.7,>=0.6.1 in /home/msds-pt2025a/egallarde/.local/lib/python3.11/site-packages (from sumy) (0.6.2)\n",
      "Requirement already satisfied: breadability>=0.1.20 in /home/msds-pt2025a/egallarde/.local/lib/python3.11/site-packages (from sumy) (0.1.20)\n",
      "Requirement already satisfied: pycountry>=18.2.23 in /home/msds-pt2025a/egallarde/.local/lib/python3.11/site-packages (from sumy) (24.6.1)\n",
      "Requirement already satisfied: click in /opt/conda/lib/python3.11/site-packages (from nltk) (8.1.7)\n",
      "Requirement already satisfied: joblib in /opt/conda/lib/python3.11/site-packages (from nltk) (1.3.2)\n",
      "Requirement already satisfied: tabulate in /opt/conda/lib/python3.11/site-packages (from yake) (0.9.0)\n",
      "Requirement already satisfied: numpy in /opt/conda/lib/python3.11/site-packages (from yake) (1.26.4)\n",
      "Requirement already satisfied: segtok in /home/msds-pt2025a/egallarde/.local/lib/python3.11/site-packages (from yake) (1.5.11)\n",
      "Requirement already satisfied: networkx in /opt/conda/lib/python3.11/site-packages (from yake) (3.2.1)\n",
      "Requirement already satisfied: jellyfish in /home/msds-pt2025a/egallarde/.local/lib/python3.11/site-packages (from yake) (1.1.0)\n",
      "Requirement already satisfied: idna>=2.8 in /opt/conda/lib/python3.11/site-packages (from anyio<5,>=3.5.0->openai) (3.6)\n",
      "Requirement already satisfied: chardet in /home/msds-pt2025a/egallarde/.local/lib/python3.11/site-packages (from breadability>=0.1.20->sumy) (5.2.0)\n",
      "Requirement already satisfied: lxml>=2.0 in /opt/conda/lib/python3.11/site-packages (from breadability>=0.1.20->sumy) (5.2.1)\n",
      "Requirement already satisfied: httpcore==1.* in /opt/conda/lib/python3.11/site-packages (from httpx<1,>=0.23.0->openai) (1.0.5)\n",
      "Requirement already satisfied: h11<0.15,>=0.13 in /opt/conda/lib/python3.11/site-packages (from httpcore==1.*->httpx<1,>=0.23.0->openai) (0.14.0)\n",
      "Requirement already satisfied: annotated-types>=0.4.0 in /opt/conda/lib/python3.11/site-packages (from pydantic<3,>=1.9.0->openai) (0.6.0)\n",
      "Requirement already satisfied: pydantic-core==2.16.3 in /opt/conda/lib/python3.11/site-packages (from pydantic<3,>=1.9.0->openai) (2.16.3)\n",
      "Requirement already satisfied: charset-normalizer<4,>=2 in /opt/conda/lib/python3.11/site-packages (from requests>=2.26.0->tiktoken) (3.3.2)\n",
      "Requirement already satisfied: absl-py>=1.0.0 in /opt/conda/lib/python3.11/site-packages (from tensorflow<2.18,>=2.17->tf-keras) (2.1.0)\n",
      "Requirement already satisfied: astunparse>=1.6.0 in /opt/conda/lib/python3.11/site-packages (from tensorflow<2.18,>=2.17->tf-keras) (1.6.3)\n",
      "Requirement already satisfied: flatbuffers>=24.3.25 in /opt/conda/lib/python3.11/site-packages (from tensorflow<2.18,>=2.17->tf-keras) (24.3.25)\n",
      "Requirement already satisfied: gast!=0.5.0,!=0.5.1,!=0.5.2,>=0.2.1 in /opt/conda/lib/python3.11/site-packages (from tensorflow<2.18,>=2.17->tf-keras) (0.5.4)\n",
      "Requirement already satisfied: google-pasta>=0.1.1 in /opt/conda/lib/python3.11/site-packages (from tensorflow<2.18,>=2.17->tf-keras) (0.2.0)\n",
      "Requirement already satisfied: h5py>=3.10.0 in /opt/conda/lib/python3.11/site-packages (from tensorflow<2.18,>=2.17->tf-keras) (3.10.0)\n",
      "Requirement already satisfied: libclang>=13.0.0 in /opt/conda/lib/python3.11/site-packages (from tensorflow<2.18,>=2.17->tf-keras) (18.1.1)\n",
      "Requirement already satisfied: ml-dtypes<0.5.0,>=0.3.1 in /opt/conda/lib/python3.11/site-packages (from tensorflow<2.18,>=2.17->tf-keras) (0.3.2)\n",
      "Requirement already satisfied: opt-einsum>=2.3.2 in /opt/conda/lib/python3.11/site-packages (from tensorflow<2.18,>=2.17->tf-keras) (3.3.0)\n",
      "Requirement already satisfied: packaging in /opt/conda/lib/python3.11/site-packages (from tensorflow<2.18,>=2.17->tf-keras) (24.0)\n",
      "Requirement already satisfied: protobuf!=4.21.0,!=4.21.1,!=4.21.2,!=4.21.3,!=4.21.4,!=4.21.5,<5.0.0dev,>=3.20.3 in /opt/conda/lib/python3.11/site-packages (from tensorflow<2.18,>=2.17->tf-keras) (4.25.1)\n",
      "Requirement already satisfied: setuptools in /opt/conda/lib/python3.11/site-packages (from tensorflow<2.18,>=2.17->tf-keras) (69.2.0)\n",
      "Requirement already satisfied: six>=1.12.0 in /opt/conda/lib/python3.11/site-packages (from tensorflow<2.18,>=2.17->tf-keras) (1.16.0)\n",
      "Requirement already satisfied: termcolor>=1.1.0 in /opt/conda/lib/python3.11/site-packages (from tensorflow<2.18,>=2.17->tf-keras) (2.4.0)\n",
      "Requirement already satisfied: wrapt>=1.11.0 in /opt/conda/lib/python3.11/site-packages (from tensorflow<2.18,>=2.17->tf-keras) (1.16.0)\n",
      "Requirement already satisfied: grpcio<2.0,>=1.24.3 in /opt/conda/lib/python3.11/site-packages (from tensorflow<2.18,>=2.17->tf-keras) (1.60.1)\n",
      "Requirement already satisfied: tensorboard<2.18,>=2.17 in /home/msds-pt2025a/egallarde/.local/lib/python3.11/site-packages (from tensorflow<2.18,>=2.17->tf-keras) (2.17.0)\n",
      "Requirement already satisfied: keras>=3.2.0 in /home/msds-pt2025a/egallarde/.local/lib/python3.11/site-packages (from tensorflow<2.18,>=2.17->tf-keras) (3.4.1)\n",
      "Requirement already satisfied: tensorflow-io-gcs-filesystem>=0.23.1 in /opt/conda/lib/python3.11/site-packages (from tensorflow<2.18,>=2.17->tf-keras) (0.36.0)\n",
      "Requirement already satisfied: wheel<1.0,>=0.23.0 in /opt/conda/lib/python3.11/site-packages (from astunparse>=1.6.0->tensorflow<2.18,>=2.17->tf-keras) (0.43.0)\n",
      "Requirement already satisfied: rich in /opt/conda/lib/python3.11/site-packages (from keras>=3.2.0->tensorflow<2.18,>=2.17->tf-keras) (13.7.1)\n",
      "Requirement already satisfied: namex in /opt/conda/lib/python3.11/site-packages (from keras>=3.2.0->tensorflow<2.18,>=2.17->tf-keras) (0.0.7)\n",
      "Requirement already satisfied: optree in /opt/conda/lib/python3.11/site-packages (from keras>=3.2.0->tensorflow<2.18,>=2.17->tf-keras) (0.11.0)\n",
      "Requirement already satisfied: markdown>=2.6.8 in /opt/conda/lib/python3.11/site-packages (from tensorboard<2.18,>=2.17->tensorflow<2.18,>=2.17->tf-keras) (3.6)\n",
      "Requirement already satisfied: tensorboard-data-server<0.8.0,>=0.7.0 in /opt/conda/lib/python3.11/site-packages (from tensorboard<2.18,>=2.17->tensorflow<2.18,>=2.17->tf-keras) (0.7.2)\n",
      "Requirement already satisfied: werkzeug>=1.0.1 in /opt/conda/lib/python3.11/site-packages (from tensorboard<2.18,>=2.17->tensorflow<2.18,>=2.17->tf-keras) (2.2.3)\n",
      "Requirement already satisfied: MarkupSafe>=2.1.1 in /opt/conda/lib/python3.11/site-packages (from werkzeug>=1.0.1->tensorboard<2.18,>=2.17->tensorflow<2.18,>=2.17->tf-keras) (2.1.5)\n",
      "Requirement already satisfied: markdown-it-py>=2.2.0 in /opt/conda/lib/python3.11/site-packages (from rich->keras>=3.2.0->tensorflow<2.18,>=2.17->tf-keras) (3.0.0)\n",
      "Requirement already satisfied: pygments<3.0.0,>=2.13.0 in /opt/conda/lib/python3.11/site-packages (from rich->keras>=3.2.0->tensorflow<2.18,>=2.17->tf-keras) (2.17.2)\n",
      "Requirement already satisfied: mdurl~=0.1 in /opt/conda/lib/python3.11/site-packages (from markdown-it-py>=2.2.0->rich->keras>=3.2.0->tensorflow<2.18,>=2.17->tf-keras) (0.1.2)\n",
      "Note: you may need to restart the kernel to use updated packages.\n"
     ]
    }
   ],
   "source": [
    "# pip install openai pinecone tf-keras tiktoken ipynb sumy nltk yake python-dotenv"
   ]
  },
  {
   "cell_type": "markdown",
   "id": "ac06f0e5-7124-490c-8760-613db00d2dd4",
   "metadata": {},
   "source": [
    "## **Imports**"
   ]
  },
  {
   "cell_type": "code",
   "execution_count": 2,
   "id": "f734c806-bb3c-4b24-879d-366c5b9f6c68",
   "metadata": {
    "execution": {
     "iopub.execute_input": "2024-08-27T13:16:01.853752Z",
     "iopub.status.busy": "2024-08-27T13:16:01.852661Z",
     "iopub.status.idle": "2024-08-27T13:16:01.865824Z",
     "shell.execute_reply": "2024-08-27T13:16:01.864472Z",
     "shell.execute_reply.started": "2024-08-27T13:16:01.853670Z"
    }
   },
   "outputs": [
    {
     "name": "stderr",
     "output_type": "stream",
     "text": [
      "c:\\Users\\user\\Documents\\VS Code Workspace\\phlex\\myenv\\Lib\\site-packages\\pinecone\\data\\index.py:1: TqdmWarning: IProgress not found. Please update jupyter and ipywidgets. See https://ipywidgets.readthedocs.io/en/stable/user_install.html\n",
      "  from tqdm.autonotebook import tqdm\n"
     ]
    }
   ],
   "source": [
    "import base64\n",
    "import hashlib\n",
    "import json\n",
    "import nltk\n",
    "import tiktoken\n",
    "import numpy as np\n",
    "import re\n",
    "import yake\n",
    "import os\n",
    "\n",
    "from datetime import datetime\n",
    "# from dotenv import load_dotenv\n",
    "from openai import OpenAI\n",
    "from pinecone import Pinecone, ServerlessSpec\n",
    "from tqdm import tqdm\n",
    "\n",
    "from nltk.corpus import stopwords\n",
    "from nltk.tokenize import word_tokenize\n",
    "from collections import Counter\n",
    "\n",
    "from sumy.parsers.plaintext import PlaintextParser\n",
    "from sumy.nlp.tokenizers import Tokenizer\n",
    "from sumy.summarizers.lex_rank import LexRankSummarizer\n",
    "\n",
    "# from ipynb.fs.full.phlex_helper import convert_to_hash\n",
    "# from ipynb.fs.full.phlex_helper import read_jsons_from_zip"
   ]
  },
  {
   "cell_type": "code",
   "execution_count": 3,
   "id": "b84bbd87-c7f2-4933-a242-4c6649619e85",
   "metadata": {
    "execution": {
     "iopub.execute_input": "2024-08-27T13:16:04.394010Z",
     "iopub.status.busy": "2024-08-27T13:16:04.393306Z",
     "iopub.status.idle": "2024-08-27T13:16:04.568430Z",
     "shell.execute_reply": "2024-08-27T13:16:04.567153Z",
     "shell.execute_reply.started": "2024-08-27T13:16:04.393954Z"
    }
   },
   "outputs": [
    {
     "name": "stderr",
     "output_type": "stream",
     "text": [
      "[nltk_data] Downloading package punkt to\n",
      "[nltk_data]     C:\\Users\\user\\AppData\\Roaming\\nltk_data...\n",
      "[nltk_data]   Package punkt is already up-to-date!\n",
      "[nltk_data] Downloading package stopwords to\n",
      "[nltk_data]     C:\\Users\\user\\AppData\\Roaming\\nltk_data...\n",
      "[nltk_data]   Package stopwords is already up-to-date!\n"
     ]
    },
    {
     "data": {
      "text/plain": [
       "True"
      ]
     },
     "execution_count": 3,
     "metadata": {},
     "output_type": "execute_result"
    }
   ],
   "source": [
    "# Ensure that the necessary NLTK data is available\n",
    "nltk.download('punkt')\n",
    "nltk.download('stopwords')"
   ]
  },
  {
   "cell_type": "markdown",
   "id": "2624f10d-6974-4a2f-9ae9-dc91d7a247cf",
   "metadata": {
    "execution": {
     "iopub.execute_input": "2024-07-30T15:51:10.400740Z",
     "iopub.status.busy": "2024-07-30T15:51:10.400088Z",
     "iopub.status.idle": "2024-07-30T15:51:10.407821Z",
     "shell.execute_reply": "2024-07-30T15:51:10.406068Z",
     "shell.execute_reply.started": "2024-07-30T15:51:10.400685Z"
    }
   },
   "source": [
    "## **API Keys**"
   ]
  },
  {
   "cell_type": "code",
   "execution_count": 102,
   "id": "4a598e84-0cd6-4e17-96a0-b50a817898d1",
   "metadata": {
    "execution": {
     "iopub.execute_input": "2024-08-27T13:16:07.960595Z",
     "iopub.status.busy": "2024-08-27T13:16:07.959932Z",
     "iopub.status.idle": "2024-08-27T13:16:07.969970Z",
     "shell.execute_reply": "2024-08-27T13:16:07.968444Z",
     "shell.execute_reply.started": "2024-08-27T13:16:07.960539Z"
    }
   },
   "outputs": [],
   "source": [
    "# Load environment variables from config file\n",
    "with open(\"config.json\") as config_file:\n",
    "    config = json.load(config_file)\n",
    "\n",
    "PINECONE_API_KEY = config[\"PINECONE_API_KEY\"]\n",
    "OPENAI_API_KEY = config[\"OPENAI_API_KEY\"]"
   ]
  },
  {
   "cell_type": "markdown",
   "id": "6dc732ec-54f9-44f0-b7f4-31d75f356769",
   "metadata": {
    "execution": {
     "iopub.execute_input": "2024-07-30T15:51:30.931256Z",
     "iopub.status.busy": "2024-07-30T15:51:30.930610Z",
     "iopub.status.idle": "2024-07-30T15:51:30.938137Z",
     "shell.execute_reply": "2024-07-30T15:51:30.936166Z",
     "shell.execute_reply.started": "2024-07-30T15:51:30.931200Z"
    }
   },
   "source": [
    "## **OpenAI Configurations**"
   ]
  },
  {
   "cell_type": "code",
   "execution_count": 103,
   "id": "f8452692-3cf4-46cb-ab7e-1f3a9f9d85ec",
   "metadata": {
    "execution": {
     "iopub.execute_input": "2024-08-27T13:16:10.267514Z",
     "iopub.status.busy": "2024-08-27T13:16:10.266856Z",
     "iopub.status.idle": "2024-08-27T13:16:10.300815Z",
     "shell.execute_reply": "2024-08-27T13:16:10.299851Z",
     "shell.execute_reply.started": "2024-08-27T13:16:10.267458Z"
    }
   },
   "outputs": [],
   "source": [
    "# Initialize the OpenAI client with the API key from user data\n",
    "client = OpenAI(\n",
    "    api_key=OPENAI_API_KEY\n",
    ")\n",
    "\n",
    "ENGINE = 'text-embedding-3-small'  # The embedding model to use (vector size 1,536)"
   ]
  },
  {
   "cell_type": "markdown",
   "id": "63d8bba8-3457-43cf-aea9-01f5ca0d8e4a",
   "metadata": {
    "execution": {
     "iopub.execute_input": "2024-07-30T15:51:30.931256Z",
     "iopub.status.busy": "2024-07-30T15:51:30.930610Z",
     "iopub.status.idle": "2024-07-30T15:51:30.938137Z",
     "shell.execute_reply": "2024-07-30T15:51:30.936166Z",
     "shell.execute_reply.started": "2024-07-30T15:51:30.931200Z"
    }
   },
   "source": [
    "## **Pinecone Configurations**"
   ]
  },
  {
   "cell_type": "code",
   "execution_count": 104,
   "id": "a4260683-afa6-495e-bcaa-04d08760473d",
   "metadata": {
    "execution": {
     "iopub.execute_input": "2024-08-27T13:16:12.270669Z",
     "iopub.status.busy": "2024-08-27T13:16:12.269339Z",
     "iopub.status.idle": "2024-08-27T13:16:12.280389Z",
     "shell.execute_reply": "2024-08-27T13:16:12.278811Z",
     "shell.execute_reply.started": "2024-08-27T13:16:12.270603Z"
    }
   },
   "outputs": [],
   "source": [
    "# Initialize the Pinecone client with the retrieved API key\n",
    "pc = Pinecone(\n",
    "    api_key=PINECONE_API_KEY\n",
    ")\n",
    "\n",
    "# Define constants for the Pinecone index and namespace\n",
    "INDEX_NAME = 'phlex-semantic-search'  # The name of the original Pinecone index\n",
    "NAMESPACE = 'default'  # The namespace to use within the index"
   ]
  },
  {
   "cell_type": "code",
   "execution_count": 105,
   "id": "822aef57-997f-4ef3-b1f8-c630377a83f7",
   "metadata": {
    "colab": {
     "base_uri": "https://localhost:8080/"
    },
    "execution": {
     "iopub.execute_input": "2024-08-27T13:16:14.579937Z",
     "iopub.status.busy": "2024-08-27T13:16:14.579283Z",
     "iopub.status.idle": "2024-08-27T13:16:15.851720Z",
     "shell.execute_reply": "2024-08-27T13:16:15.850360Z",
     "shell.execute_reply.started": "2024-08-27T13:16:14.579881Z"
    },
    "id": "ea70672a",
    "outputId": "07f43e03-87d2-4d8f-b593-f5bb89c211c1"
   },
   "outputs": [
    {
     "data": {
      "text/plain": [
       "<pinecone.data.index.Index at 0x7fa9183c2b90>"
      ]
     },
     "execution_count": 105,
     "metadata": {},
     "output_type": "execute_result"
    }
   ],
   "source": [
    "# Create index if it's not yet created\n",
    "if INDEX_NAME not in pc.list_indexes().names():  # need to create the index\n",
    "    print(f'Creating index {INDEX_NAME}')\n",
    "    pc.create_index(\n",
    "        name=INDEX_NAME,  # The name of the index\n",
    "        dimension=1536,  # The dimensionality of the vectors for our OpenAI embedder\n",
    "        metric='cosine',  # The similarity metric to use when searching the index\n",
    "        spec=ServerlessSpec(\n",
    "            cloud='aws',\n",
    "            region='us-east-1'\n",
    "        )\n",
    "    )\n",
    "\n",
    "# Store the index as a variable\n",
    "index = pc.Index(name=INDEX_NAME)\n",
    "index"
   ]
  },
  {
   "cell_type": "code",
   "execution_count": 106,
   "id": "19a10c1f-80d3-41c7-97c8-52410ed466e3",
   "metadata": {
    "execution": {
     "iopub.execute_input": "2024-08-27T13:16:17.511162Z",
     "iopub.status.busy": "2024-08-27T13:16:17.510241Z",
     "iopub.status.idle": "2024-08-27T13:16:18.897900Z",
     "shell.execute_reply": "2024-08-27T13:16:18.895970Z",
     "shell.execute_reply.started": "2024-08-27T13:16:17.511113Z"
    }
   },
   "outputs": [
    {
     "data": {
      "text/plain": [
       "{'dimension': 1536,\n",
       " 'index_fullness': 0.0,\n",
       " 'namespaces': {'default': {'vector_count': 317}},\n",
       " 'total_vector_count': 317}"
      ]
     },
     "execution_count": 106,
     "metadata": {},
     "output_type": "execute_result"
    }
   ],
   "source": [
    "# Check stats of vector database\n",
    "index.describe_index_stats()"
   ]
  },
  {
   "cell_type": "markdown",
   "id": "98d3bfcd-b908-4080-9e3d-6cb6f2b28792",
   "metadata": {
    "execution": {
     "iopub.execute_input": "2024-07-30T16:01:28.396180Z",
     "iopub.status.busy": "2024-07-30T16:01:28.395540Z",
     "iopub.status.idle": "2024-07-30T16:01:28.402214Z",
     "shell.execute_reply": "2024-07-30T16:01:28.400844Z",
     "shell.execute_reply.started": "2024-07-30T16:01:28.396124Z"
    }
   },
   "source": [
    "### **---WARNING: Delete ALL Vectors Function---**"
   ]
  },
  {
   "cell_type": "code",
   "execution_count": 9,
   "id": "73cb677e-df0f-416c-a23f-d7c1889580fd",
   "metadata": {
    "execution": {
     "iopub.execute_input": "2024-08-24T08:11:50.471110Z",
     "iopub.status.busy": "2024-08-24T08:11:50.470530Z",
     "iopub.status.idle": "2024-08-24T08:11:50.476872Z",
     "shell.execute_reply": "2024-08-24T08:11:50.475465Z",
     "shell.execute_reply.started": "2024-08-24T08:11:50.471056Z"
    }
   },
   "outputs": [],
   "source": [
    "# TO delete all vectors, be careful!\n",
    "# index.delete(delete_all=True, namespace=NAMESPACE)"
   ]
  },
  {
   "cell_type": "markdown",
   "id": "63f0a206-ffa9-41ac-8dc9-2b7cbdef3b19",
   "metadata": {},
   "source": [
    "## **Function Definitions**"
   ]
  },
  {
   "cell_type": "markdown",
   "id": "313288a9-923f-4d08-862b-45f5a9af1825",
   "metadata": {
    "execution": {
     "iopub.execute_input": "2024-07-30T18:54:55.238323Z",
     "iopub.status.busy": "2024-07-30T18:54:55.237613Z",
     "iopub.status.idle": "2024-07-30T18:54:55.245472Z",
     "shell.execute_reply": "2024-07-30T18:54:55.244006Z",
     "shell.execute_reply.started": "2024-07-30T18:54:55.238264Z"
    }
   },
   "source": [
    "### **--For Chunking of Long Texts**"
   ]
  },
  {
   "cell_type": "code",
   "execution_count": 107,
   "id": "26de8e5a-93cd-4362-92cc-7d33ffb279ab",
   "metadata": {
    "execution": {
     "iopub.execute_input": "2024-08-27T13:16:23.010741Z",
     "iopub.status.busy": "2024-08-27T13:16:23.009389Z",
     "iopub.status.idle": "2024-08-27T13:16:23.600709Z",
     "shell.execute_reply": "2024-08-27T13:16:23.599487Z",
     "shell.execute_reply.started": "2024-08-27T13:16:23.010689Z"
    }
   },
   "outputs": [],
   "source": [
    "MAX_TOKENS = 8191  # Max token window as specified in OpenAI documentation for ENGINE\n",
    "\n",
    "# A modern encoding scheme optimized for newer models, such as some GPT-3.5 and embedding models.\n",
    "# Handles a large vocabulary efficiently and is designed to work well with multilingual texts.\n",
    "EMBEDDING_ENCODING = 'cl100k_base'\n",
    "\n",
    "DEFAULT_METHOD = 'average'\n",
    "\n",
    "# Initialize the tokenizer\n",
    "encoding = tiktoken.get_encoding(EMBEDDING_ENCODING)"
   ]
  },
  {
   "cell_type": "markdown",
   "id": "df52b7e1-87d3-4805-8f85-2eda816d8418",
   "metadata": {
    "execution": {
     "iopub.execute_input": "2024-07-30T18:54:55.238323Z",
     "iopub.status.busy": "2024-07-30T18:54:55.237613Z",
     "iopub.status.idle": "2024-07-30T18:54:55.245472Z",
     "shell.execute_reply": "2024-07-30T18:54:55.244006Z",
     "shell.execute_reply.started": "2024-07-30T18:54:55.238264Z"
    }
   },
   "source": [
    "### **--For Extracting Text from URL**"
   ]
  },
  {
   "cell_type": "code",
   "execution_count": 108,
   "id": "7d307bf2-b5ca-4d19-8ab1-f41bc1d5e022",
   "metadata": {
    "execution": {
     "iopub.execute_input": "2024-08-27T13:16:27.820789Z",
     "iopub.status.busy": "2024-08-27T13:16:27.820334Z",
     "iopub.status.idle": "2024-08-27T13:16:27.985278Z",
     "shell.execute_reply": "2024-08-27T13:16:27.984471Z",
     "shell.execute_reply.started": "2024-08-27T13:16:27.820759Z"
    }
   },
   "outputs": [
    {
     "data": {
      "text/plain": [
       "'\\t\\t\\t\\n\\nSECOND DIVISION\\n[ A.C. No. 8959, October 07, 2020 ]\\nRISIE G. BAYGAR, COMPLAINANT, VS. ATTY. CLA'"
      ]
     },
     "execution_count": 108,
     "metadata": {},
     "output_type": "execute_result"
    }
   ],
   "source": [
    "import requests\n",
    "from bs4 import BeautifulSoup\n",
    "\n",
    "def extract_text_data(url):\n",
    "    response = requests.get(url)\n",
    "    soup = BeautifulSoup(response.content, 'html.parser')\n",
    "    container = soup.find('div', class_='single_content')\n",
    "\n",
    "    if container:\n",
    "        resolution_text = container.get_text()\n",
    "\n",
    "        # Remove the first 6 lines (For printing purposes)\n",
    "        lines = resolution_text.split('\\n')\n",
    "        filtered_lines = lines[6:]\n",
    "\n",
    "        # Join the remaining lines back into a single string\n",
    "        filtered_text = '\\n'.join(filtered_lines)\n",
    "        return filtered_text\n",
    "    else:\n",
    "        return \"\"\n",
    "\n",
    "extract_text_data('https://elibrary.judiciary.gov.ph/thebookshelf/showdocs/1/66752')[:100]"
   ]
  },
  {
   "cell_type": "code",
   "execution_count": 109,
   "id": "ec3222f7-f7f5-45c2-8e30-4b6c2fe21a4c",
   "metadata": {
    "execution": {
     "iopub.execute_input": "2024-08-27T13:16:36.948628Z",
     "iopub.status.busy": "2024-08-27T13:16:36.947965Z",
     "iopub.status.idle": "2024-08-27T13:16:36.988623Z",
     "shell.execute_reply": "2024-08-27T13:16:36.987640Z",
     "shell.execute_reply.started": "2024-08-27T13:16:36.948570Z"
    }
   },
   "outputs": [],
   "source": [
    "# Trial Text for Testing\n",
    "trial_text = \"\"\"FIRST DIVISION [ G.R. No. 254336, November 18, 2021 ] GM LORETO P. SEARES, JR., PETITIONER, VS. NATIONAL ELECTRIFICATION ADMINISTRATION BOARD, RESPONDENT.D E C I S I O N LAZARO-JAVIER, J.: The CaseThis Petition for Review assails the following dispositions of the Court of Appeals in CA G.R. SP No. 161126 entitled GM Loreto P. Seares, Jr. v. National Electrification Administration Board:Decision[1] dated June 15, 2020 affirming the administrative liabilities of petitioner Loreto P. Seares (Seares) for Grave Misconduct, Gross Negligence, Dishonesty, and Gross Incompetence in the performance of official duties as General Manager of the Abra Electric Cooperative, Inc. (ABRECO); andResolution[2] dated November 10, 2020 denying his motion for reconsideration, with modification.AntecedentsIn October 2007, petitioner got appointed as General Manager of ABRECO, an electric cooperative duly registered[3] with the Cooperative Development Authority (CDA).[4] Section 1(e) of ABRECO's by-laws enumerates the functions and responsibilities of a General Manager, viz.:Oversee the overall day-to-day business operations of the cooperative by providing general direction, supervision, management and administrative control over all the operating departments subject to such limitations as may be set forth by the BOD or the GA;Formulate and recommend in coordination with the operating departments under his/her supervision, the Cooperative's Annual and MediumTerm Development Plan, programs and projects, for approval of the BOD and ratification of GA;Implement the duly approved plans and programs of the cooperative and any other directive or instruction of the BODs;Provide and submit to the BODs monthly reports on the status of the cooperative's operation vis-à-vis its target and recommend appropriate policy or operational changes, if necessary;Represent the cooperative in any agreement, contract, business dealings, and in any other official business transaction as may be authorized by the BODs;[Sit] as an ex-officio member of the board of directors without voting right[s];Ensure compliance with all administrative and other requirements of regulatory bodies; andPerform such other functions as may be prescribed in the By-laws or authorized by the GA.[5] (Emphases supplied])Republic Act No. 10531[6] (RA 10531), otherwise known as the National Electrification Administration Reform Act of 2013 grants the National Electrification Administration Board (NEAB) supervisory land disciplinary powers over all electric cooperatives, viz.:[7]SECTION 6. A new section, to be designated as Section 4-A, is hereby inserted under Presidential Decree No. 269, as amended to read as follows:\"SEC. 4-A. Supervisory Powers of the NEA Over Electric Cooperatives. — In the exercise of its power of supervision over electric cooperatives, the NEA shall have the following powers:(a) issue orders, rules and regulations, motu proprio or upon petition of third parties, to conduct investigations, referenda and other similar actions on all matters affecting the electric cooperatives;(b) issue preventive or disciplinary measures including, but not limited to, suspension or removal and replacement of any or all of the members of the board of directors and officers of the electric cooperative, as the NEA may deem fit and necessary and to take any other remedial measures as the law or any agreement or arrangement with NEA may provide, to attain the objectives of this Act; and(c) appoint independent board of directors in the electric cooperative.\"The NEA shall, in the exercise of its supervisory and disciplinary powers under this Act, strictly observe due process of law.\"On the basis of Section 6 of RA 10531, National Electrification Administration's (NEA) Electric Cooperative Management Services, through its Electric Cooperative Audit Department (ECAD), motu proprio conducted an audit of ABRECO covering the period from July 1, 2013 to October 31, 2016. The audit yielded the following results:[8]a) ABRECO's operation had consistently retrogressed and further deteriorated due to its looming financial obligations brought about by its huge restructured loan with the Power Sector Assets and Liabilities Management Corporation (PSALM); unpaid obligations to the National Grid Corporation of the Philippines (NGCP), Philippine Electricity Market Corporation (PEMC), the Wholesale Electricity Spot Market (WESM) and to the AP-Renewables, Inc. (APRI), in detail as follows: Cash General Fund (Per Bank Recon 12-3116)Cash on Hand (Per DCPR 12-29-16) P969,482.10 134,296.68 P1,103,778.78 Consumers Accounts Receivables including unrecorded Universal Charge (1.88 Mos. Sales) P78,871,687.33 Advances to Officers and Employees P7,880,742.22 Accounts Payable-Powers (per [Statement of Account]) PEMC as of 11.07.16 (4 mos. in Arrears) NGCP as of 12-31-16 (2 mos. in Arrears) P56,424,956.90 P11,843,770.00 P68,265,726.90 PSALM (Restructured Arrears) as of 12-31-16 P395,857,246.12 APRI (Outstanding balance of Restructured Account as of March 2017) P9,568,666.22 NEA Loan Amortization (Arrears – 19.89 Qtrs.) P32,599,952.26 b) Delayed mandatory remittances to other government agencies such as the Social Security System (SSS), Philippine Health Insurance Corporation (PhilHealth) and the Home Development Mutual Fund (HDMF) or PAG-IBIG. The monthly premiums for the mandatory obligations deducted from the salaries of the employees including the Electric Cooperative's (EC) counterpart were not remitted to the concerned government agencies on time for which the EC employees failed to avail the loan privileges and the benefits due them; c) The EC was constrained to borrow funds from outside sources to pay its power bills to avoid disconnection, however said borrowings which resulted [in] interest charges on various loans paid to private creditors bear a monthly interest rate of 5% to a maximum of 6% per month; d) For the ten (10) month period of 2016, the Coop realized a net margin of P32,846,660.00 while net loss of P171,790.11 was incurred in 2015. The realized net margin was mainly due to over­charging of transmission charges to its consumers. Starting July 2015, the Coop stopped using the formula prescribed by the ERC in computing the monthly generation rate passed-on to member-consumers. Instead, it used a fixed rate of P6.6156 per kilowatt-hour as its passed on generation rate which is higher than the actual WESM rate that resulted in an estimated difference of P128,135,206.21 from January to October 2016 alone to the great prejudice of its consumers; e) Result of [the] Operations as of 31 October 2016: 1. System losses of 15.40% in 2015 and 16.6% as of October 2016 are above the system loss cap of 13%; 2. Collection efficiency is only 93% in 2016[,] thus, the Management resorted to borrowings from private creditors to cover up shortfalls in collection for payment of power bills to power supplier to avoid disconnection; 3. Penalties due to late payment of power bills imposed by power suppliers and payment of interests on restructured accounts with PSALM and NGCP amounted to P14,097,221.75; 4. The EC was constrained to borrow funds from outside sources to pay its power bills to avoid disconnection, however[,] borrowings resulted [in] interest charges on various loans paid to private creditors totaling to P13,567,225 for 2015 and 2016. f) There is a breakdown on the system of disbursements and cash handling; collections are no longer deposited in the EC's depository banks while disbursements were made on cash basis, taken from the collections resulting to indiscriminate and uncontrolled disbursements of funds that weakened the internal control system; g) On the Subsidy Fund, non-submission of pertinent documents regarding the utilization of the subsidy fund for the construction of electrification of thirty-five (35) sitios and one (1) barangay. The electrification for 5 barangays was awarded to Accurate Electrical Supply and Engineering for which the mobilization payment of P9,100,000.00 is way above the maximum mobilization limit of 15% of the contract price provided in R.A. No. 9184 was (sic) paid in advance even prior to the Issuance of Notice of Award and Notice to Proceed. h) On the EC's procurement procedures: 1. All transactions for the period under audit did not pass through the proper procurement procedure and no bidding conducted for transactions which involves huge amount contrary to the provisions of x x x Procurement Guidelines and Procedures of R.A. No. 10531; 2. Unit costs of materials purchased are much higher than the NEA Price Index; 3. Procurement of equipment and electrical materials, and repair and maintenance of vehicles were paid despite the lack of necessary supporting documents. Also, payments to suppliers with substantial amounts were made through advances to EC employees; 4. Disbursements for Coop's Motor Vehicles[.] The description of some tires, car mags and other car accessories procured did not conform to (the specifications of these items being used for EC vehicles. Cash advances totaling to P155,765.00 of Mr[.] Edgar Blanes, (Utility Worker of the Coop and the one who regularly accompanies [GM Loreto Seares, Jr.],) intended for fuel expenses was liquidated for the purchase of spare parts and car accessories for high-end vehicles and matting for Eco Sport. GM Seares reimbursed to the Coop the amount of P602,114,00 under JV#1403-00099 dated 27 March 2014 the purchase of various spare parts for ABRECO vehicles including some car accessories for high-end vehicles such as upholstery BMW 36.5i, 1 pc. Body Kit for GSR Fros. 4 pcs. 20-inch rim (Mags) set 6 holes, 4 pcs 215.40 17-inch rim GT, etc. Mario Casaclang, OGM Driver was allowed to reimburse the amount of P988,575.06 as payment for the purchase of various spare parts for motor vehicles paid under CV#1409-0016 dated 02 September 2014, however the same was not presented for review and the validity and propriety of the disbursements could not be validated. i) Indiscriminate grant of excessive cash advances to officers and employees brought the balance of this account to P7,880,742.22 as of 31 October 2016. The advances for travel per diem and daily allowances availed in 2015 and 2016 in the total amount of P3,005,800 were directly charged to expense while only fuel expenses during travel were recorded to Cash Advance.\"[9] Based on the audit report, the electric cooperative was found to be in a state of continuous operational retrogression which was attributed to the alleged ineffective management of its General Manager, herein petitioner.[10]Consequently, NEAB ordered petitioner's preventive suspension for a period of thirty (30) days which was later extended to another sixty (60) days.[11] It also created Task Force Duterte Abra Power (TFD-AP) to act as ABRECO's interim board of directors.[12]NEAB[13] considered the audit report as a complaint against petitioner and ABRECO's board members and other officers (petitioner et al.). As part of due process, the NEA-Administrative Committee required petitioner et al. to file their respective answers to the audit report.[14]In his verified answer, petitioner countered:First. He merely implemented the policies approved by the board of directors, particularly Board Resolution No. 48, Series of 2015[15] which was passed to prevent the July 2015 incident wherein the Wholesale Electricity Spot Market (WESM)[16] rate suddenly spiked up, rendering ABRECO's collections during the immediately preceding month insufficient to cover the aforesaid spike up rate. It was for this reason that ABRECO was compelled to charge its member-consumers a higher generation rate.[17]Second. NEA did not extend the financial assistance ABRECO requested for in order to meet up its urgent piling obligations. [This constrained ABRECO to secure loans from private creditors to pay off its power bills and other obligations. NEA did not deny, as it actually affirmed that indeed ABRECO was in dire need of financial assistance to sustain its operation.[18]Third. Since its mobile computer electric reader (PALM) units were defective, ABRECO resorted to manual reading which slowed down the recording of electric consumption of its member-consumers. The domino effect was the delayed distribution of billing statements to its member-consumers who also got delayed in their payments. This series of events eventually rendered ABRECO incapable of paying off its loan obligations as they fell due.[19]Fourth. He should not be pressed for the late remittance of the premium contributions to the Social Security System (SSS), Philippine Health Insurance Corporation (Philhealth) and Pag-IBIG of ABRECO's employees. While the concerned employees initially pursued their claims before the labor tribunals, they already executed their respective affidavits of desistance upon realizing that petitioner and the members of the Board were not at fault for such late remittance.[20]Fifth. ABRECO cannot deposit its collections to its designated depository bank due to several garnishment orders issued by the National Labor Relations Commission (NLRC) against it.[21]Last. ABRECO complied with the methods of procurement required under Republic Act No. 9184 (RA 9184)[22] in all its procurement transactions.[23]The Ruling of the National ElectrificationAdministration BoardIn its Decision[24] dated May 7, 2018, the NEAB found petitioner, et al. guilty of Grave Misconduct, Dishonesty, and Gross Incompetence in the Performance of Official Duties, viz.:x x x x\"WHEREFORE, in view of the foregoing premises, judgment is hereby rendered finding Respondent GM LORETO P. SEARES, JR., GUILTY of GRAVE MISCONDUCT, DISHONESTY and GROSS INCOMPETENCE IN THE PERFORMANCE OF OFFICIAL DUTIES and meted the PENALTY OF REMOVAL FROM SERVICE WITH ITS ACCESSORY PENALTIES OF PERPETUAL DISQUALIFICATION FOR REINSTATEMENT OR RE-EMPLOYMEN IN ANY ELECTRIC COOPERATIVES, DISQUALIFICATION TO RUN AS CANDIDATE FOR A BOARD OF DIRECTOR POSITION IN ANY COOPERATIVE AND FORFEITURE OF RETIREMENT BENEFITS. (Emphases added)x x x xThis Decision is immediately executory.The Human Resources Department of ABRECO is directed to implement the penalty effective immediately and to render a report to NEA within five (5) days from receipt of this Decision.SO ORDERED.[25]On Grave Misconduct, Dishonesty, and Gross Incompetence petitioner, et al. were found to have 1) failed to effectively discharge their functions as ABRECO's officers when they started charging ABRECO's consumers passed on generation rate more than the prescribed rate by the Energy Regulatory Commission (ERC);[26] 2) dictated their own passed on generation rate to ABRECO consumers, instead of the prescribed ERC rate;[27] 3) violated RA 9184 when they prematurely issued a check voucher in favor of Accurate Electrical Supply and Engineering (Accurate) for its Sitio Electrification Program/Barangay Line Enhancement Program without first conducting a post qualification evaluation, even before the required Notice to Proceed had beer issued and publication of the Invitation, and despite the fact that Accurate's lowest bid of P15,950,561.78 was still higher than the P15,946,321.72 approved budget for the project.[28]In addition, the dwindling financial situation of ABRECO was found to have been caused by petitioner's mismanagement of the electric cooperative's affairs. Too, petitioner's so-called gross incompetence was imputed to have caused ABRECO's piling loans due to delayed payments. Further, petitioner was found to have failed to exercise due diligence when he approved the reimbursements of significant amounts to ABRECO's drivers and utility workers, albeit these employees were not even entitled to claim these reimbursements in the first place. The purchases sought to be reimbursed pertained to spare parts and accessories for vehicles which did not match with the vehicles of ABRECO. As for petitioner's own claim for reimbursement in the amount of P602,114.00, he was only able to liquidate P207,930.00.[29]NEAB rejected petitioner's defense that ABRECO's failure to pay its obligations on time was due to the delayed collections from its consumers. Despite the lapse of almost two (2) years, petitioner and ABRECO's board of directors still failed to devise ways and means to resolve the issue on meter reading, hence, the delay in the payment collections just remained unresolved.[30]While the dispositive portion of the NEAB's decision did not include a finding of liability against petitioner for Gross Negligence or Gross Neglect of Duty, the body of the decision nonetheless discussed his supposed liabilities therefor. For gross negligence, he allegedly failed to ensure the timely remittance of the employees' premium contributions to the concerned government agencies. As General Manager with supervisory powers, he purportedly failed to ensure that all the departments of ABRECO were regularly performing their functions.[31]Under the 2013 NEA Administrative Rules of Procedure, grave misconduct, dishonesty, and gross neglect of duty are classified as grave offenses. Each carries the supreme penalty of removal from office even on the first offense. On the other hand, gross incompetence is classified as a less grave offense punishable by suspension for a period of thirty-one (31) to ninety (90) days for the first offense.[32]Consequently, NEAB imposed on petitioner the supreme penalty of removal[33] from office. It took into consideration the three infractions allegedly committed by petitioner, two of which were appreciated as aggravating circumstances. He was also meted the accessory penalties of perpetual disqualification from re-employment in any electric cooperatives, disqualification to ran as member of board of director of any cooperative, and forfeiture of retirement benefits pursuant to Sections 2 and 3 (a), Rule VII of the 2013 NEA Administrative Rules of Procedure.[34]Petitioner's subsequent motion for reconsideration was denied under Resolution dated April 29, 2019.[35]Proceedings before the Court of AppealsOn appeal via Rule 43 of the Rules of Court before the Court of Appeals, petitioner reiterated his arguments before NEAB. He further faulted NEAB for dissolving ABRECO's board of directors allegedly in excess of its authority. Under Republic Act No. 9520,[36] (RA 9520) otherwise known as the Philippine Cooperative Code of 2008, it is the CDA which is supposedly vested with such authority.[37]On the other hand, NEAB accused petitioner anew of grave misconduct, serious dishonesty, and gross incompetence in the management of ABRECO during his term as General Manager.[38]The Ruling of the Court of AppealsIn its assailed Decision[39] dated June 15, 2020, the Court of Appeals affirmed. First off, it ruled that NEAB's power to suspend, remove, or replace any or all of the members of an electric cooperative's board of directors and officers is expressly granted by Presidential Decree No. 269[40] (PD 269), as amended by RA 10531.[41]As for Grave Misconduct, it found petitioner liable therefor in view of the following illegal acts he purportedly committed: 1) He willfully violated the law when he allowed ABRECO to apply the fixed rate of P6.6156 per kilowatt-hour as passed on generation rate to its consumers instead of the ERC prescribed formula;[42] 2) He failed to review and carefully oversee the operations of the different departments under his supervision as ABRECO's General Manager; 3) He did not ensure the timely remittance of the employees' Philhealth, SSS, and Pag-IBIG premium contributions to the appropriate government agencies; 4) He did not exercise due diligence when he allowed ABRECO's funds to be deposited elsewhere and not in its depository bank in violation of ABRECO's internal accounting procedures; 5) He approved dubious reimbursements in favor of ABRECO's drivers or utility workers supposedly for the purchase of motor vehicle spare parts for ABRECO's vehicles, albeit these items did net even match the specifications of ABRECO's existing set of vehicles;[43] and 6) He breached the procurement rules and procedures under RA 9184 when he awarded the project Sitio Electrification Program/Barangay Line Enhancement Program to Accurate, albeit Accurate's bid was higher than the actual budget for the project. In addition, he allowed the advance payment of the contract price before a Notice to Proceed was issued in violation of RA 9184.[44] On Serious Dishonesty, the Court of Appeals found petitioner to have deliberately adopted highly irregular accounting and internal control policies by (1) allowing the deposit of ABRECO's funds elsewhere other than its depository bank; (2) approving dubious reimbursements; and (3) allowing improper bid procedures, thus, causing serious damage and grave prejudice to ABRECO. Too, petitioner paid P3,223,000.00 as legal fees for services rendered to ABRECO and as partial satisfaction of judgments against ABRECO in labor cases, albeit the payment was not authorized by any board resolution.[45]Anent Gross incompetence, the Court of Appeals found that it was petitioner's poor management strategies and poor collection from consumers which caused ABRECO's delayed loan payments and the retrogression of ABRECO's operation.[46]On petitioner's motion for reconsideration, however, the Court of Appeals modified.[47] It ruled that since the bidding and procurement process for ABRECO's programs was the exclusive task of the Bids and Awards Committee, petitioner had nothing to do with the alleged irregular award of Sitio Electrification Program/Barangay Line Enhancement Program to Accurate. For this reason, therefore, he was cleared of the charge of grave misconduct.[48] Even then, petitioner was still found guilty of gross negligence for his supposed failure to ensure ABRECO's compliance with the proper procurement procedure.[49]The Present PetitionPetitioner now seeks affirmative relief from the Court via Rule 45 of the Rules of Court. He challenges anew NEAB's authority to order his removal from office and the dissolution of ABRECO's Board of Directors. These powers purportedly pertain to CDA and not to NEAB. At any rate, the findings of NEAB and the Court of Appeals were allegedly unsupported by substantial evidence.[50]Grave MisconductPetitioner maintains that he implemented the rate approved by the Board of Directors on ABRECO's consumers although the same was higher than the rate prescribed by ERC because as General Manager, it was his ministerial duty to do so. In fact, implementing the orders of the Board of Directors was one of the functions he ought to perform under ABRECO's By­-laws.[51]Gross IncompetenceNEAB purportedly failed to specify which among the current payables of ABRECO were incurred during his incumbency for which he could be held liable for gross incompetence in the management of the electric cooperative. Because of NEAB's failure to grant loan assistance to ABRECO, the latter had to secure loans from private entities to maintain its power supply and keep it operational.[52]ABRECO's alleged retrogression and his supposed incompetence are unsupported by evidence. All NEAB had against him was its incomplete audit report containing a mere general averment that ABRECO, through petitioner, contracted loans of significant amounts.[53]As for the deposit of ABRECO's funds elsewhere other than ABRECO's depository bank, the same had to be done in order for these funds not to be garnished relative to the labor cases decided against it.He further maintains that ABRECO complied in good faith with the methods of procurement per RA 9184 in the award of the project Sitio Electrification Program/Barangay Line Enhancement Program to Accurate.Serious DishonestyPetitioner avers that since the claims for reimbursement of ABRECO's drivers and utility workers had already been disapproved through notices of disallowance (NDs) issued by the Board of Directors, it was entirely the fault of its finance department that these claims were still recklessly paid.Gross Negligence/Gross Neglect of DutyThe complaints against him and ABRECO for non-remittance of SSS and Philhealth premium contributions were already withdrawn after therein complainants realized that petitioner, et al., were not at fault. Thus, there is no longer any basis to hold him administratively liable for the delayed remittances. In any event, the remittance of these premium contributions was not his responsibility but that of ABRECO's Human Resources Department. He therefore should not be held liable for such delayed remittance.[54]In its Comment dated July 19, 2021, NEAB, through the Office of the Solicitor General (OSG), counters that it has supervisory and disciplinary power over electric cooperatives under RA 10531. It maintains that petitioner's acts and omissions constitute grave misconduct, dishonesty, and gross inefficiency.[55]Our RulingNEAB is vested with supervisoryand disciplinary powers overofficers and members of the Boardof Directors of electriccooperativesPetitioner claims that it is the CDA, not NEAB, which is vested with jurisdiction a) to order his removal from office based on the administrative offenses he allegedly committed; and b) to dissolve ABRECO's Board of Directors per Section 9 of Republic Act No. 6939 (RA 6939).[56]The Court had already laid this issue to rest in Zambales II Electric Cooperative, Inc. Board of Directors v. Castillejos Consumers Association, Inc..[57] The Court ordained that the creation of the CDA did not divest NEA of its regulatory jurisdiction over electric cooperatives nor its disciplinary jurisdiction over the members of the boards of directors and officers of these electric cooperatives, thus:A. The NEA's creation and disciplinary jurisdictionThe present NEA was created in 1973 under P.D. No. 269 to administer the country's total electrification on an area coverage basis, by organizing, financing and regulating electric cooperatives throughout the country. The NEA's enforcement powers under P.D. No. 269, however, was limited.In 1979, P.D. No. 1645 amended P.D. No. 269 and broadened the NEA's regulatory powers, among others. Specifically, the amendments emphatically recognized the NEA's power of supervision and control over electric cooperatives; and gave it the power to conduct investigations, and impose preventive or disciplinary sanctions over the board of directors of regulated entities. Section 10 of P.D. No. 269, as amended by P.D. No. 1645 reads:Section 10. Enforcement Powers and Remedies. — In the exercise of its power of supervision and control over electric cooperatives and other borrower, supervised or controlled entities, the NEA is empowered to issue orders, rules and regulations and motu-proprio or upon petition of third parties, to conduct investigations, referenda and other similar actions in all matters affecting said electric cooperatives and other borrower, or supervised or controlled entities.If the electric cooperative concerned or other similar entity fails after due notice to comply with the NEA orders, rules and regulations and/or decisions, or with any of the terms of the Loan Agreement, the NEA Board of Administrators may avail of any or all of the following remedies:x x x x(e) Take preventive and/or disciplinary measures including suspension and/or removal and replacement of any or all of the members of the Board of Directors, officers or employees of the Cooperative, other borrower institutions or supervised or controlled entities as the NEA Board of Administrators may deem fit and necessary and to take any other remedial measures as the law or the Loan Agreement may provide.Likewise, Section 24 of P.D. No. 269, as amended by P.D. No. 1645, stressed that the board of directors of a regulated electric cooperative is subject to the NEA's control and supervision. That provision reads:Section 24. Board of Directors. — (a) The Management of a Cooperative shall be vested in its Board, subject to the supervision and control of the NEA which shall have the right to be represented and to participate in all Board meetings and deliberations and to approve all policies and resolutions.The NEA's disciplinary jurisdiction over the petitioners stems from its power of supervision and control over regulated electric cooperatives and over the board of directors who manage their operation. In the exercise of this broad power, the NEA may take preventive and/or disciplinary measures including the suspension, removal and replacement of any or all of the members of the board of directors, officers or employees of the cooperative.B. The Cooperative Code and the CDAThe enactment in March 1990 of the Cooperative Code and R.A. No. 6939 establishing the CDA did not automatically divest the NEA of its control over the NEA's regulated entities.Although Section 9 of R.A. No. 6939 transferred the NEA's registration functions of electric cooperatives to the CDA, the transfer did not amount to the consequent renunciation of the NEA's regulatory jurisdiction. In fact, the Cooperative Code cautions us against such a wholesale interpretation when it emphatically expressed \"that nothing in this Code shall be interpreted to mean the amendment or repeal of any provision of [P.D. No.] 269.\"x x x xE. The NEA and the electric    cooperatives under the new lawAt any rate, the Court judicially notices that on February 4, 2013, Congress enacted R.A. No. 10531, known as the National Electrification Administration Reform Act of 2013. Aware of the effects of restructuring the electric power industry under [R.A. No. 9136 or the Electric Power Industry Reform Act of 2001] the EPIRA on electric cooperatives under P.D. No. 269, as amended, and on the responsibilities of the appropriate government agencies, like the NEA and the CDA, Congress enacted R.A. No. 10531 with a declared threefold state policy: first, to empower and strengthen the NEA; second, to empower and enable electric cooperatives (organized under P.D. No. 269 and its amendments, and the Philippine Cooperative Code of 2008; and related laws) to cope with the changes brought about by the EPIRA; and third, to promote the sustainable development in the rural areas through rural electrification.Towards these ends, Congress further authorized the NEA to \"supervise the management and operations of all electric cooperatives.\" Pursuant to its power of supervision, Congress granted it the following powers:x x x x(a) issue orders, rules and regulations, motu proprio or upon petition of third parties, to conduct investigations, referenda and other similar actions on all matters affecting the electric cooperatives;(b) issue preventive or disciplinary measures including, but not limited to, suspension or removal and replacement of any or all of the members of the board of directors and officers of the electric cooperative, as the NEA may deem fit and necessary and to take any other remedial measures as the law or any agreement or arrangement with the NEA may provide, to attain the objectives of this Act: x x x (Emphases supplied)So must it be.Petitioner's right to due process wasviolated when NEAB failed to citewhich of the findings against himspecifically pertained to gravemisconduct, which of them pertainedto serious dishonesty, and whichones pertained to grossincompetence.No less than the Constitution guarantees the right of a litigant to be informed of the facts and law on which decisions of courts and administrative tribunals are based. Section 14, Article VIII of the 1987 Constitution reads:Section 14. No decision shall be rendered by any court without expressing therein clearly and distinctly the facts and the law on which it is based.x x x xIn Yao v. Court of Appeals,[58] the Court emphasized that \"[t]he parties to a litigation should be informed of how it was decided, with an explanation of the factual and legal reasons that led to the conclusions of the court,\" viz.:x x x xFaithful adherence to the requirements of Section 14, Article VIII of the Constitution is indisputably a paramount component of due process and fair play. It is likewise demanded by the due process clause of the Constitution. The parties to a litigation should be informed of how it was decided, with an explanation of the factual and legal reasons that led to the conclusions of the court. The court cannot simply say that judgment is rendered in favor of X and against Y and just leave it at that without any justification whatsoever for its action. The losing party is entitled to know why he lost, so he may appeal to the higher court, if permitted, should he believe that the decision should be reversed. A decision that does not clearly and distinctly state the facts and the law on which it is based leaves the parties in the dark as to how it was reached and is precisely prejudicial to the losing party, who is unable to pinpoint the possible errors of the court for review by a higher tribunal. x x xx x x xAlso, in Ang Tibay v. Court of Industrial Relations,[59] the Court enumerated the components of administrative due process, among them, \"[The tribunal or officer] should, in all controversial questions, render its decision in such a manner that the parties to the proceeding can know the various issues involved, and the reasons for the decision rendered. The performance of this duty is inseparable from the authority conferred upon it.\"[60]As stated, NEAB failed to pinpoint which of the acts allegedly committed by petitioner exactly pertained to the first, the second, and the third infraction charged. What NEAB simply did was make a swift shotgun statement that based on the results of its commissioned audit report, petitioner was found to have committed all three infractions. There was absolutely no effort at all to discuss each infraction, let alone, draw its one on one correspondence with the supposed evidence or factual findings on record.This left petitioner groping in the dark when he appealed his case before the Court of Appeals and subsequently to this Court. He had to second guess which factual findings supposedly corresponded to which infraction, hence, unjustly hampering his ability to fully and intelligently frame and focus his defense and his appeal. It was like targeting or striking a moving ball in the dark. In fine, the Constitutional requirement that every decision should contain the tribunal's factual findings and the bases thereof undeniably has been violated, to the prejudice of petitioner whose right to due process was also consequently infringed.By reason of such fatal infirmity, the Court of Appeals should have declared as void the assailed ruling of NEAB and freed petitioner from its debilitating shackles. But this, the Court of Appeals failed to do. Instead, it tried to dissect the ruling of NEAB and came out with its own one on one correspondence between the infraction and the supposed evidence.In truth, however, there was no way to save the ruling of NEAB since it was void ab initio. Court judgments, decisions, orders, or other issuances that fall short of the mandate of Article VIII, Section 14 of the Constitution are nullified and struck down as void.[61]In Republic v. Legaspi, Sr.,[62] the Court ruled that since it is a requirement of due process that the parties to a litigation be informed of how it was decided, with an explanation of the factual and legal reasons that led to the conclusions of the court, a decision that does not conform to the form and substance required by the Constitution and the law is void and deemed legally inexistent.At any rate, even assuming that the dispositions of the Court of Appeals had the effect of curing the incipient infirmity of the NEAB's decision, still petitioner's prayer for affirmative relief must be granted.In administrative disciplinary proceedings, substantial evidence is required to support a verdict against the respondent. Substantial evidence means such relevant evidence as a reasonable mind might accept as adequate to support a conclusion.[63] The burden is on the complainants to prove their allegations by substantial evidence. The standard of substantial evidence is satisfied when there is reasonable ground to believe, based on the evidence submitted, that the respondent is responsible for the misconduct complained of.[64]Here, we rule that the government failed to muster the required quantum of substantial evidence to support a verdict against petitioner for grave misconduct, gross incompetence, serious dishonesty, and gross negligence/gross neglect of duty. The Court of Appeals agreed with NEAB that petitioner is administratively liable for his actions. But it differed as to the classification of the administrative infractions allegedly committed by petitioner.Grave MisconductMisconduct is a transgression of some established and definite rule of action, particularly, as a result of a public officer's unlawful behavior, recklessness, or gross negligence.[65] The misconduct is gross if it involves any of the additional elements of corruption, willful intent to violate the law, or to disregard established rules, which must be proven by substantial evidence. As distinguished from simple misconduct, the elements of corruption, clear intent to violate the law, or flagrant disregard of established rule, must be manifest in a charge of grave misconduct.[66]The Court of Appeals found petitioner liable for Grave Misconduct in view of the following acts or omissions he incurred:1) Pursuant to Resolution No. 48, Series of 2015, he willfully violated the law when he allowed ABRECO to apply the fixed rate of P6.6156 per kilowatt-hour as passed on generation rate to its consumers instead of the ERC prescribed formula;[67]2) He caused ABRECO to incur loans from private entities with a monthly interest of five percent (5%) to six percent (6%);3) He failed to ensure the timely remittance of the employees' Philhealth, SSS, and Pag-IBIG premium contributions to the appropriate government agencies;4) He failed to ensure compliance with ABRECO's internal accounting procedures as he allowed the deposit of its funds elsewhere other than its depository bank; and5) He approved dubious reimbursements in favor of ABRECO's drivers or utility workersWe are not persuaded. I. Charging higher generation rate to ABRECO's consumers pursuant to Board Resolution No. 48, Series of 2015, in violation of the ERC prescribed formula NEAB, as affirmed by the Court of Appeals, found that charging ABRECO's customers at a rate different from the formula prescribed by the ERC, is grave misconduct on the part of petitioner. On the other hand, petitioner asserts that imposing the higher rate on the consumers was simply done in the performance of his ministerial duty to implement ABRECO's Board Resolution No. 48, Series of 2015.A purely ministerial act or duty is one which an officer or tribunal performs in the context of a given set of facts, in a prescribed manner and without regard to the exercise of [one's] own judgment or discretion upon the propriety or impropriety of the act done.[68]Jurisprudence ordains that the implementation of a board resolution is a ministerial duty and the implementing officer has no competence to adjudge the board resolution as invalid.In Buscaino v. Commission on Audit,[69] the Court held that since petitioner, then the Chief Financial Management Officer of Polytechnic University of the Philippines (PUP), disbursed the housing allowance in favor of PUP's President pursuant to a Resolution of the Board of Trustees, the disbursement was deemed justified, hence, should not be disallowed by the Commission on Audit. The Court further ruled that it was beyond petitioner's competence to pass upon the validity of such board resolution, his duty with respect thereto being purely ministerial. Petitioner could not have questioned the grant of housing allowance as his task was just to certify that the disbursement was properly supported by the Resolution of the PUP Board of Trustees.Applying Buscaino here, after ABRECO's Board of Directors already resolved to charge a higher rate to its consumers, it was beyond petitioner's power[70] as General Manager to question it. His duty as such was to implement the Board Resolution. No other. Surely, for performing his ministerial duty as General Manager of ABRECO, petitioner cannot be held liable for Grave Misconduct. II. Incurring loans from private entities with monthly interest of five percent (5%) to six percent (6%) The Court of Appeals held that ABRECO's retrogression came about because petitioner contracted loans from different private creditors for five (5) to six (6) percent monthly interest.Petitioner nonetheless claims it was only after NEA no longer granted ABRECO's repeated requests for financial assistance that he, as General Manager was left without any recourse but to secure loans from private entities in order to pay off its existing urgent obligations, including those he inherited from his predecessors.At the outset, the identity of the private entities from whom petitioner obtained loans, the specific amounts of these loans, and the dates they were incurred were not even borne in the so called \"comprehensive\" audit report. It was certainly the height of injustice, nay, oppression, for petitioner not to have been confronted with the actual loan amounts, the identities of the creditors, and the definite period they were supposedly incurred. More so considering his vigorous assertion that even those incurred by his predecessors are also being blamed on him. Indeed, this is another violation of petitioner's right to be sufficiently informed of the infractions for which he was sought to be dismissed from the service.In any case, petitioner gave a valid reason why he had to borrow funds from private entities for five to six percent monthly interest to keep ABRECO's operation afloat. It was because NEA no longer granted financial assistance to ABRECO despite the latter's persistent requests and notwithstanding NEA's legal obligation to do so under Section 4 of PD No. 269, as amended by RA 10531, thus:SEC. 4. Powers, Functions and Privileges of the National Electrification Administration. – To strengthen the electric cooperatives, help them become economically viable and prepare them for the implementation of retail competition and open access pursuant to Section 31 of the EPIRA, the NEA is authorized and empowered to:x x x x(g) provide institutional, financial and technical assistance to electric cooperatives upon request of the electric cooperatives; (Emphasis supplied)x x x xNotably, NEA did not dispute ABRECO's claim that it made persistent requests for financial assistance from NEA which the latter nonetheless invariably declined. But NEAB caught itself in contradiction when in one breadth, it commiserated with ABRECO for its sad predicament of having to resort to high interest loans just to pay off its power consumption bills or stop its operation altogether; but in another breadth, it found petitioner administratively liable for obtaining these loans. This is definitely illogical, nay, unreasonable.To sum up, petitioner does not deny that he resorted to obtaining loans from different private creditors for five percent (5%) to six percent (6%) monthly interest incurred between 2015 to 2016. Altogether, the interest for these totaled P13,567,225. Per NEA's audit, too, these loans were contracted to \"pay its power bills [and] avoid disconnection.\"What we see here was a general manager who exhausted all possible ways and means to rehabilitate ABRECO's dwindling financial situation. Had he not secured the loans in question, ABRECO's operation and power supply would have been totally shut down; and the entire province of Abra literally would have lived in total darkness for an undetermined length of time. Then death and chaos in hospitals, stoppage of food production and distribution, stoppage of work, and criminals freely roaming around or waiting to pounce on their victims in the dark alleys of Abra would have also happened.Evidently, contracting the loans in question was a necessary judgment call for petitioner. Ironically, it was NEA's refusal to extend financial assistance to ABRECO which forced petitioner \"to clutch the blade of a knife\" so to speak just so he could save ABRECO and its consumers from imminent closure and living a life in a ghost like town.On this score, the opinion of both NEAB and the Court of Appeals that ABRECO could have secured loans for a lower interest rate is just that. An opinion. For all intents and purposes, petitioner is presumed to have contracted the loans at the best interest rates available to ABRECO at the time the loans were most needed, absent any substantial proof to the contrary. III. Delayed Remittance of the employees' premium contributions to government agencies Notably, the audit report failed to bear out the details pertaining to the specific period or periods the employees' contributions were remitted late, the amounts of these contributions, and the reason or reasons for the delayed remittance. It also did not disclose how many employees were affected and why the remittance got delayed. In any event, NEA has riot responded to petitioner's manifestation that the employees who complained against the non-remittance had already withdrawn their complaint because they realized it was not the fault of petitioner et al.More important, NEA has not disputed that the duty to remit the employees' contributions lies with ABRECO's Human Resource Department. IV. Deposit of ABRECO funds Petitioner does not deny that for a certain period, he allowed the deposit of ABRECO funds to another bank which was not its designated depository bank. He explains though that this was necessary to protect the funds earned by or owing to ABRECO and to enable it to continue its day to day operation as an electric cooperative. This included the funds for the salaries of its employees, maintenance of machineries, purchase of essential goods and services, and paying off its other equally urgent obligations.We agree.For one, there is no merit to NEA's claim that petitioner was thwarting the writ of garnishment when he allowed the deposit of the funds in question with another bank. Notably, the writ of garnishment was already served on the depository bank and the entire deposit of ABRECO there was already frozen. There was nothing more to thwart.For another, garnishment is a process by which the entire, not just a portion of the judgment debtor's deposit will remain frozen for an undetermined length of time until the execution of judgment itself is fully satisfied. This holds true notwithstanding that the garnished bank deposit or deposits already exceed the amount of the judgment debt itself. Also, the writ of garnishment will apply to all subsequent deposits in the subject bank account for as long as the writ remains effective.Under these circumstances, therefore, petitioner had all the legitimate reason to cause the opening of a new account in another bank where ABRECO funds could be deposited and freely withdrawn for its operation and for the payment of its employees' salaries and other obligations. It was indeed a necessary means to save the operation of the cooperative and prevent its beneficiaries, the people of Abra, no less, from suffering extended power outage and to save the funds earmarked for the salaries of ABRECO employees and for payment of ABRECO's urgent bills and obligations and maintenance expenses, among others.To emphasize, opening a new account with another bank was a judgment call for ABRECO's survival, pure and simple. It was never shown to have been for petitioner's pecuniary benefit or personal gain. V. Approving questionable reimbursements With regard to the reimbursement claims of ABRECO drivers and utility workers, petitioner asserts, and NEA does not dispute, that ABRECO itself had already issued notices of disallowance on these claims, albeit it was ABRECO's Finance Department which still erroneously processed the disapproved claims and recommended their approval to petitioner who relied and affirmatively acted thereon.In Joson III v. COA,[71] the Court ruled that just because petitioner was the governor of Nueva Ecija did not automatically make him the party ultimately liable for the disallowed amount. He cannot be held liable simply because he was the final approving authority of the transaction in question and that the employees who processed the same were under his supervision. Petitioner, as the governor of Nueva Ecija, was responsible for the whole province. With the amount of paperwork that normally passed through his office and the numerous documents he had to sign, it would be counterproductive to require petitioner to specifically and meticulously examine every document that passes his office. Thus, petitioner had the right to rely to a reasonable extent on the good faith of his subordinates. Mere signature does not result in a liability of the official involved without any showing of irregularity on the document's face such that a detailed examination would be warranted. Liability depends upon the wrong committed and not solely by reason of being the head of a government agency.Here, while as General Manager, petitioner was tasked to oversee ABRECO's overall operations, he was not expected to review every action done by his subordinates and he cannot be made responsible for all their misfeasance or malfeasance in the performance of their duty absent any showing that further inquiry should have been made by him. In any event, the return of the disallowed payment may still be required from the recipients themselves who were not entitled thereto.On his failure to account for or support his own reimbursement claim i.e., P394,184.00 out of P602,114.00, it is a requirement of due process that parties be confronted with the acts they are being held liable for to afford them an opportunity to properly address the acts or omissions complained of.[72]Here, such opportunity was not given to petitioner before ABRECO itself. In fact, no corresponding notice of disallowance was issued by ABRECO itself. Without this notice of disallowance, the reimbursement claim is presumed to be valid and justified.At any rate, the supposed irregular claim for reimbursement came to fore for the first time only after NEAB initiated an audit on ABRECO. According to the audit report, petitioner received a reimbursement of P394,184.00 which NEA asserts should have been disapproved because the auto parts supposedly purchased using this amount did not pertain to any of the vehicles owned by ABRECO. Assuming this to be true, the claim should have been disallowed on audit, and petitioner, required to return the disallowed payment. In any case, the mere fact that he claimed reimbursement for items which turned out to be not beneficial to the cooperative should not automatically make him liable for grave misconduct. There ought to be an evidence of corruption, willful intent to violate the law, or disregard of established rules, which must be proven by substantial evidence. To be sure, none of these elements was proven here.Neither are the elements of simple misconduct present here. It was not established how petitioner's supposed erroneous claim for reimbursement and ABRECO's erroneous payment thereof resulted from an utter disregard of established and definite rule of action, unlawful behavior, recklessness, or gross negligence on the part of petitioner.Serious DishonestyDishonesty is defined as the disposition to lie, cheat, deceive or defraud, betray; untrustworthiness; lack of integrity; lack of honesty, probity or integrity in principle; lack of fairness and straightforwardness.[73] Dishonesty requires malicious intent to conceal the truth or to make false statements. Simply put, dishonesty is a question of intention.[74]Under Section 3 of the Civil Service Commission (CSC) Resolution No. 06-0538, dishonesty is considered serious when attended by any of the following circumstances:The dishonest act caused serious damage and grave prejudice to the government;The respondent gravely abused his authority in order to commit the dishonest act;Where the respondent is an accountable officer, the dishonest act directly involves property; accountable forms or money for which he is directly accountable; and respondent shows intent to commit material gain, graft and corruption;The dishonest act exhibits moral depravity on the part of the respondent;The respondent employed fraud and/or falsification of official documents in the commission of the dishonest act related to his/her employment;The dishonest act was committed several times or on various occasions;The dishonest act involves a Civil Service examination irregularity or fake Civil Service eligibility such as, but not limited to, impersonation, cheating and use of crib sheets;Other analogous circumstances.The Court of Appeals found petitioner guilty of Serious Dishonesty for the following acts:adopting highly irregular accounting and internal control policies by approving dubious reimbursements; andcausing the payment of P3,223,000.00 legal fees for services rendered to ABRECO and in partial satisfaction of judgments against it in labor cases despite the lack of any board resolution authorizing such payment. I. Adopting highly irregular accounting and internal control policies by approving dubious reimbursements This is a recycled ground from the other charge for grave misconduct against petitioner. It was already amply addressed in the preceding discussion which we need not repeat here. In addition, we note that while the so-called highly irregular accounting and internal policies are imputed to have been adopted by petitioner, there is no mention what these policies are and how they supposedly resulted in the erroneous approval of the claims. This is another reason why petitioner should also be exonerated from the charge of simple or serious dishonesty. II. Payment of legal fees without authority from the Board of Directors Petitioner cannot be held liable for serious dishonesty for authorizing, sans any board resolution, the payment of legal fees due to the lawyers who represented ABRECO in the labor cases filed against it. When NEA speaks of payment of legal fees for services already rendered, it goes without saying that there was already an approved lawyers' engagement by the board itself. Hence, what ought to follow was simply the implementation of this engagement such as the payment of legal fees for services already rendered, which should no longer require another board resolution.Suffice it to state that there is absolutely no evidence that in allowing the payment, petitioner was impelled by malicious intent to conceal the truth or to make false statements, an essential element of the charge of serious dishonesty.[75]Gross NegligenceThe Court of Appeals likewise found petitioner guilty of gross negligence in not ensuring that ABRECO adhered to proper procurement procedure.[76] On this score, NEAB zeroed in on the award of the Sitio Electrification Program/Barangay Line Enhancement Program to the company named Accurate despite the alleged fact that the Invitation to bid was not posted online; Accurate's bid of P15,950,561 is higher by P4,240.06 than the P15,946,321.72 approved budget; and a check voucher in favor of Accurate was issued, sans a prior post qualification evaluation.We do not agree.Gross negligence \"refers to negligence characterized by the want of even slight care, or by acting or omitting to act in a situation where there is a duty to act, not inadvertently but willfully and intentionally, with a conscious indifference to the consequences, insofar as other persons may be affected. It is the omission of that care that even inattentive and thoughtless men never fail to give to their own property.\" It denotes a flagrant and culpable refusal or unwillingness of a person to perform a duty. In cases involving public officials, gross negligence occurs when a breach of duty is flagrant and palpable.[77]In contrast, simple neglect of duty means the failure of an employee or official to give proper attention to a task expected of him or her, signifying a \"disregard of a duty resulting from carelessness or indifference.\"[78]In the absence of any indication in the records submitted to petitioner by the Bids and Awards Committee and other offices directly in charge of the posting requirement, the post evaluation requirement, and the accurate comparative computations up to the last centavo between the approved budget and the amount of the winning bid, as General Manager of ABRECO, he had all the right to accord the presumption of regularity and credence to the certifications issued and submitted to him by the offices directly assigned to comply with the procedure prescribed by law. In so doing so, (petitioner cannot be held liable for gross negligence or even simple negligence, especially because the NEA itself could not point to any document which should have triggered his curiosity to conduct a further inquiry on the veracity of the certifications forwarded him.As decreed in Arias v. Sandiganbayan,[79] all heads of offices have to rely to a reasonable extent on their subordinates and on the good faith of those who prepare bids, purchase supplies, or enter into negotiations. While Abubakar v. People of the Philippines[80] elucidates that reliance in good faith on the acts of the subordinates will not shield the superior when there are circumstances which should have prompted him to make further inquiries,[81] nothing here indicates that there were reasons for petitioner to doubt and make such further inquiry.All told, NEA failed to prove by substantial evidence petitioner's supposed administrative culpability for grave misconduct, dishonesty, gross incompetence, and gross negligence/gross neglect of duty. Verily, there is no factual or legal basis for petitioner's removal from office as General Manager of ABRECO.ACCORDINGLY, the petition is GRANTED. The Decision dated June 15, 2020 and Resolution dated November 10, 2020 of the Court of Appeals in CA G.R. SP No. 161126 are REVERSED and SET ASIDE. The administrative complaint against petitioner GM Loreto P. Seares, Jr. is dismissed for lack of merit. He is immediately REINSTATED to his position as General Manager of Abra Electric Cooperative, Inc., with full back salaries and benefits and without loss of seniority rights.Six percent (6%) legal interest per annum is imposed on the monetary award, reckoned from finality of this Decision until fully paid.SO ORDERED.Gesmundo, C.J. (Chairperson), Caguioa, and J. Lopez, JJ., concur.M. Lopez, J., on wellness leave.[1] Penned by Associate Justice Franchito N. Diamante and Associate Justices Germano Francisco D. Legaspi and Ruben Reynaldo G. Roxas, rollo, pp. 25-51.[2] Id.[3] Under Republic Act No. 9520, otherwise known as Philippine Cooperative Code of 2008.[4] Rollo, p. 36.[5] Id. at 14 and 77.[6] National Electrification Administration Reform Act of 2013, Republic Act No. 10531, May 7, 2013.[7] Rollo, pp. 36-370.[8] Id. at 37-40.[9] Id. at 39-40.[10] Id. at 108.[11] Id.[12] Id. at 40.[13] Through the NEA-Administrative Committee.[14] Rollo, p. 138.[15] RESOLUTION ENDORSING THE ATTACHED RATES SCHEDULE AS BASIS FOR SUBSEQUENT BILLING STARTING AUGUST 2015 TO ADDRESS THE UNSTABLE AND UNPREDICTABLE NATURE OF MARKET PRICES AT THE PHILIPPINE ELECTRICITY MARKET CORPORATION, IN CONSIDERATION OF ABRECO's FULL EXPOSURE IN THE ELECTRICITY SPOT MARKET AND THE UNAVAILABILITY OF BILATERAL CONTRACT REQUIRED FOR DIRECT MEMBERSHIP WITH THE [Philippine Electricity Market Corporation] [or] PEMC.[16] The Wholesale Electricity Spot Market (WESM) is a venue for trading electricity as a commodity. It was created by virtue of Section 30 of Republic Act No. 9136, otherwise known as the Electric Power Industry Reform Act (EPIRA) of 2001. WESM is where the generators sell their excess capacities not covered by contracts and where the customers buy additional capacities on top of their contracts. (https://industry.gov.ph/wp-content/uploads/2015/08/Wholesale-Electricity-Spot-Market-WESM-101-by-Melinda-Ocampo-PEMC-President.pdf) (October 21, 2021)[17] Id. at 79-80 and 100.[18] Id. at 37.[19] Id. at 40.[20] Id. at 115.[21] Id. at 40.[22] Otherwise known as Government Procurement Reform Act.[23] Rollo, pp. 40, 109-110, 115 and 120-121.[24] Signed by (Alternate of the Chairman) Atty. Felix William B. Fuentebella and members Agustin L. Maddatu, Alipio Cirilo V. Badelles, Rene M. Gonzales, and Edgardo R. Masongsong, rollo, pp. 103-130.[25] Id. at 128-129.[26] Id. at 121.[27] Id.[28] Id. at 125-126.[29] Id at 126-128.[30] Id. at 123.[31] Id. at 124-125.[32] Id. at 122, 125, 126, and 128.[33] Id. at 128.[34] SECTION 2. DISABILITIES/ACCESSORIES TO ADMINISTRATIVE PENALTIES.Disqualification for reinstatement or reemployment in any electric cooperative;Disqualification to run as candidate for a Board of Director position in any cooperative;Forfeiture of retirement benefits.SECTION 3. ADMINISTRATIVE DISABILITIES INHERENT IN CERTAIN PENALTIES.The penalty of removal shall carry with it that of cancellation of eligibility to run for the position of EC director, forfeiture of retirement benefits, and the perpetual disqualification for reemployment in any Electric Cooperative unless otherwise provided in the decision;x x x[35] Rollo, p. 42.[36] AN ACT AMENDING THE COOPERATIVE CODE OF THE PHILIPPINES TO BE KNOWN AS THE \"PHILIPPINE COOPERATIVE CODE OF 2008.\"[37] Rollo, pp. 43-44.[38] Id. at 45.[39] Penned by Associate Justice Franchito N. Diamante and Associate Justices Germano Francisco D. Legaspi and Ruben Reynaldo G. Roxas, rollo, pp. 25-51.[40] Entitled CREATING THE \"NATIONAL ELECTRIFICATION ADMINISTRATION\" AS A CORPORATION, PRESCRIBING ITS POWERS AND ACTIVITIES, APPROPRIATING THE NECESSARY FUNDS THEREFOR AND DECLARING A NATIONAL POLICY OBJECTIVE FOR THE TOTAL ELECTRIFICATION OF THE PHILIPPINES ON AN AREA COVERAGE SERVICE BASIS, THE ORGANIZATION, PROMOTION AND DEVELOPMENT OF ELECTRIC COOPERATIVES TO ATTAIN THE SAID OBJECTIVE, PRESCRIBING TERMS AND CONDITIONS FOR THEIR OPERATIONS, THE REPEAL OF REPUBLIC ACT NO. 6038, AND FOR OTHER PURPOSES (August 6, 1973).[41] Rollo, pp. 49-50.[42] Id. at 48[43] Id. at 46-78.[44] Id. at 48-49.[45] Id. at 90.[46] Id. at 47.[47] Id. at 63-71.[48] Id. at 65-71.[49] Id. at 66-67.[50] Id. at 11-12.[51] Id. at 14-15.[52] Id. at 15.[53] Id. at 13.[54] Id. at 23.[55] Id. at 170-186.[56] AN ACT CREATING THE COOPERATIVE DEVELOPMENT AUTHORITY TO PROMOTE THE VIABILITY AND GROWTH OF COOPERATIVES AS INSTRUMENTS OF EQUITY, SOCIAL JUSTICE AND ECONOMIC DEVELOPMENT, DEFINING ITS POWERS, FUNCTIONS AND RESPONSIBILITIES, RATIONALIZING GOVERNMENT POLICIES AND AGENCIES WITH COOPERATIVE FUNCTIONS, SUPPORTING COOPERATIVE DEVELOPMENT, TRANSFERRING THE REGISTRATION AND REGULATION FUNCTIONS OF EXISTING GOVERNMENT AGENCIES ON COOPERATIVES AS SUCH AND CONSOLIDATING THE SAME WITH THE AUTHORITY, APPROPRIATING FUNDS THEREFOR, AND FOR OTHER PURPOSES OF 1990[57] See 745 Phil. 618, 651 (2014)[58] 398 Phil. 86, 109 (2000).[59] 69 Phil. 635, 645 (1940).[60] See Flores-Concepcion v. Judge Castaneda, A.M. No. RTJ-15-2438 [Formerly OCA I.P.I. No. 11-3681-RTJ], September 02, 2020, citing Ang Tibay v. Court of Industrial Relations.[61] See Ganancial v. Cabugao, G.R. No. 203348, July 6, 2020.[62] 686 Phil. 100, 116 (2012).[63] Gadong v. Butlig, AM. No. P-19-4020, November 28, 2019.[64] See Office of the Ombudsman v. Manlulu, G.R. No. 215986, September 21, 2020.[65] Domingo v. Civil Service Commission, G.R. No. 236050, June 17, 2020.[66] Judge Buenaventura v. Mabalot, A.M. No. P-09-2726 [Formerly OCA IPI No. 08-2923-P] and A.M. No. P-10-2884 [Formerly OCA IPI No. 08-2750-P], 716 Phil. 476, 494 (2013).[67] Rollo, p. 48[68] Philippine National Police-Criminal Investigation and Detection Group v. Villafuerte, G.R. Nos. 219771 & 219773, September 18, 2018.[69] 69 Phil. 886, 907 (1999).[70] Under ABRECO's by laws, one of petitioner's functions is to \"implement the duly approved plans and programs of the cooperative and any other directive or instruction of the BODs.\"[71] 820 Phil. 485, 502 (2017).[72] Secretary of Justice v. Lantion, G.R. No. 139465, January 18, 2000, citing Aniag, Jr. v. Commission on Elections, 237 SCRA 424.[73] Re: Samuel R. Ruñez, Jr., A.M. No. 2019-18-SC, January 28, 2020.[74] Ramos v. Rosell, G.R. No. 241363, September 16, 2020.[75] Id.[76] Rollo, pp. 66-67.[77] See Office of the Ombudsman v. De Leon, 705 Phil. 26 (2013).[78] Id. at 38.[79] G.R. Nos. 81563 & 82512, December 19, 1989.[80] See 834 Phil. 435 (2018).[81] People v. Talaue, G.R. No. 248652, January 12, 2021 \"\"\""
   ]
  },
  {
   "cell_type": "markdown",
   "id": "6dd94fb6-ea4e-4521-b74d-5ffa7a9914b9",
   "metadata": {},
   "source": [
    "### **--For Summarizing Long Texts**"
   ]
  },
  {
   "cell_type": "code",
   "execution_count": 110,
   "id": "46323d4e-c947-49ab-ae53-3ac6660d2675",
   "metadata": {
    "execution": {
     "iopub.execute_input": "2024-08-27T13:16:41.475737Z",
     "iopub.status.busy": "2024-08-27T13:16:41.475069Z",
     "iopub.status.idle": "2024-08-27T13:16:41.492150Z",
     "shell.execute_reply": "2024-08-27T13:16:41.490777Z",
     "shell.execute_reply.started": "2024-08-27T13:16:41.475678Z"
    }
   },
   "outputs": [
    {
     "name": "stdout",
     "output_type": "stream",
     "text": [
      "G.R.No.250288\n"
     ]
    }
   ],
   "source": [
    "def extract_title(text):\n",
    "    # Regular expression to match the text inside the first square brackets\n",
    "    match = re.search(r'\\[([^\\[\\]]+)\\]', text)\n",
    "\n",
    "    if match:\n",
    "        # Extract the matched text inside the square brackets\n",
    "        content = match.group(1).strip()\n",
    "\n",
    "        # Split by comma and get the first part if available\n",
    "        extracted = content.split(',', 1)[0].strip()\n",
    "\n",
    "        # Remove all whitespace characters\n",
    "        return re.sub(r'\\s+', '', extracted)\n",
    "    else:\n",
    "        return \"No Title Available\"\n",
    "\n",
    "# Example usage\n",
    "text = \"\"\"\" THIRD DIVISION\\n[ G.R. No. 250288, January 30, 2023 ]by John Kriska Distr\"\"\"\n",
    "result = extract_title(text)\n",
    "print(result)\n",
    "\n",
    "\n",
    "def summarize_texts(texts, num_sentences=80):\n",
    "    \"\"\"\n",
    "    Extracts title from texts. Summarizes the given texts using LexRank summarization and prints the number\n",
    "    of tokens in the summary. \n",
    "    Args:\n",
    "    - texts (list): The texts to be summarized.\n",
    "    - num_sentences (int): The number of sentences to include in the summary.\n",
    "    Returns:\n",
    "    - str: The summary of the text with the title.\n",
    "    \"\"\"\n",
    "    summary_texts = []\n",
    "    for text in texts:\n",
    "        original_token_count = len(word_tokenize(text))\n",
    "        # print(f\"Number of tokens in the original text: {original_token_count}\")\n",
    "        \n",
    "        title = extract_title(text)\n",
    "        # Parse the input text\n",
    "        parser = PlaintextParser.from_string(text, Tokenizer(\"english\"))\n",
    "\n",
    "        # Initialize the LexRank summarizer\n",
    "        summarizer = LexRankSummarizer()\n",
    "\n",
    "        # Generate the summary\n",
    "        summary = summarizer(parser.document, num_sentences)\n",
    "\n",
    "        # Convert the summary to a single string\n",
    "        summary_text = \" \".join([str(sentence) for sentence in summary])\n",
    "\n",
    "        # metadata_summary = summary_text[:1000]\n",
    "        # metadata_token_count = len(word_tokenize(metadata_summary))\n",
    "        \n",
    "        # Calculate the number of tokens in the summary\n",
    "        token_count = len(word_tokenize(summary_text))\n",
    "        # print(f\"Number of tokens in the summary: {token_count}\")\n",
    "        # print(f\"Number of tokens in the metadata: {metadata_token_count}\")\n",
    "\n",
    "        summary_texts.append(f\"[{title}] {summary_text}\")\n",
    "        \n",
    "    return summary_texts"
   ]
  },
  {
   "cell_type": "code",
   "execution_count": 111,
   "id": "17c085bb-0670-4db7-9806-0a11a0b0b5fe",
   "metadata": {
    "execution": {
     "iopub.execute_input": "2024-08-27T13:16:45.180132Z",
     "iopub.status.busy": "2024-08-27T13:16:45.179459Z",
     "iopub.status.idle": "2024-08-27T13:16:47.756500Z",
     "shell.execute_reply": "2024-08-27T13:16:47.754132Z",
     "shell.execute_reply.started": "2024-08-27T13:16:45.180076Z"
    }
   },
   "outputs": [
    {
     "data": {
      "text/plain": [
       "\"— In the exercise of its power of supervision over electric cooperatives, the NEA shall have the following powers:(a) issue orders, rules and regulations, motu proprio or upon petition of third parties, to conduct investigations, referenda and other similar actions on all matters affecting the electric cooperatives;(b) issue preventive or disciplinary measures including, but not limited to, suspension or removal and replacement of any or all of the members of the board of directors and officers of the electric cooperative, as the NEA may deem fit and necessary and to take any other remedial measures as the law or any agreement or arrangement with NEA may provide, to attain the objectives of this Act; and(c) appoint independent board of directors in the electric cooperative. The monthly premiums for the mandatory obligations deducted from the salaries of the employees including the Electric Cooperative's (EC) counterpart were not remitted to the concerned government agencies on time for which the EC employees failed to avail the loan privileges and the benefits due them; c) The EC was constrained to borrow funds from outside sources to pay its power bills to avoid disconnection, however said borrowings which resulted [in] interest charges on various loans paid to private creditors bear a monthly interest rate of 5% to a maximum of 6% per month; d) For the ten (10) month period of 2016, the Coop realized a net margin of P32,846,660.00 while net loss of P171,790.11 was incurred in 2015. [41]As for Grave Misconduct, it found petitioner liable therefor in view of the following illegal acts he purportedly committed: 1) He willfully violated the law when he allowed ABRECO to apply the fixed rate of P6.6156 per kilowatt-hour as passed on generation rate to its consumers instead of the ERC prescribed formula;[42] 2) He failed to review and carefully oversee the operations of the different departments under his supervision as ABRECO's General Manager; 3) He did not ensure the timely remittance of the employees' Philhealth, SSS, and Pag-IBIG premium contributions to the appropriate government agencies; 4) He did not exercise due diligence when he allowed ABRECO's funds to be deposited elsewhere and not in its depository bank in violation of ABRECO's internal accounting procedures; 5) He approved dubious reimbursements in favor of ABRECO's drivers or utility workers supposedly for the purchase of motor vehicle spare parts for ABRECO's vehicles, albeit these items did net even match the specifications of ABRECO's existing set of vehicles;[43] and 6) He breached the procurement rules and procedures under RA 9184 when he awarded the project Sitio Electrification Program/Barangay Line Enhancement Program to Accurate, albeit Accurate's bid was higher than the actual budget for the project. At any rate, the findings of NEAB and the Court of Appeals were allegedly unsupported by substantial evidence. [53]As for the deposit of ABRECO's funds elsewhere other than ABRECO's depository bank, the same had to be done in order for these funds not to be garnished relative to the labor cases decided against it.He further maintains that ABRECO complied in good faith with the methods of procurement per RA 9184 in the award of the project Sitio Electrification Program/Barangay Line Enhancement Program to Accurate.Serious DishonestyPetitioner avers that since the claims for reimbursement of ABRECO's drivers and utility workers had already been disapproved through notices of disallowance (NDs) issued by the Board of Directors, it was entirely the fault of its finance department that these claims were still recklessly paid.Gross Negligence/Gross Neglect of DutyThe complaints against him and ABRECO for non-remittance of SSS and Philhealth premium contributions were already withdrawn after therein complainants realized that petitioner, et al., were not at fault. Pursuant to its power of supervision, Congress granted it the following powers:x x x x(a) issue orders, rules and regulations, motu proprio or upon petition of third parties, to conduct investigations, referenda and other similar actions on all matters affecting the electric cooperatives;(b) issue preventive or disciplinary measures including, but not limited to, suspension or removal and replacement of any or all of the members of the board of directors and officers of the electric cooperative, as the NEA may deem fit and necessary and to take any other remedial measures as the law or any agreement or arrangement with the NEA may provide, to attain the objectives of this Act: x x x (Emphases supplied)So must it be.Petitioner's right to due process wasviolated when NEAB failed to citewhich of the findings against himspecifically pertained to gravemisconduct, which of them pertainedto serious dishonesty, and whichones pertained to grossincompetence.No less than the Constitution guarantees the right of a litigant to be informed of the facts and law on which decisions of courts and administrative tribunals are based. [61]In Republic v. Legaspi, Sr.,[62] the Court ruled that since it is a requirement of due process that the parties to a litigation be informed of how it was decided, with an explanation of the factual and legal reasons that led to the conclusions of the court, a decision that does not conform to the form and substance required by the Constitution and the law is void and deemed legally inexistent.At any rate, even assuming that the dispositions of the Court of Appeals had the effect of curing the incipient infirmity of the NEAB's decision, still petitioner's prayer for affirmative relief must be granted.In administrative disciplinary proceedings, substantial evidence is required to support a verdict against the respondent. Petitioner could not have questioned the grant of housing allowance as his task was just to certify that the disbursement was properly supported by the Resolution of the PUP Board of Trustees.Applying Buscaino here, after ABRECO's Board of Directors already resolved to charge a higher rate to its consumers, it was beyond petitioner's power[70] as General Manager to question it. Hence, what ought to follow was simply the implementation of this engagement such as the payment of legal fees for services already rendered, which should no longer require another board resolution.Suffice it to state that there is absolutely no evidence that in allowing the payment, petitioner was impelled by malicious intent to conceal the truth or to make false statements, an essential element of the charge of serious dishonesty. 40, 109-110, 115 and 120-121.\""
      ]
     },
     "execution_count": 111,
     "metadata": {},
     "output_type": "execute_result"
    }
   ],
   "source": [
    "def summarize_text(text, num_sentences=10):\n",
    "    \"\"\"\n",
    "    Summarizes the given text using LexRank summarization.\n",
    "    Args:\n",
    "    - text: The text to be summarized.\n",
    "    - num_sentences (int): The number of sentences to include in the summary. Default is 10.\n",
    "    Returns:\n",
    "    - str: The summary of the text.\n",
    "    \"\"\"\n",
    "    # Initialize the LexRank summarizer\n",
    "    summarizer = LexRankSummarizer()\n",
    "\n",
    "    # Parse the input text\n",
    "    parser = PlaintextParser.from_string(text, Tokenizer(\"english\"))\n",
    "\n",
    "    # Generate the summary\n",
    "    summary = summarizer(parser.document, num_sentences)\n",
    "\n",
    "    # Convert the summary to a single string\n",
    "    return \" \".join([str(sentence) for sentence in summary])\n",
    "\n",
    "summarize_text(trial_text)"
   ]
  },
  {
   "cell_type": "markdown",
   "id": "888229c3-7a97-4e15-a012-791a9f8ab3dc",
   "metadata": {},
   "source": [
    "### **--For Getting Embeddings**"
   ]
  },
  {
   "cell_type": "code",
   "execution_count": 112,
   "id": "eeef17c5-7255-4f60-9b54-599171e49f7a",
   "metadata": {
    "execution": {
     "iopub.execute_input": "2024-08-27T13:16:47.948018Z",
     "iopub.status.busy": "2024-08-27T13:16:47.947333Z",
     "iopub.status.idle": "2024-08-27T13:16:48.003571Z",
     "shell.execute_reply": "2024-08-27T13:16:48.001732Z",
     "shell.execute_reply.started": "2024-08-27T13:16:47.947961Z"
    }
   },
   "outputs": [],
   "source": [
    "def get_embedding(text, engine=ENGINE):\n",
    "    \"\"\"\n",
    "    Function to get embedding for a single text using the OpenAI API\n",
    "    \"\"\"\n",
    "    return get_embeddings([text], engine=engine)[0]\n",
    "\n",
    "\n",
    "def get_embeddings(texts, engine=ENGINE):\n",
    "    # Create embeddings for the input texts using the specified engine\n",
    "    response = client.embeddings.create(\n",
    "        input=summarize_texts(texts),\n",
    "        model=engine\n",
    "    )\n",
    "\n",
    "    # Extract and return the list of embeddings from the response\n",
    "    return [d.embedding for d in list(response.data)]"
   ]
  },
  {
   "cell_type": "code",
   "execution_count": 113,
   "id": "adb5f0a6-7a6b-4be3-a0b4-8263cd557497",
   "metadata": {
    "execution": {
     "iopub.execute_input": "2024-08-27T13:16:53.760441Z",
     "iopub.status.busy": "2024-08-27T13:16:53.759772Z",
     "iopub.status.idle": "2024-08-27T13:16:57.903937Z",
     "shell.execute_reply": "2024-08-27T13:16:57.902609Z",
     "shell.execute_reply.started": "2024-08-27T13:16:53.760385Z"
    }
   },
   "outputs": [
    {
     "name": "stdout",
     "output_type": "stream",
     "text": [
      "64952\n",
      "Generated embedding length: 1536\n"
     ]
    }
   ],
   "source": [
    "print(len(trial_text))\n",
    "embeddings = get_embeddings([trial_text])\n",
    "print(f\"Generated embedding length: {len(embeddings[0])}\")"
   ]
  },
  {
   "cell_type": "code",
   "execution_count": 114,
   "id": "b6b9b1e1-01d6-4cc9-9c46-1a638c36d8ea",
   "metadata": {
    "execution": {
     "iopub.execute_input": "2024-08-27T13:17:01.234569Z",
     "iopub.status.busy": "2024-08-27T13:17:01.233848Z",
     "iopub.status.idle": "2024-08-27T13:17:01.245457Z",
     "shell.execute_reply": "2024-08-27T13:17:01.243836Z",
     "shell.execute_reply.started": "2024-08-27T13:17:01.234513Z"
    }
   },
   "outputs": [],
   "source": [
    "def get_keywords(text, count=5):\n",
    "    # Extract keywords using YAKE (Yet Another Keyword Extractor)\n",
    "    keyword_extractor = yake.KeywordExtractor()\n",
    "    keywords = keyword_extractor.extract_keywords(text)\n",
    "\n",
    "    # Extract the top k keywords\n",
    "    top_keywords = [keyword[0] for keyword in keywords[:count]]\n",
    "\n",
    "    return top_keywords"
   ]
  },
  {
   "cell_type": "code",
   "execution_count": 115,
   "id": "9164b52c-a97c-4170-9950-e1438526959d",
   "metadata": {
    "execution": {
     "iopub.execute_input": "2024-08-27T13:17:03.956081Z",
     "iopub.status.busy": "2024-08-27T13:17:03.955427Z",
     "iopub.status.idle": "2024-08-27T13:17:04.540654Z",
     "shell.execute_reply": "2024-08-27T13:17:04.539711Z",
     "shell.execute_reply.started": "2024-08-27T13:17:03.956024Z"
    }
   },
   "outputs": [
    {
     "data": {
      "text/plain": [
       "['ABRECO', 'electric cooperatives', 'ABRECO board', 'NEA', 'PETITIONER']"
      ]
     },
     "execution_count": 115,
     "metadata": {},
     "output_type": "execute_result"
    }
   ],
   "source": [
    "get_keywords(trial_text, 5)"
   ]
  },
  {
   "cell_type": "markdown",
   "id": "c6b6576d-b8d8-415a-a519-e9709370a01f",
   "metadata": {},
   "source": [
    "### **--For Pinecone Actions**"
   ]
  },
  {
   "cell_type": "code",
   "execution_count": 116,
   "id": "e3a0fc1f-25a3-4962-b6bb-bf0bd0ac5b28",
   "metadata": {
    "execution": {
     "iopub.execute_input": "2024-08-27T13:17:07.121391Z",
     "iopub.status.busy": "2024-08-27T13:17:07.120116Z",
     "iopub.status.idle": "2024-08-27T13:17:07.132535Z",
     "shell.execute_reply": "2024-08-27T13:17:07.131224Z",
     "shell.execute_reply.started": "2024-08-27T13:17:07.121329Z"
    }
   },
   "outputs": [
    {
     "data": {
      "text/plain": [
       "'test fasdfa 1.a.daf'"
      ]
     },
     "execution_count": 116,
     "metadata": {},
     "output_type": "execute_result"
    }
   ],
   "source": [
    "def get_text_inside_brackets(text):\n",
    "    return text.split(']')[0].replace('[', \"\").replace(']', \"\")\n",
    "\n",
    "get_text_inside_brackets('[test fasdfa 1.a.daf]')"
   ]
  },
  {
   "cell_type": "code",
   "execution_count": 117,
   "id": "5e0bd72b-f5bd-4421-a968-f42cc9ec5aca",
   "metadata": {
    "execution": {
     "iopub.execute_input": "2024-08-27T13:17:09.410692Z",
     "iopub.status.busy": "2024-08-27T13:17:09.410026Z",
     "iopub.status.idle": "2024-08-27T13:17:14.021656Z",
     "shell.execute_reply": "2024-08-27T13:17:14.020725Z",
     "shell.execute_reply.started": "2024-08-27T13:17:09.410632Z"
    }
   },
   "outputs": [
    {
     "name": "stdout",
     "output_type": "stream",
     "text": [
      "ID:   e18a4107c02fb238f3bba557af7d9d9f \n",
      "LEN:  1536 \n",
      "META: {'text': \"FIRST DIVISION [ G.R. No. 254336, November 18, 2021 ] GM LORETO P. SEARES, JR., PETITIONER, VS. NATIONAL ELECTRIFICATION ADMINISTRATION BOARD, RESPONDENT.D E C I S I O N LAZARO-JAVIER, J.: The CaseThis Petition for Review assails the following dispositions of the Court of Appeals in CA G.R. SP No. 161126 entitled GM Loreto P. Seares, Jr. v. National Electrification Administration Board:Decision[1] dated June 15, 2020 affirming the administrative liabilities of petitioner Loreto P. Seares (Seares) for Grave Misconduct, Gross Negligence, Dishonesty, and Gross Incompetence in the performance of official duties as General Manager of the Abra Electric Cooperative, Inc. (ABRECO); andResolution[2] dated November 10, 2020 denying his motion for reconsideration, with modification.AntecedentsIn October 2007, petitioner got appointed as General Manager of ABRECO, an electric cooperative duly registered[3] with the Cooperative Development Authority (CDA).[4] Section 1(e) of ABRECO's by-laws enumer\", 'date_uploaded': datetime.datetime(2024, 8, 27, 13, 17, 9, 420670), 'title': 'FIRST DIVISION  G.R. No. 254336, November 18, 2021 ', 'tags': ['ABRECO', 'electric cooperatives', 'ABRECO board', 'NEA', 'PETITIONER'], 'url': 'https://elibrary.judiciary.gov.ph/thebookshelf/showdocs/1/66752'}\n"
     ]
    }
   ],
   "source": [
    "def prepare_for_pinecone(texts, urls, engine=ENGINE):\n",
    "    \"\"\"\n",
    "    Prepares data for pinecone: Converts texts to embeddings and adds metadata\n",
    "    \"\"\"\n",
    "    # Get the current date and time\n",
    "    now = datetime.now()\n",
    "\n",
    "    # Generate vector embeddings for each string in the input list,\n",
    "    # using the specified engine and post-processing method for chunked embeddings (average or maxpool)\n",
    "    embeddings = get_embeddings(texts, engine)\n",
    "\n",
    "    # Create tuples of (hash, embedding, metadata) for each input string and its corresponding vector embedding\n",
    "    # The convert_to_hash() function is used to generate a unique hash for each string \n",
    "    # and the datetime.now() function is used to generate the current date and time\n",
    "    data_for_pinecone = [\n",
    "        (\n",
    "            convert_to_hash(extract_text_data(url)),  # A unique ID for each string, generated using the convert_to_hash() function\n",
    "            embedding,  # The vector embedding of the string\n",
    "            dict(text=summarized_text[:1000],\n",
    "                 date_uploaded=now,\n",
    "                 title=get_text_inside_brackets(summarized_text),\n",
    "                 tags=get_keywords(summarized_text),\n",
    "                 url=url\n",
    "                )  # A dictionary of metadata, including the summarized text, current date and time, title, and url\n",
    "        )\n",
    "        for summarized_text, embedding, url in zip(texts, embeddings, urls)  # Iterate over each input string and its corresponding vector embedding\n",
    "    ]\n",
    "    \n",
    "    return data_for_pinecone\n",
    "\n",
    "\n",
    "# Test the function by preparing a list of text\n",
    "texts = [trial_text]\n",
    "urls = ['https://elibrary.judiciary.gov.ph/thebookshelf/showdocs/1/66752']\n",
    "_id, embedding, metadata = prepare_for_pinecone(texts, urls)[0]\n",
    "print('ID:  ',_id, '\\nLEN: ', len(embedding), '\\nMETA:', metadata)"
   ]
  },
  {
   "cell_type": "code",
   "execution_count": 118,
   "id": "f48752ce-e412-4257-81f7-1b4304590250",
   "metadata": {
    "execution": {
     "iopub.execute_input": "2024-08-27T13:17:16.869330Z",
     "iopub.status.busy": "2024-08-27T13:17:16.868642Z",
     "iopub.status.idle": "2024-08-27T13:17:16.883006Z",
     "shell.execute_reply": "2024-08-27T13:17:16.881816Z",
     "shell.execute_reply.started": "2024-08-27T13:17:16.869275Z"
    }
   },
   "outputs": [],
   "source": [
    "def upload_texts_to_pinecone(texts, namespace=NAMESPACE, batch_size=8, show_progress_bar=False, urls=None):\n",
    "    \"\"\"\n",
    "    Function to upload to data to pinecone.a\n",
    "    Returns total number of upserted data.\n",
    "    \"\"\"\n",
    "    # Call the prepare_for_pinecone function to prepare the input texts for indexing\n",
    "    total_upserted = 0\n",
    "    if not batch_size:\n",
    "        batch_size = len(texts)\n",
    "\n",
    "    _range = range(0, len(texts), batch_size)\n",
    "    for i in tqdm(_range) if show_progress_bar else _range:\n",
    "        text_batch = texts[i: i + batch_size]\n",
    "        if urls:\n",
    "            url_batch = urls[i: i + batch_size]\n",
    "            prepared_texts = prepare_for_pinecone(text_batch, urls=url_batch)\n",
    "        else:\n",
    "            prepared_texts = prepare_for_pinecone(text_batch, method=method)\n",
    "\n",
    "        # Use the upsert() method of the index object to upload the prepared texts to Pinecone\n",
    "        total_upserted += index.upsert(\n",
    "            vectors=prepared_texts,\n",
    "            namespace=namespace\n",
    "        )['upserted_count']\n",
    "\n",
    "    return total_upserted"
   ]
  },
  {
   "cell_type": "code",
   "execution_count": 119,
   "id": "bc628e97-a4cd-43aa-bdce-f8399cd7e8c7",
   "metadata": {
    "execution": {
     "iopub.execute_input": "2024-08-27T13:17:20.527924Z",
     "iopub.status.busy": "2024-08-27T13:17:20.527082Z",
     "iopub.status.idle": "2024-08-27T13:17:20.539102Z",
     "shell.execute_reply": "2024-08-27T13:17:20.537335Z",
     "shell.execute_reply.started": "2024-08-27T13:17:20.527826Z"
    }
   },
   "outputs": [],
   "source": [
    "def query_from_pinecone(query, top_k=3, include_metadata=True):\n",
    "    \"\"\"\n",
    "    Queries pinecone and returns the top results.\n",
    "    \"\"\"\n",
    "    # get embedding from THE SAME embedder as the documents\n",
    "    query_embedding = get_embedding(query, engine=ENGINE)\n",
    "\n",
    "    return index.query(\n",
    "      vector=query_embedding,\n",
    "      top_k=top_k,\n",
    "      namespace=NAMESPACE,\n",
    "      include_metadata=include_metadata   # gets the metadata (dates, text, etc)\n",
    "    ).get('matches')"
   ]
  },
  {
   "cell_type": "code",
   "execution_count": 26,
   "id": "2005e50b-d014-47c2-9c74-449ee42043e8",
   "metadata": {
    "execution": {
     "iopub.execute_input": "2024-08-24T08:12:00.394411Z",
     "iopub.status.busy": "2024-08-24T08:12:00.393507Z",
     "iopub.status.idle": "2024-08-24T08:12:00.935196Z",
     "shell.execute_reply": "2024-08-24T08:12:00.933706Z",
     "shell.execute_reply.started": "2024-08-24T08:12:00.394336Z"
    },
    "scrolled": true
   },
   "outputs": [
    {
     "name": "stdout",
     "output_type": "stream",
     "text": [
      "Document Count:  317\n",
      "URL:  https://elibrary.judiciary.gov.ph/thebookshelf/showdocs/1/33644\n"
     ]
    }
   ],
   "source": [
    "# Path to ZIP file containing JSON files\n",
    "ZIP_FILE_PATH = 'decisions.zip'\n",
    "\n",
    "# Read the JSONs from the ZIP file, display count and link to first document\n",
    "court_decisions = read_jsons_from_zip(ZIP_FILE_PATH)\n",
    "print(\"Document Count: \", len(court_decisions))\n",
    "print(\"URL: \", court_decisions[1]['url'])"
   ]
  },
  {
   "cell_type": "code",
   "execution_count": 27,
   "id": "e6d4e2c6-2a6c-42f5-a6df-43c2a731e18a",
   "metadata": {
    "execution": {
     "iopub.execute_input": "2024-08-24T08:12:00.938561Z",
     "iopub.status.busy": "2024-08-24T08:12:00.937398Z",
     "iopub.status.idle": "2024-08-24T08:12:02.659909Z",
     "shell.execute_reply": "2024-08-24T08:12:02.659044Z",
     "shell.execute_reply.started": "2024-08-24T08:12:00.938499Z"
    }
   },
   "outputs": [
    {
     "name": "stdout",
     "output_type": "stream",
     "text": [
      "ID:   31fa47ae665149ed7270b25d2f4de7ca \n",
      "LEN:  1536 \n",
      "META: {'text': '\\t\\t\\t\\n\\nTHIRD DIVISION\\n[ G.R. No. 113194, March 11, 1996 ]\\nNATIONAL POWER CORPORATION, PETITIONER, VS. COURT OF APPEALS AND MACAPANTON MANGONDATO, RESPONDENTS.\\r\\nD E C I S I O N\\n\\nPANGANIBAN, J.:\\nAt what point in time should the value of the land subject of expropriation be computed: at the date of the \"taking\" or the date of the filing of the complaint for eminent domain? This is the main question posed by the parties in this petition for review on certiorari assailing the Decision[1] of the Court of Appeals[2] which affirmed in toto the decision of the Regional Trial\\xa0 Court of Marawi\\xa0 City.[3] The dispositive portion of the decision of the trial court reads:[4]\"WHEREFORE, the prayer in the recovery case for Napocor’s surrender of the property is denied but Napocor is ordered to pay monthly rentals in the amount of P15,000.00 from 1978 up to July 1992 with 12% interest per annum from which sum the amount of P2,199,500.00 should be deducted; and the property is condemned in favor of Napocor', 'date_uploaded': datetime.datetime(2024, 8, 24, 8, 12, 0, 943129), 'title': '\\t\\t\\t\\n\\nTHIRD DIVISION\\n G.R. No. 113194, March 11, 1996 ', 'tags': ['Napocor', 'square meter', 'lower court', 'COURT', 'Marawi City'], 'url': 'https://elibrary.judiciary.gov.ph/thebookshelf/showdocs/1/33644'}\n"
     ]
    }
   ],
   "source": [
    "# Test the first item from court_decisions\n",
    "texts = [court_decisions[1]['text']]\n",
    "urls = [court_decisions[1]['url']]\n",
    "_id, embedding, metadata = prepare_for_pinecone(texts, urls=urls)[0]\n",
    "print('ID:  ',_id, '\\nLEN: ', len(embedding), '\\nMETA:', metadata)"
   ]
  },
  {
   "cell_type": "markdown",
   "id": "cf69b86d-f98d-492d-bf28-66984dcd4bc1",
   "metadata": {},
   "source": [
    "## **Upload Texts to Pinecone**"
   ]
  },
  {
   "cell_type": "markdown",
   "id": "5c750624-cad3-42d8-ba7f-a16e9215f345",
   "metadata": {
    "execution": {
     "iopub.execute_input": "2024-08-26T12:05:55.634172Z",
     "iopub.status.busy": "2024-08-26T12:05:55.633024Z",
     "iopub.status.idle": "2024-08-26T12:05:55.642514Z",
     "shell.execute_reply": "2024-08-26T12:05:55.641041Z",
     "shell.execute_reply.started": "2024-08-26T12:05:55.634096Z"
    }
   },
   "source": [
    "### **---WARNING: Rerunning this will Re-Insert Embeddings to Pinecone---**"
   ]
  },
  {
   "cell_type": "code",
   "execution_count": 29,
   "id": "09bc1615-4a39-4564-aed2-f0fd16c3b1b0",
   "metadata": {
    "execution": {
     "iopub.execute_input": "2024-08-24T08:12:02.665564Z",
     "iopub.status.busy": "2024-08-24T08:12:02.665379Z",
     "iopub.status.idle": "2024-08-24T08:19:16.748488Z",
     "shell.execute_reply": "2024-08-24T08:19:16.746799Z",
     "shell.execute_reply.started": "2024-08-24T08:12:02.665546Z"
    },
    "scrolled": true
   },
   "outputs": [
    {
     "name": "stderr",
     "output_type": "stream",
     "text": [
      "100%|██████████| 20/20 [07:14<00:00, 21.70s/it]\n"
     ]
    },
    {
     "data": {
      "text/plain": [
       "317"
      ]
     },
     "execution_count": 29,
     "metadata": {},
     "output_type": "execute_result"
    }
   ],
   "source": [
    "# # Upload 16 docs at a time\n",
    "# BATCH_SIZE = 16\n",
    "# # Call upload function\n",
    "# upload_texts_to_pinecone(\n",
    "#     texts=[decision['text'] for decision in court_decisions],\n",
    "#     batch_size=BATCH_SIZE,\n",
    "#     show_progress_bar=True,\n",
    "#     urls=[decision['url'] for decision in court_decisions]\n",
    "# )"
   ]
  },
  {
   "cell_type": "code",
   "execution_count": 30,
   "id": "d27bca3b-a5ca-455d-aeb4-3d88310101d5",
   "metadata": {
    "execution": {
     "iopub.execute_input": "2024-08-24T08:19:16.751229Z",
     "iopub.status.busy": "2024-08-24T08:19:16.750680Z",
     "iopub.status.idle": "2024-08-24T08:19:17.044298Z",
     "shell.execute_reply": "2024-08-24T08:19:17.042793Z",
     "shell.execute_reply.started": "2024-08-24T08:19:16.751179Z"
    }
   },
   "outputs": [
    {
     "data": {
      "text/plain": [
       "{'dimension': 1536,\n",
       " 'index_fullness': 0.0,\n",
       " 'namespaces': {'default': {'vector_count': 317}},\n",
       " 'total_vector_count': 317}"
      ]
     },
     "execution_count": 30,
     "metadata": {},
     "output_type": "execute_result"
    }
   ],
   "source": [
    "# Check stats to see if upsert was successful\n",
    "index.describe_index_stats()"
   ]
  },
  {
   "cell_type": "markdown",
   "id": "c8022e61-7271-4e19-8cd8-897d2f86dd22",
   "metadata": {},
   "source": [
    "## **Query and Test the Vector Database**"
   ]
  },
  {
   "cell_type": "code",
   "execution_count": 49,
   "id": "68d3608a-7969-40af-80c1-7002029a06f2",
   "metadata": {
    "execution": {
     "iopub.execute_input": "2024-08-26T12:30:38.395716Z",
     "iopub.status.busy": "2024-08-26T12:30:38.395054Z",
     "iopub.status.idle": "2024-08-26T12:30:42.294974Z",
     "shell.execute_reply": "2024-08-26T12:30:42.293350Z",
     "shell.execute_reply.started": "2024-08-26T12:30:38.395661Z"
    }
   },
   "outputs": [
    {
     "name": "stdout",
     "output_type": "stream",
     "text": [
      "https://elibrary.judiciary.gov.ph/thebookshelf/showdocs/1/53330 0.557927787 \t\t\t\n",
      "\n",
      "EN BANC\n",
      "[ G.R. No. 100152, March 31, 2000 ]\n",
      "ACEBEDO OPTICAL COMPANY, INC., PETITIONER, VS. THE HONORABLE COURT OF APPEALS, HON. MAMINDIARA MANGOTARA, IN HIS CAPACITY AS PRESIDING JUDGE OF THE RTC, 12TH JUDICIAL REGION, BR. 1, ILIGAN CITY; SAMAHANG OPTOMETRIST SA PILIPINAS-ILIGAN CITY CHAPTER, LEO T. CAHANAP, CITY LEGAL OFFICER, AND HON. CAMILO P. CABILI, CITY MAYOR OF ILIGAN, RESPONDENTS. D E C I S I O N\n",
      "\n",
      "PURISIMA, J.:\n",
      "At bar is a petition for review under Rule 45 of the Rules of Court seeking to nullify the dismissal by the Court of Appeals of the original petition for certiorari, prohibition and mandamus filed by the herein petitioner against the City Mayor and City Legal Officer of Iligan and the Samahang Optometrist sa Pilipinas - Iligan Chapter (SOPI, for brevity).The antecedent facts leading to the filing of the instant petition are as follows:Petitioner applied with the Office of the City Mayor of Iligan for a business permit. After consideration of petitioner's application\n",
      "6a83fe7b3dcf2f105f260b1f94cf0c85\n",
      "d41d8cd98f00b204e9800998ecf8427e\n",
      "https://elibrary.judiciary.gov.ph/thebookshelf/showdocs/1/66752 0.509071589 \t\t\t\n",
      "\n",
      "SECOND DIVISION\n",
      "[ A.C. No. 8959, October 07, 2020 ]\n",
      "RISIE G. BAYGAR, COMPLAINANT, VS. ATTY. CLARO MANUEL M. RIVERA, RESPONDENT.\n",
      "\n",
      "D E C I S I O N\n",
      "\n",
      "HERNANDO, J.:\n",
      "This administrative case arose from a Petition for Disbarment[1] filed by complainant Risie G. Baygar (Risie) against respondent Atty. Claro Manuel M. Rivera (Atty. Rivera) before the Office of the Bar Confidant of this Court. The case was referred to the Commission on Bar Discipline (CBD) of the Integrated Bar of the Philippines (IBP), and docketed as CBD Case No. 12-3391. The Factual Antecedents  In her Petition, Risie alleges that Atty. Rivera committed acts constitutive of a Violation of the Lawyer's Oath and the Code of Professional Responsibility (CPR).[2] At the time of the commission of the acts complained of, Atty. Rivera was the Municipal Administrator[3] of Binangonan, Rizal. In her Complaint, Risie alleged that in the morning of March 9, 2010, officers from the Business Permit and Licensing Office (BPLO) of Bi\n",
      "e18a4107c02fb238f3bba557af7d9d9f\n",
      "d41d8cd98f00b204e9800998ecf8427e\n",
      "https://elibrary.judiciary.gov.ph/thebookshelf/showdocs/1/41045 0.506750345 \t\t\t\n",
      "\n",
      "SECOND DIVISION\n",
      "[ G.R. NO. 162015, March 06, 2006 ]\n",
      "THE CITY GOVERNMENT OF QUEZON CITY, AND THE CITY TREASURER OF QUEZON CITY, DR. VICTOR B. ENRIGA, PETITIONERS, VS. BAYAN TELECOMMUNICATIONS, INC., RESPONDENT.\n",
      "D E C I S I O N\n",
      "\n",
      "GARCIA,  J.:\n",
      "Before the Court, on pure questions of law, is this petition for review on certiorari under Rule 45 of the Rules of Court to nullify and set aside the following issuances of the Regional Trial Court (RTC) of Quezon City, Branch 227, in its Civil Case No. Q-02-47292, to wit:1) Decision[1] dated June 6, 2003, declaring respondent Bayan Telecommunications, Inc. exempt from real estate taxation on its real properties located in Quezon City; and2) Order[2] dated December 30, 2003, denying petitioners' motion for reconsideration.The facts:Respondent Bayan Telecommunications, Inc.[3] (Bayantel) is a legislative franchise holder  under Republic Act (Rep. Act) No. 3259[4] to establish and operate radio stations for domestic telecommunications, radiophon\n",
      "4891a5da2620d219eb43250947657773\n",
      "d41d8cd98f00b204e9800998ecf8427e\n",
      "https://elibrary.judiciary.gov.ph/thebookshelf/showdocs/1/62725 0.502862453 \t\t\t\n",
      "\n",
      "THIRD DIVISION\n",
      "[ G.R. No. 188448, January 11, 2017 ]\n",
      "RODOLFO LAYGO AND WILLIE LAYGO, PETITIONERS, VS. MUNICIPAL MAYOR OF SOLANO, NUEVA VIZCAYA, RESPONDENT.\n",
      "D E C I S I O N\n",
      "\n",
      "JARDELEZA, J.:\n",
      "This is a Petition for Review on Certiorari[1] under Rule 45 of the Revised Rules of Court from the Decision[2] dated December 16, 2008 of the Court of Appeals (CA) in CA-G.R. SP No. 103922 and its Resolution[3] dated June 19, 2009.FactsIn July 2005, Aniza Bandrang (Bandrang) sent two letter-complaints[4] to then Municipal Mayor Santiago O. Dickson (Mayor Dickson) and the Sangguniang Bayan of Solano, Nueva Vizcaya, informing them of the illegal sublease she entered into with petitioners Rodolfo Laygo and Willie Laygo over Public Market Stalls No. 77-A, 77-B, 78-A, and 78-B, which petitioners leased from the Municipal Government. Bandrang claimed that petitioners told her to vacate the stalls, which they subsequently subleased to another. Bandrang expressed her willingness to testify against peti\n",
      "1ca0089addb663b0e70685f9829b257d\n",
      "d41d8cd98f00b204e9800998ecf8427e\n",
      "https://elibrary.judiciary.gov.ph/thebookshelf/showdocs/1/44175 0.489289522 \t\t\t\n",
      "\n",
      "FIRST DIVISION\n",
      "[ G.R. No. 165955, August 10, 2007 ]\n",
      "FILINVEST LAND, INC., PETITIONER, VS. FLOOD-AFFECTED HOMEOWNERS OF MERITVILLE ALLIANCE, REPRESENTED BY GABRIEL DELIM AND VICTOR RAQUIPISO, RESPONDENTS.\n",
      "D E C I S I O N\n",
      "\n",
      "SANDOVAL-GUTIERREZ, J.:\n",
      "For our resolution is the instant Petition for Review on Certiorari assailing the Decision[1] dated July 29, 2004 and Resolution[2] dated November 9, 2004 of the Court Appeals in CA-G.R. SP No. 77799.The undisputed facts are:Filinvest Land, Inc., petitioner, is a domestic corporation engaged in realty development business. Among its real estate development ventures is Meritville Townhouse Subdivision (Meritville), the first low-cost townhouse project in Pulang Lupa, Las Piñas City. The project site is located near the heavily-silted Naga River.Respondents herein, who purchased their housing units from petitioner, are fifty-four (54) of the residents of Meritville. Subsequently, the area around Meritville was developed. New subdivisions wer\n",
      "8606647e229038eb6b1dabfce9e5bf9e\n",
      "d41d8cd98f00b204e9800998ecf8427e\n",
      "https://elibrary.judiciary.gov.ph/thebookshelf/showdocs/1/43389 0.483104169 \t\t\t\n",
      "\n",
      "FIRST DIVISION\n",
      "[ G.R. NO. 167806, June 26, 2006 ]\n",
      "PHIL PHARMAWEALTH, INC., PETITIONER, VS. PHILIPPINE CHILDREN'S MEDICAL CENTER BIDS AND AWARDS COMMITTEE, BENJAMIN T. LIM, EMMA A. MARIANO, NENA U. CALDEO AND DAHLIA CARRIOS, RESPONDENTS.\n",
      "DECISION\n",
      "\n",
      "YNARES-SANTIAGO, J.:\n",
      "This petition for review under Rule 45 of the Rules of Court assails the December 20, 2004 Order[1] of the Regional Trial Court of Quezon City, Branch 217 in Civil Case No. Q-04-54416 which dismissed petitioner's Petition for Certiorari, Prohibition and Mandamus with Complaint for Damages, and the March 29, 2005 Order[2] denying petitioner's motion for reconsideration.Petitioner Phil Pharmawealth, Inc., (PPI for brevity), is a duly organized corporation licensed to import and distribute medical devices and finished pharmaceutical products.  Respondent Philippine Children's Medical Center Bids and Awards Committee (PCMC-BAC) was organized pursuant to Republic Act No. 9184,[3] also known as the Government Procurement R\n",
      "31d6b2cd317207d86295ccba71958342\n",
      "d41d8cd98f00b204e9800998ecf8427e\n",
      "https://elibrary.judiciary.gov.ph/thebookshelf/showdocs/1/66834 0.482778847 \t\t\t\n",
      "\n",
      "SECOND DIVISION\n",
      "[ A.C. No. 12877, December 07, 2020 ]\n",
      "\"IN RE: OMB-C-C-13-0104 ATTY. SOCRATES G. MARANAN V. FRANCISCO DOMAGOSO,\" COMPLAINANT, VS. ATTY. SOCRATES G. MARANAN, RESPONDENT.D E C I S I O N\n",
      "\n",
      "PERLAS-BERNABE, J.:\n",
      "The present administrative case stemmed from the 1st Indorsement[1] dated March 11, 2014 filed by Graft Investigation and Prosecution Officer II Anna Francesca M. Limbo of the Office of the Ombudsman (Ombudsman), referring its Resolution[2] in OMB-C-C-13-0104[3] to the Integrated Bar of the Philippines (IBP) in order to determine whether respondent Atty. Socrates G. Maranan (Atty. Maranan) committed a violation of the 2004 Rules on Notarial Practice[4] (2004 Notarial Rules) and/or Code of Professional Responsibility in relation to his notarization of the consultancy contracts subject of the said case.The FactsRecords bear out that Atty. Maranan filed a criminal complaint before the Ombudsman against then Vice Mayor Francisco \"Isko Moreno\" Domagoso (Domagoso) of the\n",
      "6c24e1815349d757937d58e5159cbe2a\n",
      "d41d8cd98f00b204e9800998ecf8427e\n",
      "https://elibrary.judiciary.gov.ph/thebookshelf/showdocs/1/40609 0.469726145 \t\t\t\n",
      "\n",
      "THIRD DIVISION\n",
      "[ G.R. NO. 173979, February 12, 2007 ]\n",
      "AUCTION IN MALINTA, INC.,  PETITIONER, VS. WARREN EMBES LUYABEN, RESPONDENT.  DECISION\n",
      "\n",
      "YNARES-SANTIAGO, J.:\n",
      "Assailed in this petition for review under Rule 45 of the Rules of Court is the May 31, 2005 Decision[1] of the Court of Appeals in CA-G.R. CV No. 78456, which held that venue was properly laid before the Regional Trial Court of Bulanao, Tabuk, Kalinga (Kalinga RTC), and reversed the trial court's September 3, 2002 Resolution[2] dismissing the complaint of respondent Warren Embes Lubayen in Civil Case No. 511, on the ground of improper venue.The facts show that on October 24, 2001, respondent, a resident of Magsaysay, Tabuk, Kalinga, filed with the Kalinga RTC a complaint[3] for damages against petitioner Auction in Malinta, Inc., a corporation with business address at Malinta, Valenzuela City, and engaged in public auction of heavy equipments, trucks, and assorted machineries.  Respondent alleged that in an auction cond\n",
      "b1962a6ea12fc05a05b50a0e9ca04c77\n",
      "d41d8cd98f00b204e9800998ecf8427e\n",
      "https://elibrary.judiciary.gov.ph/thebookshelf/showdocs/1/41795 0.46872735 \t\t\t\n",
      "\n",
      "FIRST DIVISION\n",
      "[ G.R. No. 166645, November 11, 2005 ]\n",
      "VICENTE D. HERCE, JR., VS. MUNICIPALITY OF CABUYAO, LAGUNA AND JOSE B. CARPENA, RESPONDENTS.D E C I S I O N\n",
      "\n",
      "YNARES-SANTIAGO, J.:\n",
      "This petition for review on certiorari under Rule 45 of the Rules of Court assails the August 16, 2004 Decision[1] of the Court of Appeals in CA-G.R. SP No. 79559 which affirmed the August 21, 1998 Order[2] of the Regional Trial Court of Biñan, Laguna, Branch 24, to reopen the decree of registration issued by the Land Registration Authority (LRA) in favor of petitioner; and its January 13, 2005 Resolution[3] denying the motion for reconsideration.The facts as found by the Court of Appeals are as follows:Sometime in the years 1956 and 1957, Juanita Carpena and company applied for the judicial registration of forty-four (44) parcels of land all situated in Cabuyao, Laguna, docketed as LRC Case No. N-438, LRC Record No. N-10514 with the then Court of First Instance of Laguna.After trial on the merits, t\n",
      "de749867a2514728a5d71a7212d659a6\n",
      "d41d8cd98f00b204e9800998ecf8427e\n",
      "https://elibrary.judiciary.gov.ph/thebookshelf/showdocs/1/68397 0.468634605 EN BANC\n",
      "[ G.R. No. 221823, June 21, 2022 ]\n",
      "REP. NICASIO M. ALIPING, JR., PETITIONER, VS. COURT OF APPEALS (FORMER 4TH DIVISION), BISHOP CARLITO J. CENZON, ARCHBISHOP SOCRATES B. VILLEGAS, SHEREE M. NOLASCO, MARIE A. BALANGUE, NONNETTE C. BENNETT, DR. TERESITA F. DE VENECIA, ANTONIO J. SUPREMIDO, JR., AND PASTOR GENER TANDOC, RESPONDENTS.D E C I S I O N\n",
      "\n",
      "ROSARIO, J.:\n",
      "At bench is a Petition for Review on Certiorari[1] under Rule 45 of the Rules of Court, assailing the Decision[2] dated 6 May 2015 and the Resolution[3] dated 29 October 2015 of the Court of Appeals (CA) in CA-G.R. SP No. 00029 W/K.On 8 July 1940, President Manuel L. Quezon issued Proclamation No. 581[4] creating the Santo Tomas Forest Reserve[5] in Tuba, Benguet. The reserve, which was constituted for purposes of forest protection, timber production and aesthetic preservation, consists of around 3,114 hectares[6] of mountains and forest lands striding five different barangays.[7] Nestled within the reserve are two of Bengu\n",
      "df24f208752c7d8188b2ec2ccb97b2d1\n",
      "d41d8cd98f00b204e9800998ecf8427e\n"
     ]
    }
   ],
   "source": [
    "query1 = \"\"\"In the city of Maribajo, a dispute arose in 1995 when a local electronics company, Visatron, sought to expand its business by opening a repair center. The city’s mayor, Carlos Fernandez, granted a business permit but imposed several conditions: Visatron could not provide diagnostic services, only sell accessories; the repair services must be outsourced to independent technicians; and advertisements were limited to basic product listings. The Maribajo Technicians Guild filed a complaint, arguing that these conditions unfairly restricted the scope of Visatron's business. Following a brief investigation by the city’s legal office, the mayor revoked Visatron’s permit. Visatron, contesting the decision on grounds of due process and claiming the conditions were arbitrary, escalated the matter to the local trial court, initiating a legal battle that questioned the boundaries of municipal regulatory powers.\"\"\"\n",
    "# Should match G.R. No. 100152, March 31, 2000\n",
    "# Document ranked 1 of 5\n",
    "matching_documents_query1 = query_from_pinecone(query1, top_k=10)\n",
    "for matching_doc in matching_documents_query1:\n",
    "    print(matching_doc['metadata']['url'], matching_doc['score'], matching_doc['metadata']['text'][-1000:])\n",
    "    print(matching_doc['id'])\n",
    "    print(convert_to_hash(extract_text_data(matching_doc['metadata']['url'])))"
   ]
  },
  {
   "cell_type": "code",
   "execution_count": 65,
   "id": "1a166d00-ab3b-4d53-8123-c0c18def571e",
   "metadata": {
    "execution": {
     "iopub.execute_input": "2024-08-24T13:28:28.687339Z",
     "iopub.status.busy": "2024-08-24T13:28:28.686615Z",
     "iopub.status.idle": "2024-08-24T13:28:30.889820Z",
     "shell.execute_reply": "2024-08-24T13:28:30.888711Z",
     "shell.execute_reply.started": "2024-08-24T13:28:28.687280Z"
    }
   },
   "outputs": [
    {
     "name": "stdout",
     "output_type": "stream",
     "text": [
      "https://elibrary.judiciary.gov.ph/thebookshelf/showdocs/1/66752 0.469231039  Business Permit and Licensing Office (BPLO) of Bi\n",
      "e18a4107c02fb238f3bba557af7d9d9f\n",
      "e18a4107c02fb238f3bba557af7d9d9f\n",
      "https://elibrary.judiciary.gov.ph/thebookshelf/showdocs/1/53330 0.455512136 t. After consideration of petitioner's application\n",
      "6a83fe7b3dcf2f105f260b1f94cf0c85\n",
      "6a83fe7b3dcf2f105f260b1f94cf0c85\n",
      "https://elibrary.judiciary.gov.ph/thebookshelf/showdocs/1/43389 0.440093875 184,[3] also known as the Government Procurement R\n",
      "31d6b2cd317207d86295ccba71958342\n",
      "31d6b2cd317207d86295ccba71958342\n",
      "https://elibrary.judiciary.gov.ph/thebookshelf/showdocs/1/66834 0.438738853 Francisco \"Isko Moreno\" Domagoso (Domagoso) of the\n",
      "6c24e1815349d757937d58e5159cbe2a\n",
      "6c24e1815349d757937d58e5159cbe2a\n",
      "https://elibrary.judiciary.gov.ph/thebookshelf/showdocs/1/41045 0.430683017 tations for domestic telecommunications, radiophon\n",
      "4891a5da2620d219eb43250947657773\n",
      "4891a5da2620d219eb43250947657773\n"
     ]
    }
   ],
   "source": [
    "# Tagalog version of query 1.\n",
    "# Should match G.R. No. 100152, March 31, 2000\n",
    "# Ranked number 2 of 5\n",
    "query2 = \"\"\"Sa lungsod ng Maribajo, nagkaroon ng alitan noong 1995 nang magplano ang lokal na kompanyang elektroniko, Visatron, na palawakin ang kanilang negosyo sa pamamagitan ng pagbubukas ng repair center. Ibinigay ng alkalde ng lungsod, si Carlos Fernandez, ang business permit ngunit may mga ipinataw na kundisyon: Hindi maaaring magbigay ang Visatron ng diagnostic services, kundi magbenta lamang ng mga accessories; ang mga serbisyo sa pagkukumpuni ay kailangang ipasa sa mga independent technicians; at limitado ang mga patalastas sa simpleng listahan ng mga produkto. Nagsampa ng reklamo ang Maribajo Technicians Guild, na nagsasabing hindi makatarungan ang mga kondisyong ito dahil pinipigilan nito ang lawak ng negosyo ng Visatron. Matapos ang isang maikling imbestigasyon ng legal office ng lungsod, binawi ng alkalde ang permit ng Visatron. Ipinaglaban ng Visatron ang desisyon sa kadahilanang walang tamang proseso at dahil arbitraryo umano ang mga kundisyon, kaya’t iniakyat nila ang usapin sa lokal na hukuman, kung saan naging sentro ng pagtatalo ang saklaw ng kapangyarihan ng munisipyo sa regulasyon.\"\"\"\n",
    "docs_for_pongo = query_from_pinecone(query2, top_k=5)\n",
    "for matching_doc in docs_for_pongo:\n",
    "    print(matching_doc['metadata']['url'], matching_doc['score'], matching_doc['metadata']['text'][-50:])\n",
    "    print(matching_doc['id'])\n",
    "    print(convert_to_hash(extract_text_data(matching_doc['metadata']['url'])))"
   ]
  },
  {
   "cell_type": "code",
   "execution_count": 66,
   "id": "a9c14ddd-5d40-42cd-b861-126ce27b8746",
   "metadata": {
    "execution": {
     "iopub.execute_input": "2024-08-24T13:32:01.918884Z",
     "iopub.status.busy": "2024-08-24T13:32:01.918073Z",
     "iopub.status.idle": "2024-08-24T13:32:04.294690Z",
     "shell.execute_reply": "2024-08-24T13:32:04.293277Z",
     "shell.execute_reply.started": "2024-08-24T13:32:01.918822Z"
    }
   },
   "outputs": [
    {
     "name": "stdout",
     "output_type": "stream",
     "text": [
      "https://elibrary.judiciary.gov.ph/thebookshelf/showdocs/1/68046 0.658818483\n",
      "c76a901699929dc9b81600d988e54d90\n",
      "c76a901699929dc9b81600d988e54d90\n",
      "https://elibrary.judiciary.gov.ph/thebookshelf/showdocs/1/68975 0.64722842\n",
      "25c1aa79b9069cc47f4df60199300550\n",
      "25c1aa79b9069cc47f4df60199300550\n",
      "https://elibrary.judiciary.gov.ph/thebookshelf/showdocs/1/39133 0.643476844\n",
      "43daf184b92865d6471619c7d7cdf3ea\n",
      "43daf184b92865d6471619c7d7cdf3ea\n"
     ]
    }
   ],
   "source": [
    "query3=\"\"\"In the city of Legaspi, a disbarment case was filed in 2018 against Atty. Ernesto Rivera. The complainant, Teresa Cruz, accused Atty. Rivera of unlawfully acquiring a property subject to ongoing litigation and representing conflicting parties in a legal dispute involving her family's estate. Atty. Rivera allegedly convinced both parties to sign a compromise agreement while concealing vital information that ultimately led to a significant loss for the complainant’s family. Despite multiple appeals and motions, the complainant could not recover their rightful share of the property. The Supreme Court, after a thorough investigation, found Atty. Rivera guilty of multiple violations and suspended him from practicing law for two years.\"\"\"\n",
    "\n",
    "# Should match A.C. No. 10511, Jan, 2022\n",
    "# Ranked number 1 of 3\n",
    "matching_documents = query_from_pinecone(query3, top_k=3)\n",
    "for matching_doc in matching_documents:\n",
    "    print(matching_doc['metadata']['url'], matching_doc['score'])\n",
    "    print(matching_doc['id'])\n",
    "    print(convert_to_hash(extract_text_data(matching_doc['metadata']['url'])))"
   ]
  },
  {
   "cell_type": "code",
   "execution_count": 67,
   "id": "893237c1-e3e7-41c6-96ba-b94f1da36f1b",
   "metadata": {
    "execution": {
     "iopub.execute_input": "2024-08-24T13:32:19.390094Z",
     "iopub.status.busy": "2024-08-24T13:32:19.389299Z",
     "iopub.status.idle": "2024-08-24T13:32:21.404807Z",
     "shell.execute_reply": "2024-08-24T13:32:21.403122Z",
     "shell.execute_reply.started": "2024-08-24T13:32:19.390031Z"
    }
   },
   "outputs": [
    {
     "name": "stdout",
     "output_type": "stream",
     "text": [
      "https://elibrary.judiciary.gov.ph/thebookshelf/showdocs/1/68046 0.658818483\n",
      "c76a901699929dc9b81600d988e54d90\n",
      "c76a901699929dc9b81600d988e54d90\n",
      "https://elibrary.judiciary.gov.ph/thebookshelf/showdocs/1/68975 0.64722842\n",
      "25c1aa79b9069cc47f4df60199300550\n",
      "25c1aa79b9069cc47f4df60199300550\n",
      "https://elibrary.judiciary.gov.ph/thebookshelf/showdocs/1/39133 0.643476844\n",
      "43daf184b92865d6471619c7d7cdf3ea\n",
      "43daf184b92865d6471619c7d7cdf3ea\n"
     ]
    }
   ],
   "source": [
    "# Tagalog version of query 3\n",
    "query4=\"\"\"Sa lungsod ng Legaspi, isang kaso ng disbarment ang isinampa noong 2018 laban kay Atty. Ernesto Rivera. Inakusahan siya ni Teresa Cruz ng ilegal na pagkuha ng ari-ariang sangkot sa isang kasong legal at ng pagrepresenta sa magkatunggaling partido sa isang alitan tungkol sa mana ng pamilya. Ipinilit umano ni Atty. Rivera na pumirma sa isang compromise agreement ang magkabilang panig habang itinatago ang mahahalagang impormasyon na nagdulot ng malaking pagkalugi sa pamilya ng nagreklamo. Sa kabila ng ilang apela at mosyon, nabigo ang nagrereklamo na mabawi ang nararapat nilang bahagi sa ari-arian. Matapos ang masusing imbestigasyon, napatunayan ng Korte Suprema na nagkasala si Atty. Rivera sa maraming paglabag at sinuspinde siya sa pag-aabogado nang dalawang taon.\"\"\"\n",
    "# Should match A.C. No. 10511, Jan, 2022\n",
    "# Ranked number 1 of 3\n",
    "matching_documents = query_from_pinecone(query3, top_k=3)\n",
    "for matching_doc in matching_documents:\n",
    "    print(matching_doc['metadata']['url'], matching_doc['score'])\n",
    "    print(matching_doc['id'])\n",
    "    print(convert_to_hash(extract_text_data(matching_doc['metadata']['url'])))"
   ]
  },
  {
   "cell_type": "code",
   "execution_count": 51,
   "id": "79a83219-f06f-44c5-aa72-e4e0274dee5d",
   "metadata": {
    "execution": {
     "iopub.execute_input": "2024-08-26T13:03:44.436084Z",
     "iopub.status.busy": "2024-08-26T13:03:44.435401Z",
     "iopub.status.idle": "2024-08-26T13:03:46.893672Z",
     "shell.execute_reply": "2024-08-26T13:03:46.892089Z",
     "shell.execute_reply.started": "2024-08-26T13:03:44.436020Z"
    }
   },
   "outputs": [
    {
     "name": "stdout",
     "output_type": "stream",
     "text": [
      "https://elibrary.judiciary.gov.ph/thebookshelf/showdocs/1/68284 0.641882062\n",
      "SECOND DIVISION\n",
      "[ G.R. No. 254381, February 14, 2022 ]\n",
      "PEOPLE OF THE PHILIPPINES, PLAINTIFF-APPELLEE, VS. GILBERT ALEGRE Y NAZARAL, ACCUSED-APPELLANT.D E C I S I O N\n",
      "\n",
      "HERNANDO, J.:\n",
      "This appeal[1] seeks to reverse and set aside the January 30, 2020 Decision[2] of the Court of Appeals (CA) in CA-G.R. CR-HC No. 12447, which affirmed the November 13, 2018 Decision[3] of the Regional Trial Court (RTC) of Valenzuela City, Branch 75, in Criminal Case No. 179-V-14 finding accused-­appellant Gilbert Aleg\n",
      "https://elibrary.judiciary.gov.ph/thebookshelf/showdocs/1/37642 0.635264456\n",
      "\t\t\t\n",
      "\n",
      "THIRD DIVISION\n",
      "[ G.R. No. 127573, May 12, 1999 ]\n",
      "PEOPLE OF THE PHILIPPINES, PLAINTIFF-APPELLEE, VS. JOSE SILVESTRE Y CRUZ, ACCUSED-APPELLANT. D E C I S I O N\n",
      "\n",
      "GONZAGA-REYES,\n",
      "J.:\n",
      "This is an appeal from the decision[1] of the Regional Trial Court (RTC) of Malabon, Branch 72, dated August 7, 1996, finding the accused-appellant Jose Silvestre y Cruz alias Jojo Bungo guilty beyond reasonable doubt of the crime of murder in Criminal Case No. 16579-MN.The accused, Jose Silvestre y Cruz alias Jojo\n",
      "https://elibrary.judiciary.gov.ph/thebookshelf/showdocs/1/37170 0.623494446\n",
      "\t\t\t\n",
      "\n",
      "EN BANC\n",
      "[ G.R. No. 127659, February 24, 1999 ]\n",
      "THE PEOPLE OF THE PHILIPPINES, PLAINTIFF-APPELLEE, VS. NICOLAS BAHENTING, ALIAS “COLAS,” ACCUSED-APPELLANT. D E C I S I O N\n",
      "\n",
      "MENDOZA, J.:\n",
      "This is an appeal from the decision,[1] dated October 18, 1996, of the Regional Trial Court of Barili, Cebu (Branch 60), finding accused-appellant Nicolas Bahenting guilty beyond reasonable doubt of murder and sentencing him to death and to indemnify the surviving spouse of Remegio Rivera in the amount of P50\n",
      "https://elibrary.judiciary.gov.ph/thebookshelf/showdocs/1/61066 0.614185035\n",
      "\t\t\t\n",
      "\n",
      "FIRST DIVISION\n",
      "[ G.R. No. 205228, July 15, 2015 ]\n",
      "PEOPLE OF THE PHILIPPINES, PLAINTIFF AND APPELLEE, VS. ROLLY ADRIANO Y SAMSON, LEAN ADRIANO @ DENDEN, ABBA SANTIAGO Y ADRIANO, JOHN DOE AND PETER DOE, ACCUSED, ROLLY ADRIANO Y SAMSON, ACCUSED-APPELLANT.\n",
      "D E C I S I O N\n",
      "\n",
      "PEREZ, J.:\n",
      "This is an appeal of the Decision[1] of the Court of Appeals dated 30 May 2011 in CA-G.R. CR-HC No. 04028, which affirmed the Decision[2] of the Regional Trial Court dated 7 April 2009, convicting accused-appellan\n",
      "https://elibrary.judiciary.gov.ph/thebookshelf/showdocs/1/37528 0.613359511\n",
      "\t\t\t\n",
      "\n",
      "EN BANC\n",
      "[ G.R. No. 123982, March 15, 1999 ]\n",
      "PEOPLE OF THE PHILIPPINES, PLAINTIFF-APPELLEE, VS. PO2 LEONARDO K. JOYNO, DEFENDANT-APPELLANT. D E C I S I O N\n",
      "\n",
      "GONZAGA-REYES, J.:\n",
      "For automatic review is the Decision dated December 29, 1995 of the Regional Trial Court of Sindangan, Zamboanga del Norte, Branch 11 in Criminal Case No. S-2406 finding accused-appellant Leonardo K. Joyno guilty beyond reasonable doubt of the crime of Parricide and sentencing him to suffer the penalty of death and to \n",
      "https://elibrary.judiciary.gov.ph/thebookshelf/showdocs/1/52174 0.602480233\n",
      "\t\t\t\n",
      "\n",
      "FIRST DIVISION\n",
      "[ G.R. No. 130627 and Nos. 139477-78, May 31, 2001 ]\n",
      "PEOPLE OF THE PHILIPPINES, PLAINTIFF-APPELLEE, VS. AGUEDA\n",
      "T. ALBA, ADRIANO GORTAYO, MARIBEL GORTAYO, SATURNINO REMBULAT JR., DAVID\n",
      "KINGKING, ALICIA KINGKING, FRANCISCO ALOVERA, DANILO TOLIS, RONNIE GONZAGA,\n",
      "CLAUDIO ASPERA, AND JOHN DOES, ACCUSED.\n",
      "\n",
      "AGUEDA T. ALBA,\n",
      "ADRIANO GORTAYO, SATURNINO REMBULAT, JR., FRANCISCO ALOVERA AND RONNIE GONZAGA,\n",
      "ACCUSED-APPELLANTS.\n",
      "D E C I S I O N\n",
      "\n",
      "PARDO,\n",
      "J.:\n",
      "For their feet run to evil\n",
      "https://elibrary.judiciary.gov.ph/thebookshelf/showdocs/1/47308 0.597650826\n",
      "\t\t\t\n",
      "\n",
      "EN BANC\n",
      "[ G.R. No. 139879, May 08, 2003 ]\n",
      "PEOPLE OF THE PHILIPPINES, APPELLEE, VS. GABRIEL ANNIBONG Y INGGAO, APPELLANT.D E C I S I O N\n",
      "\n",
      "QUISUMBING, J.:\n",
      "For automatic review is the decision[1] of the Regional Trial Court of Apayao, Branch 26, in Criminal Case No. 9-98, convicting appellant Gabriel Annibong of murder and sentencing him to death.The information[2] filed by the Provincial Prosecutor reads:That on or about February 13, 1998 at around 2:00 o'clock P.M. at barangay Do×¡a Loreta, \n",
      "https://elibrary.judiciary.gov.ph/thebookshelf/showdocs/1/50516 0.597473919\n",
      "\t\t\t\n",
      "\n",
      "EN BANC\n",
      "[ G.R. No. 136145, March 08, 2002 ]\n",
      "PEOPLE OF THE PHILIPPINES, PLAINTIFF-APPELLEE, VS. RUBEN LOGALADA BOQUILA, ACCUSED-APPELLANT.DECISION\n",
      "\n",
      "PUNO, J.:\n",
      "On October 8, 1996, around 3:30 in the morning at Don Gervacio Quijada St., Guadalupe, Cebu City, Cresencio Demol, a taxi driver was shot inside his taxicab.  Allegedly, Demol's wristwatch was also stolen.  Three days later, Ruben Logalada Boquila, a security guard, went to the police and confessed to the commission of the offense.  Boq\n",
      "https://elibrary.judiciary.gov.ph/thebookshelf/showdocs/1/35802 0.594705045\n",
      "\t\t\t\n",
      "\n",
      "EN BANC\n",
      "[ G.R. Nos. 131022, 146048 & 146049, December 14, 2000 ]\n",
      "THE PEOPLE OF THE PHILIPPINES, PLAINTIFF-APPELLEE, VS. ROGER ANIVADO AND GEORGE CARDENAS, ACCUSED-APPELLANTS.D E C I S I O N\n",
      "\n",
      "MENDOZA, J.:\n",
      "These cases are here on automatic review from the decision,[1] dated October 16, 1997, of the Regional Trial Court, Branch 54, Alaminos, Pangasinan, finding accused-appellants Roger Anivado and George Cardenas guilty of murder and aggravated illegal possession of firearm and sentencing each\n",
      "https://elibrary.judiciary.gov.ph/thebookshelf/showdocs/1/41538 0.593931377\n",
      "\t\t\t\n",
      "\n",
      "SECOND DIVISION\n",
      "[ G.R. NO. 173243, March 23, 2007 ]\n",
      "THE PEOPLE OF THE PHILIPPINES, APPELLEE, VS. ARTEMIO CASELA AND FELIBERT   INSIGNE, ACCUSED, ARTEMIO\n",
      " CASELA, ACCUSED-APPELLANT.D E C I S I O N\n",
      "\n",
      "TINGA, J.:\n",
      "Appellant Artemio Casela (Casela) assails the Decision[1] of the Court of Appeals (CA) dated 15 March 2006, affirming with modification the Decision[2] of the Regional Trial Court (RTC), Branch 13 of Carigara, Leyte,[3] dated 10 February 2004, finding him guilty beyond reasonable doubt\n"
     ]
    }
   ],
   "source": [
    "# Test Data for FP Presentation\n",
    "query5=\"\"\"In Barangay San Miguel, Iloilo, Mateo Robles, a security guard at a local factory, was accused of killing his co-worker, Tomas Reyes, following a heated argument. On the evening of January 15, 2019, Robles visited the factory, allegedly to check in with his colleagues. According to witnesses, Robles confronted Reyes, accusing him of spreading rumors that led to his suspension. The argument escalated when Reyes responded with insults. Enraged, Robles drew a revolver and shot Reyes in the chest. As Reyes fell to the ground, Robles approached and fired another shot at his head before fleeing the scene. The trial court initially convicted Robles of murder, citing treachery as the qualifying circumstance, as Reyes had no chance to defend himself. However, during the appeal, the defense argued that the incident was a spur-of-the-moment action resulting from provocation rather than a planned assault. The appellate court agreed, reducing the charge to homicide. The court noted that treachery could not be established since the confrontation was spontaneous and arose from an argument. Robles was sentenced to 10 years in prison and ordered to pay damages to the victim's family.\"\"\"\n",
    "# Should match G.R. No. 254381, February 14, 2022\n",
    "# https://elibrary.judiciary.gov.ph/thebookshelf/showdocs/1/68284\n",
    "# Ranked number 1 of 10\n",
    "matching_documents = query_from_pinecone(query5, top_k=10)\n",
    "for matching_doc in matching_documents:\n",
    "    print(matching_doc['metadata']['url'], matching_doc['score'])\n",
    "    print(matching_doc['metadata']['text'][:500])\n",
    "    # print(convert_to_hash(extract_text_data(matching_doc['metadata']['url'])))"
   ]
  },
  {
   "cell_type": "code",
   "execution_count": 68,
   "id": "73eb3ba8-03ed-4c22-84e9-123e610093f5",
   "metadata": {
    "execution": {
     "iopub.execute_input": "2024-08-26T14:15:26.128483Z",
     "iopub.status.busy": "2024-08-26T14:15:26.127515Z",
     "iopub.status.idle": "2024-08-26T14:15:29.073470Z",
     "shell.execute_reply": "2024-08-26T14:15:29.072373Z",
     "shell.execute_reply.started": "2024-08-26T14:15:26.128426Z"
    }
   },
   "outputs": [
    {
     "name": "stdout",
     "output_type": "stream",
     "text": [
      "https://elibrary.judiciary.gov.ph/thebookshelf/showdocs/1/67922 0.603303671\n",
      "FIRST DIVISION\n",
      "[ G.R. No. 241360•, July 06, 2021 ]\n",
      "MICHELLE* TAY, PETITIONER, VS. APEX 8 STUDIOS, INC. AND CRISTINA** MARTINEZ, RESPONDENTS.\n",
      "\n",
      "D E C I S I O N\n",
      "\n",
      "CAGUIOA, J:\n",
      "This is a Petition for Review on Certiorari[1] (Petition) under Rule 45 of the Rules of Court filed by Michelle Tay (petitioner) assailing the Court of Appeals (CA) Decision[2] dated February 6, 2018 and Resolution[3] dated June 26, 2018 in CA-G.R. SP No. 141218.  The Antecedent Facts  Petitioner was hired by Apex 8 Studios, \n",
      "https://elibrary.judiciary.gov.ph/thebookshelf/showdocs/1/43877 0.555677295\n",
      "\t\t\t\n",
      "\n",
      "THIRD DIVISION\n",
      "[ G.R. No. 171764, June 08, 2007 ]\n",
      "ALBERT O. TINIO, PETITIONER, VS. COURT OF APPEALS, SMART COMMUNICATIONS, INC., ALEX O. CAEG AND ANASTACIO MARTIREZ, RESPONDENTS.DECISION\n",
      "\n",
      "YNARES-SANTIAGO, J.:\n",
      "This petition for review on certiorari seeks to annul and set aside the Decision and Resolution of the Court of Appeals dated October 25, 2005[1] and March 2, 2006,[2] respectively, in CA-G.R. SP No. 90677 which reversed and set aside the Decision of the National Labor Relations Commis\n",
      "https://elibrary.judiciary.gov.ph/thebookshelf/showdocs/1/56657 0.53589642\n",
      "\t\t\t\n",
      "\n",
      "EN BANC\n",
      "[ A.M. No. P-12-3070 [Formerly A.M. OCA IPI No. 10-3327-P], March 11, 2014 ]\n",
      "CIVIL SERVICE COMMISSION, COMPLAINANT, VS. NENITA C. LONGOS, CLERK II, MUNICIPAL CIRCUIT TRIAL COURT, DEL CARMEN-NUMANCIA-SAN ISIDRO-SAN BENITO, SURIGAO DEL NORTE, RESPONDENT.R E S O L U T I O N\n",
      "\n",
      "PER CURIAM:\n",
      "At bench is an administrative case involving respondent Nenita C. Longos, employed as Clerk II of the Municipal Circuit Trial Court, Del Carmen-Numancia-San Isidro-San Benito, Surigao del Norte. The Off\n",
      "https://elibrary.judiciary.gov.ph/thebookshelf/showdocs/1/61931 0.53555\n",
      "\t\t\t\n",
      "\n",
      "THIRD DIVISION\n",
      "[ G.R. No. 194119, April 13, 2016 ]\n",
      "SONIA F. MARIANO, PETITIONER, VS. MARTINEZ MEMORIAL COLLEGES, INC., AND/OR FERDINAND A. MARTINEZ/ DR. ELIZABETH M. DEL RIO, RESPONDENTS.D E C I S I O N\n",
      "\n",
      "REYES, J.:\n",
      "This is a Petition for Review on Certiorari[1] under Rule 45 of the Rules of Court filed by Sonia F. Mariano (petitioner) seeking to annul and set aside the Decision[2] dated July 19, 2010 of the Court of Appeals (CA) in CA-G.R. SP No. 110663. The CA affirmed the Decision[3] date\n",
      "https://elibrary.judiciary.gov.ph/thebookshelf/showdocs/1/26312 0.534718275\n",
      "\t\t\t\n",
      "\n",
      "THIRD DIVISION\n",
      "[ G.R. No. 164181, September 14, 2011 ]\n",
      "NISSAN MOTORS PHILS., INC., PETITIONER, VS. VICTORINO ANGELO, RESPONDENT.D E C I S I O N\n",
      "\n",
      "PERALTA, J.:\n",
      "This is to resolve the Petition for Review[1] dated July 10, 2004 of petitioner Nissan Motors Phils., Inc. (Nissan) assailing the Decision[2] dated March 24, 2004 of the Court of Appeals (CA) and the latter's Resolution[3] dated June 9, 2004.The records contain the following antecedent facts:Respondent Victorino Angelo was employed by \n",
      "https://elibrary.judiciary.gov.ph/thebookshelf/showdocs/1/45526 0.533378541\n",
      "\t\t\t\n",
      "\n",
      "FIRST DIVISION\n",
      "[ G.R. No. 146621, July 30, 2004 ]\n",
      "RENE P. VALIAO, PETITIONER, VS. HON. COURT OF APPEALS, NATIONAL LABOR RELATIONS COMMISSION-FOURTH DIVISION (CEBU CITY), WEST NEGROS COLLEGE, RESPONDENTS.\n",
      "\n",
      "D E C I S I O N\n",
      "\n",
      "QUISUMBING, J.:\n",
      "For review on certiorari is the Decision[1] dated August 22, 2000 of the Court of Appeals in CA-G.R. SP No. 55133, and its Resolution[2] dated November 22, 2000 denying the motion for reconsideration. The Court of Appeals dismissed the petition for certio\n",
      "https://elibrary.judiciary.gov.ph/thebookshelf/showdocs/1/63157 0.533287227\n",
      "\t\t\t\n",
      "\n",
      "EN BANC\n",
      "[ A.M. No. SB-17-24-P [Formerly A.M. No. 14-12-07-SB], July 11, 2017 ]\n",
      "SECURITY AND SHERIFF DIVISION, SANDIGANBAYAN, COMPLAINANT, VS. RONALD ALLAN GOLE R. CRUZ, SECURITY GUARD I, SECURITY AND SHERIFF DIVISION, RESPONDENT.R E S O L U T I O N\n",
      "\n",
      "PER CURIAM:\n",
      "Before this Court is an administrative case against Ronald Allan Gole R. Cruz (respondent Cruz), Security Guard (SG) I of the Sandiganbayan, for improper solicitation.THE FACTSOn 5 December 2014, Sandiganbayan Presiding Justice Ampar\n",
      "https://elibrary.judiciary.gov.ph/thebookshelf/showdocs/1/47226 0.532813966\n",
      "\t\t\t\n",
      "\n",
      "THIRD DIVISION\n",
      "[ G.R. No. 145417, December 11, 2003 ]\n",
      "FLORENCIO M. DE LA CRUZ, JR., PETITIONER, VS. NATIONAL LABOR RELATIONS COMMISSION (4TH DIVISION) SHEMBERG MARKETING CORPORATION AND ERNESTO U. DACAY, JR., RESPONDENTS.D E C I S I O N\n",
      "\n",
      "CORONA, J.:\n",
      "Before us is a petition for review on certiorari seeking to set aside the decision[1] of the Court of Appeals dated July 11, 2000, affirming with modification the two resolutions of the National Labor Relations Commission (NLRC) dated July 9, 19\n",
      "https://elibrary.judiciary.gov.ph/thebookshelf/showdocs/1/68132 0.52660358\n",
      "THIRD DIVISION\n",
      "[ G.R. No. 225660, October 06, 2021 ]\n",
      "DIONISIO S. DE CILLO, PETITIONER, VS. MOUNTAIN STAR TEXTILE MILLS, INC./ FIRST UNITY TEXTILE MILLS, INC., AND RICHARD C. TAN, RESPONDENTS.DECISION\n",
      "\n",
      "LEONEN, J.:\n",
      "Despite the existence of a valid cause for disciplinary action, dismissal should not be imposed if it is too severe a penalty, especially if the erring employee has been in the service of their employer for a considerable length of time.This resolves a Petition for Review[1] on Certiora\n",
      "https://elibrary.judiciary.gov.ph/thebookshelf/showdocs/1/43758 0.526497304\n",
      "\t\t\t\n",
      "\n",
      "FIRST DIVISION\n",
      "[ G.R. NO. 160368, March 31, 2005 ]\n",
      "PHILIPPINE COMMERCIAL INDUSTRIAL BANK, PETITIONER, VS. PEDRO L. CABRERA, RESPONDENT.\n",
      "\n",
      "D E C I S I O N\n",
      "\n",
      "DAVIDE, JR., C.J.:\n",
      "This case stemmed from two anomalous withdrawals totalling P202,000 against the savings account of one Philip Inocencio, a depositor of the Sixto Antonio-Pasig Branch of petitioner Philippine Commercial Industrial Bank.  Such anomaly was imputed on respondent Pedro L. Cabrera, the Assistant Manager-Service Head of that\n"
     ]
    }
   ],
   "source": [
    "# Test Data #2 for FP Presentation\n",
    "query6=\"\"\"In Barangay Santa Cruz, Davao City, Amanda Cruz was employed as a human resources manager by Horizon Media Solutions, Inc. (Horizon), under the supervision of CEO Roberto Dela Peña. Over time, Cruz received several Notices to Explain (NTEs) due to alleged misconduct, including unprofessional behavior, confrontational interactions with staff, and failure to follow company protocols. Specifically, one NTE detailed how Cruz allegedly berated an employee during a staff meeting, throwing a folder at him and using derogatory language. Another NTE accused Cruz of failing to report absences properly and leaving the office without authorization.\n",
    "Tensions further escalated when Cruz was implicated in an incident where company equipment was reported missing. It was claimed that she authorized a technician to take a laptop home without proper clearance. Horizon conducted an administrative investigation and, citing loss of trust and confidence, placed Cruz under preventive suspension, which was later extended without pay. Cruz argued that the charges were unfounded and rooted in personal vendettas orchestrated by Dela Peña and other executives, triggered by a critical social media post made by Cruz’s sibling.\n",
    "After the preventive suspension, Horizon terminated Cruz’s employment, citing serious misconduct, gross neglect of duties, and breach of trust. In response, Cruz filed a complaint for illegal dismissal, claiming that the accusations were fabricated and that the company failed to follow due process. Cruz sought backwages, separation pay, and damages. The Labor Arbiter initially sided with Horizon, finding the dismissal justified due to her abrasive behavior and misconduct. However, Cruz appealed the decision, asserting that the evidence was insufficient and primarily based on hearsay and unsigned reports from colleagues.\n",
    "The case was brought to the National Labor Relations Commission (NLRC), which examined whether the preventive suspension and dismissal were supported by substantial evidence and whether due process was observed in the termination process.\"\"\"\n",
    "# Should match G.R. No. 241360, July 2021\n",
    "# https://elibrary.judiciary.gov.ph/thebookshelf/showdocs/1/67922\n",
    "# Ranked number 1 of 10\n",
    "matching_documents = query_from_pinecone(query6, top_k=10)\n",
    "for matching_doc in matching_documents:\n",
    "    print(matching_doc['metadata']['url'], matching_doc['score'])\n",
    "    print(matching_doc['metadata']['text'][:500])\n",
    "    # print(convert_to_hash(extract_text_data(matching_doc['metadata']['url'])))"
   ]
  },
  {
   "cell_type": "markdown",
   "id": "4101f7be-1169-4fd3-b16f-836598493119",
   "metadata": {},
   "source": [
    "### **--Synthetic Test Data Generation**"
   ]
  },
  {
   "cell_type": "code",
   "execution_count": 35,
   "id": "357a3b56-411b-416e-8b28-f170fbbf8b2b",
   "metadata": {
    "execution": {
     "iopub.execute_input": "2024-08-24T08:19:19.935007Z",
     "iopub.status.busy": "2024-08-24T08:19:19.934425Z",
     "iopub.status.idle": "2024-08-24T08:19:25.904737Z",
     "shell.execute_reply": "2024-08-24T08:19:25.902535Z",
     "shell.execute_reply.started": "2024-08-24T08:19:19.934953Z"
    }
   },
   "outputs": [
    {
     "name": "stdout",
     "output_type": "stream",
     "text": [
      "Defaulting to user installation because normal site-packages is not writeable\n",
      "Requirement already satisfied: openai in /home/msds-pt2025a/egallarde/.local/lib/python3.11/site-packages (1.42.0)\n",
      "Requirement already satisfied: anyio<5,>=3.5.0 in /opt/conda/lib/python3.11/site-packages (from openai) (4.3.0)\n",
      "Requirement already satisfied: distro<2,>=1.7.0 in /opt/conda/lib/python3.11/site-packages (from openai) (1.9.0)\n",
      "Requirement already satisfied: httpx<1,>=0.23.0 in /opt/conda/lib/python3.11/site-packages (from openai) (0.27.0)\n",
      "Requirement already satisfied: jiter<1,>=0.4.0 in /home/msds-pt2025a/egallarde/.local/lib/python3.11/site-packages (from openai) (0.5.0)\n",
      "Requirement already satisfied: pydantic<3,>=1.9.0 in /opt/conda/lib/python3.11/site-packages (from openai) (2.6.4)\n",
      "Requirement already satisfied: sniffio in /opt/conda/lib/python3.11/site-packages (from openai) (1.3.1)\n",
      "Requirement already satisfied: tqdm>4 in /opt/conda/lib/python3.11/site-packages (from openai) (4.66.2)\n",
      "Requirement already satisfied: typing-extensions<5,>=4.11 in /home/msds-pt2025a/egallarde/.local/lib/python3.11/site-packages (from openai) (4.12.2)\n",
      "Requirement already satisfied: idna>=2.8 in /opt/conda/lib/python3.11/site-packages (from anyio<5,>=3.5.0->openai) (3.6)\n",
      "Requirement already satisfied: certifi in /opt/conda/lib/python3.11/site-packages (from httpx<1,>=0.23.0->openai) (2024.2.2)\n",
      "Requirement already satisfied: httpcore==1.* in /opt/conda/lib/python3.11/site-packages (from httpx<1,>=0.23.0->openai) (1.0.5)\n",
      "Requirement already satisfied: h11<0.15,>=0.13 in /opt/conda/lib/python3.11/site-packages (from httpcore==1.*->httpx<1,>=0.23.0->openai) (0.14.0)\n",
      "Requirement already satisfied: annotated-types>=0.4.0 in /opt/conda/lib/python3.11/site-packages (from pydantic<3,>=1.9.0->openai) (0.6.0)\n",
      "Requirement already satisfied: pydantic-core==2.16.3 in /opt/conda/lib/python3.11/site-packages (from pydantic<3,>=1.9.0->openai) (2.16.3)\n",
      "Note: you may need to restart the kernel to use updated packages.\n"
     ]
    }
   ],
   "source": [
    "# %pip install --upgrade openai"
   ]
  },
  {
   "cell_type": "code",
   "execution_count": 49,
   "id": "01677b9a-7533-4495-9ff9-a0ed435b6123",
   "metadata": {
    "execution": {
     "iopub.execute_input": "2024-08-24T12:58:11.052180Z",
     "iopub.status.busy": "2024-08-24T12:58:11.051488Z",
     "iopub.status.idle": "2024-08-24T12:58:21.493037Z",
     "shell.execute_reply": "2024-08-24T12:58:21.491432Z",
     "shell.execute_reply.started": "2024-08-24T12:58:11.052123Z"
    }
   },
   "outputs": [],
   "source": [
    "system_content = \"You are a Filipino legal researcher. Help me generate test data for an application that performs legal semantic search.\"\n",
    "synthetic_data_prompt = \"\"\"\n",
    "    Given a jurisprudence document, create a similar story based on the case facts. Limit to 5 sentences. \n",
    "    \n",
    "    Change names, locations, and dates but keep the context. Be creative but still fair.\n",
    "    \n",
    "    I will use it as the query to a vector database.\n",
    "    \n",
    "    Generate 7 case summaries. Write them in English, Tagalog, Chinese, and French.\n",
    "    I need 3 in English, 2 in Tagalog, 1 in Chinese, and 1 in French in that order.\n",
    "\n",
    "    Use this format to output:\n",
    "    Document: A given document to make summaries from\n",
    "    JSON: [\"english summary 1\", \"english summary 2\", ..., \"tagalog summary 1\", \"tagalog summary 2\",..., \"french summary 1\"].\n",
    "    ###\n",
    "    Document: {document}\n",
    "    JSON:\n",
    "    \"\"\"\n",
    "\n",
    "response = client.chat.completions.create(\n",
    "    model='gpt-4o-mini',\n",
    "    messages=[\n",
    "        {\"role\": \"system\", \"content\": system_content},\n",
    "        {\"role\": \"user\", \"content\": synthetic_data_prompt.format(document=court_decisions[1]['text'])}\n",
    "    ],\n",
    "    temperature=1\n",
    ")"
   ]
  },
  {
   "cell_type": "code",
   "execution_count": 50,
   "id": "047404f0-c805-403d-98f9-726b58977d69",
   "metadata": {
    "execution": {
     "iopub.execute_input": "2024-08-24T12:58:22.897142Z",
     "iopub.status.busy": "2024-08-24T12:58:22.896475Z",
     "iopub.status.idle": "2024-08-24T12:58:22.904627Z",
     "shell.execute_reply": "2024-08-24T12:58:22.903201Z",
     "shell.execute_reply.started": "2024-08-24T12:58:22.897082Z"
    }
   },
   "outputs": [],
   "source": [
    "languages = ['english']*3+['tagalog']*2+['chinese']*1 + ['french'] * 1"
   ]
  },
  {
   "cell_type": "code",
   "execution_count": 51,
   "id": "a6ba4f74-71e4-4096-94ed-31b1321b4430",
   "metadata": {
    "execution": {
     "iopub.execute_input": "2024-08-24T12:58:25.019238Z",
     "iopub.status.busy": "2024-08-24T12:58:25.018584Z",
     "iopub.status.idle": "2024-08-24T12:58:25.033768Z",
     "shell.execute_reply": "2024-08-24T12:58:25.032032Z",
     "shell.execute_reply.started": "2024-08-24T12:58:25.019182Z"
    }
   },
   "outputs": [
    {
     "data": {
      "text/plain": [
       "[('english',\n",
       "  \"In 2000, the State Power Authority took possession of a 25,000 square meter parcel of land owned by Jansen in Riverside City, incorrectly believing it to be public land designated for energy production. After several years of construction on the site, Jansen asserted his claim to rightful ownership and sought compensation for the unauthorized use of his property. The authority initially refused his demands, arguing the land was public. Eventually, after lengthy negotiations, the possibility of compensation was explored, but the state agency insisted on paying merely a fraction of the land's market value. The court ultimately ruled in favor of Jansen, mandating the authority to pay a just compensation of $1,200,000 based on the land's valuation at the time of its claim in 2000.\"),\n",
       " ('english',\n",
       "  \"In 2010, the Regional Development Agency took over a 30,000 square meter property owned by Reyes in Metro City, mistaken for government land intended for urban development. Despite Reyes filing a complaint for compensation, the agency claimed the land was public and refused payments. After years of legal disputes, they finally recognized Reyes's ownership and engaged in discussions regarding compensation. However, what followed was a protracted negotiation process over the property's true value. The court eventually intervened, concluding that Reyes was owed $1,500,000 for the property based on its 2010 valuation.\"),\n",
       " ('english',\n",
       "  'In 2015, Apex Utilities, Inc. seized 10,000 square meters of land in Greenfield owned by Chen, believing the terrain to be unclaimed land for a new facility. When Chen raised an ownership claim, Apex refused to pay, arguing its belief that it was operating within legal bounds. The ensuing legal battle was characterized by delays and miscommunication about land ownership. Eventually, Chen managed to secure legal counsel, forcing Apex to reconsider their valuation of the land. The court deemed a reparation of $600,000 necessary, reflecting the value of the property at the time of its occupation.'),\n",
       " ('tagalog',\n",
       "  'Noong 2005, in Magsaysay, naglagay ang Kompanya ng Kuryente ng isang 15,000 square meter na lupa na pag-aari ni Santos, na akala nila ay bahagi ng pampublikong lupa. Hiniling ni Santos ang karampatang kabayaran matapos ang kanilang inagawang konstruksyon sa lupa. Gayunpaman, tumanggi ang kompanya na bayaran siya sa ilalim ng pretext na ito ay para sa kapakanan ng publiko. Matapos ang ilang taon ng pakikipagtalo, napilitang ikonsidera ng kompanya ang kanyang pag-aari. Sa huli, pinagtibay ng hukuman na dapat siyang bayaran ng P800,000 batay sa halaga ng lupa noong 2005.'),\n",
       " ('tagalog',\n",
       "  'Noong 2018, kinuha ng Ahensya ng Likas na Yaman ang isang lupa na pag-aari ni Cruz na may sukat na 20,000 square meters sa bayan ng San Lorenzo, na nagkamali silang ito ay pampublikong lupain. Tumanggi ang ahensya na kilalanin ang karapatan ni Cruz sa lupa kahit nagbigay siya ng dokumentaryong pruweba ng kanyang pagmamay-ari. Makalipas ang ilang taon, pinilit silang makipagkasundo matapos ang masusing pagbabalik tanaw sa mga dokumento. Pinag-aralan ng hukuman at pinayagan si Cruz na makatanggap ng kabayaran na P1,200,000 alinsunod sa aktwal na halaga ng lupa sa kanyang sinumpaang pag-aari.'),\n",
       " ('chinese',\n",
       "  '在2012年，国家电力公司错误地认为小刘的土地属于公共财产而占用了他位于新都的20,000平方米的土地。经过几年的工程，刘提出要求，认为他们未支付任何补偿，这让电力公司感到困惑。经过漫长的法律斗争，法院认为小刘有权根据他在2012年时的财产价值获得补偿。最终，法院判决应支付小刘800,000元以作为补偿金额。'),\n",
       " ('french',\n",
       "  \"En 2019, l'Administration des Routes a exproprié un terrain appartenant à Dupont à Montclair, croyant à tort qu'il était vacant. Dupont a contesté cette prise en affirmant son droit de propriété, ce qui a conduit à une série de négociations sur le juste montant de compensation. L'Administration a tenté de résoudre la situation en proposant un montant dérisoire, ce que Dupont a catégoriquement rejeté. Après une évaluation judiciaire, le tribunal a déterminé la valeur du terrain à 2 000 000 euros selon son évaluation au moment de la prise. Le tribunal a ordonné à l'Administration de s'acquitter de ce montant à Dupont.\")]"
      ]
     },
     "execution_count": 51,
     "metadata": {},
     "output_type": "execute_result"
    }
   ],
   "source": [
    "# Show generated sample data\n",
    "list(zip(\n",
    "    languages,\n",
    "    json.loads('[' + response.choices[0].message.content.split('[')[-1].strip().split(']')[0].strip() + ']')\n",
    "))"
   ]
  },
  {
   "cell_type": "code",
   "execution_count": 52,
   "id": "a331624b-e7ef-462f-ba93-814a508c462b",
   "metadata": {
    "execution": {
     "iopub.execute_input": "2024-08-24T12:58:29.019410Z",
     "iopub.status.busy": "2024-08-24T12:58:29.018751Z",
     "iopub.status.idle": "2024-08-24T13:10:29.914297Z",
     "shell.execute_reply": "2024-08-24T13:10:29.913558Z",
     "shell.execute_reply.started": "2024-08-24T12:58:29.019353Z"
    }
   },
   "outputs": [
    {
     "name": "stderr",
     "output_type": "stream",
     "text": [
      "  5%|▍         | 3/63 [00:37<12:24, 12.41s/it]"
     ]
    },
    {
     "name": "stdout",
     "output_type": "stream",
     "text": [
      "Could not generate questions for index 2: \n"
     ]
    },
    {
     "name": "stderr",
     "output_type": "stream",
     "text": [
      "  6%|▋         | 4/63 [00:49<11:44, 11.95s/it]"
     ]
    },
    {
     "name": "stdout",
     "output_type": "stream",
     "text": [
      "Could not generate questions for index 3: \n"
     ]
    },
    {
     "name": "stderr",
     "output_type": "stream",
     "text": [
      " 14%|█▍        | 9/63 [01:47<10:01, 11.14s/it]"
     ]
    },
    {
     "name": "stdout",
     "output_type": "stream",
     "text": [
      "Could not generate questions for index 8: Expecting value: line 13 column 580 (char 3921)\n"
     ]
    },
    {
     "name": "stderr",
     "output_type": "stream",
     "text": [
      " 16%|█▌        | 10/63 [01:57<09:38, 10.91s/it]"
     ]
    },
    {
     "name": "stdout",
     "output_type": "stream",
     "text": [
      "Could not generate questions for index 9: Expecting value: line 13 column 725 (char 4584)\n"
     ]
    },
    {
     "name": "stderr",
     "output_type": "stream",
     "text": [
      " 17%|█▋        | 11/63 [02:08<09:22, 10.83s/it]"
     ]
    },
    {
     "name": "stdout",
     "output_type": "stream",
     "text": [
      "Could not generate questions for index 10: \n"
     ]
    },
    {
     "name": "stderr",
     "output_type": "stream",
     "text": [
      " 19%|█▉        | 12/63 [02:18<09:00, 10.59s/it]"
     ]
    },
    {
     "name": "stdout",
     "output_type": "stream",
     "text": [
      "Could not generate questions for index 11: Expecting value: line 11 column 635 (char 3714)\n"
     ]
    },
    {
     "name": "stderr",
     "output_type": "stream",
     "text": [
      " 21%|██        | 13/63 [02:28<08:36, 10.34s/it]"
     ]
    },
    {
     "name": "stdout",
     "output_type": "stream",
     "text": [
      "Could not generate questions for index 12: Expecting value: line 13 column 686 (char 3843)\n"
     ]
    },
    {
     "name": "stderr",
     "output_type": "stream",
     "text": [
      " 22%|██▏       | 14/63 [02:38<08:26, 10.34s/it]"
     ]
    },
    {
     "name": "stdout",
     "output_type": "stream",
     "text": [
      "Could not generate questions for index 13: \n"
     ]
    },
    {
     "name": "stderr",
     "output_type": "stream",
     "text": [
      " 35%|███▍      | 22/63 [04:12<07:39, 11.22s/it]"
     ]
    },
    {
     "name": "stdout",
     "output_type": "stream",
     "text": [
      "Could not generate questions for index 21: Expecting value: line 13 column 598 (char 3975)\n"
     ]
    },
    {
     "name": "stderr",
     "output_type": "stream",
     "text": [
      " 40%|███▉      | 25/63 [04:45<07:01, 11.10s/it]"
     ]
    },
    {
     "name": "stdout",
     "output_type": "stream",
     "text": [
      "Could not generate questions for index 24: Expecting value: line 13 column 666 (char 4263)\n"
     ]
    },
    {
     "name": "stderr",
     "output_type": "stream",
     "text": [
      " 49%|████▉     | 31/63 [05:50<06:16, 11.77s/it]"
     ]
    },
    {
     "name": "stdout",
     "output_type": "stream",
     "text": [
      "Could not generate questions for index 30: Expecting value: line 13 column 667 (char 4302)\n"
     ]
    },
    {
     "name": "stderr",
     "output_type": "stream",
     "text": [
      " 54%|█████▍    | 34/63 [06:23<05:11, 10.73s/it]"
     ]
    },
    {
     "name": "stdout",
     "output_type": "stream",
     "text": [
      "Could not generate questions for index 33: Expecting value: line 13 column 574 (char 3665)\n"
     ]
    },
    {
     "name": "stderr",
     "output_type": "stream",
     "text": [
      " 57%|█████▋    | 36/63 [07:03<06:39, 14.80s/it]"
     ]
    },
    {
     "name": "stdout",
     "output_type": "stream",
     "text": [
      "Could not generate questions for index 35: Expecting value: line 13 column 644 (char 4140)\n"
     ]
    },
    {
     "name": "stderr",
     "output_type": "stream",
     "text": [
      " 65%|██████▌   | 41/63 [07:59<04:11, 11.41s/it]"
     ]
    },
    {
     "name": "stdout",
     "output_type": "stream",
     "text": [
      "Could not generate questions for index 40: Expecting value: line 13 column 604 (char 3838)\n"
     ]
    },
    {
     "name": "stderr",
     "output_type": "stream",
     "text": [
      " 71%|███████▏  | 45/63 [08:46<03:28, 11.56s/it]"
     ]
    },
    {
     "name": "stdout",
     "output_type": "stream",
     "text": [
      "Could not generate questions for index 44: Expecting value: line 13 column 537 (char 3341)\n"
     ]
    },
    {
     "name": "stderr",
     "output_type": "stream",
     "text": [
      " 73%|███████▎  | 46/63 [08:53<02:51, 10.07s/it]"
     ]
    },
    {
     "name": "stdout",
     "output_type": "stream",
     "text": [
      "Could not generate questions for index 45: \n"
     ]
    },
    {
     "name": "stderr",
     "output_type": "stream",
     "text": [
      " 75%|███████▍  | 47/63 [09:01<02:31,  9.45s/it]"
     ]
    },
    {
     "name": "stdout",
     "output_type": "stream",
     "text": [
      "Could not generate questions for index 46: \n"
     ]
    },
    {
     "name": "stderr",
     "output_type": "stream",
     "text": [
      " 98%|█████████▊| 62/63 [11:48<00:12, 12.13s/it]"
     ]
    },
    {
     "name": "stdout",
     "output_type": "stream",
     "text": [
      "Could not generate questions for index 61: Expecting value: line 13 column 608 (char 3839)\n"
     ]
    },
    {
     "name": "stderr",
     "output_type": "stream",
     "text": [
      "100%|██████████| 63/63 [12:00<00:00, 11.44s/it]\n"
     ]
    }
   ],
   "source": [
    "synthetic_case_summaries = []\n",
    "from random import sample # used to randomly select a sample of documents.\n",
    "\n",
    "# Generate synthetic test data for a sample of the urls found\n",
    "SAMPLE = .2  # 20% of the documents in matching_documents will be used to generate synthetic questions.\n",
    "for i, court_decision in enumerate(tqdm(sample(court_decisions, int(len(court_decisions) * SAMPLE)))):\n",
    "\n",
    "    # Send a request to the OpenAI API to generate questions based on the provided document.\n",
    "    response = client.chat.completions.create(\n",
    "        model='gpt-4o-mini',\n",
    "        messages=[\n",
    "            {\"role\": \"system\", \"content\": system_content},\n",
    "            {\"role\": \"user\", \"content\": synthetic_data_prompt.format(document=court_decision['text'])}\n",
    "        ],\n",
    "        temperature=1\n",
    "    )\n",
    "    try:\n",
    "        # Attempt to parse the response to extract questions.\n",
    "        # Construct a JSON array from the content by finding the text between the first '[' and the last ']'.\n",
    "        generated_summaries = json.loads('[' + response.choices[0].message.content.split('[')[-1].strip().split(']')[0].strip() + ']')\n",
    "        generated_summaries = [q.strip() for q in generated_summaries]\n",
    "        assert len(generated_summaries) == len(languages)\n",
    "        for language, summary in zip(languages, generated_summaries):\n",
    "            synthetic_case_summaries.append(\n",
    "            dict(\n",
    "                language=language,\n",
    "                summary=summary, #changed query to summary\n",
    "                expected_hash=convert_to_hash(extract_text_data(court_decision['url']))\n",
    "            )\n",
    "        )\n",
    "    except Exception as e:\n",
    "        print(f'Could not generate questions for index {i}: {e}')"
   ]
  },
  {
   "cell_type": "code",
   "execution_count": 53,
   "id": "7589a802-7155-4ca0-8ac8-7e69d749aa39",
   "metadata": {
    "execution": {
     "iopub.execute_input": "2024-08-24T13:10:33.733110Z",
     "iopub.status.busy": "2024-08-24T13:10:33.732378Z",
     "iopub.status.idle": "2024-08-24T13:10:33.745124Z",
     "shell.execute_reply": "2024-08-24T13:10:33.743505Z",
     "shell.execute_reply.started": "2024-08-24T13:10:33.733049Z"
    }
   },
   "outputs": [
    {
     "data": {
      "text/plain": [
       "315"
      ]
     },
     "execution_count": 53,
     "metadata": {},
     "output_type": "execute_result"
    }
   ],
   "source": [
    "len(synthetic_case_summaries)"
   ]
  },
  {
   "cell_type": "code",
   "execution_count": 54,
   "id": "c72ab496-b503-4a4e-9295-dc606875e57a",
   "metadata": {
    "execution": {
     "iopub.execute_input": "2024-08-24T13:10:36.264236Z",
     "iopub.status.busy": "2024-08-24T13:10:36.263567Z",
     "iopub.status.idle": "2024-08-24T13:10:36.275397Z",
     "shell.execute_reply": "2024-08-24T13:10:36.273556Z",
     "shell.execute_reply.started": "2024-08-24T13:10:36.264178Z"
    }
   },
   "outputs": [
    {
     "data": {
      "text/plain": [
       "{'language': 'english',\n",
       " 'summary': \"In a landmark case, a foreign national enrolled in a prestigious university in Metro Manila, Philippines, faced accusations of plagiarism after her dissertation was found to contain numerous uncredited passages from multiple sources. Despite initially passing her oral defense, the university's academic board later recommended the withdrawal of her degree due to the serious nature of the allegations. The student claimed she was denied due process, as the university did not allow her to fully address the charges against her before conferring the degree. After legal challenges, a higher court ruled in her favor, stating the university must restore her degree and ensure the student receives fair treatment in academic matters. This case raised significant questions regarding academic integrity, plagiarism, and students' rights in the educational system.\",\n",
       " 'expected_hash': '49bfbc0ca519af232f9a35286c73ba3d'}"
      ]
     },
     "execution_count": 54,
     "metadata": {},
     "output_type": "execute_result"
    }
   ],
   "source": [
    "synthetic_case_summaries[0]"
   ]
  },
  {
   "cell_type": "code",
   "execution_count": 55,
   "id": "02504097-f7b1-465f-b788-4196950a56f4",
   "metadata": {
    "execution": {
     "iopub.execute_input": "2024-08-24T13:10:40.069329Z",
     "iopub.status.busy": "2024-08-24T13:10:40.068658Z",
     "iopub.status.idle": "2024-08-24T13:10:40.079711Z",
     "shell.execute_reply": "2024-08-24T13:10:40.078050Z",
     "shell.execute_reply.started": "2024-08-24T13:10:40.069272Z"
    }
   },
   "outputs": [
    {
     "data": {
      "text/plain": [
       "{'language': 'french',\n",
       " 'summary': \"Dans une affaire marquante, une étudiante étrangère inscrite dans une université de premier plan aux Philippines a été accusée de plagiat dans le cadre de sa thèse de doctorat. Bien qu'elle ait d'abord réussi sa soutenance, l'université a recommandé le retrait de son diplôme après avoir découvert des passages non attribués provenant de plusieurs sources. L'étudiante a contesté cette décision, arguant qu'elle n'avait pas eu la possibilité de défendre son point de vue avant le retrait de son diplôme. La cour d'appel, en fin de compte, a statué en sa faveur et a ordonné à l'université de rétablir son diplôme, posant ainsi des questions fondamentales sur l'intégrité académique et les droits des étudiants. Cette affaire a souligné l'importance de la procédure équitable dans les institutions éducatives.\",\n",
       " 'expected_hash': '49bfbc0ca519af232f9a35286c73ba3d'}"
      ]
     },
     "execution_count": 55,
     "metadata": {},
     "output_type": "execute_result"
    }
   ],
   "source": [
    "synthetic_case_summaries[6]"
   ]
  },
  {
   "cell_type": "code",
   "execution_count": 56,
   "id": "e7ad0256-5b48-4842-b4b2-4d2384b49973",
   "metadata": {
    "execution": {
     "iopub.execute_input": "2024-08-24T13:10:51.674346Z",
     "iopub.status.busy": "2024-08-24T13:10:51.673619Z",
     "iopub.status.idle": "2024-08-24T13:10:51.686426Z",
     "shell.execute_reply": "2024-08-24T13:10:51.684503Z",
     "shell.execute_reply.started": "2024-08-24T13:10:51.674285Z"
    }
   },
   "outputs": [],
   "source": [
    "def test_query(summary, expected_hash, language, top_k=10):\n",
    "    results = query_from_pinecone(summary, top_k=top_k)\n",
    "    top_result_correct = results[0]['id'] == expected_hash\n",
    "    result_in_pinecone_list = expected_hash in (r['id'] for r in results)\n",
    "    return dict(\n",
    "        result_in_pinecone_list=result_in_pinecone_list,\n",
    "        top_result_correct=top_result_correct,\n",
    "        language=language,\n",
    "        expected_hash=expected_hash,\n",
    "        top_hash=results[0]['id']\n",
    "    )"
   ]
  },
  {
   "cell_type": "code",
   "execution_count": 57,
   "id": "d7306288-0d93-42c4-8e43-6d51d9bb6ae1",
   "metadata": {
    "execution": {
     "iopub.execute_input": "2024-08-24T13:10:57.320847Z",
     "iopub.status.busy": "2024-08-24T13:10:57.320198Z",
     "iopub.status.idle": "2024-08-24T13:11:00.020848Z",
     "shell.execute_reply": "2024-08-24T13:11:00.019539Z",
     "shell.execute_reply.started": "2024-08-24T13:10:57.320792Z"
    }
   },
   "outputs": [
    {
     "data": {
      "text/plain": [
       "{'result_in_pinecone_list': True,\n",
       " 'top_result_correct': True,\n",
       " 'language': 'english',\n",
       " 'expected_hash': '49bfbc0ca519af232f9a35286c73ba3d',\n",
       " 'top_hash': '49bfbc0ca519af232f9a35286c73ba3d'}"
      ]
     },
     "execution_count": 57,
     "metadata": {},
     "output_type": "execute_result"
    }
   ],
   "source": [
    "test_query(**synthetic_case_summaries[0])"
   ]
  },
  {
   "cell_type": "code",
   "execution_count": 58,
   "id": "fe395679-1b9e-4f22-ab97-a1c6f9e464df",
   "metadata": {
    "execution": {
     "iopub.execute_input": "2024-08-24T13:11:06.587501Z",
     "iopub.status.busy": "2024-08-24T13:11:06.586842Z",
     "iopub.status.idle": "2024-08-24T13:15:44.150732Z",
     "shell.execute_reply": "2024-08-24T13:15:44.148612Z",
     "shell.execute_reply.started": "2024-08-24T13:11:06.587445Z"
    }
   },
   "outputs": [
    {
     "name": "stderr",
     "output_type": "stream",
     "text": [
      "100%|██████████| 315/315 [04:37<00:00,  1.13it/s]\n"
     ]
    }
   ],
   "source": [
    "synthetic_test_results = []\n",
    "for synthetic_summary in tqdm(synthetic_case_summaries):\n",
    "    synthetic_test_results.append(test_query(**synthetic_summary))"
   ]
  },
  {
   "cell_type": "code",
   "execution_count": 59,
   "id": "30f5984b-2735-42af-a59d-ce6993fb30db",
   "metadata": {
    "execution": {
     "iopub.execute_input": "2024-08-24T13:15:56.715681Z",
     "iopub.status.busy": "2024-08-24T13:15:56.715020Z",
     "iopub.status.idle": "2024-08-24T13:15:57.856859Z",
     "shell.execute_reply": "2024-08-24T13:15:57.855981Z",
     "shell.execute_reply.started": "2024-08-24T13:15:56.715622Z"
    }
   },
   "outputs": [
    {
     "name": "stdout",
     "output_type": "stream",
     "text": [
      "result_in_pinecone_list    0.850794\n",
      "top_result_correct         0.457143\n",
      "dtype: float64\n"
     ]
    },
    {
     "data": {
      "image/png": "[encoded data removed]",
      "text/plain": [
       "<Figure size 1200x600 with 1 Axes>"
      ]
     },
     "metadata": {},
     "output_type": "display_data"
    }
   ],
   "source": [
    "import pandas as pd\n",
    "results_df = pd.DataFrame(synthetic_test_results)\n",
    "\n",
    "print(results_df[['result_in_pinecone_list', 'top_result_correct']].mean())\n",
    "\n",
    "import matplotlib.pyplot as plt\n",
    "\n",
    "# Assuming you've already created results_df\n",
    "grouped_data = results_df.groupby('language')[['result_in_pinecone_list', 'top_result_correct']].mean()\n",
    "\n",
    "# Set the style and color palette\n",
    "plt.style.use('fivethirtyeight')\n",
    "# sns.set_palette(\"deep\")\n",
    "\n",
    "# Create the figure and axis\n",
    "fig, ax = plt.subplots(figsize=(12, 6))\n",
    "\n",
    "# Plot the data\n",
    "grouped_data.plot(kind='bar', ax=ax)\n",
    "\n",
    "# Customize the plot\n",
    "ax.set_title('Performance Metrics by Language (Using OpenAI only)', fontsize=16, pad=20)\n",
    "ax.set_xlabel('Language', fontsize=12)\n",
    "ax.set_ylabel('Mean Score', fontsize=12)\n",
    "ax.tick_params(axis='x', rotation=45)\n",
    "\n",
    "# Add value labels on top of each bar\n",
    "for i in ax.containers:\n",
    "    ax.bar_label(i, fmt='%.2f', padding=3)\n",
    "\n",
    "# Add a legend\n",
    "ax.legend(['Result is in Pinecone List', 'Top Result Correct'], title='Metrics', loc='upper left', bbox_to_anchor=(1, 1))\n",
    "\n",
    "# Adjust layout and display the plot\n",
    "plt.tight_layout()\n",
    "plt.show()"
   ]
  },
  {
   "cell_type": "markdown",
   "id": "ec41bd19-6347-4cf3-87ed-e05dcaa30278",
   "metadata": {},
   "source": [
    "## **Making Retrieval Better with [Pongo](https://www.pongo.ai)**\n",
    "\n",
    "Pongo requires only a few lines extra of code to improve RAG performance.\n",
    "Their filter uses a collection of auto-encoding models to improve search accuracy at runtime"
   ]
  },
  {
   "cell_type": "code",
   "execution_count": 60,
   "id": "e7268535-da0c-4761-be39-9e845c5ab310",
   "metadata": {
    "execution": {
     "iopub.execute_input": "2024-08-24T13:18:49.295055Z",
     "iopub.status.busy": "2024-08-24T13:18:49.293910Z",
     "iopub.status.idle": "2024-08-24T13:18:49.302119Z",
     "shell.execute_reply": "2024-08-24T13:18:49.300427Z",
     "shell.execute_reply.started": "2024-08-24T13:18:49.294993Z"
    }
   },
   "outputs": [],
   "source": [
    "# pip install pongo"
   ]
  },
  {
   "cell_type": "code",
   "execution_count": 61,
   "id": "6eee0b7a-9f72-4d3d-a129-d8f3b660e3a3",
   "metadata": {
    "execution": {
     "iopub.execute_input": "2024-08-24T13:18:51.566022Z",
     "iopub.status.busy": "2024-08-24T13:18:51.565307Z",
     "iopub.status.idle": "2024-08-24T13:18:51.572540Z",
     "shell.execute_reply": "2024-08-24T13:18:51.570949Z",
     "shell.execute_reply.started": "2024-08-24T13:18:51.565964Z"
    }
   },
   "outputs": [],
   "source": [
    "# pip install --upgrade pongo-python"
   ]
  },
  {
   "cell_type": "code",
   "execution_count": 103,
   "id": "559fd172-0cc5-47fb-b40a-27bbbd4ae96a",
   "metadata": {
    "execution": {
     "iopub.execute_input": "2024-08-25T04:50:07.307624Z",
     "iopub.status.busy": "2024-08-25T04:50:07.306925Z",
     "iopub.status.idle": "2024-08-25T04:50:07.977297Z",
     "shell.execute_reply": "2024-08-25T04:50:07.975698Z",
     "shell.execute_reply.started": "2024-08-25T04:50:07.307566Z"
    }
   },
   "outputs": [],
   "source": [
    "import pongo\n",
    "\n",
    "PONGO_KEY = \"97ddc7c49c704bb6870608ad550e0a3a\"\n",
    "pongo_client = pongo.PongoClient(PONGO_KEY)"
   ]
  },
  {
   "cell_type": "code",
   "execution_count": 68,
   "id": "90cfbb39-964c-44e5-9dc5-255810f639cd",
   "metadata": {
    "execution": {
     "iopub.execute_input": "2024-08-24T13:38:10.028332Z",
     "iopub.status.busy": "2024-08-24T13:38:10.027587Z",
     "iopub.status.idle": "2024-08-24T13:38:10.041731Z",
     "shell.execute_reply": "2024-08-24T13:38:10.040050Z",
     "shell.execute_reply.started": "2024-08-24T13:38:10.028273Z"
    }
   },
   "outputs": [
    {
     "data": {
      "text/plain": [
       "\"\\t\\t\\t\\n\\nSECOND DIVISION\\n[ A.C. No. 8959, October 07, 2020 ]\\nRISIE G. BAYGAR, COMPLAINANT, VS. ATTY. CLARO MANUEL M. RIVERA, RESPONDENT.\\r\\n\\r\\nD E C I S I O N\\n\\nHERNANDO, J.:\\nThis administrative case arose from a Petition for Disbarment[1] filed by complainant Risie G. Baygar (Risie) against respondent Atty. Claro Manuel M. Rivera (Atty. Rivera) before the Office of the Bar Confidant of this Court. The case was referred to the Commission on Bar Discipline (CBD) of the Integrated Bar of the Philippines (IBP), and docketed as CBD Case No. 12-3391. The Factual Antecedents  In her Petition, Risie alleges that Atty. Rivera committed acts constitutive of a Violation of the Lawyer's Oath and the Code of Professional Responsibility (CPR).[2] At the time of the commission of the acts complained of, Atty. Rivera was the Municipal Administrator[3] of Binangonan, Rizal. In her Complaint, Risie alleged that in the morning of March 9, 2010, officers from the Business Permit and Licensing Office (BPLO) of Bi\""
      ]
     },
     "execution_count": 68,
     "metadata": {},
     "output_type": "execute_result"
    }
   ],
   "source": [
    "docs_for_pongo[0]['metadata']['text']"
   ]
  },
  {
   "cell_type": "code",
   "execution_count": 70,
   "id": "b715d688-00b8-4eaa-96c2-e2bae8d39554",
   "metadata": {
    "execution": {
     "iopub.execute_input": "2024-08-24T13:40:02.282069Z",
     "iopub.status.busy": "2024-08-24T13:40:02.281291Z",
     "iopub.status.idle": "2024-08-24T13:40:02.486268Z",
     "shell.execute_reply": "2024-08-24T13:40:02.485525Z",
     "shell.execute_reply.started": "2024-08-24T13:40:02.282005Z"
    }
   },
   "outputs": [
    {
     "data": {
      "text/plain": [
       "'e18a4107c02fb238f3bba557af7d9d9f'"
      ]
     },
     "execution_count": 70,
     "metadata": {},
     "output_type": "execute_result"
    }
   ],
   "source": [
    "convert_to_hash(extract_text_data(docs_for_pongo[0]['metadata']['url']))"
   ]
  },
  {
   "cell_type": "code",
   "execution_count": 75,
   "id": "0348e127-9a9b-414f-8b42-36e03d854360",
   "metadata": {
    "execution": {
     "iopub.execute_input": "2024-08-24T13:42:02.908090Z",
     "iopub.status.busy": "2024-08-24T13:42:02.907429Z",
     "iopub.status.idle": "2024-08-24T13:42:02.920832Z",
     "shell.execute_reply": "2024-08-24T13:42:02.916871Z",
     "shell.execute_reply.started": "2024-08-24T13:42:02.908035Z"
    }
   },
   "outputs": [
    {
     "data": {
      "text/plain": [
       "'6a83fe7b3dcf2f105f260b1f94cf0c85'"
      ]
     },
     "execution_count": 75,
     "metadata": {},
     "output_type": "execute_result"
    }
   ],
   "source": [
    "matching_documents_query1[0]['id']"
   ]
  },
  {
   "cell_type": "code",
   "execution_count": 90,
   "id": "6444abc3-b867-440f-b632-f1333e10665a",
   "metadata": {
    "execution": {
     "iopub.execute_input": "2024-08-24T13:54:12.433106Z",
     "iopub.status.busy": "2024-08-24T13:54:12.432421Z",
     "iopub.status.idle": "2024-08-24T13:54:13.521077Z",
     "shell.execute_reply": "2024-08-24T13:54:13.520216Z",
     "shell.execute_reply.started": "2024-08-24T13:54:12.433051Z"
    }
   },
   "outputs": [
    {
     "name": "stdout",
     "output_type": "stream",
     "text": [
      "Correct hash ID: 6a83fe7b3dcf2f105f260b1f94cf0c85\n",
      "Top Pinecone Search hash ID: 6a83fe7b3dcf2f105f260b1f94cf0c85\n",
      "URL: https://elibrary.judiciary.gov.ph/thebookshelf/showdocs/1/53330\n",
      "Text: EN BANC\n",
      "[ G.R. No. 100152, March 31, 2000 ]\n",
      "ACEBED\n",
      "Tags: ['respondent City Mayor', 'CITY MAYOR', 'CITY LEGAL OFFICER', 'respondent City', 'CITY']\n",
      "Top Reranked Hash ID: 6a83fe7b3dcf2f105f260b1f94cf0c85\n"
     ]
    }
   ],
   "source": [
    "# docs = [dict(text=result['metadata']['text'], metadata=dict(url=result['metadata']['url'])) for result in docs_for_pongo]\n",
    "# docs_for_reranking = [dict(text=extract_text_data(result['metadata']['url']), metadata=dict(tags=result['metadata']['tags']), url=result['metadata']['url'])) for result in docs_for_pongo]\n",
    "\n",
    "docs_for_reranking = [\n",
    "    {\n",
    "        \"text\": summarize_text(extract_text_data(result['metadata']['url'])),\n",
    "        \"metadata\": {\n",
    "            \"tags\": result['metadata']['tags'],  # Include tags in metadata\n",
    "            \"url\": result['metadata']['url']  # Include the URL inside metadata\n",
    "        }\n",
    "    }\n",
    "    for result in matching_documents_query1\n",
    "]\n",
    "print('Correct hash ID:', matching_documents_query1[0]['id'])\n",
    "print('Top Pinecone Search hash ID:', matching_documents_query1[0]['id'])\n",
    "\n",
    "filtered_result = pongo_client.filter(docs=docs_for_reranking, query=query1, num_results=10)\n",
    "filtered_docs = filtered_result.json()\n",
    "top_doc = filtered_docs[0]\n",
    "top_doc\n",
    "\n",
    "# print(f\"URL: {top_doc['metadata']['url']}\\nText: {top_doc['text'][:100]}\\nTags: {top_doc['metadata'].get('tags', [])}\\nTop Reranked Hash ID: {convert_to_hash(top_doc['text'][:1000])}\")\n",
    "# print(f\"\"\"URL: {top_doc['metadata']['url']}\n",
    "#         \\nText: {top_doc['text'][:1000]}\n",
    "#         \\nTags: {top_doc['metadata'].get('tags', [])}\n",
    "#         \\nTop Reranked Hash ID: {convert_to_hash(extract_text_data(top_doc['metadata']['url')))}\n",
    "# \"\"\")\n",
    "print(f\"URL: {top_doc['metadata']['url']}\\n\"\n",
    "      f\"Text: {top_doc['text'][:50]}\\n\"\n",
    "      f\"Tags: {top_doc['metadata'].get('tags', [])}\\n\"\n",
    "      f\"Top Reranked Hash ID: {convert_to_hash(extract_text_data(top_doc['metadata']['url']))}\")\n"
   ]
  },
  {
   "cell_type": "code",
   "execution_count": 96,
   "id": "8050e5c9-e15d-4ce5-9d06-ed76e7f5afc1",
   "metadata": {
    "execution": {
     "iopub.execute_input": "2024-08-24T14:35:44.915351Z",
     "iopub.status.busy": "2024-08-24T14:35:44.914219Z",
     "iopub.status.idle": "2024-08-24T14:35:44.931181Z",
     "shell.execute_reply": "2024-08-24T14:35:44.929628Z",
     "shell.execute_reply.started": "2024-08-24T14:35:44.915292Z"
    }
   },
   "outputs": [],
   "source": [
    "def test_query_with_pongo(summary, expected_hash, language, top_k=10):\n",
    "    results = query_from_pinecone(summary, top_k=top_k)\n",
    "    result_in_pinecone_list = expected_hash in (r['id'] for r in results)\n",
    "    reranking_docs = [\n",
    "        {\n",
    "            \"text\": summarize_text(extract_text_data(result['metadata']['url'])),\n",
    "            \"metadata\": {\n",
    "                \"tags\": result['metadata']['tags'],  # Include tags in metadata\n",
    "                \"url\": result['metadata']['url']  # Include the URL inside metadata\n",
    "            }\n",
    "        }\n",
    "        for result in results\n",
    "    ]\n",
    "    \n",
    "    filtered_result = pongo_client.filter(docs=reranking_docs, query=summary, num_results=1)\n",
    "    filtered_docs = filtered_result.json()\n",
    "    top_doc = filtered_docs[0]\n",
    "    top_hash = convert_to_hash(extract_text_data(top_doc['metadata']['url']))\n",
    "    top_result_correct = top_hash == expected_hash\n",
    "\n",
    "    return dict(\n",
    "        result_in_pinecone_list=result_in_pinecone_list,\n",
    "        top_result_correct=top_result_correct,\n",
    "        language=language,\n",
    "        expected_hash=expected_hash,\n",
    "        top_hash=top_hash\n",
    "    )"
   ]
  },
  {
   "cell_type": "code",
   "execution_count": 92,
   "id": "e3e711b1-70bd-4dd7-95fa-b86f09858ab0",
   "metadata": {
    "execution": {
     "iopub.execute_input": "2024-08-24T13:57:06.348239Z",
     "iopub.status.busy": "2024-08-24T13:57:06.347606Z",
     "iopub.status.idle": "2024-08-24T13:57:06.359092Z",
     "shell.execute_reply": "2024-08-24T13:57:06.357645Z",
     "shell.execute_reply.started": "2024-08-24T13:57:06.348184Z"
    }
   },
   "outputs": [
    {
     "data": {
      "text/plain": [
       "{'language': 'english',\n",
       " 'summary': \"In a landmark case, a foreign national enrolled in a prestigious university in Metro Manila, Philippines, faced accusations of plagiarism after her dissertation was found to contain numerous uncredited passages from multiple sources. Despite initially passing her oral defense, the university's academic board later recommended the withdrawal of her degree due to the serious nature of the allegations. The student claimed she was denied due process, as the university did not allow her to fully address the charges against her before conferring the degree. After legal challenges, a higher court ruled in her favor, stating the university must restore her degree and ensure the student receives fair treatment in academic matters. This case raised significant questions regarding academic integrity, plagiarism, and students' rights in the educational system.\",\n",
       " 'expected_hash': '49bfbc0ca519af232f9a35286c73ba3d'}"
      ]
     },
     "execution_count": 92,
     "metadata": {},
     "output_type": "execute_result"
    }
   ],
   "source": [
    "synthetic_case_summaries[0]"
   ]
  },
  {
   "cell_type": "code",
   "execution_count": 97,
   "id": "38189c96-3248-4ffb-baf7-adf9b408aeff",
   "metadata": {
    "execution": {
     "iopub.execute_input": "2024-08-24T14:35:53.226742Z",
     "iopub.status.busy": "2024-08-24T14:35:53.225569Z",
     "iopub.status.idle": "2024-08-24T14:36:06.869611Z",
     "shell.execute_reply": "2024-08-24T14:36:06.868114Z",
     "shell.execute_reply.started": "2024-08-24T14:35:53.226685Z"
    }
   },
   "outputs": [
    {
     "data": {
      "text/plain": [
       "{'result_in_pinecone_list': True,\n",
       " 'top_result_correct': False,\n",
       " 'language': 'english',\n",
       " 'expected_hash': '49bfbc0ca519af232f9a35286c73ba3d',\n",
       " 'top_hash': '43daf184b92865d6471619c7d7cdf3ea'}"
      ]
     },
     "execution_count": 97,
     "metadata": {},
     "output_type": "execute_result"
    }
   ],
   "source": [
    "# Test the first item in synthetic data using Pongo reranker\n",
    "test_query_with_pongo(**synthetic_case_summaries[0])"
   ]
  },
  {
   "cell_type": "code",
   "execution_count": 104,
   "id": "2544d07e-ec97-488c-996e-39198dc9e938",
   "metadata": {
    "execution": {
     "iopub.execute_input": "2024-08-25T04:50:13.734992Z",
     "iopub.status.busy": "2024-08-25T04:50:13.734349Z",
     "iopub.status.idle": "2024-08-25T04:51:09.939222Z",
     "shell.execute_reply": "2024-08-25T04:51:09.937417Z",
     "shell.execute_reply.started": "2024-08-25T04:50:13.734936Z"
    }
   },
   "outputs": [
    {
     "name": "stderr",
     "output_type": "stream",
     "text": [
      "  8%|▊         | 24/315 [00:55<11:16,  2.32s/it]\n"
     ]
    },
    {
     "ename": "ConnectionError",
     "evalue": "('Connection aborted.', ConnectionResetError(104, 'Connection reset by peer'))",
     "output_type": "error",
     "traceback": [
      "\u001b[0;31m---------------------------------------------------------------------------\u001b[0m",
      "\u001b[0;31mOSError\u001b[0m                                   Traceback (most recent call last)",
      "File \u001b[0;32m/opt/conda/lib/python3.11/ssl.py:1055\u001b[0m, in \u001b[0;36mSSLSocket._create\u001b[0;34m(cls, sock, server_side, do_handshake_on_connect, suppress_ragged_eofs, server_hostname, context, session)\u001b[0m\n\u001b[1;32m   1054\u001b[0m \u001b[38;5;28;01mtry\u001b[39;00m:\n\u001b[0;32m-> 1055\u001b[0m     \u001b[38;5;28;43mself\u001b[39;49m\u001b[38;5;241;43m.\u001b[39;49m\u001b[43mgetpeername\u001b[49m\u001b[43m(\u001b[49m\u001b[43m)\u001b[49m\n\u001b[1;32m   1056\u001b[0m \u001b[38;5;28;01mexcept\u001b[39;00m \u001b[38;5;167;01mOSError\u001b[39;00m \u001b[38;5;28;01mas\u001b[39;00m e:\n",
      "\u001b[0;31mOSError\u001b[0m: [Errno 107] Transport endpoint is not connected",
      "\nDuring handling of the above exception, another exception occurred:\n",
      "\u001b[0;31mConnectionResetError\u001b[0m                      Traceback (most recent call last)",
      "File \u001b[0;32m/opt/conda/lib/python3.11/site-packages/urllib3/connectionpool.py:791\u001b[0m, in \u001b[0;36mHTTPConnectionPool.urlopen\u001b[0;34m(self, method, url, body, headers, retries, redirect, assert_same_host, timeout, pool_timeout, release_conn, chunked, body_pos, preload_content, decode_content, **response_kw)\u001b[0m\n\u001b[1;32m    790\u001b[0m \u001b[38;5;66;03m# Make the request on the HTTPConnection object\u001b[39;00m\n\u001b[0;32m--> 791\u001b[0m response \u001b[38;5;241m=\u001b[39m \u001b[38;5;28;43mself\u001b[39;49m\u001b[38;5;241;43m.\u001b[39;49m\u001b[43m_make_request\u001b[49m\u001b[43m(\u001b[49m\n\u001b[1;32m    792\u001b[0m \u001b[43m    \u001b[49m\u001b[43mconn\u001b[49m\u001b[43m,\u001b[49m\n\u001b[1;32m    793\u001b[0m \u001b[43m    \u001b[49m\u001b[43mmethod\u001b[49m\u001b[43m,\u001b[49m\n\u001b[1;32m    794\u001b[0m \u001b[43m    \u001b[49m\u001b[43murl\u001b[49m\u001b[43m,\u001b[49m\n\u001b[1;32m    795\u001b[0m \u001b[43m    \u001b[49m\u001b[43mtimeout\u001b[49m\u001b[38;5;241;43m=\u001b[39;49m\u001b[43mtimeout_obj\u001b[49m\u001b[43m,\u001b[49m\n\u001b[1;32m    796\u001b[0m \u001b[43m    \u001b[49m\u001b[43mbody\u001b[49m\u001b[38;5;241;43m=\u001b[39;49m\u001b[43mbody\u001b[49m\u001b[43m,\u001b[49m\n\u001b[1;32m    797\u001b[0m \u001b[43m    \u001b[49m\u001b[43mheaders\u001b[49m\u001b[38;5;241;43m=\u001b[39;49m\u001b[43mheaders\u001b[49m\u001b[43m,\u001b[49m\n\u001b[1;32m    798\u001b[0m \u001b[43m    \u001b[49m\u001b[43mchunked\u001b[49m\u001b[38;5;241;43m=\u001b[39;49m\u001b[43mchunked\u001b[49m\u001b[43m,\u001b[49m\n\u001b[1;32m    799\u001b[0m \u001b[43m    \u001b[49m\u001b[43mretries\u001b[49m\u001b[38;5;241;43m=\u001b[39;49m\u001b[43mretries\u001b[49m\u001b[43m,\u001b[49m\n\u001b[1;32m    800\u001b[0m \u001b[43m    \u001b[49m\u001b[43mresponse_conn\u001b[49m\u001b[38;5;241;43m=\u001b[39;49m\u001b[43mresponse_conn\u001b[49m\u001b[43m,\u001b[49m\n\u001b[1;32m    801\u001b[0m \u001b[43m    \u001b[49m\u001b[43mpreload_content\u001b[49m\u001b[38;5;241;43m=\u001b[39;49m\u001b[43mpreload_content\u001b[49m\u001b[43m,\u001b[49m\n\u001b[1;32m    802\u001b[0m \u001b[43m    \u001b[49m\u001b[43mdecode_content\u001b[49m\u001b[38;5;241;43m=\u001b[39;49m\u001b[43mdecode_content\u001b[49m\u001b[43m,\u001b[49m\n\u001b[1;32m    803\u001b[0m \u001b[43m    \u001b[49m\u001b[38;5;241;43m*\u001b[39;49m\u001b[38;5;241;43m*\u001b[39;49m\u001b[43mresponse_kw\u001b[49m\u001b[43m,\u001b[49m\n\u001b[1;32m    804\u001b[0m \u001b[43m\u001b[49m\u001b[43m)\u001b[49m\n\u001b[1;32m    806\u001b[0m \u001b[38;5;66;03m# Everything went great!\u001b[39;00m\n",
      "File \u001b[0;32m/opt/conda/lib/python3.11/site-packages/urllib3/connectionpool.py:492\u001b[0m, in \u001b[0;36mHTTPConnectionPool._make_request\u001b[0;34m(self, conn, method, url, body, headers, retries, timeout, chunked, response_conn, preload_content, decode_content, enforce_content_length)\u001b[0m\n\u001b[1;32m    491\u001b[0m         new_e \u001b[38;5;241m=\u001b[39m _wrap_proxy_error(new_e, conn\u001b[38;5;241m.\u001b[39mproxy\u001b[38;5;241m.\u001b[39mscheme)\n\u001b[0;32m--> 492\u001b[0m     \u001b[38;5;28;01mraise\u001b[39;00m new_e\n\u001b[1;32m    494\u001b[0m \u001b[38;5;66;03m# conn.request() calls http.client.*.request, not the method in\u001b[39;00m\n\u001b[1;32m    495\u001b[0m \u001b[38;5;66;03m# urllib3.request. It also calls makefile (recv) on the socket.\u001b[39;00m\n",
      "File \u001b[0;32m/opt/conda/lib/python3.11/site-packages/urllib3/connectionpool.py:468\u001b[0m, in \u001b[0;36mHTTPConnectionPool._make_request\u001b[0;34m(self, conn, method, url, body, headers, retries, timeout, chunked, response_conn, preload_content, decode_content, enforce_content_length)\u001b[0m\n\u001b[1;32m    467\u001b[0m \u001b[38;5;28;01mtry\u001b[39;00m:\n\u001b[0;32m--> 468\u001b[0m     \u001b[38;5;28;43mself\u001b[39;49m\u001b[38;5;241;43m.\u001b[39;49m\u001b[43m_validate_conn\u001b[49m\u001b[43m(\u001b[49m\u001b[43mconn\u001b[49m\u001b[43m)\u001b[49m\n\u001b[1;32m    469\u001b[0m \u001b[38;5;28;01mexcept\u001b[39;00m (SocketTimeout, BaseSSLError) \u001b[38;5;28;01mas\u001b[39;00m e:\n",
      "File \u001b[0;32m/opt/conda/lib/python3.11/site-packages/urllib3/connectionpool.py:1097\u001b[0m, in \u001b[0;36mHTTPSConnectionPool._validate_conn\u001b[0;34m(self, conn)\u001b[0m\n\u001b[1;32m   1096\u001b[0m \u001b[38;5;28;01mif\u001b[39;00m conn\u001b[38;5;241m.\u001b[39mis_closed:\n\u001b[0;32m-> 1097\u001b[0m     \u001b[43mconn\u001b[49m\u001b[38;5;241;43m.\u001b[39;49m\u001b[43mconnect\u001b[49m\u001b[43m(\u001b[49m\u001b[43m)\u001b[49m\n\u001b[1;32m   1099\u001b[0m \u001b[38;5;28;01mif\u001b[39;00m \u001b[38;5;129;01mnot\u001b[39;00m conn\u001b[38;5;241m.\u001b[39mis_verified:\n",
      "File \u001b[0;32m/opt/conda/lib/python3.11/site-packages/urllib3/connection.py:642\u001b[0m, in \u001b[0;36mHTTPSConnection.connect\u001b[0;34m(self)\u001b[0m\n\u001b[1;32m    634\u001b[0m     warnings\u001b[38;5;241m.\u001b[39mwarn(\n\u001b[1;32m    635\u001b[0m         (\n\u001b[1;32m    636\u001b[0m             \u001b[38;5;124mf\u001b[39m\u001b[38;5;124m\"\u001b[39m\u001b[38;5;124mSystem time is way off (before \u001b[39m\u001b[38;5;132;01m{\u001b[39;00mRECENT_DATE\u001b[38;5;132;01m}\u001b[39;00m\u001b[38;5;124m). This will probably \u001b[39m\u001b[38;5;124m\"\u001b[39m\n\u001b[0;32m   (...)\u001b[0m\n\u001b[1;32m    639\u001b[0m         SystemTimeWarning,\n\u001b[1;32m    640\u001b[0m     )\n\u001b[0;32m--> 642\u001b[0m sock_and_verified \u001b[38;5;241m=\u001b[39m \u001b[43m_ssl_wrap_socket_and_match_hostname\u001b[49m\u001b[43m(\u001b[49m\n\u001b[1;32m    643\u001b[0m \u001b[43m    \u001b[49m\u001b[43msock\u001b[49m\u001b[38;5;241;43m=\u001b[39;49m\u001b[43msock\u001b[49m\u001b[43m,\u001b[49m\n\u001b[1;32m    644\u001b[0m \u001b[43m    \u001b[49m\u001b[43mcert_reqs\u001b[49m\u001b[38;5;241;43m=\u001b[39;49m\u001b[38;5;28;43mself\u001b[39;49m\u001b[38;5;241;43m.\u001b[39;49m\u001b[43mcert_reqs\u001b[49m\u001b[43m,\u001b[49m\n\u001b[1;32m    645\u001b[0m \u001b[43m    \u001b[49m\u001b[43mssl_version\u001b[49m\u001b[38;5;241;43m=\u001b[39;49m\u001b[38;5;28;43mself\u001b[39;49m\u001b[38;5;241;43m.\u001b[39;49m\u001b[43mssl_version\u001b[49m\u001b[43m,\u001b[49m\n\u001b[1;32m    646\u001b[0m \u001b[43m    \u001b[49m\u001b[43mssl_minimum_version\u001b[49m\u001b[38;5;241;43m=\u001b[39;49m\u001b[38;5;28;43mself\u001b[39;49m\u001b[38;5;241;43m.\u001b[39;49m\u001b[43mssl_minimum_version\u001b[49m\u001b[43m,\u001b[49m\n\u001b[1;32m    647\u001b[0m \u001b[43m    \u001b[49m\u001b[43mssl_maximum_version\u001b[49m\u001b[38;5;241;43m=\u001b[39;49m\u001b[38;5;28;43mself\u001b[39;49m\u001b[38;5;241;43m.\u001b[39;49m\u001b[43mssl_maximum_version\u001b[49m\u001b[43m,\u001b[49m\n\u001b[1;32m    648\u001b[0m \u001b[43m    \u001b[49m\u001b[43mca_certs\u001b[49m\u001b[38;5;241;43m=\u001b[39;49m\u001b[38;5;28;43mself\u001b[39;49m\u001b[38;5;241;43m.\u001b[39;49m\u001b[43mca_certs\u001b[49m\u001b[43m,\u001b[49m\n\u001b[1;32m    649\u001b[0m \u001b[43m    \u001b[49m\u001b[43mca_cert_dir\u001b[49m\u001b[38;5;241;43m=\u001b[39;49m\u001b[38;5;28;43mself\u001b[39;49m\u001b[38;5;241;43m.\u001b[39;49m\u001b[43mca_cert_dir\u001b[49m\u001b[43m,\u001b[49m\n\u001b[1;32m    650\u001b[0m \u001b[43m    \u001b[49m\u001b[43mca_cert_data\u001b[49m\u001b[38;5;241;43m=\u001b[39;49m\u001b[38;5;28;43mself\u001b[39;49m\u001b[38;5;241;43m.\u001b[39;49m\u001b[43mca_cert_data\u001b[49m\u001b[43m,\u001b[49m\n\u001b[1;32m    651\u001b[0m \u001b[43m    \u001b[49m\u001b[43mcert_file\u001b[49m\u001b[38;5;241;43m=\u001b[39;49m\u001b[38;5;28;43mself\u001b[39;49m\u001b[38;5;241;43m.\u001b[39;49m\u001b[43mcert_file\u001b[49m\u001b[43m,\u001b[49m\n\u001b[1;32m    652\u001b[0m \u001b[43m    \u001b[49m\u001b[43mkey_file\u001b[49m\u001b[38;5;241;43m=\u001b[39;49m\u001b[38;5;28;43mself\u001b[39;49m\u001b[38;5;241;43m.\u001b[39;49m\u001b[43mkey_file\u001b[49m\u001b[43m,\u001b[49m\n\u001b[1;32m    653\u001b[0m \u001b[43m    \u001b[49m\u001b[43mkey_password\u001b[49m\u001b[38;5;241;43m=\u001b[39;49m\u001b[38;5;28;43mself\u001b[39;49m\u001b[38;5;241;43m.\u001b[39;49m\u001b[43mkey_password\u001b[49m\u001b[43m,\u001b[49m\n\u001b[1;32m    654\u001b[0m \u001b[43m    \u001b[49m\u001b[43mserver_hostname\u001b[49m\u001b[38;5;241;43m=\u001b[39;49m\u001b[43mserver_hostname\u001b[49m\u001b[43m,\u001b[49m\n\u001b[1;32m    655\u001b[0m \u001b[43m    \u001b[49m\u001b[43mssl_context\u001b[49m\u001b[38;5;241;43m=\u001b[39;49m\u001b[38;5;28;43mself\u001b[39;49m\u001b[38;5;241;43m.\u001b[39;49m\u001b[43mssl_context\u001b[49m\u001b[43m,\u001b[49m\n\u001b[1;32m    656\u001b[0m \u001b[43m    \u001b[49m\u001b[43mtls_in_tls\u001b[49m\u001b[38;5;241;43m=\u001b[39;49m\u001b[43mtls_in_tls\u001b[49m\u001b[43m,\u001b[49m\n\u001b[1;32m    657\u001b[0m \u001b[43m    \u001b[49m\u001b[43massert_hostname\u001b[49m\u001b[38;5;241;43m=\u001b[39;49m\u001b[38;5;28;43mself\u001b[39;49m\u001b[38;5;241;43m.\u001b[39;49m\u001b[43massert_hostname\u001b[49m\u001b[43m,\u001b[49m\n\u001b[1;32m    658\u001b[0m \u001b[43m    \u001b[49m\u001b[43massert_fingerprint\u001b[49m\u001b[38;5;241;43m=\u001b[39;49m\u001b[38;5;28;43mself\u001b[39;49m\u001b[38;5;241;43m.\u001b[39;49m\u001b[43massert_fingerprint\u001b[49m\u001b[43m,\u001b[49m\n\u001b[1;32m    659\u001b[0m \u001b[43m\u001b[49m\u001b[43m)\u001b[49m\n\u001b[1;32m    660\u001b[0m \u001b[38;5;28mself\u001b[39m\u001b[38;5;241m.\u001b[39msock \u001b[38;5;241m=\u001b[39m sock_and_verified\u001b[38;5;241m.\u001b[39msocket\n",
      "File \u001b[0;32m/opt/conda/lib/python3.11/site-packages/urllib3/connection.py:783\u001b[0m, in \u001b[0;36m_ssl_wrap_socket_and_match_hostname\u001b[0;34m(sock, cert_reqs, ssl_version, ssl_minimum_version, ssl_maximum_version, cert_file, key_file, key_password, ca_certs, ca_cert_dir, ca_cert_data, assert_hostname, assert_fingerprint, server_hostname, ssl_context, tls_in_tls)\u001b[0m\n\u001b[1;32m    781\u001b[0m         server_hostname \u001b[38;5;241m=\u001b[39m normalized\n\u001b[0;32m--> 783\u001b[0m ssl_sock \u001b[38;5;241m=\u001b[39m \u001b[43mssl_wrap_socket\u001b[49m\u001b[43m(\u001b[49m\n\u001b[1;32m    784\u001b[0m \u001b[43m    \u001b[49m\u001b[43msock\u001b[49m\u001b[38;5;241;43m=\u001b[39;49m\u001b[43msock\u001b[49m\u001b[43m,\u001b[49m\n\u001b[1;32m    785\u001b[0m \u001b[43m    \u001b[49m\u001b[43mkeyfile\u001b[49m\u001b[38;5;241;43m=\u001b[39;49m\u001b[43mkey_file\u001b[49m\u001b[43m,\u001b[49m\n\u001b[1;32m    786\u001b[0m \u001b[43m    \u001b[49m\u001b[43mcertfile\u001b[49m\u001b[38;5;241;43m=\u001b[39;49m\u001b[43mcert_file\u001b[49m\u001b[43m,\u001b[49m\n\u001b[1;32m    787\u001b[0m \u001b[43m    \u001b[49m\u001b[43mkey_password\u001b[49m\u001b[38;5;241;43m=\u001b[39;49m\u001b[43mkey_password\u001b[49m\u001b[43m,\u001b[49m\n\u001b[1;32m    788\u001b[0m \u001b[43m    \u001b[49m\u001b[43mca_certs\u001b[49m\u001b[38;5;241;43m=\u001b[39;49m\u001b[43mca_certs\u001b[49m\u001b[43m,\u001b[49m\n\u001b[1;32m    789\u001b[0m \u001b[43m    \u001b[49m\u001b[43mca_cert_dir\u001b[49m\u001b[38;5;241;43m=\u001b[39;49m\u001b[43mca_cert_dir\u001b[49m\u001b[43m,\u001b[49m\n\u001b[1;32m    790\u001b[0m \u001b[43m    \u001b[49m\u001b[43mca_cert_data\u001b[49m\u001b[38;5;241;43m=\u001b[39;49m\u001b[43mca_cert_data\u001b[49m\u001b[43m,\u001b[49m\n\u001b[1;32m    791\u001b[0m \u001b[43m    \u001b[49m\u001b[43mserver_hostname\u001b[49m\u001b[38;5;241;43m=\u001b[39;49m\u001b[43mserver_hostname\u001b[49m\u001b[43m,\u001b[49m\n\u001b[1;32m    792\u001b[0m \u001b[43m    \u001b[49m\u001b[43mssl_context\u001b[49m\u001b[38;5;241;43m=\u001b[39;49m\u001b[43mcontext\u001b[49m\u001b[43m,\u001b[49m\n\u001b[1;32m    793\u001b[0m \u001b[43m    \u001b[49m\u001b[43mtls_in_tls\u001b[49m\u001b[38;5;241;43m=\u001b[39;49m\u001b[43mtls_in_tls\u001b[49m\u001b[43m,\u001b[49m\n\u001b[1;32m    794\u001b[0m \u001b[43m\u001b[49m\u001b[43m)\u001b[49m\n\u001b[1;32m    796\u001b[0m \u001b[38;5;28;01mtry\u001b[39;00m:\n",
      "File \u001b[0;32m/opt/conda/lib/python3.11/site-packages/urllib3/util/ssl_.py:471\u001b[0m, in \u001b[0;36mssl_wrap_socket\u001b[0;34m(sock, keyfile, certfile, cert_reqs, ca_certs, server_hostname, ssl_version, ciphers, ssl_context, ca_cert_dir, key_password, ca_cert_data, tls_in_tls)\u001b[0m\n\u001b[1;32m    469\u001b[0m     \u001b[38;5;28;01mpass\u001b[39;00m\n\u001b[0;32m--> 471\u001b[0m ssl_sock \u001b[38;5;241m=\u001b[39m \u001b[43m_ssl_wrap_socket_impl\u001b[49m\u001b[43m(\u001b[49m\u001b[43msock\u001b[49m\u001b[43m,\u001b[49m\u001b[43m \u001b[49m\u001b[43mcontext\u001b[49m\u001b[43m,\u001b[49m\u001b[43m \u001b[49m\u001b[43mtls_in_tls\u001b[49m\u001b[43m,\u001b[49m\u001b[43m \u001b[49m\u001b[43mserver_hostname\u001b[49m\u001b[43m)\u001b[49m\n\u001b[1;32m    472\u001b[0m \u001b[38;5;28;01mreturn\u001b[39;00m ssl_sock\n",
      "File \u001b[0;32m/opt/conda/lib/python3.11/site-packages/urllib3/util/ssl_.py:515\u001b[0m, in \u001b[0;36m_ssl_wrap_socket_impl\u001b[0;34m(sock, ssl_context, tls_in_tls, server_hostname)\u001b[0m\n\u001b[1;32m    513\u001b[0m     \u001b[38;5;28;01mreturn\u001b[39;00m SSLTransport(sock, ssl_context, server_hostname)\n\u001b[0;32m--> 515\u001b[0m \u001b[38;5;28;01mreturn\u001b[39;00m \u001b[43mssl_context\u001b[49m\u001b[38;5;241;43m.\u001b[39;49m\u001b[43mwrap_socket\u001b[49m\u001b[43m(\u001b[49m\u001b[43msock\u001b[49m\u001b[43m,\u001b[49m\u001b[43m \u001b[49m\u001b[43mserver_hostname\u001b[49m\u001b[38;5;241;43m=\u001b[39;49m\u001b[43mserver_hostname\u001b[49m\u001b[43m)\u001b[49m\n",
      "File \u001b[0;32m/opt/conda/lib/python3.11/ssl.py:517\u001b[0m, in \u001b[0;36mSSLContext.wrap_socket\u001b[0;34m(self, sock, server_side, do_handshake_on_connect, suppress_ragged_eofs, server_hostname, session)\u001b[0m\n\u001b[1;32m    511\u001b[0m \u001b[38;5;28;01mdef\u001b[39;00m \u001b[38;5;21mwrap_socket\u001b[39m(\u001b[38;5;28mself\u001b[39m, sock, server_side\u001b[38;5;241m=\u001b[39m\u001b[38;5;28;01mFalse\u001b[39;00m,\n\u001b[1;32m    512\u001b[0m                 do_handshake_on_connect\u001b[38;5;241m=\u001b[39m\u001b[38;5;28;01mTrue\u001b[39;00m,\n\u001b[1;32m    513\u001b[0m                 suppress_ragged_eofs\u001b[38;5;241m=\u001b[39m\u001b[38;5;28;01mTrue\u001b[39;00m,\n\u001b[1;32m    514\u001b[0m                 server_hostname\u001b[38;5;241m=\u001b[39m\u001b[38;5;28;01mNone\u001b[39;00m, session\u001b[38;5;241m=\u001b[39m\u001b[38;5;28;01mNone\u001b[39;00m):\n\u001b[1;32m    515\u001b[0m     \u001b[38;5;66;03m# SSLSocket class handles server_hostname encoding before it calls\u001b[39;00m\n\u001b[1;32m    516\u001b[0m     \u001b[38;5;66;03m# ctx._wrap_socket()\u001b[39;00m\n\u001b[0;32m--> 517\u001b[0m     \u001b[38;5;28;01mreturn\u001b[39;00m \u001b[38;5;28;43mself\u001b[39;49m\u001b[38;5;241;43m.\u001b[39;49m\u001b[43msslsocket_class\u001b[49m\u001b[38;5;241;43m.\u001b[39;49m\u001b[43m_create\u001b[49m\u001b[43m(\u001b[49m\n\u001b[1;32m    518\u001b[0m \u001b[43m        \u001b[49m\u001b[43msock\u001b[49m\u001b[38;5;241;43m=\u001b[39;49m\u001b[43msock\u001b[49m\u001b[43m,\u001b[49m\n\u001b[1;32m    519\u001b[0m \u001b[43m        \u001b[49m\u001b[43mserver_side\u001b[49m\u001b[38;5;241;43m=\u001b[39;49m\u001b[43mserver_side\u001b[49m\u001b[43m,\u001b[49m\n\u001b[1;32m    520\u001b[0m \u001b[43m        \u001b[49m\u001b[43mdo_handshake_on_connect\u001b[49m\u001b[38;5;241;43m=\u001b[39;49m\u001b[43mdo_handshake_on_connect\u001b[49m\u001b[43m,\u001b[49m\n\u001b[1;32m    521\u001b[0m \u001b[43m        \u001b[49m\u001b[43msuppress_ragged_eofs\u001b[49m\u001b[38;5;241;43m=\u001b[39;49m\u001b[43msuppress_ragged_eofs\u001b[49m\u001b[43m,\u001b[49m\n\u001b[1;32m    522\u001b[0m \u001b[43m        \u001b[49m\u001b[43mserver_hostname\u001b[49m\u001b[38;5;241;43m=\u001b[39;49m\u001b[43mserver_hostname\u001b[49m\u001b[43m,\u001b[49m\n\u001b[1;32m    523\u001b[0m \u001b[43m        \u001b[49m\u001b[43mcontext\u001b[49m\u001b[38;5;241;43m=\u001b[39;49m\u001b[38;5;28;43mself\u001b[39;49m\u001b[43m,\u001b[49m\n\u001b[1;32m    524\u001b[0m \u001b[43m        \u001b[49m\u001b[43msession\u001b[49m\u001b[38;5;241;43m=\u001b[39;49m\u001b[43msession\u001b[49m\n\u001b[1;32m    525\u001b[0m \u001b[43m    \u001b[49m\u001b[43m)\u001b[49m\n",
      "File \u001b[0;32m/opt/conda/lib/python3.11/ssl.py:1067\u001b[0m, in \u001b[0;36mSSLSocket._create\u001b[0;34m(cls, sock, server_side, do_handshake_on_connect, suppress_ragged_eofs, server_hostname, context, session)\u001b[0m\n\u001b[1;32m   1062\u001b[0m \u001b[38;5;28;01mtry\u001b[39;00m:\n\u001b[1;32m   1063\u001b[0m     \u001b[38;5;66;03m# We are not connected so this is not supposed to block, but\u001b[39;00m\n\u001b[1;32m   1064\u001b[0m     \u001b[38;5;66;03m# testing revealed otherwise on macOS and Windows so we do\u001b[39;00m\n\u001b[1;32m   1065\u001b[0m     \u001b[38;5;66;03m# the non-blocking dance regardless. Our raise when any data\u001b[39;00m\n\u001b[1;32m   1066\u001b[0m     \u001b[38;5;66;03m# is found means consuming the data is harmless.\u001b[39;00m\n\u001b[0;32m-> 1067\u001b[0m     notconn_pre_handshake_data \u001b[38;5;241m=\u001b[39m \u001b[38;5;28;43mself\u001b[39;49m\u001b[38;5;241;43m.\u001b[39;49m\u001b[43mrecv\u001b[49m\u001b[43m(\u001b[49m\u001b[38;5;241;43m1\u001b[39;49m\u001b[43m)\u001b[49m\n\u001b[1;32m   1068\u001b[0m \u001b[38;5;28;01mexcept\u001b[39;00m \u001b[38;5;167;01mOSError\u001b[39;00m \u001b[38;5;28;01mas\u001b[39;00m e:\n\u001b[1;32m   1069\u001b[0m     \u001b[38;5;66;03m# EINVAL occurs for recv(1) on non-connected on unix sockets.\u001b[39;00m\n",
      "File \u001b[0;32m/opt/conda/lib/python3.11/ssl.py:1297\u001b[0m, in \u001b[0;36mSSLSocket.recv\u001b[0;34m(self, buflen, flags)\u001b[0m\n\u001b[1;32m   1296\u001b[0m \u001b[38;5;28;01melse\u001b[39;00m:\n\u001b[0;32m-> 1297\u001b[0m     \u001b[38;5;28;01mreturn\u001b[39;00m \u001b[38;5;28;43msuper\u001b[39;49m\u001b[43m(\u001b[49m\u001b[43m)\u001b[49m\u001b[38;5;241;43m.\u001b[39;49m\u001b[43mrecv\u001b[49m\u001b[43m(\u001b[49m\u001b[43mbuflen\u001b[49m\u001b[43m,\u001b[49m\u001b[43m \u001b[49m\u001b[43mflags\u001b[49m\u001b[43m)\u001b[49m\n",
      "\u001b[0;31mConnectionResetError\u001b[0m: [Errno 104] Connection reset by peer",
      "\nDuring handling of the above exception, another exception occurred:\n",
      "\u001b[0;31mProtocolError\u001b[0m                             Traceback (most recent call last)",
      "File \u001b[0;32m/opt/conda/lib/python3.11/site-packages/requests/adapters.py:486\u001b[0m, in \u001b[0;36mHTTPAdapter.send\u001b[0;34m(self, request, stream, timeout, verify, cert, proxies)\u001b[0m\n\u001b[1;32m    485\u001b[0m \u001b[38;5;28;01mtry\u001b[39;00m:\n\u001b[0;32m--> 486\u001b[0m     resp \u001b[38;5;241m=\u001b[39m \u001b[43mconn\u001b[49m\u001b[38;5;241;43m.\u001b[39;49m\u001b[43murlopen\u001b[49m\u001b[43m(\u001b[49m\n\u001b[1;32m    487\u001b[0m \u001b[43m        \u001b[49m\u001b[43mmethod\u001b[49m\u001b[38;5;241;43m=\u001b[39;49m\u001b[43mrequest\u001b[49m\u001b[38;5;241;43m.\u001b[39;49m\u001b[43mmethod\u001b[49m\u001b[43m,\u001b[49m\n\u001b[1;32m    488\u001b[0m \u001b[43m        \u001b[49m\u001b[43murl\u001b[49m\u001b[38;5;241;43m=\u001b[39;49m\u001b[43murl\u001b[49m\u001b[43m,\u001b[49m\n\u001b[1;32m    489\u001b[0m \u001b[43m        \u001b[49m\u001b[43mbody\u001b[49m\u001b[38;5;241;43m=\u001b[39;49m\u001b[43mrequest\u001b[49m\u001b[38;5;241;43m.\u001b[39;49m\u001b[43mbody\u001b[49m\u001b[43m,\u001b[49m\n\u001b[1;32m    490\u001b[0m \u001b[43m        \u001b[49m\u001b[43mheaders\u001b[49m\u001b[38;5;241;43m=\u001b[39;49m\u001b[43mrequest\u001b[49m\u001b[38;5;241;43m.\u001b[39;49m\u001b[43mheaders\u001b[49m\u001b[43m,\u001b[49m\n\u001b[1;32m    491\u001b[0m \u001b[43m        \u001b[49m\u001b[43mredirect\u001b[49m\u001b[38;5;241;43m=\u001b[39;49m\u001b[38;5;28;43;01mFalse\u001b[39;49;00m\u001b[43m,\u001b[49m\n\u001b[1;32m    492\u001b[0m \u001b[43m        \u001b[49m\u001b[43massert_same_host\u001b[49m\u001b[38;5;241;43m=\u001b[39;49m\u001b[38;5;28;43;01mFalse\u001b[39;49;00m\u001b[43m,\u001b[49m\n\u001b[1;32m    493\u001b[0m \u001b[43m        \u001b[49m\u001b[43mpreload_content\u001b[49m\u001b[38;5;241;43m=\u001b[39;49m\u001b[38;5;28;43;01mFalse\u001b[39;49;00m\u001b[43m,\u001b[49m\n\u001b[1;32m    494\u001b[0m \u001b[43m        \u001b[49m\u001b[43mdecode_content\u001b[49m\u001b[38;5;241;43m=\u001b[39;49m\u001b[38;5;28;43;01mFalse\u001b[39;49;00m\u001b[43m,\u001b[49m\n\u001b[1;32m    495\u001b[0m \u001b[43m        \u001b[49m\u001b[43mretries\u001b[49m\u001b[38;5;241;43m=\u001b[39;49m\u001b[38;5;28;43mself\u001b[39;49m\u001b[38;5;241;43m.\u001b[39;49m\u001b[43mmax_retries\u001b[49m\u001b[43m,\u001b[49m\n\u001b[1;32m    496\u001b[0m \u001b[43m        \u001b[49m\u001b[43mtimeout\u001b[49m\u001b[38;5;241;43m=\u001b[39;49m\u001b[43mtimeout\u001b[49m\u001b[43m,\u001b[49m\n\u001b[1;32m    497\u001b[0m \u001b[43m        \u001b[49m\u001b[43mchunked\u001b[49m\u001b[38;5;241;43m=\u001b[39;49m\u001b[43mchunked\u001b[49m\u001b[43m,\u001b[49m\n\u001b[1;32m    498\u001b[0m \u001b[43m    \u001b[49m\u001b[43m)\u001b[49m\n\u001b[1;32m    500\u001b[0m \u001b[38;5;28;01mexcept\u001b[39;00m (ProtocolError, \u001b[38;5;167;01mOSError\u001b[39;00m) \u001b[38;5;28;01mas\u001b[39;00m err:\n",
      "File \u001b[0;32m/opt/conda/lib/python3.11/site-packages/urllib3/connectionpool.py:845\u001b[0m, in \u001b[0;36mHTTPConnectionPool.urlopen\u001b[0;34m(self, method, url, body, headers, retries, redirect, assert_same_host, timeout, pool_timeout, release_conn, chunked, body_pos, preload_content, decode_content, **response_kw)\u001b[0m\n\u001b[1;32m    843\u001b[0m     new_e \u001b[38;5;241m=\u001b[39m ProtocolError(\u001b[38;5;124m\"\u001b[39m\u001b[38;5;124mConnection aborted.\u001b[39m\u001b[38;5;124m\"\u001b[39m, new_e)\n\u001b[0;32m--> 845\u001b[0m retries \u001b[38;5;241m=\u001b[39m \u001b[43mretries\u001b[49m\u001b[38;5;241;43m.\u001b[39;49m\u001b[43mincrement\u001b[49m\u001b[43m(\u001b[49m\n\u001b[1;32m    846\u001b[0m \u001b[43m    \u001b[49m\u001b[43mmethod\u001b[49m\u001b[43m,\u001b[49m\u001b[43m \u001b[49m\u001b[43murl\u001b[49m\u001b[43m,\u001b[49m\u001b[43m \u001b[49m\u001b[43merror\u001b[49m\u001b[38;5;241;43m=\u001b[39;49m\u001b[43mnew_e\u001b[49m\u001b[43m,\u001b[49m\u001b[43m \u001b[49m\u001b[43m_pool\u001b[49m\u001b[38;5;241;43m=\u001b[39;49m\u001b[38;5;28;43mself\u001b[39;49m\u001b[43m,\u001b[49m\u001b[43m \u001b[49m\u001b[43m_stacktrace\u001b[49m\u001b[38;5;241;43m=\u001b[39;49m\u001b[43msys\u001b[49m\u001b[38;5;241;43m.\u001b[39;49m\u001b[43mexc_info\u001b[49m\u001b[43m(\u001b[49m\u001b[43m)\u001b[49m\u001b[43m[\u001b[49m\u001b[38;5;241;43m2\u001b[39;49m\u001b[43m]\u001b[49m\n\u001b[1;32m    847\u001b[0m \u001b[43m\u001b[49m\u001b[43m)\u001b[49m\n\u001b[1;32m    848\u001b[0m retries\u001b[38;5;241m.\u001b[39msleep()\n",
      "File \u001b[0;32m/opt/conda/lib/python3.11/site-packages/urllib3/util/retry.py:470\u001b[0m, in \u001b[0;36mRetry.increment\u001b[0;34m(self, method, url, response, error, _pool, _stacktrace)\u001b[0m\n\u001b[1;32m    469\u001b[0m \u001b[38;5;28;01mif\u001b[39;00m read \u001b[38;5;129;01mis\u001b[39;00m \u001b[38;5;28;01mFalse\u001b[39;00m \u001b[38;5;129;01mor\u001b[39;00m method \u001b[38;5;129;01mis\u001b[39;00m \u001b[38;5;28;01mNone\u001b[39;00m \u001b[38;5;129;01mor\u001b[39;00m \u001b[38;5;129;01mnot\u001b[39;00m \u001b[38;5;28mself\u001b[39m\u001b[38;5;241m.\u001b[39m_is_method_retryable(method):\n\u001b[0;32m--> 470\u001b[0m     \u001b[38;5;28;01mraise\u001b[39;00m \u001b[43mreraise\u001b[49m\u001b[43m(\u001b[49m\u001b[38;5;28;43mtype\u001b[39;49m\u001b[43m(\u001b[49m\u001b[43merror\u001b[49m\u001b[43m)\u001b[49m\u001b[43m,\u001b[49m\u001b[43m \u001b[49m\u001b[43merror\u001b[49m\u001b[43m,\u001b[49m\u001b[43m \u001b[49m\u001b[43m_stacktrace\u001b[49m\u001b[43m)\u001b[49m\n\u001b[1;32m    471\u001b[0m \u001b[38;5;28;01melif\u001b[39;00m read \u001b[38;5;129;01mis\u001b[39;00m \u001b[38;5;129;01mnot\u001b[39;00m \u001b[38;5;28;01mNone\u001b[39;00m:\n",
      "File \u001b[0;32m/opt/conda/lib/python3.11/site-packages/urllib3/util/util.py:38\u001b[0m, in \u001b[0;36mreraise\u001b[0;34m(tp, value, tb)\u001b[0m\n\u001b[1;32m     37\u001b[0m \u001b[38;5;28;01mif\u001b[39;00m value\u001b[38;5;241m.\u001b[39m__traceback__ \u001b[38;5;129;01mis\u001b[39;00m \u001b[38;5;129;01mnot\u001b[39;00m tb:\n\u001b[0;32m---> 38\u001b[0m     \u001b[38;5;28;01mraise\u001b[39;00m value\u001b[38;5;241m.\u001b[39mwith_traceback(tb)\n\u001b[1;32m     39\u001b[0m \u001b[38;5;28;01mraise\u001b[39;00m value\n",
      "File \u001b[0;32m/opt/conda/lib/python3.11/site-packages/urllib3/connectionpool.py:791\u001b[0m, in \u001b[0;36mHTTPConnectionPool.urlopen\u001b[0;34m(self, method, url, body, headers, retries, redirect, assert_same_host, timeout, pool_timeout, release_conn, chunked, body_pos, preload_content, decode_content, **response_kw)\u001b[0m\n\u001b[1;32m    790\u001b[0m \u001b[38;5;66;03m# Make the request on the HTTPConnection object\u001b[39;00m\n\u001b[0;32m--> 791\u001b[0m response \u001b[38;5;241m=\u001b[39m \u001b[38;5;28;43mself\u001b[39;49m\u001b[38;5;241;43m.\u001b[39;49m\u001b[43m_make_request\u001b[49m\u001b[43m(\u001b[49m\n\u001b[1;32m    792\u001b[0m \u001b[43m    \u001b[49m\u001b[43mconn\u001b[49m\u001b[43m,\u001b[49m\n\u001b[1;32m    793\u001b[0m \u001b[43m    \u001b[49m\u001b[43mmethod\u001b[49m\u001b[43m,\u001b[49m\n\u001b[1;32m    794\u001b[0m \u001b[43m    \u001b[49m\u001b[43murl\u001b[49m\u001b[43m,\u001b[49m\n\u001b[1;32m    795\u001b[0m \u001b[43m    \u001b[49m\u001b[43mtimeout\u001b[49m\u001b[38;5;241;43m=\u001b[39;49m\u001b[43mtimeout_obj\u001b[49m\u001b[43m,\u001b[49m\n\u001b[1;32m    796\u001b[0m \u001b[43m    \u001b[49m\u001b[43mbody\u001b[49m\u001b[38;5;241;43m=\u001b[39;49m\u001b[43mbody\u001b[49m\u001b[43m,\u001b[49m\n\u001b[1;32m    797\u001b[0m \u001b[43m    \u001b[49m\u001b[43mheaders\u001b[49m\u001b[38;5;241;43m=\u001b[39;49m\u001b[43mheaders\u001b[49m\u001b[43m,\u001b[49m\n\u001b[1;32m    798\u001b[0m \u001b[43m    \u001b[49m\u001b[43mchunked\u001b[49m\u001b[38;5;241;43m=\u001b[39;49m\u001b[43mchunked\u001b[49m\u001b[43m,\u001b[49m\n\u001b[1;32m    799\u001b[0m \u001b[43m    \u001b[49m\u001b[43mretries\u001b[49m\u001b[38;5;241;43m=\u001b[39;49m\u001b[43mretries\u001b[49m\u001b[43m,\u001b[49m\n\u001b[1;32m    800\u001b[0m \u001b[43m    \u001b[49m\u001b[43mresponse_conn\u001b[49m\u001b[38;5;241;43m=\u001b[39;49m\u001b[43mresponse_conn\u001b[49m\u001b[43m,\u001b[49m\n\u001b[1;32m    801\u001b[0m \u001b[43m    \u001b[49m\u001b[43mpreload_content\u001b[49m\u001b[38;5;241;43m=\u001b[39;49m\u001b[43mpreload_content\u001b[49m\u001b[43m,\u001b[49m\n\u001b[1;32m    802\u001b[0m \u001b[43m    \u001b[49m\u001b[43mdecode_content\u001b[49m\u001b[38;5;241;43m=\u001b[39;49m\u001b[43mdecode_content\u001b[49m\u001b[43m,\u001b[49m\n\u001b[1;32m    803\u001b[0m \u001b[43m    \u001b[49m\u001b[38;5;241;43m*\u001b[39;49m\u001b[38;5;241;43m*\u001b[39;49m\u001b[43mresponse_kw\u001b[49m\u001b[43m,\u001b[49m\n\u001b[1;32m    804\u001b[0m \u001b[43m\u001b[49m\u001b[43m)\u001b[49m\n\u001b[1;32m    806\u001b[0m \u001b[38;5;66;03m# Everything went great!\u001b[39;00m\n",
      "File \u001b[0;32m/opt/conda/lib/python3.11/site-packages/urllib3/connectionpool.py:492\u001b[0m, in \u001b[0;36mHTTPConnectionPool._make_request\u001b[0;34m(self, conn, method, url, body, headers, retries, timeout, chunked, response_conn, preload_content, decode_content, enforce_content_length)\u001b[0m\n\u001b[1;32m    491\u001b[0m         new_e \u001b[38;5;241m=\u001b[39m _wrap_proxy_error(new_e, conn\u001b[38;5;241m.\u001b[39mproxy\u001b[38;5;241m.\u001b[39mscheme)\n\u001b[0;32m--> 492\u001b[0m     \u001b[38;5;28;01mraise\u001b[39;00m new_e\n\u001b[1;32m    494\u001b[0m \u001b[38;5;66;03m# conn.request() calls http.client.*.request, not the method in\u001b[39;00m\n\u001b[1;32m    495\u001b[0m \u001b[38;5;66;03m# urllib3.request. It also calls makefile (recv) on the socket.\u001b[39;00m\n",
      "File \u001b[0;32m/opt/conda/lib/python3.11/site-packages/urllib3/connectionpool.py:468\u001b[0m, in \u001b[0;36mHTTPConnectionPool._make_request\u001b[0;34m(self, conn, method, url, body, headers, retries, timeout, chunked, response_conn, preload_content, decode_content, enforce_content_length)\u001b[0m\n\u001b[1;32m    467\u001b[0m \u001b[38;5;28;01mtry\u001b[39;00m:\n\u001b[0;32m--> 468\u001b[0m     \u001b[38;5;28;43mself\u001b[39;49m\u001b[38;5;241;43m.\u001b[39;49m\u001b[43m_validate_conn\u001b[49m\u001b[43m(\u001b[49m\u001b[43mconn\u001b[49m\u001b[43m)\u001b[49m\n\u001b[1;32m    469\u001b[0m \u001b[38;5;28;01mexcept\u001b[39;00m (SocketTimeout, BaseSSLError) \u001b[38;5;28;01mas\u001b[39;00m e:\n",
      "File \u001b[0;32m/opt/conda/lib/python3.11/site-packages/urllib3/connectionpool.py:1097\u001b[0m, in \u001b[0;36mHTTPSConnectionPool._validate_conn\u001b[0;34m(self, conn)\u001b[0m\n\u001b[1;32m   1096\u001b[0m \u001b[38;5;28;01mif\u001b[39;00m conn\u001b[38;5;241m.\u001b[39mis_closed:\n\u001b[0;32m-> 1097\u001b[0m     \u001b[43mconn\u001b[49m\u001b[38;5;241;43m.\u001b[39;49m\u001b[43mconnect\u001b[49m\u001b[43m(\u001b[49m\u001b[43m)\u001b[49m\n\u001b[1;32m   1099\u001b[0m \u001b[38;5;28;01mif\u001b[39;00m \u001b[38;5;129;01mnot\u001b[39;00m conn\u001b[38;5;241m.\u001b[39mis_verified:\n",
      "File \u001b[0;32m/opt/conda/lib/python3.11/site-packages/urllib3/connection.py:642\u001b[0m, in \u001b[0;36mHTTPSConnection.connect\u001b[0;34m(self)\u001b[0m\n\u001b[1;32m    634\u001b[0m     warnings\u001b[38;5;241m.\u001b[39mwarn(\n\u001b[1;32m    635\u001b[0m         (\n\u001b[1;32m    636\u001b[0m             \u001b[38;5;124mf\u001b[39m\u001b[38;5;124m\"\u001b[39m\u001b[38;5;124mSystem time is way off (before \u001b[39m\u001b[38;5;132;01m{\u001b[39;00mRECENT_DATE\u001b[38;5;132;01m}\u001b[39;00m\u001b[38;5;124m). This will probably \u001b[39m\u001b[38;5;124m\"\u001b[39m\n\u001b[0;32m   (...)\u001b[0m\n\u001b[1;32m    639\u001b[0m         SystemTimeWarning,\n\u001b[1;32m    640\u001b[0m     )\n\u001b[0;32m--> 642\u001b[0m sock_and_verified \u001b[38;5;241m=\u001b[39m \u001b[43m_ssl_wrap_socket_and_match_hostname\u001b[49m\u001b[43m(\u001b[49m\n\u001b[1;32m    643\u001b[0m \u001b[43m    \u001b[49m\u001b[43msock\u001b[49m\u001b[38;5;241;43m=\u001b[39;49m\u001b[43msock\u001b[49m\u001b[43m,\u001b[49m\n\u001b[1;32m    644\u001b[0m \u001b[43m    \u001b[49m\u001b[43mcert_reqs\u001b[49m\u001b[38;5;241;43m=\u001b[39;49m\u001b[38;5;28;43mself\u001b[39;49m\u001b[38;5;241;43m.\u001b[39;49m\u001b[43mcert_reqs\u001b[49m\u001b[43m,\u001b[49m\n\u001b[1;32m    645\u001b[0m \u001b[43m    \u001b[49m\u001b[43mssl_version\u001b[49m\u001b[38;5;241;43m=\u001b[39;49m\u001b[38;5;28;43mself\u001b[39;49m\u001b[38;5;241;43m.\u001b[39;49m\u001b[43mssl_version\u001b[49m\u001b[43m,\u001b[49m\n\u001b[1;32m    646\u001b[0m \u001b[43m    \u001b[49m\u001b[43mssl_minimum_version\u001b[49m\u001b[38;5;241;43m=\u001b[39;49m\u001b[38;5;28;43mself\u001b[39;49m\u001b[38;5;241;43m.\u001b[39;49m\u001b[43mssl_minimum_version\u001b[49m\u001b[43m,\u001b[49m\n\u001b[1;32m    647\u001b[0m \u001b[43m    \u001b[49m\u001b[43mssl_maximum_version\u001b[49m\u001b[38;5;241;43m=\u001b[39;49m\u001b[38;5;28;43mself\u001b[39;49m\u001b[38;5;241;43m.\u001b[39;49m\u001b[43mssl_maximum_version\u001b[49m\u001b[43m,\u001b[49m\n\u001b[1;32m    648\u001b[0m \u001b[43m    \u001b[49m\u001b[43mca_certs\u001b[49m\u001b[38;5;241;43m=\u001b[39;49m\u001b[38;5;28;43mself\u001b[39;49m\u001b[38;5;241;43m.\u001b[39;49m\u001b[43mca_certs\u001b[49m\u001b[43m,\u001b[49m\n\u001b[1;32m    649\u001b[0m \u001b[43m    \u001b[49m\u001b[43mca_cert_dir\u001b[49m\u001b[38;5;241;43m=\u001b[39;49m\u001b[38;5;28;43mself\u001b[39;49m\u001b[38;5;241;43m.\u001b[39;49m\u001b[43mca_cert_dir\u001b[49m\u001b[43m,\u001b[49m\n\u001b[1;32m    650\u001b[0m \u001b[43m    \u001b[49m\u001b[43mca_cert_data\u001b[49m\u001b[38;5;241;43m=\u001b[39;49m\u001b[38;5;28;43mself\u001b[39;49m\u001b[38;5;241;43m.\u001b[39;49m\u001b[43mca_cert_data\u001b[49m\u001b[43m,\u001b[49m\n\u001b[1;32m    651\u001b[0m \u001b[43m    \u001b[49m\u001b[43mcert_file\u001b[49m\u001b[38;5;241;43m=\u001b[39;49m\u001b[38;5;28;43mself\u001b[39;49m\u001b[38;5;241;43m.\u001b[39;49m\u001b[43mcert_file\u001b[49m\u001b[43m,\u001b[49m\n\u001b[1;32m    652\u001b[0m \u001b[43m    \u001b[49m\u001b[43mkey_file\u001b[49m\u001b[38;5;241;43m=\u001b[39;49m\u001b[38;5;28;43mself\u001b[39;49m\u001b[38;5;241;43m.\u001b[39;49m\u001b[43mkey_file\u001b[49m\u001b[43m,\u001b[49m\n\u001b[1;32m    653\u001b[0m \u001b[43m    \u001b[49m\u001b[43mkey_password\u001b[49m\u001b[38;5;241;43m=\u001b[39;49m\u001b[38;5;28;43mself\u001b[39;49m\u001b[38;5;241;43m.\u001b[39;49m\u001b[43mkey_password\u001b[49m\u001b[43m,\u001b[49m\n\u001b[1;32m    654\u001b[0m \u001b[43m    \u001b[49m\u001b[43mserver_hostname\u001b[49m\u001b[38;5;241;43m=\u001b[39;49m\u001b[43mserver_hostname\u001b[49m\u001b[43m,\u001b[49m\n\u001b[1;32m    655\u001b[0m \u001b[43m    \u001b[49m\u001b[43mssl_context\u001b[49m\u001b[38;5;241;43m=\u001b[39;49m\u001b[38;5;28;43mself\u001b[39;49m\u001b[38;5;241;43m.\u001b[39;49m\u001b[43mssl_context\u001b[49m\u001b[43m,\u001b[49m\n\u001b[1;32m    656\u001b[0m \u001b[43m    \u001b[49m\u001b[43mtls_in_tls\u001b[49m\u001b[38;5;241;43m=\u001b[39;49m\u001b[43mtls_in_tls\u001b[49m\u001b[43m,\u001b[49m\n\u001b[1;32m    657\u001b[0m \u001b[43m    \u001b[49m\u001b[43massert_hostname\u001b[49m\u001b[38;5;241;43m=\u001b[39;49m\u001b[38;5;28;43mself\u001b[39;49m\u001b[38;5;241;43m.\u001b[39;49m\u001b[43massert_hostname\u001b[49m\u001b[43m,\u001b[49m\n\u001b[1;32m    658\u001b[0m \u001b[43m    \u001b[49m\u001b[43massert_fingerprint\u001b[49m\u001b[38;5;241;43m=\u001b[39;49m\u001b[38;5;28;43mself\u001b[39;49m\u001b[38;5;241;43m.\u001b[39;49m\u001b[43massert_fingerprint\u001b[49m\u001b[43m,\u001b[49m\n\u001b[1;32m    659\u001b[0m \u001b[43m\u001b[49m\u001b[43m)\u001b[49m\n\u001b[1;32m    660\u001b[0m \u001b[38;5;28mself\u001b[39m\u001b[38;5;241m.\u001b[39msock \u001b[38;5;241m=\u001b[39m sock_and_verified\u001b[38;5;241m.\u001b[39msocket\n",
      "File \u001b[0;32m/opt/conda/lib/python3.11/site-packages/urllib3/connection.py:783\u001b[0m, in \u001b[0;36m_ssl_wrap_socket_and_match_hostname\u001b[0;34m(sock, cert_reqs, ssl_version, ssl_minimum_version, ssl_maximum_version, cert_file, key_file, key_password, ca_certs, ca_cert_dir, ca_cert_data, assert_hostname, assert_fingerprint, server_hostname, ssl_context, tls_in_tls)\u001b[0m\n\u001b[1;32m    781\u001b[0m         server_hostname \u001b[38;5;241m=\u001b[39m normalized\n\u001b[0;32m--> 783\u001b[0m ssl_sock \u001b[38;5;241m=\u001b[39m \u001b[43mssl_wrap_socket\u001b[49m\u001b[43m(\u001b[49m\n\u001b[1;32m    784\u001b[0m \u001b[43m    \u001b[49m\u001b[43msock\u001b[49m\u001b[38;5;241;43m=\u001b[39;49m\u001b[43msock\u001b[49m\u001b[43m,\u001b[49m\n\u001b[1;32m    785\u001b[0m \u001b[43m    \u001b[49m\u001b[43mkeyfile\u001b[49m\u001b[38;5;241;43m=\u001b[39;49m\u001b[43mkey_file\u001b[49m\u001b[43m,\u001b[49m\n\u001b[1;32m    786\u001b[0m \u001b[43m    \u001b[49m\u001b[43mcertfile\u001b[49m\u001b[38;5;241;43m=\u001b[39;49m\u001b[43mcert_file\u001b[49m\u001b[43m,\u001b[49m\n\u001b[1;32m    787\u001b[0m \u001b[43m    \u001b[49m\u001b[43mkey_password\u001b[49m\u001b[38;5;241;43m=\u001b[39;49m\u001b[43mkey_password\u001b[49m\u001b[43m,\u001b[49m\n\u001b[1;32m    788\u001b[0m \u001b[43m    \u001b[49m\u001b[43mca_certs\u001b[49m\u001b[38;5;241;43m=\u001b[39;49m\u001b[43mca_certs\u001b[49m\u001b[43m,\u001b[49m\n\u001b[1;32m    789\u001b[0m \u001b[43m    \u001b[49m\u001b[43mca_cert_dir\u001b[49m\u001b[38;5;241;43m=\u001b[39;49m\u001b[43mca_cert_dir\u001b[49m\u001b[43m,\u001b[49m\n\u001b[1;32m    790\u001b[0m \u001b[43m    \u001b[49m\u001b[43mca_cert_data\u001b[49m\u001b[38;5;241;43m=\u001b[39;49m\u001b[43mca_cert_data\u001b[49m\u001b[43m,\u001b[49m\n\u001b[1;32m    791\u001b[0m \u001b[43m    \u001b[49m\u001b[43mserver_hostname\u001b[49m\u001b[38;5;241;43m=\u001b[39;49m\u001b[43mserver_hostname\u001b[49m\u001b[43m,\u001b[49m\n\u001b[1;32m    792\u001b[0m \u001b[43m    \u001b[49m\u001b[43mssl_context\u001b[49m\u001b[38;5;241;43m=\u001b[39;49m\u001b[43mcontext\u001b[49m\u001b[43m,\u001b[49m\n\u001b[1;32m    793\u001b[0m \u001b[43m    \u001b[49m\u001b[43mtls_in_tls\u001b[49m\u001b[38;5;241;43m=\u001b[39;49m\u001b[43mtls_in_tls\u001b[49m\u001b[43m,\u001b[49m\n\u001b[1;32m    794\u001b[0m \u001b[43m\u001b[49m\u001b[43m)\u001b[49m\n\u001b[1;32m    796\u001b[0m \u001b[38;5;28;01mtry\u001b[39;00m:\n",
      "File \u001b[0;32m/opt/conda/lib/python3.11/site-packages/urllib3/util/ssl_.py:471\u001b[0m, in \u001b[0;36mssl_wrap_socket\u001b[0;34m(sock, keyfile, certfile, cert_reqs, ca_certs, server_hostname, ssl_version, ciphers, ssl_context, ca_cert_dir, key_password, ca_cert_data, tls_in_tls)\u001b[0m\n\u001b[1;32m    469\u001b[0m     \u001b[38;5;28;01mpass\u001b[39;00m\n\u001b[0;32m--> 471\u001b[0m ssl_sock \u001b[38;5;241m=\u001b[39m \u001b[43m_ssl_wrap_socket_impl\u001b[49m\u001b[43m(\u001b[49m\u001b[43msock\u001b[49m\u001b[43m,\u001b[49m\u001b[43m \u001b[49m\u001b[43mcontext\u001b[49m\u001b[43m,\u001b[49m\u001b[43m \u001b[49m\u001b[43mtls_in_tls\u001b[49m\u001b[43m,\u001b[49m\u001b[43m \u001b[49m\u001b[43mserver_hostname\u001b[49m\u001b[43m)\u001b[49m\n\u001b[1;32m    472\u001b[0m \u001b[38;5;28;01mreturn\u001b[39;00m ssl_sock\n",
      "File \u001b[0;32m/opt/conda/lib/python3.11/site-packages/urllib3/util/ssl_.py:515\u001b[0m, in \u001b[0;36m_ssl_wrap_socket_impl\u001b[0;34m(sock, ssl_context, tls_in_tls, server_hostname)\u001b[0m\n\u001b[1;32m    513\u001b[0m     \u001b[38;5;28;01mreturn\u001b[39;00m SSLTransport(sock, ssl_context, server_hostname)\n\u001b[0;32m--> 515\u001b[0m \u001b[38;5;28;01mreturn\u001b[39;00m \u001b[43mssl_context\u001b[49m\u001b[38;5;241;43m.\u001b[39;49m\u001b[43mwrap_socket\u001b[49m\u001b[43m(\u001b[49m\u001b[43msock\u001b[49m\u001b[43m,\u001b[49m\u001b[43m \u001b[49m\u001b[43mserver_hostname\u001b[49m\u001b[38;5;241;43m=\u001b[39;49m\u001b[43mserver_hostname\u001b[49m\u001b[43m)\u001b[49m\n",
      "File \u001b[0;32m/opt/conda/lib/python3.11/ssl.py:517\u001b[0m, in \u001b[0;36mSSLContext.wrap_socket\u001b[0;34m(self, sock, server_side, do_handshake_on_connect, suppress_ragged_eofs, server_hostname, session)\u001b[0m\n\u001b[1;32m    511\u001b[0m \u001b[38;5;28;01mdef\u001b[39;00m \u001b[38;5;21mwrap_socket\u001b[39m(\u001b[38;5;28mself\u001b[39m, sock, server_side\u001b[38;5;241m=\u001b[39m\u001b[38;5;28;01mFalse\u001b[39;00m,\n\u001b[1;32m    512\u001b[0m                 do_handshake_on_connect\u001b[38;5;241m=\u001b[39m\u001b[38;5;28;01mTrue\u001b[39;00m,\n\u001b[1;32m    513\u001b[0m                 suppress_ragged_eofs\u001b[38;5;241m=\u001b[39m\u001b[38;5;28;01mTrue\u001b[39;00m,\n\u001b[1;32m    514\u001b[0m                 server_hostname\u001b[38;5;241m=\u001b[39m\u001b[38;5;28;01mNone\u001b[39;00m, session\u001b[38;5;241m=\u001b[39m\u001b[38;5;28;01mNone\u001b[39;00m):\n\u001b[1;32m    515\u001b[0m     \u001b[38;5;66;03m# SSLSocket class handles server_hostname encoding before it calls\u001b[39;00m\n\u001b[1;32m    516\u001b[0m     \u001b[38;5;66;03m# ctx._wrap_socket()\u001b[39;00m\n\u001b[0;32m--> 517\u001b[0m     \u001b[38;5;28;01mreturn\u001b[39;00m \u001b[38;5;28;43mself\u001b[39;49m\u001b[38;5;241;43m.\u001b[39;49m\u001b[43msslsocket_class\u001b[49m\u001b[38;5;241;43m.\u001b[39;49m\u001b[43m_create\u001b[49m\u001b[43m(\u001b[49m\n\u001b[1;32m    518\u001b[0m \u001b[43m        \u001b[49m\u001b[43msock\u001b[49m\u001b[38;5;241;43m=\u001b[39;49m\u001b[43msock\u001b[49m\u001b[43m,\u001b[49m\n\u001b[1;32m    519\u001b[0m \u001b[43m        \u001b[49m\u001b[43mserver_side\u001b[49m\u001b[38;5;241;43m=\u001b[39;49m\u001b[43mserver_side\u001b[49m\u001b[43m,\u001b[49m\n\u001b[1;32m    520\u001b[0m \u001b[43m        \u001b[49m\u001b[43mdo_handshake_on_connect\u001b[49m\u001b[38;5;241;43m=\u001b[39;49m\u001b[43mdo_handshake_on_connect\u001b[49m\u001b[43m,\u001b[49m\n\u001b[1;32m    521\u001b[0m \u001b[43m        \u001b[49m\u001b[43msuppress_ragged_eofs\u001b[49m\u001b[38;5;241;43m=\u001b[39;49m\u001b[43msuppress_ragged_eofs\u001b[49m\u001b[43m,\u001b[49m\n\u001b[1;32m    522\u001b[0m \u001b[43m        \u001b[49m\u001b[43mserver_hostname\u001b[49m\u001b[38;5;241;43m=\u001b[39;49m\u001b[43mserver_hostname\u001b[49m\u001b[43m,\u001b[49m\n\u001b[1;32m    523\u001b[0m \u001b[43m        \u001b[49m\u001b[43mcontext\u001b[49m\u001b[38;5;241;43m=\u001b[39;49m\u001b[38;5;28;43mself\u001b[39;49m\u001b[43m,\u001b[49m\n\u001b[1;32m    524\u001b[0m \u001b[43m        \u001b[49m\u001b[43msession\u001b[49m\u001b[38;5;241;43m=\u001b[39;49m\u001b[43msession\u001b[49m\n\u001b[1;32m    525\u001b[0m \u001b[43m    \u001b[49m\u001b[43m)\u001b[49m\n",
      "File \u001b[0;32m/opt/conda/lib/python3.11/ssl.py:1067\u001b[0m, in \u001b[0;36mSSLSocket._create\u001b[0;34m(cls, sock, server_side, do_handshake_on_connect, suppress_ragged_eofs, server_hostname, context, session)\u001b[0m\n\u001b[1;32m   1062\u001b[0m \u001b[38;5;28;01mtry\u001b[39;00m:\n\u001b[1;32m   1063\u001b[0m     \u001b[38;5;66;03m# We are not connected so this is not supposed to block, but\u001b[39;00m\n\u001b[1;32m   1064\u001b[0m     \u001b[38;5;66;03m# testing revealed otherwise on macOS and Windows so we do\u001b[39;00m\n\u001b[1;32m   1065\u001b[0m     \u001b[38;5;66;03m# the non-blocking dance regardless. Our raise when any data\u001b[39;00m\n\u001b[1;32m   1066\u001b[0m     \u001b[38;5;66;03m# is found means consuming the data is harmless.\u001b[39;00m\n\u001b[0;32m-> 1067\u001b[0m     notconn_pre_handshake_data \u001b[38;5;241m=\u001b[39m \u001b[38;5;28;43mself\u001b[39;49m\u001b[38;5;241;43m.\u001b[39;49m\u001b[43mrecv\u001b[49m\u001b[43m(\u001b[49m\u001b[38;5;241;43m1\u001b[39;49m\u001b[43m)\u001b[49m\n\u001b[1;32m   1068\u001b[0m \u001b[38;5;28;01mexcept\u001b[39;00m \u001b[38;5;167;01mOSError\u001b[39;00m \u001b[38;5;28;01mas\u001b[39;00m e:\n\u001b[1;32m   1069\u001b[0m     \u001b[38;5;66;03m# EINVAL occurs for recv(1) on non-connected on unix sockets.\u001b[39;00m\n",
      "File \u001b[0;32m/opt/conda/lib/python3.11/ssl.py:1297\u001b[0m, in \u001b[0;36mSSLSocket.recv\u001b[0;34m(self, buflen, flags)\u001b[0m\n\u001b[1;32m   1296\u001b[0m \u001b[38;5;28;01melse\u001b[39;00m:\n\u001b[0;32m-> 1297\u001b[0m     \u001b[38;5;28;01mreturn\u001b[39;00m \u001b[38;5;28;43msuper\u001b[39;49m\u001b[43m(\u001b[49m\u001b[43m)\u001b[49m\u001b[38;5;241;43m.\u001b[39;49m\u001b[43mrecv\u001b[49m\u001b[43m(\u001b[49m\u001b[43mbuflen\u001b[49m\u001b[43m,\u001b[49m\u001b[43m \u001b[49m\u001b[43mflags\u001b[49m\u001b[43m)\u001b[49m\n",
      "\u001b[0;31mProtocolError\u001b[0m: ('Connection aborted.', ConnectionResetError(104, 'Connection reset by peer'))",
      "\nDuring handling of the above exception, another exception occurred:\n",
      "\u001b[0;31mConnectionError\u001b[0m                           Traceback (most recent call last)",
      "Cell \u001b[0;32mIn[104], line 3\u001b[0m\n\u001b[1;32m      1\u001b[0m synthetic_test_results_pongo \u001b[38;5;241m=\u001b[39m []\n\u001b[1;32m      2\u001b[0m \u001b[38;5;28;01mfor\u001b[39;00m synthetic_case_summary \u001b[38;5;129;01min\u001b[39;00m tqdm(synthetic_case_summaries):\n\u001b[0;32m----> 3\u001b[0m     synthetic_test_results_pongo\u001b[38;5;241m.\u001b[39mappend(\u001b[43mtest_query_with_pongo\u001b[49m\u001b[43m(\u001b[49m\u001b[38;5;241;43m*\u001b[39;49m\u001b[38;5;241;43m*\u001b[39;49m\u001b[43msynthetic_case_summary\u001b[49m\u001b[43m)\u001b[49m)\n",
      "Cell \u001b[0;32mIn[96], line 4\u001b[0m, in \u001b[0;36mtest_query_with_pongo\u001b[0;34m(summary, expected_hash, language, top_k)\u001b[0m\n\u001b[1;32m      2\u001b[0m results \u001b[38;5;241m=\u001b[39m query_from_pinecone(summary, top_k\u001b[38;5;241m=\u001b[39mtop_k)\n\u001b[1;32m      3\u001b[0m result_in_pinecone_list \u001b[38;5;241m=\u001b[39m expected_hash \u001b[38;5;129;01min\u001b[39;00m (r[\u001b[38;5;124m'\u001b[39m\u001b[38;5;124mid\u001b[39m\u001b[38;5;124m'\u001b[39m] \u001b[38;5;28;01mfor\u001b[39;00m r \u001b[38;5;129;01min\u001b[39;00m results)\n\u001b[0;32m----> 4\u001b[0m reranking_docs \u001b[38;5;241m=\u001b[39m \u001b[43m[\u001b[49m\n\u001b[1;32m      5\u001b[0m \u001b[43m    \u001b[49m\u001b[43m{\u001b[49m\n\u001b[1;32m      6\u001b[0m \u001b[43m        \u001b[49m\u001b[38;5;124;43m\"\u001b[39;49m\u001b[38;5;124;43mtext\u001b[39;49m\u001b[38;5;124;43m\"\u001b[39;49m\u001b[43m:\u001b[49m\u001b[43m \u001b[49m\u001b[43msummarize_text\u001b[49m\u001b[43m(\u001b[49m\u001b[43mextract_text_data\u001b[49m\u001b[43m(\u001b[49m\u001b[43mresult\u001b[49m\u001b[43m[\u001b[49m\u001b[38;5;124;43m'\u001b[39;49m\u001b[38;5;124;43mmetadata\u001b[39;49m\u001b[38;5;124;43m'\u001b[39;49m\u001b[43m]\u001b[49m\u001b[43m[\u001b[49m\u001b[38;5;124;43m'\u001b[39;49m\u001b[38;5;124;43murl\u001b[39;49m\u001b[38;5;124;43m'\u001b[39;49m\u001b[43m]\u001b[49m\u001b[43m)\u001b[49m\u001b[43m)\u001b[49m\u001b[43m,\u001b[49m\n\u001b[1;32m      7\u001b[0m \u001b[43m        \u001b[49m\u001b[38;5;124;43m\"\u001b[39;49m\u001b[38;5;124;43mmetadata\u001b[39;49m\u001b[38;5;124;43m\"\u001b[39;49m\u001b[43m:\u001b[49m\u001b[43m \u001b[49m\u001b[43m{\u001b[49m\n\u001b[1;32m      8\u001b[0m \u001b[43m            \u001b[49m\u001b[38;5;124;43m\"\u001b[39;49m\u001b[38;5;124;43mtags\u001b[39;49m\u001b[38;5;124;43m\"\u001b[39;49m\u001b[43m:\u001b[49m\u001b[43m \u001b[49m\u001b[43mresult\u001b[49m\u001b[43m[\u001b[49m\u001b[38;5;124;43m'\u001b[39;49m\u001b[38;5;124;43mmetadata\u001b[39;49m\u001b[38;5;124;43m'\u001b[39;49m\u001b[43m]\u001b[49m\u001b[43m[\u001b[49m\u001b[38;5;124;43m'\u001b[39;49m\u001b[38;5;124;43mtags\u001b[39;49m\u001b[38;5;124;43m'\u001b[39;49m\u001b[43m]\u001b[49m\u001b[43m,\u001b[49m\u001b[43m  \u001b[49m\u001b[38;5;66;43;03m# Include tags in metadata\u001b[39;49;00m\n\u001b[1;32m      9\u001b[0m \u001b[43m            \u001b[49m\u001b[38;5;124;43m\"\u001b[39;49m\u001b[38;5;124;43murl\u001b[39;49m\u001b[38;5;124;43m\"\u001b[39;49m\u001b[43m:\u001b[49m\u001b[43m \u001b[49m\u001b[43mresult\u001b[49m\u001b[43m[\u001b[49m\u001b[38;5;124;43m'\u001b[39;49m\u001b[38;5;124;43mmetadata\u001b[39;49m\u001b[38;5;124;43m'\u001b[39;49m\u001b[43m]\u001b[49m\u001b[43m[\u001b[49m\u001b[38;5;124;43m'\u001b[39;49m\u001b[38;5;124;43murl\u001b[39;49m\u001b[38;5;124;43m'\u001b[39;49m\u001b[43m]\u001b[49m\u001b[43m  \u001b[49m\u001b[38;5;66;43;03m# Include the URL inside metadata\u001b[39;49;00m\n\u001b[1;32m     10\u001b[0m \u001b[43m        \u001b[49m\u001b[43m}\u001b[49m\n\u001b[1;32m     11\u001b[0m \u001b[43m    \u001b[49m\u001b[43m}\u001b[49m\n\u001b[1;32m     12\u001b[0m \u001b[43m    \u001b[49m\u001b[38;5;28;43;01mfor\u001b[39;49;00m\u001b[43m \u001b[49m\u001b[43mresult\u001b[49m\u001b[43m \u001b[49m\u001b[38;5;129;43;01min\u001b[39;49;00m\u001b[43m \u001b[49m\u001b[43mresults\u001b[49m\n\u001b[1;32m     13\u001b[0m \u001b[43m\u001b[49m\u001b[43m]\u001b[49m\n\u001b[1;32m     15\u001b[0m filtered_result \u001b[38;5;241m=\u001b[39m pongo_client\u001b[38;5;241m.\u001b[39mfilter(docs\u001b[38;5;241m=\u001b[39mreranking_docs, query\u001b[38;5;241m=\u001b[39msummary, num_results\u001b[38;5;241m=\u001b[39m\u001b[38;5;241m1\u001b[39m)\n\u001b[1;32m     16\u001b[0m filtered_docs \u001b[38;5;241m=\u001b[39m filtered_result\u001b[38;5;241m.\u001b[39mjson()\n",
      "Cell \u001b[0;32mIn[96], line 6\u001b[0m, in \u001b[0;36m<listcomp>\u001b[0;34m(.0)\u001b[0m\n\u001b[1;32m      2\u001b[0m results \u001b[38;5;241m=\u001b[39m query_from_pinecone(summary, top_k\u001b[38;5;241m=\u001b[39mtop_k)\n\u001b[1;32m      3\u001b[0m result_in_pinecone_list \u001b[38;5;241m=\u001b[39m expected_hash \u001b[38;5;129;01min\u001b[39;00m (r[\u001b[38;5;124m'\u001b[39m\u001b[38;5;124mid\u001b[39m\u001b[38;5;124m'\u001b[39m] \u001b[38;5;28;01mfor\u001b[39;00m r \u001b[38;5;129;01min\u001b[39;00m results)\n\u001b[1;32m      4\u001b[0m reranking_docs \u001b[38;5;241m=\u001b[39m [\n\u001b[1;32m      5\u001b[0m     {\n\u001b[0;32m----> 6\u001b[0m         \u001b[38;5;124m\"\u001b[39m\u001b[38;5;124mtext\u001b[39m\u001b[38;5;124m\"\u001b[39m: summarize_text(\u001b[43mextract_text_data\u001b[49m\u001b[43m(\u001b[49m\u001b[43mresult\u001b[49m\u001b[43m[\u001b[49m\u001b[38;5;124;43m'\u001b[39;49m\u001b[38;5;124;43mmetadata\u001b[39;49m\u001b[38;5;124;43m'\u001b[39;49m\u001b[43m]\u001b[49m\u001b[43m[\u001b[49m\u001b[38;5;124;43m'\u001b[39;49m\u001b[38;5;124;43murl\u001b[39;49m\u001b[38;5;124;43m'\u001b[39;49m\u001b[43m]\u001b[49m\u001b[43m)\u001b[49m),\n\u001b[1;32m      7\u001b[0m         \u001b[38;5;124m\"\u001b[39m\u001b[38;5;124mmetadata\u001b[39m\u001b[38;5;124m\"\u001b[39m: {\n\u001b[1;32m      8\u001b[0m             \u001b[38;5;124m\"\u001b[39m\u001b[38;5;124mtags\u001b[39m\u001b[38;5;124m\"\u001b[39m: result[\u001b[38;5;124m'\u001b[39m\u001b[38;5;124mmetadata\u001b[39m\u001b[38;5;124m'\u001b[39m][\u001b[38;5;124m'\u001b[39m\u001b[38;5;124mtags\u001b[39m\u001b[38;5;124m'\u001b[39m],  \u001b[38;5;66;03m# Include tags in metadata\u001b[39;00m\n\u001b[1;32m      9\u001b[0m             \u001b[38;5;124m\"\u001b[39m\u001b[38;5;124murl\u001b[39m\u001b[38;5;124m\"\u001b[39m: result[\u001b[38;5;124m'\u001b[39m\u001b[38;5;124mmetadata\u001b[39m\u001b[38;5;124m'\u001b[39m][\u001b[38;5;124m'\u001b[39m\u001b[38;5;124murl\u001b[39m\u001b[38;5;124m'\u001b[39m]  \u001b[38;5;66;03m# Include the URL inside metadata\u001b[39;00m\n\u001b[1;32m     10\u001b[0m         }\n\u001b[1;32m     11\u001b[0m     }\n\u001b[1;32m     12\u001b[0m     \u001b[38;5;28;01mfor\u001b[39;00m result \u001b[38;5;129;01min\u001b[39;00m results\n\u001b[1;32m     13\u001b[0m ]\n\u001b[1;32m     15\u001b[0m filtered_result \u001b[38;5;241m=\u001b[39m pongo_client\u001b[38;5;241m.\u001b[39mfilter(docs\u001b[38;5;241m=\u001b[39mreranking_docs, query\u001b[38;5;241m=\u001b[39msummary, num_results\u001b[38;5;241m=\u001b[39m\u001b[38;5;241m1\u001b[39m)\n\u001b[1;32m     16\u001b[0m filtered_docs \u001b[38;5;241m=\u001b[39m filtered_result\u001b[38;5;241m.\u001b[39mjson()\n",
      "Cell \u001b[0;32mIn[47], line 5\u001b[0m, in \u001b[0;36mextract_text_data\u001b[0;34m(url)\u001b[0m\n\u001b[1;32m      4\u001b[0m \u001b[38;5;28;01mdef\u001b[39;00m \u001b[38;5;21mextract_text_data\u001b[39m(url):\n\u001b[0;32m----> 5\u001b[0m     response \u001b[38;5;241m=\u001b[39m \u001b[43mrequests\u001b[49m\u001b[38;5;241;43m.\u001b[39;49m\u001b[43mget\u001b[49m\u001b[43m(\u001b[49m\u001b[43murl\u001b[49m\u001b[43m)\u001b[49m\n\u001b[1;32m      6\u001b[0m     soup \u001b[38;5;241m=\u001b[39m BeautifulSoup(response\u001b[38;5;241m.\u001b[39mcontent, \u001b[38;5;124m'\u001b[39m\u001b[38;5;124mhtml.parser\u001b[39m\u001b[38;5;124m'\u001b[39m)\n\u001b[1;32m      7\u001b[0m     container \u001b[38;5;241m=\u001b[39m soup\u001b[38;5;241m.\u001b[39mfind(\u001b[38;5;124m'\u001b[39m\u001b[38;5;124mdiv\u001b[39m\u001b[38;5;124m'\u001b[39m, class_\u001b[38;5;241m=\u001b[39m\u001b[38;5;124m'\u001b[39m\u001b[38;5;124msingle_content\u001b[39m\u001b[38;5;124m'\u001b[39m)\n",
      "File \u001b[0;32m/opt/conda/lib/python3.11/site-packages/requests/api.py:73\u001b[0m, in \u001b[0;36mget\u001b[0;34m(url, params, **kwargs)\u001b[0m\n\u001b[1;32m     62\u001b[0m \u001b[38;5;28;01mdef\u001b[39;00m \u001b[38;5;21mget\u001b[39m(url, params\u001b[38;5;241m=\u001b[39m\u001b[38;5;28;01mNone\u001b[39;00m, \u001b[38;5;241m*\u001b[39m\u001b[38;5;241m*\u001b[39mkwargs):\n\u001b[1;32m     63\u001b[0m \u001b[38;5;250m    \u001b[39m\u001b[38;5;124mr\u001b[39m\u001b[38;5;124;03m\"\"\"Sends a GET request.\u001b[39;00m\n\u001b[1;32m     64\u001b[0m \n\u001b[1;32m     65\u001b[0m \u001b[38;5;124;03m    :param url: URL for the new :class:`Request` object.\u001b[39;00m\n\u001b[0;32m   (...)\u001b[0m\n\u001b[1;32m     70\u001b[0m \u001b[38;5;124;03m    :rtype: requests.Response\u001b[39;00m\n\u001b[1;32m     71\u001b[0m \u001b[38;5;124;03m    \"\"\"\u001b[39;00m\n\u001b[0;32m---> 73\u001b[0m     \u001b[38;5;28;01mreturn\u001b[39;00m \u001b[43mrequest\u001b[49m\u001b[43m(\u001b[49m\u001b[38;5;124;43m\"\u001b[39;49m\u001b[38;5;124;43mget\u001b[39;49m\u001b[38;5;124;43m\"\u001b[39;49m\u001b[43m,\u001b[49m\u001b[43m \u001b[49m\u001b[43murl\u001b[49m\u001b[43m,\u001b[49m\u001b[43m \u001b[49m\u001b[43mparams\u001b[49m\u001b[38;5;241;43m=\u001b[39;49m\u001b[43mparams\u001b[49m\u001b[43m,\u001b[49m\u001b[43m \u001b[49m\u001b[38;5;241;43m*\u001b[39;49m\u001b[38;5;241;43m*\u001b[39;49m\u001b[43mkwargs\u001b[49m\u001b[43m)\u001b[49m\n",
      "File \u001b[0;32m/opt/conda/lib/python3.11/site-packages/requests/api.py:59\u001b[0m, in \u001b[0;36mrequest\u001b[0;34m(method, url, **kwargs)\u001b[0m\n\u001b[1;32m     55\u001b[0m \u001b[38;5;66;03m# By using the 'with' statement we are sure the session is closed, thus we\u001b[39;00m\n\u001b[1;32m     56\u001b[0m \u001b[38;5;66;03m# avoid leaving sockets open which can trigger a ResourceWarning in some\u001b[39;00m\n\u001b[1;32m     57\u001b[0m \u001b[38;5;66;03m# cases, and look like a memory leak in others.\u001b[39;00m\n\u001b[1;32m     58\u001b[0m \u001b[38;5;28;01mwith\u001b[39;00m sessions\u001b[38;5;241m.\u001b[39mSession() \u001b[38;5;28;01mas\u001b[39;00m session:\n\u001b[0;32m---> 59\u001b[0m     \u001b[38;5;28;01mreturn\u001b[39;00m \u001b[43msession\u001b[49m\u001b[38;5;241;43m.\u001b[39;49m\u001b[43mrequest\u001b[49m\u001b[43m(\u001b[49m\u001b[43mmethod\u001b[49m\u001b[38;5;241;43m=\u001b[39;49m\u001b[43mmethod\u001b[49m\u001b[43m,\u001b[49m\u001b[43m \u001b[49m\u001b[43murl\u001b[49m\u001b[38;5;241;43m=\u001b[39;49m\u001b[43murl\u001b[49m\u001b[43m,\u001b[49m\u001b[43m \u001b[49m\u001b[38;5;241;43m*\u001b[39;49m\u001b[38;5;241;43m*\u001b[39;49m\u001b[43mkwargs\u001b[49m\u001b[43m)\u001b[49m\n",
      "File \u001b[0;32m/opt/conda/lib/python3.11/site-packages/requests/sessions.py:589\u001b[0m, in \u001b[0;36mSession.request\u001b[0;34m(self, method, url, params, data, headers, cookies, files, auth, timeout, allow_redirects, proxies, hooks, stream, verify, cert, json)\u001b[0m\n\u001b[1;32m    584\u001b[0m send_kwargs \u001b[38;5;241m=\u001b[39m {\n\u001b[1;32m    585\u001b[0m     \u001b[38;5;124m\"\u001b[39m\u001b[38;5;124mtimeout\u001b[39m\u001b[38;5;124m\"\u001b[39m: timeout,\n\u001b[1;32m    586\u001b[0m     \u001b[38;5;124m\"\u001b[39m\u001b[38;5;124mallow_redirects\u001b[39m\u001b[38;5;124m\"\u001b[39m: allow_redirects,\n\u001b[1;32m    587\u001b[0m }\n\u001b[1;32m    588\u001b[0m send_kwargs\u001b[38;5;241m.\u001b[39mupdate(settings)\n\u001b[0;32m--> 589\u001b[0m resp \u001b[38;5;241m=\u001b[39m \u001b[38;5;28;43mself\u001b[39;49m\u001b[38;5;241;43m.\u001b[39;49m\u001b[43msend\u001b[49m\u001b[43m(\u001b[49m\u001b[43mprep\u001b[49m\u001b[43m,\u001b[49m\u001b[43m \u001b[49m\u001b[38;5;241;43m*\u001b[39;49m\u001b[38;5;241;43m*\u001b[39;49m\u001b[43msend_kwargs\u001b[49m\u001b[43m)\u001b[49m\n\u001b[1;32m    591\u001b[0m \u001b[38;5;28;01mreturn\u001b[39;00m resp\n",
      "File \u001b[0;32m/opt/conda/lib/python3.11/site-packages/requests/sessions.py:703\u001b[0m, in \u001b[0;36mSession.send\u001b[0;34m(self, request, **kwargs)\u001b[0m\n\u001b[1;32m    700\u001b[0m start \u001b[38;5;241m=\u001b[39m preferred_clock()\n\u001b[1;32m    702\u001b[0m \u001b[38;5;66;03m# Send the request\u001b[39;00m\n\u001b[0;32m--> 703\u001b[0m r \u001b[38;5;241m=\u001b[39m \u001b[43madapter\u001b[49m\u001b[38;5;241;43m.\u001b[39;49m\u001b[43msend\u001b[49m\u001b[43m(\u001b[49m\u001b[43mrequest\u001b[49m\u001b[43m,\u001b[49m\u001b[43m \u001b[49m\u001b[38;5;241;43m*\u001b[39;49m\u001b[38;5;241;43m*\u001b[39;49m\u001b[43mkwargs\u001b[49m\u001b[43m)\u001b[49m\n\u001b[1;32m    705\u001b[0m \u001b[38;5;66;03m# Total elapsed time of the request (approximately)\u001b[39;00m\n\u001b[1;32m    706\u001b[0m elapsed \u001b[38;5;241m=\u001b[39m preferred_clock() \u001b[38;5;241m-\u001b[39m start\n",
      "File \u001b[0;32m/opt/conda/lib/python3.11/site-packages/requests/adapters.py:501\u001b[0m, in \u001b[0;36mHTTPAdapter.send\u001b[0;34m(self, request, stream, timeout, verify, cert, proxies)\u001b[0m\n\u001b[1;32m    486\u001b[0m     resp \u001b[38;5;241m=\u001b[39m conn\u001b[38;5;241m.\u001b[39murlopen(\n\u001b[1;32m    487\u001b[0m         method\u001b[38;5;241m=\u001b[39mrequest\u001b[38;5;241m.\u001b[39mmethod,\n\u001b[1;32m    488\u001b[0m         url\u001b[38;5;241m=\u001b[39murl,\n\u001b[0;32m   (...)\u001b[0m\n\u001b[1;32m    497\u001b[0m         chunked\u001b[38;5;241m=\u001b[39mchunked,\n\u001b[1;32m    498\u001b[0m     )\n\u001b[1;32m    500\u001b[0m \u001b[38;5;28;01mexcept\u001b[39;00m (ProtocolError, \u001b[38;5;167;01mOSError\u001b[39;00m) \u001b[38;5;28;01mas\u001b[39;00m err:\n\u001b[0;32m--> 501\u001b[0m     \u001b[38;5;28;01mraise\u001b[39;00m \u001b[38;5;167;01mConnectionError\u001b[39;00m(err, request\u001b[38;5;241m=\u001b[39mrequest)\n\u001b[1;32m    503\u001b[0m \u001b[38;5;28;01mexcept\u001b[39;00m MaxRetryError \u001b[38;5;28;01mas\u001b[39;00m e:\n\u001b[1;32m    504\u001b[0m     \u001b[38;5;28;01mif\u001b[39;00m \u001b[38;5;28misinstance\u001b[39m(e\u001b[38;5;241m.\u001b[39mreason, ConnectTimeoutError):\n\u001b[1;32m    505\u001b[0m         \u001b[38;5;66;03m# TODO: Remove this in 3.0.0: see #2811\u001b[39;00m\n",
      "\u001b[0;31mConnectionError\u001b[0m: ('Connection aborted.', ConnectionResetError(104, 'Connection reset by peer'))"
     ]
    }
   ],
   "source": [
    "synthetic_test_results_pongo = []\n",
    "for synthetic_case_summary in tqdm(synthetic_case_summaries):\n",
    "    synthetic_test_results_pongo.append(test_query_with_pongo(**synthetic_case_summary))"
   ]
  },
  {
   "cell_type": "code",
   "execution_count": 100,
   "id": "19b6fc14-25d7-46b7-9091-8cf41292afb5",
   "metadata": {
    "execution": {
     "iopub.execute_input": "2024-08-24T19:28:08.405524Z",
     "iopub.status.busy": "2024-08-24T19:28:08.404728Z",
     "iopub.status.idle": "2024-08-24T19:28:08.685877Z",
     "shell.execute_reply": "2024-08-24T19:28:08.685250Z",
     "shell.execute_reply.started": "2024-08-24T19:28:08.405462Z"
    }
   },
   "outputs": [
    {
     "name": "stdout",
     "output_type": "stream",
     "text": [
      "result_in_pinecone_list    0.968254\n",
      "top_result_correct         0.206349\n",
      "dtype: float64\n"
     ]
    },
    {
     "data": {
      "image/png": "[encoded data removed]",
      "text/plain": [
       "<Figure size 1200x600 with 1 Axes>"
      ]
     },
     "metadata": {},
     "output_type": "display_data"
    }
   ],
   "source": [
    "import pandas as pd\n",
    "results_df = pd.DataFrame(synthetic_test_results_pongo)\n",
    "print(results_df[['result_in_pinecone_list', 'top_result_correct']].mean())\n",
    "\n",
    "grouped_data = results_df.groupby('language')[['result_in_pinecone_list', 'top_result_correct']].mean()\n",
    "\n",
    "# Set the style and color palette\n",
    "plt.style.use('fivethirtyeight')\n",
    "\n",
    "# Create the figure and axis\n",
    "fig, ax = plt.subplots(figsize=(12, 6))\n",
    "\n",
    "# Plot the data\n",
    "grouped_data.plot(kind='bar', ax=ax)\n",
    "\n",
    "# Customize the plot\n",
    "ax.set_title('Performance Metrics by Language (OpenAI + Pongo)', fontsize=16, pad=20)\n",
    "ax.set_xlabel('Language', fontsize=12)\n",
    "ax.set_ylabel('Mean Score', fontsize=12)\n",
    "ax.tick_params(axis='x', rotation=45)\n",
    "\n",
    "# Add value labels on top of each bar\n",
    "for i in ax.containers:\n",
    "    ax.bar_label(i, fmt='%.2f', padding=3)\n",
    "\n",
    "# Add a legend\n",
    "ax.legend(['Result in Pinecone List', 'Top Result Correct'], title='Metrics', loc='upper left', bbox_to_anchor=(1, 1))\n",
    "\n",
    "# Adjust layout and display the plot\n",
    "plt.tight_layout()\n",
    "plt.show()"
   ]
  },
  {
   "cell_type": "markdown",
   "id": "c2b40b47-edbc-4ae7-8fa1-536854af0c27",
   "metadata": {},
   "source": [
    "## **Making Retrieval Better with [Cohere](cohere.com/rerank)**\n",
    "\n",
    "Similar to Pongo, \"Rerank provides a powerful semantic boost to the search quality of any keyword or vector search system without requiring any overhaul or replacement.\""
   ]
  },
  {
   "cell_type": "code",
   "execution_count": 105,
   "id": "e73cb51e-6600-49dc-a6e2-b6afc292841b",
   "metadata": {
    "execution": {
     "iopub.execute_input": "2024-08-25T05:28:09.296589Z",
     "iopub.status.busy": "2024-08-25T05:28:09.295900Z",
     "iopub.status.idle": "2024-08-25T05:28:09.304119Z",
     "shell.execute_reply": "2024-08-25T05:28:09.302583Z",
     "shell.execute_reply.started": "2024-08-25T05:28:09.296528Z"
    }
   },
   "outputs": [],
   "source": [
    "# pip install cohere"
   ]
  },
  {
   "cell_type": "code",
   "execution_count": 41,
   "id": "63d81153-22f6-4d4e-9027-453937c2b384",
   "metadata": {
    "execution": {
     "iopub.execute_input": "2024-08-26T07:35:43.870203Z",
     "iopub.status.busy": "2024-08-26T07:35:43.869488Z",
     "iopub.status.idle": "2024-08-26T07:35:43.902386Z",
     "shell.execute_reply": "2024-08-26T07:35:43.901060Z",
     "shell.execute_reply.started": "2024-08-26T07:35:43.870146Z"
    }
   },
   "outputs": [],
   "source": [
    "import cohere\n",
    "\n",
    "COHERE_API_KEY = config[\"COHERE_API_KEY\"]\n",
    "co = cohere.Client(COHERE_API_KEY)"
   ]
  },
  {
   "cell_type": "code",
   "execution_count": null,
   "id": "d5d8428f-06a2-4eea-8789-83b959df9bc1",
   "metadata": {
    "execution": {
     "iopub.status.busy": "2024-08-24T08:19:39.122260Z",
     "iopub.status.idle": "2024-08-24T08:19:39.122498Z",
     "shell.execute_reply": "2024-08-24T08:19:39.122384Z",
     "shell.execute_reply.started": "2024-08-24T08:19:39.122373Z"
    }
   },
   "outputs": [],
   "source": [
    "def test_query_with_cohere(summary, expected_hash, language, top_k=10):\n",
    "        \n",
    "    results = query_from_pinecone(summary, top_k=top_k)\n",
    "    result_in_pinecone_list = expected_hash in (r['id'] for r in results)\n",
    "    # docs = [result['metadata']['text'] for result in results]\n",
    "\n",
    "    #--------------PROCESS ALL TEXTS HERE--------------s\n",
    "    \n",
    "    docs_for_cohere = [result['metadata']['text'] for result in results]\n",
    "\n",
    "    response = co.rerank(\n",
    "        model=\"rerank-multilingual-v3.0\",\n",
    "        query=summary,\n",
    "        documents=docs,\n",
    "        top_n=1,\n",
    "    )\n",
    "\n",
    "    top_doc = docs[response.results[0].index]\n",
    "    top_hash = convert_to_hash(extract_text_data(top_doc['metadata']['url']))\n",
    "    top_result_correct = top_hash == expected_hash\n",
    "\n",
    "    return dict(\n",
    "        result_in_pinecone_list=result_in_pinecone_list,\n",
    "        top_result_correct=top_result_correct,\n",
    "        language=language,\n",
    "        expected_hash=expected_hash,\n",
    "        top_hash=top_hash\n",
    "    )\n",
    "    return dict(\n",
    "        result_in_pinecone_list=result_in_pinecone_list\n",
    "        top_result_correct=top_result_correct,\n",
    "        language=language,\n",
    "        expected_hash=expected_hash,\n",
    "        top_hash=results[0]['id']\n",
    "    )"
   ]
  },
  {
   "cell_type": "code",
   "execution_count": null,
   "id": "666db8db-2b66-4132-bb9e-ed916050ceb6",
   "metadata": {
    "execution": {
     "iopub.status.busy": "2024-08-24T08:19:39.123115Z",
     "iopub.status.idle": "2024-08-24T08:19:39.123361Z",
     "shell.execute_reply": "2024-08-24T08:19:39.123241Z",
     "shell.execute_reply.started": "2024-08-24T08:19:39.123230Z"
    }
   },
   "outputs": [],
   "source": [
    "test_query_with_cohere(**synthetic_questions[0])"
   ]
  },
  {
   "cell_type": "code",
   "execution_count": null,
   "id": "159af33f-4b76-4305-bc6a-79acfc0c8b81",
   "metadata": {
    "execution": {
     "iopub.status.busy": "2024-08-24T08:19:39.124297Z",
     "iopub.status.idle": "2024-08-24T08:19:39.124529Z",
     "shell.execute_reply": "2024-08-24T08:19:39.124421Z",
     "shell.execute_reply.started": "2024-08-24T08:19:39.124411Z"
    }
   },
   "outputs": [],
   "source": [
    "synthetic_test_results_cohere = []\n",
    "for synthetic_question in tqdm(synthetic_questions):\n",
    "    synthetic_test_results_cohere.append(test_query_with_cohere(**synthetic_question))"
   ]
  },
  {
   "cell_type": "code",
   "execution_count": null,
   "id": "dd195938-b3a7-4eda-b0e4-aab979d6838d",
   "metadata": {
    "execution": {
     "iopub.status.busy": "2024-08-24T08:19:39.125260Z",
     "iopub.status.idle": "2024-08-24T08:19:39.125494Z",
     "shell.execute_reply": "2024-08-24T08:19:39.125384Z",
     "shell.execute_reply.started": "2024-08-24T08:19:39.125374Z"
    }
   },
   "outputs": [],
   "source": [
    "import matplotlib.pyplot as plt\n",
    "\n",
    "# Data\n",
    "data = {\n",
    "    'OpenAI + Cohere': pd.Series([s['top_result_correct'] for s in synthetic_test_results_cohere]).mean() * 100,\n",
    "    'OpenAI Only': pd.Series([s['top_result_correct'] for s in synthetic_test_results]).mean() * 100\n",
    "}\n",
    "\n",
    "percent_change = round((data['OpenAI + Cohere'] - data['OpenAI Only']) / data['OpenAI Only'] * 100, 2)\n",
    "\n",
    "# Set the style and color palette\n",
    "plt.style.use('fivethirtyeight')\n",
    "\n",
    "# Create the figure and axis\n",
    "fig, ax = plt.subplots(figsize=(8, 5))  # Reduced from (10, 6)\n",
    "\n",
    "# Plot the data\n",
    "bars = ax.bar(data.keys(), data.values())\n",
    "\n",
    "# Customize the plot\n",
    "ax.set_title(\n",
    "    f'e-Library RAG Results ({percent_change}% {\"better\" if percent_change > 0 else \"worse\"} w/ Cohere)', \n",
    "    fontsize=16, pad=4)\n",
    "ax.set_ylabel('Top Result Accuracy (%)', fontsize=12)\n",
    "ax.tick_params(axis='x')\n",
    "\n",
    "# Add value labels on top of each bar\n",
    "ax.bar_label(bars, fmt='%.2f', padding=3)\n",
    "\n",
    "# Adjust y-axis to start from 0.7 for better visualization of differences\n",
    "ax.set_ylim(min(data.values()) - 5, max(data.values()) + 2)\n",
    "\n",
    "# Add a grid for better readability\n",
    "ax.grid(axis='y', linestyle='--', alpha=0.7)\n",
    "\n",
    "# Adjust layout and display the plot\n",
    "plt.tight_layout()\n",
    "plt.show()"
   ]
  },
  {
   "cell_type": "markdown",
   "id": "8c911046-8d17-40e9-84be-f8ebf72ad87e",
   "metadata": {},
   "source": [
    "## **Text Generation Using OpenAI**"
   ]
  },
  {
   "cell_type": "code",
   "execution_count": 108,
   "id": "8f0e62ab-d474-4ed0-885d-df7f9c176ff0",
   "metadata": {
    "execution": {
     "iopub.execute_input": "2024-08-25T05:47:08.563061Z",
     "iopub.status.busy": "2024-08-25T05:47:08.562411Z",
     "iopub.status.idle": "2024-08-25T05:47:17.527570Z",
     "shell.execute_reply": "2024-08-25T05:47:17.525602Z",
     "shell.execute_reply.started": "2024-08-25T05:47:08.563005Z"
    }
   },
   "outputs": [
    {
     "name": "stdout",
     "output_type": "stream",
     "text": [
      "Defaulting to user installation because normal site-packages is not writeable\n",
      "Collecting supabase\n",
      "  Downloading supabase-2.7.3-py3-none-any.whl.metadata (10 kB)\n",
      "Collecting gotrue<3.0,>=1.3 (from supabase)\n",
      "  Downloading gotrue-2.7.0-py3-none-any.whl.metadata (6.0 kB)\n",
      "Requirement already satisfied: httpx<0.28,>=0.24 in /opt/conda/lib/python3.11/site-packages (from supabase) (0.27.0)\n",
      "Collecting postgrest<0.17.0,>=0.14 (from supabase)\n",
      "  Downloading postgrest-0.16.11-py3-none-any.whl.metadata (5.1 kB)\n",
      "Collecting realtime<3.0.0,>=2.0.0 (from supabase)\n",
      "  Downloading realtime-2.0.2-py3-none-any.whl.metadata (6.7 kB)\n",
      "Collecting storage3<0.8.0,>=0.5.3 (from supabase)\n",
      "  Downloading storage3-0.7.7-py3-none-any.whl.metadata (1.9 kB)\n",
      "Collecting supafunc<0.6.0,>=0.3.1 (from supabase)\n",
      "  Downloading supafunc-0.5.1-py3-none-any.whl.metadata (1.2 kB)\n",
      "Requirement already satisfied: pydantic<3,>=1.10 in /opt/conda/lib/python3.11/site-packages (from gotrue<3.0,>=1.3->supabase) (2.6.4)\n",
      "Requirement already satisfied: anyio in /opt/conda/lib/python3.11/site-packages (from httpx<0.28,>=0.24->supabase) (4.3.0)\n",
      "Requirement already satisfied: certifi in /opt/conda/lib/python3.11/site-packages (from httpx<0.28,>=0.24->supabase) (2024.2.2)\n",
      "Requirement already satisfied: httpcore==1.* in /opt/conda/lib/python3.11/site-packages (from httpx<0.28,>=0.24->supabase) (1.0.5)\n",
      "Requirement already satisfied: idna in /opt/conda/lib/python3.11/site-packages (from httpx<0.28,>=0.24->supabase) (3.6)\n",
      "Requirement already satisfied: sniffio in /opt/conda/lib/python3.11/site-packages (from httpx<0.28,>=0.24->supabase) (1.3.1)\n",
      "Requirement already satisfied: h11<0.15,>=0.13 in /opt/conda/lib/python3.11/site-packages (from httpcore==1.*->httpx<0.28,>=0.24->supabase) (0.14.0)\n",
      "Collecting deprecation<3.0.0,>=2.1.0 (from postgrest<0.17.0,>=0.14->supabase)\n",
      "  Downloading deprecation-2.1.0-py2.py3-none-any.whl.metadata (4.6 kB)\n",
      "Collecting strenum<0.5.0,>=0.4.9 (from postgrest<0.17.0,>=0.14->supabase)\n",
      "  Downloading StrEnum-0.4.15-py3-none-any.whl.metadata (5.3 kB)\n",
      "Collecting aiohttp<4.0.0,>=3.10.2 (from realtime<3.0.0,>=2.0.0->supabase)\n",
      "  Downloading aiohttp-3.10.5-cp311-cp311-manylinux_2_17_x86_64.manylinux2014_x86_64.whl.metadata (7.5 kB)\n",
      "Requirement already satisfied: python-dateutil<3.0.0,>=2.8.1 in /opt/conda/lib/python3.11/site-packages (from realtime<3.0.0,>=2.0.0->supabase) (2.9.0)\n",
      "Requirement already satisfied: typing-extensions<5.0.0,>=4.12.2 in /home/msds-pt2025a/egallarde/.local/lib/python3.11/site-packages (from realtime<3.0.0,>=2.0.0->supabase) (4.12.2)\n",
      "Requirement already satisfied: websockets<13,>=11 in /opt/conda/lib/python3.11/site-packages (from realtime<3.0.0,>=2.0.0->supabase) (12.0)\n",
      "Collecting aiohappyeyeballs>=2.3.0 (from aiohttp<4.0.0,>=3.10.2->realtime<3.0.0,>=2.0.0->supabase)\n",
      "  Downloading aiohappyeyeballs-2.4.0-py3-none-any.whl.metadata (5.9 kB)\n",
      "Requirement already satisfied: aiosignal>=1.1.2 in /opt/conda/lib/python3.11/site-packages (from aiohttp<4.0.0,>=3.10.2->realtime<3.0.0,>=2.0.0->supabase) (1.3.1)\n",
      "Requirement already satisfied: attrs>=17.3.0 in /opt/conda/lib/python3.11/site-packages (from aiohttp<4.0.0,>=3.10.2->realtime<3.0.0,>=2.0.0->supabase) (23.2.0)\n",
      "Requirement already satisfied: frozenlist>=1.1.1 in /opt/conda/lib/python3.11/site-packages (from aiohttp<4.0.0,>=3.10.2->realtime<3.0.0,>=2.0.0->supabase) (1.4.1)\n",
      "Requirement already satisfied: multidict<7.0,>=4.5 in /opt/conda/lib/python3.11/site-packages (from aiohttp<4.0.0,>=3.10.2->realtime<3.0.0,>=2.0.0->supabase) (6.0.5)\n",
      "Requirement already satisfied: yarl<2.0,>=1.0 in /opt/conda/lib/python3.11/site-packages (from aiohttp<4.0.0,>=3.10.2->realtime<3.0.0,>=2.0.0->supabase) (1.9.4)\n",
      "Requirement already satisfied: packaging in /opt/conda/lib/python3.11/site-packages (from deprecation<3.0.0,>=2.1.0->postgrest<0.17.0,>=0.14->supabase) (24.0)\n",
      "Requirement already satisfied: h2<5,>=3 in /opt/conda/lib/python3.11/site-packages (from httpx[http2]<0.28,>=0.24->gotrue<3.0,>=1.3->supabase) (4.1.0)\n",
      "Requirement already satisfied: annotated-types>=0.4.0 in /opt/conda/lib/python3.11/site-packages (from pydantic<3,>=1.10->gotrue<3.0,>=1.3->supabase) (0.6.0)\n",
      "Requirement already satisfied: pydantic-core==2.16.3 in /opt/conda/lib/python3.11/site-packages (from pydantic<3,>=1.10->gotrue<3.0,>=1.3->supabase) (2.16.3)\n",
      "Requirement already satisfied: six>=1.5 in /opt/conda/lib/python3.11/site-packages (from python-dateutil<3.0.0,>=2.8.1->realtime<3.0.0,>=2.0.0->supabase) (1.16.0)\n",
      "Requirement already satisfied: hyperframe<7,>=6.0 in /opt/conda/lib/python3.11/site-packages (from h2<5,>=3->httpx[http2]<0.28,>=0.24->gotrue<3.0,>=1.3->supabase) (6.0.1)\n",
      "Requirement already satisfied: hpack<5,>=4.0 in /opt/conda/lib/python3.11/site-packages (from h2<5,>=3->httpx[http2]<0.28,>=0.24->gotrue<3.0,>=1.3->supabase) (4.0.0)\n",
      "Downloading supabase-2.7.3-py3-none-any.whl (15 kB)\n",
      "Downloading gotrue-2.7.0-py3-none-any.whl (47 kB)\n",
      "\u001b[2K   \u001b[90m━━━━━━━━━━━━━━━━━━━━━━━━━━━━━━━━━━━━━━━━\u001b[0m \u001b[32m47.5/47.5 kB\u001b[0m \u001b[31m4.7 MB/s\u001b[0m eta \u001b[36m0:00:00\u001b[0m\n",
      "\u001b[?25hDownloading postgrest-0.16.11-py3-none-any.whl (21 kB)\n",
      "Downloading realtime-2.0.2-py3-none-any.whl (20 kB)\n",
      "Downloading storage3-0.7.7-py3-none-any.whl (16 kB)\n",
      "Downloading supafunc-0.5.1-py3-none-any.whl (6.4 kB)\n",
      "Downloading aiohttp-3.10.5-cp311-cp311-manylinux_2_17_x86_64.manylinux2014_x86_64.whl (1.3 MB)\n",
      "\u001b[2K   \u001b[90m━━━━━━━━━━━━━━━━━━━━━━━━━━━━━━━━━━━━━━━━\u001b[0m \u001b[32m1.3/1.3 MB\u001b[0m \u001b[31m48.4 MB/s\u001b[0m eta \u001b[36m0:00:00\u001b[0m\n",
      "\u001b[?25hDownloading deprecation-2.1.0-py2.py3-none-any.whl (11 kB)\n",
      "Downloading StrEnum-0.4.15-py3-none-any.whl (8.9 kB)\n",
      "Downloading aiohappyeyeballs-2.4.0-py3-none-any.whl (12 kB)\n",
      "Installing collected packages: strenum, deprecation, aiohappyeyeballs, aiohttp, realtime, supafunc, storage3, postgrest, gotrue, supabase\n",
      "\u001b[33m  WARNING: The script tests is installed in '/home/msds-pt2025a/egallarde/.local/bin' which is not on PATH.\n",
      "  Consider adding this directory to PATH or, if you prefer to suppress this warning, use --no-warn-script-location.\u001b[0m\u001b[33m\n",
      "\u001b[0mSuccessfully installed aiohappyeyeballs-2.4.0 aiohttp-3.10.5 deprecation-2.1.0 gotrue-2.7.0 postgrest-0.16.11 realtime-2.0.2 storage3-0.7.7 strenum-0.4.15 supabase-2.7.3 supafunc-0.5.1\n",
      "Note: you may need to restart the kernel to use updated packages.\n"
     ]
    }
   ],
   "source": [
    "pip install supabase"
   ]
  },
  {
   "cell_type": "markdown",
   "id": "720a2390-4e06-4135-bbfb-e11c56b04b80",
   "metadata": {},
   "source": [
    "### **Supabase Configuration**"
   ]
  },
  {
   "cell_type": "code",
   "execution_count": 57,
   "id": "e4ed731c-abe1-4a00-9817-232fed656f51",
   "metadata": {
    "execution": {
     "iopub.execute_input": "2024-08-26T13:15:55.121158Z",
     "iopub.status.busy": "2024-08-26T13:15:55.120492Z",
     "iopub.status.idle": "2024-08-26T13:15:55.130328Z",
     "shell.execute_reply": "2024-08-26T13:15:55.128889Z",
     "shell.execute_reply.started": "2024-08-26T13:15:55.121102Z"
    }
   },
   "outputs": [],
   "source": [
    "from supabase import create_client, Client\n",
    "import datetime\n",
    "from pinecone import Pinecone, ServerlessSpec\n",
    "\n",
    "from typing import Dict, Optional, Any\n",
    "import os\n",
    "from openai import OpenAI\n",
    "import pandas as pd\n",
    "\n",
    "from pydantic import BaseModel, Field\n",
    "from typing import List, Dict, Tuple"
   ]
  },
  {
   "cell_type": "code",
   "execution_count": 58,
   "id": "4e1a7859-ce4b-442a-b316-3649e3d89ed3",
   "metadata": {
    "execution": {
     "iopub.execute_input": "2024-08-26T13:15:56.980562Z",
     "iopub.status.busy": "2024-08-26T13:15:56.979898Z",
     "iopub.status.idle": "2024-08-26T13:15:57.011191Z",
     "shell.execute_reply": "2024-08-26T13:15:57.010146Z",
     "shell.execute_reply.started": "2024-08-26T13:15:56.980507Z"
    }
   },
   "outputs": [],
   "source": [
    "SUPABASE_URL: str = config[\"SUPABASE_URL\"]\n",
    "SUPABASE_API_KEY: str = config[\"SUPABASE_API_KEY\"]\n",
    "\n",
    "supabase: Client = create_client(SUPABASE_URL, SUPABASE_API_KEY)"
   ]
  },
  {
   "cell_type": "markdown",
   "id": "98db6254-48af-4f08-b05b-42409433af8d",
   "metadata": {},
   "source": [
    "### **OpenAIChatLLM Class**"
   ]
  },
  {
   "cell_type": "code",
   "execution_count": 59,
   "id": "f6e9a807-d0de-4b5b-873c-ec4f10f77506",
   "metadata": {
    "execution": {
     "iopub.execute_input": "2024-08-26T13:17:30.343660Z",
     "iopub.status.busy": "2024-08-26T13:17:30.342676Z",
     "iopub.status.idle": "2024-08-26T13:17:30.364524Z",
     "shell.execute_reply": "2024-08-26T13:17:30.363018Z",
     "shell.execute_reply.started": "2024-08-26T13:17:30.343596Z"
    }
   },
   "outputs": [],
   "source": [
    "# Define a class for the Chat Language Model\n",
    "class OpenAIChatLLM(BaseModel):\n",
    "    model: str = 'gpt-4o'  # Default model to use\n",
    "    temperature: float = 0.0  # Default temperature for generating responses\n",
    "\n",
    "    # Method to generate a response from the model based on the provided prompt\n",
    "    def generate(self, prompt: str, stop: List[str] = None):\n",
    "        # Create a completion request to the OpenAI API with the given parameters\n",
    "        response = client.chat.completions.create(\n",
    "            model=self.model,\n",
    "            messages=[{\"role\": \"user\", \"content\": prompt}],\n",
    "            temperature=self.temperature,\n",
    "            stop=stop\n",
    "        )\n",
    "\n",
    "        # Insert the details of the prompt and response into the 'cost_projecting' table in Supabase\n",
    "        supabase.table('cost_projecting').insert({\n",
    "            'prompt': prompt,\n",
    "            'response': response.choices[0].message.content,\n",
    "            'input_tokens': response.usage.prompt_tokens,\n",
    "            'output_tokens': response.usage.completion_tokens,\n",
    "            'model': self.model,\n",
    "            'inference_params': {\n",
    "                'temperature': self.temperature,\n",
    "                'stop': stop\n",
    "            },\n",
    "            'is_openai': True,\n",
    "            'app': 'RAG'\n",
    "        }).execute()\n",
    "\n",
    "        # Return the generated response content\n",
    "        return response.choices[0].message.content"
   ]
  },
  {
   "cell_type": "code",
   "execution_count": 60,
   "id": "815f25ec-f454-484e-bfb8-d49371c5c37a",
   "metadata": {
    "execution": {
     "iopub.execute_input": "2024-08-26T13:17:33.119274Z",
     "iopub.status.busy": "2024-08-26T13:17:33.118599Z",
     "iopub.status.idle": "2024-08-26T13:17:35.071116Z",
     "shell.execute_reply": "2024-08-26T13:17:35.070239Z",
     "shell.execute_reply.started": "2024-08-26T13:17:33.119219Z"
    }
   },
   "outputs": [
    {
     "data": {
      "text/plain": [
       "'Hello! How can I assist you today?'"
      ]
     },
     "execution_count": 60,
     "metadata": {},
     "output_type": "execute_result"
    }
   ],
   "source": [
    "# Trial OpenAI Chat using Class\n",
    "c = OpenAIChatLLM()\n",
    "c.generate('hi')"
   ]
  },
  {
   "cell_type": "markdown",
   "id": "7a2a55a8-5a0a-4147-903c-7476b7a3cd90",
   "metadata": {},
   "source": [
    "### **Prompt Engineering for Generated Response**"
   ]
  },
  {
   "cell_type": "code",
   "execution_count": 128,
   "id": "7537b813-54ce-46fb-a8e1-047843b5a89c",
   "metadata": {
    "execution": {
     "iopub.execute_input": "2024-08-27T13:21:27.055087Z",
     "iopub.status.busy": "2024-08-27T13:21:27.054388Z",
     "iopub.status.idle": "2024-08-27T13:21:27.065205Z",
     "shell.execute_reply": "2024-08-27T13:21:27.063624Z",
     "shell.execute_reply.started": "2024-08-27T13:21:27.055026Z"
    }
   },
   "outputs": [],
   "source": [
    "FINAL_ANSWER_TOKEN = \"Legal Assistant Response:\"\n",
    "STOP = '[END]'\n",
    "PROMPT_TEMPLATE = \"\"\"Today is {today} and you can retrieve information from a database. Respond to the user's input as best as you can.\n",
    "\n",
    "Here is an example of the conversation format:\n",
    "\n",
    "[START]\n",
    "User Input: the input question you must answer\n",
    "Context: retrieved context from the database\n",
    "Context URL: context url\n",
    "Context Score : a score from 0 - 1 of how strong the information is a match\n",
    "Assistant Thought: This context has sufficient information to answer the question.\n",
    "Assistant Response: your final answer to the original input question which could be I don't have sufficient information to answer the question.\n",
    "[END]\n",
    "[START]\n",
    "User Input: another input question you must answer\n",
    "Context: more retrieved context from the database\n",
    "Context URL: context url\n",
    "Context Score : another score from 0 - 1 of how strong the information is a match\n",
    "Assistant Thought: This context does not have sufficient information to answer the question.\n",
    "Assistant Response: your final answer to the second input question which could be I don't have sufficient information to answer the question.\n",
    "[END]\n",
    "[START]\n",
    "User Input: another input question you must answer\n",
    "Context: NO CONTEXT FOUND\n",
    "Context URL: NONE\n",
    "Context Score : 0\n",
    "Assistant Thought: We either could not find something or we don't need to look something up\n",
    "Assistant Response: Reason through the best way to answer\n",
    "[END]\n",
    "\n",
    "Begin:\n",
    "\n",
    "{running_convo}\n",
    "\"\"\""
   ]
  },
  {
   "cell_type": "code",
   "execution_count": 146,
   "id": "17a3db94-bad0-4e21-a3df-15b8c3dd02f9",
   "metadata": {
    "execution": {
     "iopub.execute_input": "2024-08-27T14:20:18.323945Z",
     "iopub.status.busy": "2024-08-27T14:20:18.323268Z",
     "iopub.status.idle": "2024-08-27T14:20:18.708605Z",
     "shell.execute_reply": "2024-08-27T14:20:18.707689Z",
     "shell.execute_reply.started": "2024-08-27T14:20:18.323887Z"
    }
   },
   "outputs": [],
   "source": [
    "class RagBot(BaseModel):\n",
    "    llm: Any\n",
    "    prompt_template: str = PROMPT_TEMPLATE\n",
    "    stop_pattern: List[str] = [STOP]\n",
    "    user_inputs: List[str] = []\n",
    "    ai_responses: List[str] = []\n",
    "    contexts: List[Tuple[str, float]] = []\n",
    "    verbose: bool = False\n",
    "    threshold: float = 0.40\n",
    "\n",
    "    def query_from_pinecone(self, query, top_k=1, include_metadata=True):\n",
    "        return query_from_pinecone(query, top_k, include_metadata)\n",
    "\n",
    "    @property\n",
    "    def running_convo(self):\n",
    "        convo = ''\n",
    "        for index in range(len(self.user_inputs)):\n",
    "            convo += f'[START]\\nUser Input: {self.user_inputs[index]}\\n'\n",
    "            convo += f'Context: {self.contexts[index][0]}\\nContext URL: {self.contexts[index][1]}\\nContext Score: {self.contexts[index][2]}\\n'\n",
    "            if len(self.ai_responses) > index:\n",
    "                convo += self.ai_responses[index]\n",
    "                convo += '\\n[END]\\n'\n",
    "        return convo.strip()\n",
    "\n",
    "    def expand_query(self, query):\n",
    "        # Expand short queries to provide more context\n",
    "        if len(query.split()) < 5:  # Adjust threshold as needed\n",
    "            return f\"Provide a detailed explanation of: {query}. Include its legal provisions, history, and key implications.\"\n",
    "        return query\n",
    "        \n",
    "    def run(self, question: str):\n",
    "        expanded_question = self.expand_query(question)\n",
    "        self.user_inputs.append(expanded_question)\n",
    "        top_response = self.query_from_pinecone(expanded_question)[0]\n",
    "        print(top_response['score'])\n",
    "        if top_response['score'] >= self.threshold:\n",
    "            self.contexts.append((extract_text_data(top_response['metadata']['url']), top_response['metadata']['url'], top_response['score']))\n",
    "        else:\n",
    "            self.contexts.append(('NO CONTEXT FOUND', 'NONE', 0))\n",
    "\n",
    "        prompt = self.prompt_template.format(\n",
    "                today=datetime.now(),\n",
    "                running_convo=self.running_convo\n",
    "        )\n",
    "        if self.verbose:\n",
    "            print('--------')\n",
    "            print('PROMPT')\n",
    "            print('--------')\n",
    "            print(prompt)\n",
    "            print('--------')\n",
    "            print('END PROMPT')\n",
    "            print('--------')\n",
    "        generated = self.llm.generate(prompt, stop=self.stop_pattern)\n",
    "        if self.verbose:\n",
    "            print('--------')\n",
    "            print('GENERATED')\n",
    "            print('--------')\n",
    "            print(generated)\n",
    "            print('--------')\n",
    "            print('END GENERATED')\n",
    "            print('--------')\n",
    "        self.ai_responses.append(generated)\n",
    "        if FINAL_ANSWER_TOKEN in generated:\n",
    "            generated = generated.split(FINAL_ANSWER_TOKEN)[-1]\n",
    "        return generated"
   ]
  },
  {
   "cell_type": "code",
   "execution_count": null,
   "id": "01b2451b-644d-4cb0-a91a-64baaf857ece",
   "metadata": {},
   "outputs": [],
   "source": [
    "            # self.contexts.append((\"\"\"FIRST DIVISION\\n[ G.R. No. 241360•, July 06, 2021 ]\\nMICHELLE* TAY, PETITIONER, VS. APEX 8 STUDIOS, INC. AND CRISTINA** MARTINEZ, RESPONDENTS.\\r\\n\\r\\nD E C I S I O N\\n\\nCAGUIOA, J:\\nThis is a Petition for Review on Certiorari[1] (Petition) under Rule 45 of the Rules of Court filed by Michelle Tay (petitioner) assailing the Court of Appeals (CA) Decision[2] dated February 6, 2018 and Resolution[3] dated June 26, 2018 in CA-G.R. SP No. 141218.  The Antecedent Facts  Petitioner was hired by Apex 8 Studios, Inc. (Apex), represented herein by its human resource (HR) manager, Cristina Martinez (Martinez), (collectively respondents), as administrative manager on September 20, 2013.  Several notices to explain (NTE) for violation of company policy were issued to petitioner. A summary of the NTEs and petitioner's Replies thereto are narrated below:  1. Memorandum[4] dated May 15, 2014 re: \\\"Offenses against person \\\"based on a complaint from Nino Lanohan[5] (Lanohan) for unannounced employee evaluation, utterance of foul words, and throwing of ballpen and paper at the person evaluated on May 13, 2014 (First NTE).[6]  In her Reply[7] to the First NTE, petitioner asserted that Lanohan was aware of the evaluation and the same was documented, submitting the post evaluation report[8] signed by Lanohan dated May 13, 2014 and previous evaluations of Lanohan.[9] She denied the allegations of an altercation and claimed that these were false accusations of Lanohan who had become emotional after his evaluation.[10]  2. Memorandum[11] dated May 15, 2014 re: \\\"Offenses against Company Code of Conduct\\\" based on a complaint from Benjalyn[12] Nicanor (Nicanor) who alleged that petitioner committed unpleasant, unprofessional, and inappropriate behavior in the workplace and acted in an aggressive tone as if provoking a fight (Second NTE).[13] Nicanor alleged that he received reports of an earlier commotion between petitioner and Lanohan in the common area of the office. Nicanor also alleged that petitioner aggressively confronted Nicanor and other employees in the office pantry when she overheard them talking about the earlier commotion between petitioner and Lanohan.[14] In her Reply[15] dated May 19, 2014, petitioner denied that she acted in an aggressive, inappropriate, unpleasant, or unprofessional manner toward Nicanor and other employees in the pantry. With regard to the previous incident between petitioner and Lanohan, petitioner claimed that what happened was a typical office interaction between her and Lanohan as she tried to address his inadequacies at work. She calmly reacted and tried to give instructions for the proper execution of his job.[16] 3. Memorandum[17] dated May 15, 2014 re: \\\"Offenses against attendance and punctuality\\\" for failure to notify of inability to report and absence without leave or call (Third NTE).[18] Petitioner submitted a Reply[19] asserting that she was sick on May 7, 2014 and attached thereto an email[20] dated May 7, 2014 where she explained that she was not feeling well and apologized for the late notice. 4. Memorandum[21] dated May 15, 2014 re: \\\"Offenses against person\\\" for asking the Chief Operating Officer Thorsten Hillebrecht (COO Hillebrecht) to talk to a food delivery personnel in a high voice without introducing COO Hillebrecht and asking for an unannounced meeting on May 14, 2014 (Fourth NTE).[22] Petitioner submitted a Reply[23] dated May 19, 2014 alleging that she did not act in a disrespectful manner as she introduced COO Hillebrecht to the food delivery personnel inside the boardroom which is the proper venue for the introduction. As to the meeting, she merely requested the same to discuss a violation committed by an employee but the request was denied.[24] 5. Memorandum[25] dated May 16, 2014 re: \\\"Work Responsibility\\\" for failure to stock snacks and food supplies (Fifth NTE) on May 16, 2014.[26]  Petitioner submitted a Reply[27] dated May 20, 2014 asserting that the issue had been addressed after she had received a report of \\\"missing 'popcorn'\\\" requested by the Chief Executive Office (CEO).[28] She was requested to send one box of popcorn from the Apex's Zuellig office to the PBCom office which she complied with. She also requested for a budget to replenish the supplies and immediately procured snacks upon release of the check.[29]  6. Memorandum[30] dated May 21, 2014 re: \\\"Insubordination and work responsibility\\\" for failing to comply with duties and responsibilities, abrasive attitude towards staff, tardiness, delayed submission of management reports, and inefficiency (Sixth NTE).[31] In the Sixth NTE, petitioner was also informed that she would be placed under preventive suspension for a period of 30 days without pay or until June 20, 2014.[32]  Petitioner answered the Sixth NTE in a Reply[33] dated May 28, 2014 denying that she had acted in an abrasive manner, and asserting that she had maintained camaraderie and cooperation with her co-workers.[34] Petitioner denied the allegation that she was failing in the performance of her tasks. She answered that she had emailed the status updates of her weekly tasks to the COO and attached an email thereof.[35] She admitted that she had submitted a Report requested from all department heads regarding development of fiscal goals and objectives, plans and strategies, and averred that she had advised the financial manager ahead of time that there would be delay as she was on bereavement leave at the time.[36]  7. Memorandum[37] dated June 10, 2014 re: \\\"Offenses against company property/property of others/offenses against company interest, dishonesty, and disloyalty\\\" for allegedly allowing makeup artist Raven[38] Agarpao (Agarpao) to take an eyeshadow makeup palette without company consent (Seventh NTE).[39] Petitioner denied the accusation that she allowed Agarpao to take an eye shadow makeup palette. In the first place, petitioner asserted that the handling of the makeup supplies was the task of Nicanor. She also attached a letter[40] from Agarpao who denied taking home any makeup product.[41]  8. Memorandum[42] dated June 10, 2014 re: \\\"Offenses against company interest, dishonesty, and disloyalty\\\" for consenting to give food to the guard on duty as a bribe in order to waive the gate pass requirement for the company's food concessionaire (Eighth NTE).[43]  Petitioner denied consenting to giving food to the guard on duty and submitted a statement from the food concessionaire alleging that it was Lanohan who gave food to the guards and that petitioner had no participation in or knowledge of said act.[44] An administrative hearing was conducted on June 10, 2014 and petitioner submitted a Supplemental Explanation[45] thereafter. On June 20, 2014 respondents extended petitioner's suspension but with pay.[46] On June 23, 2014, respondents served a Notice of Termination[47] to petitioner, finding her guilty of the infractions contained in the the First, Second, Fourth, Fifth, Sixth, Seventh, and Eighth NTEs on the grounds of violation of code of conduct, serious misconduct, fraud or willful breach of trust, gross and habitual neglect of duties, and loss of trust and confidence. Thus, petitioner filed a complaint[48] before the Labor Arbiter (LA) for illegal suspension, illegal dismissal, payment of backwages, separation pay, moral and exemplary damages, attorney's fees, and costs of suit.  In her Position Paper,[49] petitioner alleged that her dismissal was a retaliatory act of Apex's Global Director for Talent Resources, Jonathan Sullivan (Sullivan) after the latter read a Facebook post on May 15, 2014 made by petitioner's husband which indicated the qualities of a good leader.[50] Petitioner averred that Sullivan interpreted the Facebook post as a criticism of his management style and he sent text messages to petitioner asking about the post.[51] Sullivan, in connivance with HR Manager Martinez, used the Facebook post as a ground to dismiss petitioner from employment.[52] On the other hand, respondents maintained that petitioner was validly dismissed for just cause and with observance of procedural due process.[53] The LA Decision  The LA held that petitioner, a managerial employee, was validly suspended and dismissed on the ground of loss of trust and confidence due to her actions and aggressive behavior. The LA found that petitioner's conflicts with her co-workers showed that she was \\\"totally incapable of peaceful co-existence\\\"[54] in the workplace.[55]  The LA also held that petitioner was unable to prove that her dismissal was motivated by revenge due merely to her husband's Facebook post. Moreover, there was no showing that her co-workers Lanohan and Nicanor were merely coerced or motivated by malice in reporting her infractions. The LA also held that procedural due process was observed in the implementation of the dismissal.[56] The LA did not discuss the other grounds cited in the Notice of Termination. Thus, petitioner appealed the case to the National Labor Relations Commission (NLRC). The NLRC Decision  The NLRC reversed the LA Decision[57] and held that petitioner's suspension and subsequent dismissal were illegal. With regard to the suspension, the NLRC held that it was baseless because respondents were unable to prove that petitioner's presence in the workplace posed an imminent or serious threat to the life and/or property of respondents and its employees.[58] On the issue of illegal dismissal, the NLRC held that the charges against petitioner were not proven with substantial evidence, thus, there was no just cause for her dismissal. The complaints against petitioner were based on unverified emails and unsigned letters from employees as respondents did not submit the affidavits of the said employees.[59] The NLRC, however, agreed with the LA that respondents complied with procedural due process in terminating petitioner's employment.[60] The dispositive portion of the NLRC Decision[61] reads:   WHEREFORE, premises considered, the appeal of [petitioner] is hereby granted. The Decision of the Labor Arbiter dated 08 October 2014 is REVERSED and SET ASIDE. [Petitioner] is declared to have been illegally dismissed and [respondents] are hereby ordered to pay jointly and severally [petitioner] her wages during the time of illegal preventive suspension from 21 May 2014 to 22 June 2014; full backwages from 23 June 2014 until the finality of this Decision; separation pay in lieu of reinstatement equivalent to one month pay for every year of service with a fraction of at least six (6) months to be considered as one whole year to be computed from date of employment on 20 September 2013 until the finality of this Decision; moral damages in the amount of P25,000.00; exemplary damages of P25,000.00; and ten percent (10%) attorney's fees on the monetary award.[62] (Emphasis in the original)   Respondents filed a Motion for Reconsideration[63] (MR) attaching thereto, the affidavits of employees Lanohan, Nicanor, and COO Hillebrecht.[64] However, the NLRC denied the MR in its Resolution[65] dated April 30, 2015, and did not give credence to the affidavits as they were belatedly filed. The NLRC held that while technical rules of procedure are not binding in administrative cases, the delayed submission of relevant documents must be justified. Respondents did not present a justifiable reason for the late submission of the affidavits of their witnesses. The failure to produce the said documents was clearly their own fault as the witnesses were at their disposal from the beginning. They would not suffer any deprivation of due process as they had ample opportunity to submit the affidavits with their Position Paper before the LA and their Memorandum of Appeal before the NLRC, but they neglected to do so.[66] The CA Decision  The CA reversed the NLRC Decision and agreed with the LA Decision that there was just cause for petitioner's dismissal. Contrary to the NLRC's findings, the CA held that there was substantial evidence to prove that petitioner committed serious misconduct, gross neglect of duties, and breach of trust and confidence. The CA found that petitioner's utterance of foul words, throwing of pen and paper, aggressive behavior aimed at provoking a fight, and disrespectful behavior towards fellow employees Lanohan and Nicanor and the company COO Hillebrecht constituted serious misconduct. The CA held that petitioner only proffered denials and alibis which impliedly admitted that the incidents indeed transpired. The CA further ruled that petitioner's actions resulted in the loss of trust and confidence in her as a managerial employee. The CA also held that the NLRC is not bound by technical rules of evidence even during the appeal and filing of MR. Thus, the NLRC should have allowed the belated filing of the affidavits as part of respondents' evidence.[67] Petitioner filed an MR,[68] which was denied by the CA in its Resolution dated June 26, 2018. Thus, petitioner filed the instant Petition imputing reversible error on the CA in reversing the NLRC Decision and holding that her suspension and dismissal were valid.  Respondents filed their Comment,[69] asserting that the CA correctly ruled in reversing the NLRC Decision. They argue that petitioner merely rehashed the arguments she raised before the CA which have been already properly addressed. Respondents also contend that the Petition is defective as the Verification and Certification of Non-Forum Shopping[70] (Verification and Certification) was signed by petitioner's husband Eugenio Tay (Eugenio) who presented no proof that he was authorized to sign on behalf of petitioner. Petitioner filed a Reply[71] asserting that a Special Power of Attorney[72] (SPA) dated May 8, 2015 is attached to the Verification and Certification, paragraph 6 of which expressly authorizes Eugenio to file the instant Petition before the Court. Issue  Whether the CA committed reversible error in reversing the NLRC Decision and Resolution. The Court's Ruling  The petition is meritorious. In determining the issue of whether petitioner was validly dismissed on the grounds of serious misconduct, fraud or willful breach of trust, gross and habitual neglect of duties, and loss of trust and confidence, the Court was compelled to re-examine the factual issues in the case. Generally, petitions for review on certiorari under Rule 45 are limited to questions of law as factual findings of administrative agencies are accorded great weight and respect due to their specific expertise and jurisdiction. In exceptional cases, however, a review of the records may be warranted when the factual findings of the LA, NLRC, and CA are contradictory, as in this case.[73]  In labor disputes, the employer has the burden to prove that the disciplinary action imposed on the employee was done with just cause. The quantum of proof required is substantial evidence, which is defined as \\\"such relevant evidence as a reasonable mind might accept as adequate to support a conclusion.\\\"[74] Upon a judicious review of the case, the Court finds that the CA committed reversible error in overturning the NLRC Decision. The NLRC did not commit grave abuse of discretion amounting to lack or excess of jurisdiction in holding that there was no valid ground for the preventive suspension, and no just cause for the dismissal of petitioner.  Before proceeding to discuss the substantive issues in the case, the Court first determines the issue of the validity of the Verification and Certification. The SPA executed by petitioner clearly and categorically authorizes Eugenio to represent her in this labor dispute and to perform acts in pursuance of the case, including the signing of pleadings and verification and certification of non-forum shopping of such pleadings and the filing of the Petition before the Court.[75] Thus, contrary to respondents' contention, the Verification and Certification is valid as Eugenio is clothed with authority to sign the Verification and Certification.   There was no valid ground for the preventive suspension    Under Sections 8 and 9, Rule XXIII, Book V of the Omnibus Rules to Implement the Labor Code, as amended,[76] the employer may place the employee under preventive suspension for a maximum period of 30 days if his or her continued presence in the workplace poses a serious and imminent threat to the life or property of his or her co-workers.  Preventive suspension is a disciplinary measure for the protection of the company and its employees pending investigation of the alleged wrongdoing committed by the employee. However, when it is found that the preventive suspension was without sufficient basis, the employee is entitled to the payment of salaries during the preventive suspension.[77] In cases involving dishonesty, the Court has held that preventive suspension is an acceptable precautionary measure in order to preserve the integrity of vital papers and documents that may be material and relevant to the case and which the employee may have access to by virtue of his or her position.[78] As correctly noted by the NLRC, the preventive suspension was imposed on petitioner on May 21, 2014 before the issuance of the Memorandum dated June 10, 2014 which contained the charge of alleged consent to theft and bribery. Thus, there was no charge of dishonesty or fraud yet when the preventive suspension was imposed. The grounds relied upon by respondents in imposing the preventive suspension referred to the infractions detailed in the First to Fifth NTEs which involved the charges of (1) rude behavior towards Lanohan; (2) unpleasant, unprofessional, and inappropriate behavior towards Nicanor; (3) absence without official leave; (4) rude behavior towards COO Hillebrecht; and (5) no stock of food and snacks.  The Court is not convinced that the above incidents are justifiable basis for preventive suspension. Respondents failed to present any substantial evidence of how petitioner's presence in the work place posed a serious and imminent threat to the life and property of the company and its employees to justify petitioner's suspension for 30 days. Respondents likewise did not prove that petitioner's presence would hinder or obstruct the investigation. Thus, the preventive suspension imposed on petitioner was illegal and she is entitled to her unpaid salaries for the period that she was preventively suspended without pay.   There was no just cause for illegal dismissal    The charge in the First, Second and Fourth NTEs which were upheld in the Notice of Termination, will be discussed together as they refer to similar allegations regarding petitioner's behavior and interactions with her co-workers.  The NLRC did not give credence to the allegations in the NTEs because they were not supported by affidavits of the complainants Lanohan, Nicanor, and COO Hillebrecht. The affidavits were submitted belatedly as attachments to respondents' MR before the NLRC. On the other hand, the CA took a liberal approach and appreciated the belatedly submitted affidavits reasoning that the NLRC is not bound by technical rules of evidence.  The Court does not agree with the CA. The NLRC cannot be faulted for disregarding the belatedly submitted affidavits in the absence of any adequate reason for their late submission. While it is true that strict adherence to technical rules of procedure is not required in labor cases, liberality may be allowed only when the errant party is able to adequately explain the delay in the submission of evidence and sufficiently prove the allegations sought to be proven.[79] Section 11, Rule V of the NLRC Rules of Procedure requires the parties to submit their verified position papers with supporting documents and affidavits of witnesses, which shall take the place of their direct testimony.[80] It is clear that the affidavits should be submitted with the position paper, at the initial stage of the case. In this case, respondents' witnesses were its own employees and COO. Thus, they could have easily submitted their affidavits with their Position Paper filed before the LA. Respondents, however, failed to provide any justifiable reason for the delay of the submission of said documents. As the employer, it was incumbent upon respondents to prove their allegations with substantial evidence.  In any case, even if the Court were to consider the unverified statements against petitioner, the allegations contained in the First, Second, and Fourth NTEs do not constitute serious misconduct to justify the harsh penalty of dismissal. In Maula v. Ximex Delivery Express, Inc.,[81] the Court explained the definition and elements of serious misconduct. The Court held:   Misconduct is improper or wrong conduct; it is the transgression of some established and definite rule of action, a forbidden act, a dereliction of duty, willful in character, and implies wrongful intent and not mere error in judgment. The misconduct, to be serious within the meaning of the Labor Code, must be of such a grave and aggravated character and not merely trivial or unimportant. Thus, for misconduct or improper behavior to be a just cause for dismissal, (a) it must be serious; (b) it must relate to the performance of the employee's duties; and (c) it must show that the employee has become unfit to continue working for the employer.[82](Emphasis supplied)   The First NTE[83] contained Lanohan's report that petitioner conducted an unannounced evaluation without proper documentation, uttered foul words, and threw a pen and paper on May 13, 2014. While the Court has previously ruled that the utterance of obscene, insulting, and offensive words and fighting in company premises[84] may be valid grounds for termination, the allegations in the NTEs are too broad and general to be interpreted as serious misconduct. The First NTE alleged that petitioner uttered foul words but it does not state the words that were actually uttered. The description of the utterances as \\\"foul word\\\"[85] is a conclusion and not a mere factual narration. The interpretation of words is highly subjective and the Court cannot just accept one party's description of utterances without a specification of the actual words uttered. It was also alleged that petitioner conducted an unannounced evaluation but respondents were unable to prove how the said act was a violation of the company's code of conduct or procedures in evaluation of employees. The allegation that petitioner threw a pen and paper at Lanohan deserves scant consideration as this was unverified and unsubstantiated. The Second NTE[86] alleged that petitioner acted in an unpleasant, unprofessional and inappropriate manner toward Nicanor, based on an unsigned letter which stated:   \\\"This morning, I [Nicanor] got a report from my Pitboss Rio and Make-up artist Elaine that there was a commotion between [petitioner] (Admin Manager) and [Lanohan] (cleaner supervisor) during clean ups that leads to walking out of the latter from the room.  Such acts should not be done in a common area as this may create emotional distress to the staff that may disrupt organizational functions. This kind of behavior is unpleasant, unprofessional, and inappropriate in a workplace wherein we are promoting harmonious relationships between staff in the operations department.  In lieu with (sic) the above mentioned report, [petitioner] popped in the pantry area at around 10[:]30am coming from outside saying \\\"are you talking behind my back\\\" and \\\"I heard my name being mentioned here as I walked in\\\" pertaining to Me [Nicanor] (Operations Manager), Tina (HR Manager), [Lanohan] (cleaner supervisor)[,] Laila (project coordinator) and Venus (cleaner). Her tone was very aggressive as if she is provoking into a fight.   Silence comes after the resounding voice and staffs (sic) were frightened because of this.\\\"[87] (Italics in the original)    The allegations in the Second NTE, even if taken to be true, likewise do not constitute serious misconduct. The utterances \\\"are you talking behind my back?\\\" and \\\"I heard my name being mentioned here as I walked in\\\"[88] cannot, by themselves, be interpreted as aggressive and provocative. The statements were merely questions propounded to the persons present in the pantry. As stated in the NTE, there was silence after, which signifies that there was no altercation or commotion that ensued after the utterances. As to the allegation of the separate commotion between petitioner and Lanohan, the same deserves no consideration as it was merely relayed to Nicanor by other employees. Significantly, Lanohan himself did not report the incident.  With regard to the charges in the Fourth NTE,[89] the Court does not find that petitioner's failure to introduce the COO Hillebrecht to the food delivery personnel and requesting for an unannounced meeting, constitute serious misconduct. The said imputed acts do not constitute misconduct so grave to justify dismissal. Respondents failed to prove that the purported acts were violations of the company code of conduct. Respondents alleged in the Notice of Termination that other employees attested that petitioner did not introduce COO Hillebrecht to the delivery personnel and acted in a condescending manner,[90] yet they did not submit affidavits of the other employees who witnessed the incident. Moreover, asking for a meeting, whether announced or unannounced, does not constitute misconduct.  Respondents were unable to substantiate that the above acts constituted just causes for dismissal. They failed to prove that petitioner committed serious misconduct relating to her duties which demonstrated unfitness to continue working for the company. Respondents attempted to depict petitioner as an employee who did not get along well with her colleagues, akin to an allegation of having an \\\"attitude problem.\\\" While the Court has previously held that an employee's attitude problem may be a valid ground for termination as it is detrimental to the company, cause strain at the working environment, and affect teamwork,[91] respondents were unable to prove with substantial evidence that this was the situation in this case. Such an allegation must be proven with substantial evidence detailing the specific acts of the employee which demonstrate negative behavior to such a degree that it negatively affects the other employees, the work environment, and impacts on the employee's work. In Sy v. Neat, Inc,[92] where one of the grounds for dismissal was also the employee's alleged attitude problem, the Court held:   With respect to Sy's attitude problem, the Court finds no evidence to substantiate such allegation. Aside from the allegations in the August 5, 2012 memorandum to the effect that the Operations Managers have complained about his attitude problem, nothing in the records show that Sy was previously warned for not following instructions, and for arguing with or disrespecting his superiors. Bare allegations, unsubstantiated by evidence, are not equivalent to proof under our Rules. To be sure, unsubstantiated suspicions, accusations and conclusions of employers do not provide for legal justification for dismissing an employee. Respondents failed to present reports or sworn statements of the Operations Managers, narrating the instances when he displayed attitude problems at work, as well as his previous Performance Appraisal indicating unsatisfactory evaluation of his work.[93] (Emphasis supplied)   The CA also committed reversible error in holding that petitioner's denial of the charges regarding her attitude constituted an implied admission. The evidence must be weighed based on the strength of the employers' evidence as the burden is on them to prove that the dismissal as valid.  In Heavylift Manila, Inc. v. Court of Appeals,[94] the Court held   However, we are not convinced that in the present case, petitioners have shown sufficiently clear and convincing evidence to justify Galay's termination. Though they are correct in saying that in this case, proof beyond reasonable doubt is not required, still there must be substantial evidence to support the termination on the ground of attitude. The mere mention of negative feedback from her team members, and the letter dated February 23, 1999, are not proof of her attitude problem. Likewise, her failure to refute petitioners' allegations of her negative attitude does not amount to admission. Technical rules of procedure are not binding in labor cases. Besides, the burden of proof is not on the employee but on the employer who must affirmatively show adequate evidence that the dismissal was for justifiable cause.[95] (Emphasis supplied)    The charge in the Third NTE[96] relating to petitioner's attendance, was not included in the Notice of Termination as a ground for dismissal. Accordingly, it will no longer be discussed.  The Notice of Termination also found petitioner guilty of the charges in the Fifth and Sixth NTEs for gross inefficiency in her work performance. Under Section 297 of the Labor Code, gross and habitual neglect of duties is a just cause for dismissal. In Cavite Apparel, Incorporated v. Marquez[97] the Court held:   Neglect of duty, to be a ground for dismissal under Article 282 of the Labor Code, must be both gross and habitual. Gross negligence implies want of care in the performance of one's duties. Habitual neglect imparts repeated failure to perform one's duties for a period of time, depending on the circumstances. x x x.[98]    The charges in the Fifth NTE[99] pertain to petitioner's alleged failure to monitor the supply of snacks in Apex's PBCom office despite repeated reminders. Petitioner admitted that there were no snacks in the PBCom office on May 16, 2014 but proffered that she was able to send snacks from the Zuellig Office to the PBCom office and to purchase more snacks on the same day.  Under the standards in Cavite Apparel, the Court finds that petitioner did not commit gross and habitual neglect of duty. The lack of snacks was reported only on May 16, 2014. Respondents alleged that repeated reminders were given to petitioner regarding the snacks, yet they failed to submit any proof that petitioner had been previously reminded or reprimanded for the same act. Moreover, as explained by petitioner, the situation was immediately remedied as she was able to replenish the supply of snacks. As correctly held by the NLRC, the failure to monitor the snacks in the PBCom office was not so crucial for the business operation of Apex to make it a terminable offense. Thus, the said act does not constitute gross negligence.  The Sixth NTE[100] accused petitioner of failing to comply with duties and responsibilities, abrasive attitude towards staff, tardiness, delayed submission of management reports, and inefficiency. However, respondents did not specify the acts of petitioner constituting said infractions and they failed to submit any substantial evidence to prove these allegations. The general allegations in the Sixth NTE were also not individually addressed in the Notice of Termination. Mere general recitations of an employee's infractions are not sufficient to convince the Court. The employer must allege and prove the specific acts of the employee which violated the company's code of conduct. Mere allegation is not evidence.[101] As the employer, respondents failed to discharge the burden of presenting substantial evidence to prove the allegations in the Sixth NTE.  Respondents also found petitioner guilty of committing fraud and willful breach of trust, based on the allegations in the Seventh and Eighth NTEs. In the Seventh NTE,[102] it was alleged that petitioner allowed a makeup artist, Agarpao, to take an eyeshadow makeup palette without company consent. The charge was based on an email[103] from Therese Angela Jose (Jose) who alleged that she last saw the missing eyeshadow palette in the possession of Agarpao, who declared that she had asked permission from petitioner to take the item since it had been already used up. Agarpao allegedly told Jose that she offered to pay for the item but petitioner refused and just gave her the eyeshadow palette. Respondents also submitted a handwritten letter[104] from another makeup artist, Elaine Robles (Robles) who alleged that she overheard Agarpao telling another make-up artist that petitioner gave Agarpao the make-up palette since it was already used up.  The allegations contained in the email and letter deserve scant consideration as respondents did not submit the affidavits of Jose and Robles to confirm their statements. In any case, even if the Court were to accept the unverified statements, still there would be no substantial evidence against petitioner because the statements are mere hearsay. Jose did not see the actual taking of the item or petitioner's alleged consent to the taking thereof, she only averred that Agarpao told her that petitioner allowed her to take the item. Meanwhile, Robles merely averred that she overheard Agarpao say that petitioner gave her the make-up palette. Both had no personal knowledge of the allegation that petitioner gave her consent to the taking of the item. Respondents did not conduct any investigation on the alleged incident and merely relied on the hearsay statements of Jose and Robles. The NTE did not even indicate the date of the alleged theft. The Eighth NTE[105] charged petitioner with consenting to the act of Lanohan in giving of food as a bribe to the security guards in PBCom to allow Apex's food concessionaire to enter the building without a gate pass. This is another baseless and unsubstantiated charge against petitioner. The NTE alleged that the report was \\\"[b]ased on the information turned over to us,\\\"[106] and yet, no affidavit or report was submitted to support the charge. In the Notice of Termination, respondents declared that the company had directed Lanohan to explain his side, but did not elucidate on Lanohan's explanation. It is therefore apparent that respondents did not have any substantial evidence to prove that petitioner had consented to the giving of food to the guards. The Court notes that respondents were unable to directly impute any act of fraud or willful breach of trust against petitioner and merely tried to implicate her in alleged infractions of other employees.  Lastly, respondents also used loss of trust and confidence as basis for termination of employment in the Notice of Termination. The Court finds that there is no substantial evidence to prove that petitioner committed acts which could have resulted in loss of trust and confidence in petitioner as a managerial employee. The Court has previously ruled that loss of trust and confidence may be a basis for the dismissal of managerial employees owing to the confidential and fiduciary nature of their position. However, the loss of trust and confidence must have real basis and not be based on mere suspicions or speculations. In Lima Lands, Inc. v. Cuevas,[107] the Court held:   x x x [T]he loss of trust and confidence must be based not on ordinary breach by the employee of the trust reposed in him by the employer, but, in the language of Article 282 (c) of the Labor Code, on willful breach. A breach is willful if it is done intentionally, knowingly and purposely, without justifiable excuse, as distinguished from an act done carelessly, thoughtlessly, heedlessly or inadvertently. It must rest on substantial grounds and not on the employer's arbitrariness, whims, caprices or suspicion; otherwise, the employee would eternally remain at the mercy of the employer. It should be genuine and not simulated; nor should it appear as a mere afterthought to justify earlier action taken in bad faith or a subterfuge for causes which are improper, illegal or unjustified. There must, therefore, be an actual breach of duty committed by the employee which must be established by substantial evidence. Moreover, the burden of proof required in labor cases must be amply discharged.[108]   In sum, respondents miserably failed to prove that petitioner's suspension and subsequent dismissal were based on any just cause. Respondents failed to discharge the burden of proving with substantial evidence the alleged infractions of petitioner to justify the imposition of preventive suspension and the ultimate penalty of dismissal.   Petitioner is entitled to unpaid wages, backwages, separation pay, moral and exemplary damages, and attorney's fees    The Court reinstates the NLRC's monetary awards.  Petitioner is entitled to her unpaid wages for the period of her illegal preventive suspension from May 21 to June 20, 2014 and for the period of extension on June 21, 2014 until June 22, 2014. An employee is entitled to the payment of salaries during the preventive suspension when it is found that the imposition thereof was without sufficient basis.[109] The Court notes that petitioner's suspension was extended beyond June 20, 2014, but with pay. If her salary for June 21 and 22, 2014 has already been paid, the same shall be excluded in the computation of unpaid salaries for the period of illegal preventive suspension.  The NLRC also correctly ruled that petitioner is entitled to backwages and separation pay, in lieu of reinstatement due to the strained relations between the parties. In Aliling v. Feliciano,[110] the Court distinguished the two awards:   \\\"The basis for the payment of backwages is different from that for the award of separation pay. Separation pay is granted where reinstatement is no longer advisable because of strained relations between the employee and the employer. Backwages represent compensation that should have been earned but were not collected because of the unjust dismissal. The basis for computing backwages is usually the length of the employee's service while that for separation pay is the actual period when the employee was unlawfully prevented from working.[\\\"][111]   Undoubtedly, the relationship between petitioner and respondents is strained and reinstatement would not be viable. Thus, the grant of separation pay is justified.  The NLRC's award of moral and exemplary damages is also justified as petitioner's dismissal was attended with bad faith. In Daguinod v. Southgate Foods, Inc.,[112] the Court held:   x x x Moral damages are awarded in illegal termination cases when the employer acted (a) in bad faith or fraud; (b) in a manner oppressive to labor; or (c) in a manner contrary to morals, good customs, or public policy. In addition to moral damages, exemplary damages may be imposed by way of example or correction for the public good. In contracts and quasi-contracts, the court may award exemplary damages if the defendant acted in a wanton, fraudulent, reckless, oppressive, or malevolent manner.[113]    Respondents clearly acted in bad faith in implementing petitioner's dismissal. Respondents bombarded petitioner with eight (8) NTEs which contained baseless allegations and dismissed her without a proper investigation of the complaints against her. They implicated petitioner in fraudulent and dishonest acts without any substantial basis, disparaged her work performance without conducting a proper assessment, and trampled on her character. The NLRC awarded moral and exemplary damages of P25,000.00 each. The Court deems it appropriate to raise the amounts to P50,000.00 each, considering that respondents' treatment of petitioner was blatantly unfair and very oppressive. The Court also affirms the NLRC's award of attorney's fees of ten percent (10%) of the total monetary award. In cases for recovery of wages or when an employee was compelled to file suit to protest his or her rights, the award of attorney’s fees is justifiable.[114] WHEREFORE, premises considered, the Petition is GRANTED. The Court further RESOLVES to:    1. REVERSE and SET ASIDE the CA Decision dated February 6, 2018 and Resolution dated June 26, 2018 in CA-G.R. SP No. 141218.          2. REINSTATE the Decision of the NLRC in NLRC LAC No. 11-002899-14 with modification as to the amount of moral and exemplary damages.         3. Respondents Apex 8 Studios, Inc. and Cristina Martinez are DIRECTED to PAY petitioner Michelle H. Tay the following monetary awards, which shall be their joint and solidary liability:             a) unpaid salaries for the period of preventive suspension without pay from May 21 to June 20, 2014 and for the period of extension on June 21, 2014 until June 22, 2014, if unpaid;            b) full backwages from the date of dismissal on June 23, 2014 until finality of this judgment;             c)  separation pay in lieu of reinstatement computed from the beginning of employment on September 20, 2013 until finality of this judgment;             d) moral damages of P50,000.00;            e) exemplary damages of P50,000.00; and            f)  attorney's fees of 10% of the monetary award.    The total monetary award shall be subject to legal interest at the rate of six percent (6%) per annum from the finality of this Decision until full payment.[115]  SO ORDERED. Gesmundo, C.J., (Chairperson), Carandang, Zalameda, and Gaerlan, JJ., concur.  • Formerly UDK 16271. * \\\"Mizzie,\\\" \\\"Mizzy,\\\" and \\\"Missy\\\" in some parts of the rollo. ** \\\"Tina\\\" in some parts of the rollo.[1] Rollo, Vol. I, pp. 2-44.  [2] Rollo, Vol. II, pp. 646-665. Penned by Associate Justice Nina G. Antonio-Valenzuela with the concurrence of Associate Justices Priscilla J. Baltazar-Padilla (a retired Member of the Court) and Germano Francisco D. Legaspi.  [3] Id. at 682-683.  [4] Rollo, Vol. I, pp. 146-147.  [5] \\\"Niño Lanohan\\\" and \\\"Niño Lañohan\\\" in some parts of the rollo.  [6] Rollo, Vol. I, p. 146.  [7] Id. at 148.  [8] Id. at 220-221.  [9] Id. at 149-157.  [10] Id. at 148.  [11] Id. at 160-161.  [12] \\\"Gigi\\\" in some parts of the rollo.  [13] Rollo, Vol. I, p. 160.  [14] Id.  [15] Id. at 162-163.  [16] Id. at 162.  [17] Id. at 297-298.  [18] Id. at 297.  [19] Id. at 299-300.  [20] Id. at 301-303.  [21] Id. at 164-165.  [22] Id. at 164.  [23] Id. at 166-167.  [24] Id. at 166.  [25] Id. at 312-313.  [26] Id. at 312.  [27] Id. at 314.  [28] Id.  [29] Id.  [30] Id. at 171-173.  [31] Id. at 171-172.  [32] Id. at 172.  [33] Id. at 174-177.  [34] Id. at 175.  [35] Id. at 174, 178-184.  [36] Id. at 176.  [37] Id. at 189-190.  [38] \\\"Rea\\\" in some parts of the rollo.  [39] Rollo, Vol. I, p. 189.  [40] Id. at 223.  [41] Id. at 209.  [42] Id. at 193-194.  [43] Id. at 193.  [44] Id. at 210.  [45] Id. at 196-214.  [46] Id. at 365.  [47] Id. at 362-375.  [48] Id. at 112-113.  [49] Id. at 246-276.  [50] Id. at 250; see also, rollo, Vol. II, p. 536.  [51] Id. at 250-251, 278-179; rollo, Vol. II, id.  [52] Id. at 251; rollo, Vol. II, id.  [53] Rollo, Vol. II, id.  [54] See LA Decision, rollo, Vol. I, p. 458.  [55] Id. at 456-460.  [56] Id.  [57] Id. at 441-461. Penned by LA Benedict G. Kato.  [58] Rollo, Vol. II, pp. 539-545.  [59] Id. at 541-545.  [60] Id. at 541.  [61] Id. at 533-548.  [62] Id. at 547.  [63] Id. at 550-568.  [64] See id. at 588 & 595.  [65] Id. at 587-601.  [66] Id.  [67] Id. at 655-664.  [68] Id. at 666-680.  [69] Id. at 687-704.  [70] Id. at 720.  [71] Id. at 714-719.  [72] Id. at 721-722.  [73] Pascual v. Burgos, G.R. No. 171722, January 11, 2016, 778 SCRA 189.  [74] Maula v. Ximex Delivery Express, Inc., G.R. No. 207838, January 25, 2017, 816 SCRA 1, 17.  [75] Rollo, Vol. II, p. 721.  [76] AMENDING THE RULES IMPLEMENTING BOOK V OF THE LABOR CODE AS AMENDED, DOLE Department Order No. 09, s. 97, approved on May 1, 1997.  [77] Gatbonton v. National Labor Relations Commission, G.R. No. 146779, January 23, 2006, 479 SCRA 416, 421-422.  [78] Dayan v. Bank of the Philippine Islands, G.R. No. 140692, November 20, 2001, 369 SCRA 712, 717.  [79] Princess Talent Center Production, Inc. v. Masagca, G.R. No. 191310, April 11, 2018, 860 SCRA 602, 633.  [80] SECTION 11. SUBMISSION OF POSITION PAPER AND REPLY. — a) Subject to Sections 9 and 10 of this Rule, the Labor Arbiter shall direct the parties to submit simultaneously their verified position papers with supporting documents and affidavits, if any, on a date set by him/her within ten (10) calendar days from the date of termination of the mandatory conciliation and mediation conference.  b) No amendment of the complaint or petition shall be allowed after the filing of position papers, unless with leave of the Labor Arbiter.  c) The position papers of the parties shall cover only those claims and causes of action stated in the complaint or amended complaint, accompanied by all supporting documents, including the affidavits of witnesses, which shall take the place of their direct testimony, excluding those that may have been amicably settled. d) Within ten (10) days from receipt of the position paper of the adverse party, a reply may be filed on a date agreed upon and during a schedule set before the Labor Arbiter. The reply shall not allege and/or prove facts and any cause or causes of action not referred to or included in the original or amended complaint or petition or raised in the position paper. (7a) (approved on May 31, 2011).  [81] Supra note 74.  [82] Id. at 17-18. [83] Rollo, Vol. I, pp. 146-147.  [84] Autobus Workers' Union (AWU) v. NLRC, G.R. No. 117453, June 26, 1998, 291 SCRA 219, 228; Naguit v. San Miguel Corporation, G.R. No. 188839, June 22, 2015, 759 SCRA 535, 546. [85] Rollo, Vol. I, p. 146. [86] Id. at 160-161. [87] Id. at 160. [88] Id.; italics in the original.  [89] Id. at 164-165. [90] Id. at 368. [91] Heavylift Manila, Inc. v. Court of Appeals, G.R. No. 154410, October 20, 2005, 473 SCRA 541, 549. [92] G.R. No. 213748, November 27, 2017, 846 SCRA 612. [93] Id. at 636.  [94] Supra note 91.  [95] Id. at 549-550.  [96] Rollo, Vol. I, pp. 297-298. [97] G.R. No. 172044, February 6, 2013, 690 SCRA 48. [98] Id. at 57.  [99] Rollo, Vol. I, pp. 312-313. [100] Id. at 171-173. [101] Doctor v. NII Enterprises, G.R. No. 194001, November 22, 2017, 846 SCRA 53, 67. [102] Rollo, Vol. I, p. 189-190.  [103] Id. at 191. [104] Id. at 192. [105] Id. at 193-194. [106] Id. at 193. [107] G.R. No. 169523, June 16, 2010, 621 SCRA 36. [108] Id. at 47-48.  [109] Gatbonton v. National Labor Relations Commission, supra note 77, at 422.  [110] G.R. No. 185829, April 25, 2012, 671 SCRA 186.  [111] Id. at 213.  [112] G.R. No. 227795, February 20, 2019, 894 SCRA 172. [113] Id. at 201. [114] Rutaquio v. National Labor Relations Commission, G.R. Nos. 97652-53, October 19, 1999, 317 SCRA 1, 12-13.[115] Nacar v. Gallery Frames, G.R. No. 189871, August 13, 2013, 703 SCRA 439.\"\"\", \"https://elibrary.judiciary.gov.ph/thebookshelf/showdocs/1/67922\", top_response['score']))"
   ]
  },
  {
   "cell_type": "code",
   "execution_count": 117,
   "id": "5e7af2b7-9160-4c88-8b5b-9ff90e8e4ca1",
   "metadata": {
    "execution": {
     "iopub.execute_input": "2024-08-25T14:09:55.259874Z",
     "iopub.status.busy": "2024-08-25T14:09:55.257061Z",
     "iopub.status.idle": "2024-08-25T14:09:55.272051Z",
     "shell.execute_reply": "2024-08-25T14:09:55.270602Z",
     "shell.execute_reply.started": "2024-08-25T14:09:55.257659Z"
    }
   },
   "outputs": [],
   "source": [
    "PHLEX_PROMPT1 = \"\"\"Presiding Judge Maria Torres of the Regional Trial Court, Branch 45 in Davao City, filed an administrative complaint against Alfredo Espina, a court clerk in the same branch. The complaint arose after a concerned litigant, Leah Perez, reported that Espina was colluding with an outsider named Roberto Cruz to solicit money in exchange for a favorable court ruling. Leah, whose husband had a pending motion for reconsideration, claimed that Cruz introduced himself as a close associate of Judge Torres and assured her that with a payment of PHP 150,000, the motion would be granted. Leah was hesitant but eventually agreed to pay after Cruz brought Espina into the conversation, who then confirmed that he would “talk to the judge.” Leah later discovered that the court ruling had nothing to do with the payment but was based purely on the merits of the case. Disturbed, she reported the incident directly to Judge Torres, who promptly coordinated with the National Bureau of Investigation (NBI) for an entrapment operation. The operation led to the arrest of Cruz and implicated Espina after text messages between them were retrieved. Despite his denials, Espina was found to have orchestrated multiple similar extortion schemes using his position and knowledge of court proceedings. Judge Torres requested the immediate suspension of Espina and the filing of administrative and criminal charges. The investigation revealed that Espina had been taking advantage of vulnerable litigants for years. The Judicial Integrity Board (JIB) recommended his dismissal, forfeiture of benefits, and perpetual disqualification from public service.\n",
    "Given the severity of the misconduct involving bribery and extortion, what would be the likely outcome if this case proceeded to the court, considering previous jurisprudence on similar cases of administrative offenses involving court personnel?\"\"\"\n"
   ]
  },
  {
   "cell_type": "code",
   "execution_count": 118,
   "id": "8b24a158-7781-46f9-985e-6ccb9504a44c",
   "metadata": {
    "execution": {
     "iopub.execute_input": "2024-08-25T14:09:57.722772Z",
     "iopub.status.busy": "2024-08-25T14:09:57.721273Z",
     "iopub.status.idle": "2024-08-25T14:10:03.651355Z",
     "shell.execute_reply": "2024-08-25T14:10:03.649751Z",
     "shell.execute_reply.started": "2024-08-25T14:09:57.722710Z"
    }
   },
   "outputs": [
    {
     "name": "stdout",
     "output_type": "stream",
     "text": [
      "0.694172561\n",
      "Assistant Thought: The provided context discusses a case involving allegations of illegal acts by a judge and a clerk of court, which is somewhat similar to the current case involving Alfredo Espina. However, it does not provide specific jurisprudence or outcomes directly related to Espina's case. Therefore, I will use general principles from similar cases to answer the question.\n",
      "\n",
      "Assistant Response: In cases of administrative offenses involving court personnel, especially those involving bribery and extortion, the judiciary has consistently taken a strong stance to maintain the integrity of the judicial system. Based on previous jurisprudence, the likely outcome for Alfredo Espina, given the severity of his misconduct, would be his dismissal from service, forfeiture of benefits, and perpetual disqualification from public service. This aligns with the recommendations of the Judicial Integrity Board (JIB) and reflects the judiciary's commitment to upholding ethical standards and deterring similar misconduct.\n"
     ]
    }
   ],
   "source": [
    "r = RagBot(llm=OpenAIChatLLM(temperature=0.0), stop_pattern=['[END]'])\n",
    "print(r.run(PHLEX_PROMPT1))"
   ]
  },
  {
   "cell_type": "code",
   "execution_count": 66,
   "id": "c99b029e-b4ee-4e46-8baf-f7a62fc7e958",
   "metadata": {
    "execution": {
     "iopub.execute_input": "2024-08-26T13:22:23.533309Z",
     "iopub.status.busy": "2024-08-26T13:22:23.532636Z",
     "iopub.status.idle": "2024-08-26T13:22:23.541270Z",
     "shell.execute_reply": "2024-08-26T13:22:23.539683Z",
     "shell.execute_reply.started": "2024-08-26T13:22:23.533254Z"
    }
   },
   "outputs": [],
   "source": [
    "PHLEX_PROMPT2 = \"\"\"Case Facts:The incident took place in Barangay San Miguel, Iloilo.\n",
    "The accused is Mateo Robles, a security guard at a local factory.\n",
    "The victim is Tomas Reyes, a co-worker of Robles.\n",
    "The incident occurred on the evening of January 15, 2019.\n",
    "Robles confronted Reyes at the factory, accusing him of spreading rumors that led to his suspension.\n",
    "The confrontation escalated when Reyes responded with insults.\n",
    "In a fit of rage, Robles drew a revolver and shot Reyes in the chest.\n",
    "After Reyes fell to the ground, Robles approached and fired a second shot at his head before fleeing the scene.\n",
    "The trial court initially convicted Robles of murder, citing treachery as the qualifying circumstance, as Reyes had no chance to defend himself.\n",
    "\n",
    "What would be valid grounds for an appeal? What could be the likely decision if we appeal?\n",
    "\"\"\"\n"
   ]
  },
  {
   "cell_type": "code",
   "execution_count": 67,
   "id": "bdb396b4-1cf9-4990-bb33-b69e3c7c0787",
   "metadata": {
    "execution": {
     "iopub.execute_input": "2024-08-26T13:23:02.703692Z",
     "iopub.status.busy": "2024-08-26T13:23:02.703036Z",
     "iopub.status.idle": "2024-08-26T13:23:12.595672Z",
     "shell.execute_reply": "2024-08-26T13:23:12.593942Z",
     "shell.execute_reply.started": "2024-08-26T13:23:02.703637Z"
    }
   },
   "outputs": [
    {
     "name": "stdout",
     "output_type": "stream",
     "text": [
      "0.654560626\n",
      "Assistant Thought: The context provided offers a detailed account of a similar case involving a murder conviction, the presence of treachery, and the grounds for appeal. This context can be used to draw parallels and suggest potential grounds for appeal in the case of Mateo Robles.\n",
      "\n",
      "Assistant Response: Based on the context provided, here are some potential grounds for an appeal in the case of Mateo Robles:\n",
      "\n",
      "1. **Insufficient Evidence of Treachery**: The context highlights that treachery must be proven as indubitably as the killing itself and cannot be deduced from mere presumption or speculation. If the defense can argue that the prosecution did not sufficiently prove that the attack was sudden and unexpected, thereby preventing the victim from defending himself, this could be a valid ground for appeal.\n",
      "\n",
      "2. **Evident Premeditation**: The context also discusses the need for clear evidence of evident premeditation, including the time when the accused decided to commit the crime, an act indicating that the accused clung to his determination, and sufficient time for reflection. If the defense can argue that there was no clear evidence of premeditation, this could be another ground for appeal.\n",
      "\n",
      "3. **Credibility of Witnesses**: The context mentions the importance of the credibility of witnesses and the need for their testimonies to be consistent and reliable. If there are inconsistencies or doubts about the credibility of the witnesses who testified against Robles, this could be raised in the appeal.\n",
      "\n",
      "4. **Self-Defense or Provocation**: If there is evidence to suggest that Robles acted in self-defense or was provoked by the victim's insults, this could be used to argue for a lesser charge or a reduced sentence.\n",
      "\n",
      "5. **Errors in the Trial Court's Decision**: The context lists several errors that were raised in the appeal, such as the court's reliance on a single witness's testimony, the treatment of judicial admissions as hearsay, and the improper appreciation of aggravating circumstances. Similar errors in Robles' trial could be grounds for appeal.\n",
      "\n",
      "**Likely Decision if Appealed**:\n",
      "If the appeal successfully argues that treachery and evident premeditation were not sufficiently proven, the conviction could potentially be downgraded from murder to homicide. This would result in a lesser sentence. Additionally, if the appeal raises valid concerns about the credibility of witnesses or procedural errors, there could be a possibility of a retrial or a reduced sentence.\n",
      "\n",
      "Context URL: [People vs. Jose Silvestre y Cruz](https://elibrary.judiciary.gov.ph/thebookshelf/showdocs/1/68284)\n",
      "Context Score: 0.654560626\n"
     ]
    }
   ],
   "source": [
    "r = RagBot(llm=OpenAIChatLLM(temperature=0.0), stop_pattern=['[END]'])\n",
    "print(r.run(PHLEX_PROMPT2))"
   ]
  },
  {
   "cell_type": "code",
   "execution_count": 77,
   "id": "cda7dc64-c025-4790-9155-ee3ce772ad4e",
   "metadata": {
    "execution": {
     "iopub.execute_input": "2024-08-26T14:48:44.072028Z",
     "iopub.status.busy": "2024-08-26T14:48:44.071359Z",
     "iopub.status.idle": "2024-08-26T14:48:44.081241Z",
     "shell.execute_reply": "2024-08-26T14:48:44.079656Z",
     "shell.execute_reply.started": "2024-08-26T14:48:44.071972Z"
    }
   },
   "outputs": [],
   "source": [
    "PHLEX_PROMPT3 = \"\"\"The incident took place in Barangay Santa Cruz, Davao City.\n",
    "The complainant is Amanda Cruz, a human resources manager at Horizon Media Solutions, Inc.\n",
    "The CEO involved is Roberto Dela Peña.\n",
    "Cruz received multiple Notices to Explain (NTEs) due to alleged misconduct, including unprofessional behavior, confrontational interactions with staff, and failure to follow company protocols.\n",
    "One NTE detailed an incident where Cruz allegedly berated an employee during a meeting, threw a folder at him, and used derogatory language.\n",
    "Another NTE accused Cruz of unauthorized absences and leaving the office without proper notice.\n",
    "Cruz was later implicated in an incident involving missing company equipment, where it was alleged that she authorized a technician to take a laptop home without clearance.\n",
    "Due to these allegations, Horizon Media Solutions placed Cruz under preventive suspension, which was extended without pay.\n",
    "Cruz claimed the charges were baseless and motivated by personal vendettas from Dela Peña and other executives, triggered by a critical social media post made by her sibling.\n",
    "Horizon eventually terminated Cruz’s employment, citing serious misconduct, gross neglect of duties, and breach of trust.\n",
    "Cruz filed a complaint for illegal dismissal, asserting that the accusations were fabricated, the evidence was hearsay, and due process was not followed.\n",
    "The Labor Arbiter initially sided with Horizon, justifying the dismissal based on Cruz’s alleged behavior and misconduct.\n",
    "\n",
    "Are there cases similar to this scenario? Share outcomes and case facts.\n",
    "\"\"\""
   ]
  },
  {
   "cell_type": "code",
   "execution_count": 78,
   "id": "ce977a57-56cf-40d7-ad56-1a4a737263aa",
   "metadata": {
    "execution": {
     "iopub.execute_input": "2024-08-26T14:48:46.547776Z",
     "iopub.status.busy": "2024-08-26T14:48:46.547100Z",
     "iopub.status.idle": "2024-08-26T14:48:54.990513Z",
     "shell.execute_reply": "2024-08-26T14:48:54.988110Z",
     "shell.execute_reply.started": "2024-08-26T14:48:46.547719Z"
    }
   },
   "outputs": [
    {
     "name": "stdout",
     "output_type": "stream",
     "text": [
      "0.592701197\n",
      "The case of Michelle Tay vs. Apex 8 Studios, Inc. and Cristina Martinez shares several similarities with the scenario involving Amanda Cruz and Horizon Media Solutions, Inc. Both cases involve managerial employees who were issued multiple Notices to Explain (NTEs) for alleged misconduct, leading to their preventive suspension and eventual termination. Both employees claimed that the charges were baseless and motivated by personal vendettas.\n",
      "\n",
      "In the case of Michelle Tay, the Labor Arbiter initially sided with the employer, justifying the dismissal based on Tay's alleged behavior and misconduct. However, the National Labor Relations Commission (NLRC) later reversed this decision, finding that the charges were not proven with substantial evidence and that the preventive suspension was baseless. The NLRC awarded Tay unpaid salaries for the period of illegal preventive suspension, full backwages, separation pay, moral and exemplary damages, and attorney's fees. The Court of Appeals (CA) reversed the NLRC's decision, but the Supreme Court ultimately reinstated the NLRC's ruling, emphasizing the lack of substantial evidence to justify the dismissal and preventive suspension.\n",
      "\n",
      "In Amanda Cruz's case, if the allegations against her are similarly unsubstantiated and motivated by personal vendettas, she might have a strong case for illegal dismissal. The outcome of Michelle Tay's case suggests that if Cruz can demonstrate that the charges were not proven with substantial evidence and that due process was not followed, she could potentially receive similar remedies, including backwages, separation pay, and damages.\n",
      "\n",
      "Assistant Thought: This context has sufficient information to answer the question.\n",
      "\n",
      "Assistant Response: The case of Michelle Tay vs. Apex 8 Studios, Inc. and Cristina Martinez is similar to Amanda Cruz's situation. In Tay's case, the NLRC found the charges against her unsubstantiated and ruled her dismissal illegal, awarding her backwages, separation pay, and damages. If Amanda Cruz can similarly demonstrate that the allegations against her were baseless and due process was not followed, she might receive similar remedies. For more details, you can refer to the case [here](https://elibrary.judiciary.gov.ph/thebookshelf/showdocs/1/67922).\n"
     ]
    }
   ],
   "source": [
    "r = RagBot(llm=OpenAIChatLLM(temperature=0.0), stop_pattern=['[END]'])\n",
    "print(r.run(PHLEX_PROMPT3))"
   ]
  },
  {
   "cell_type": "code",
   "execution_count": 79,
   "id": "db24173d-379b-4fe1-b3c4-50ff2554c9b2",
   "metadata": {
    "execution": {
     "iopub.execute_input": "2024-08-26T14:49:47.147330Z",
     "iopub.status.busy": "2024-08-26T14:49:47.146677Z",
     "iopub.status.idle": "2024-08-26T14:49:47.154423Z",
     "shell.execute_reply": "2024-08-26T14:49:47.152763Z",
     "shell.execute_reply.started": "2024-08-26T14:49:47.147276Z"
    }
   },
   "outputs": [],
   "source": [
    "FOLLOW_UP_QUESTION = \"Can you identify other references to support this likely outcome?\""
   ]
  },
  {
   "cell_type": "code",
   "execution_count": 120,
   "id": "260ea917-e8d5-429d-a600-9392400febe2",
   "metadata": {
    "execution": {
     "iopub.execute_input": "2024-08-25T14:18:09.829058Z",
     "iopub.status.busy": "2024-08-25T14:18:09.828421Z",
     "iopub.status.idle": "2024-08-25T14:18:16.211952Z",
     "shell.execute_reply": "2024-08-25T14:18:16.210245Z",
     "shell.execute_reply.started": "2024-08-25T14:18:09.829004Z"
    }
   },
   "outputs": [
    {
     "name": "stdout",
     "output_type": "stream",
     "text": [
      "0.357036114\n",
      "Assistant Thought: Since no specific context was found, I will rely on general principles and well-known cases in Philippine jurisprudence to support the likely outcome for Alfredo Espina.\n",
      "\n",
      "Assistant Response: In the absence of specific references from the database, I can point to general principles and well-known cases in Philippine jurisprudence that support the likely outcome for Alfredo Espina. The judiciary has consistently upheld strict penalties for court personnel involved in bribery and extortion to maintain the integrity of the judicial system. For instance:\n",
      "\n",
      "1. **Re: Undated Letter with the Heading \"Exposé\" of a Concerned Mediaman on the Alleged Illegal Acts of Judge Julian C. Ocampo III and Clerk of Court Renato C. San Juan (A.M. No. 00-10-230-MTCC, June 20, 2001)** - In this case, the court took strong action against the involved personnel to uphold judicial integrity.\n",
      "\n",
      "2. **Office of the Court Administrator v. Judge Jaime V. Quitain (A.M. No. RTJ-06-2006, March 14, 2008)** - The court dismissed a judge for gross misconduct involving bribery, emphasizing the need for strict adherence to ethical standards.\n",
      "\n",
      "3. **Re: Anonymous Complaint Against Clerk of Court III, Regional Trial Court, Branch 24, Biñan, Laguna (A.M. No. P-02-1561, August 1, 2002)** - The court dismissed a clerk of court for extortion, underscoring the judiciary's zero-tolerance policy for such offenses.\n",
      "\n",
      "These cases illustrate the judiciary's commitment to imposing severe penalties, including dismissal, forfeiture of benefits, and perpetual disqualification from public service, for court personnel found guilty of bribery and extortion.\n"
     ]
    }
   ],
   "source": [
    "print(r.run(FOLLOW_UP_QUESTION))"
   ]
  },
  {
   "cell_type": "code",
   "execution_count": 121,
   "id": "94190f90-bdd3-452d-9658-8aa85c9647e9",
   "metadata": {
    "execution": {
     "iopub.execute_input": "2024-08-25T14:19:56.539090Z",
     "iopub.status.busy": "2024-08-25T14:19:56.538438Z",
     "iopub.status.idle": "2024-08-25T14:19:56.547195Z",
     "shell.execute_reply": "2024-08-25T14:19:56.545723Z",
     "shell.execute_reply.started": "2024-08-25T14:19:56.539033Z"
    }
   },
   "outputs": [
    {
     "name": "stdout",
     "output_type": "stream",
     "text": [
      "[START]\n",
      "User Input: Presiding Judge Maria Torres of the Regional Trial Court, Branch 45 in Davao City, filed an administrative complaint against Alfredo Espina, a court clerk in the same branch. The complaint arose after a concerned litigant, Leah Perez, reported that Espina was colluding with an outsider named Roberto Cruz to solicit money in exchange for a favorable court ruling. Leah, whose husband had a pending motion for reconsideration, claimed that Cruz introduced himself as a close associate of Judge Torres and assured her that with a payment of PHP 150,000, the motion would be granted. Leah was hesitant but eventually agreed to pay after Cruz brought Espina into the conversation, who then confirmed that he would “talk to the judge.” Leah later discovered that the court ruling had nothing to do with the payment but was based purely on the merits of the case. Disturbed, she reported the incident directly to Judge Torres, who promptly coordinated with the National Bureau of Investigation (NBI) for an entrapment operation. The operation led to the arrest of Cruz and implicated Espina after text messages between them were retrieved. Despite his denials, Espina was found to have orchestrated multiple similar extortion schemes using his position and knowledge of court proceedings. Judge Torres requested the immediate suspension of Espina and the filing of administrative and criminal charges. The investigation revealed that Espina had been taking advantage of vulnerable litigants for years. The Judicial Integrity Board (JIB) recommended his dismissal, forfeiture of benefits, and perpetual disqualification from public service.\n",
      "Given the severity of the misconduct involving bribery and extortion, what would be the likely outcome if this case proceeded to the court, considering previous jurisprudence on similar cases of administrative offenses involving court personnel?\n",
      "Context: \t\t\t\n",
      "\n",
      "EN BANC\n",
      "[ A.M. No. 00-10-230-MTCC, June 20, 2001 ]\n",
      "RE: AN UNDATED LETTER WITH THE HEADING “EXPOSÉ” OF A CONCERNED MEDIAMAN ON THE ALLEGED ILLEGAL ACTS OF JUDGE JULIAN C. OCAMPO III OF THE MUNICIPAL TRIAL COURT IN CITIES BRANCH 1, NAGA CITY AND CLERK OF COURT RENATO C. SAN JUAN, MTCC – NAGA CITY.D E C I S I O N\n",
      "\n",
      "PER\n",
      "CURIAM:\n",
      "This concerns an anonymous letter[1] by a \"concerned media man\" which contains an \"exposé\" of anomalies allegedly committed by Judge Julian C. Ocampo III of the Municipal Trial Court in Cities, Branch 1, Naga City and Renato C. San Juan, Clerk of Court, Municipal Trial Court in Cities, Naga City.  Copies of the letter were sent to the Office of the President and the Chief Justice, both of whom referred the same to the Office of the Court Administrator. The OCA in turn referred the letter to Executive Judge Jose T. Atienza of the Regional Trial Court of Naga City for investigation, report, and recommendation.The letter alleged the following:(1) Justice is for sa\n",
      "Context URL: https://elibrary.judiciary.gov.ph/thebookshelf/showdocs/1/52307\n",
      "Context Score: 0.694172561\n",
      "Assistant Thought: The provided context discusses a case involving allegations of illegal acts by a judge and a clerk of court, which is somewhat similar to the current case involving Alfredo Espina. However, it does not provide specific jurisprudence or outcomes directly related to Espina's case. Therefore, I will use general principles from similar cases to answer the question.\n",
      "\n",
      "Assistant Response: In cases of administrative offenses involving court personnel, especially those involving bribery and extortion, the judiciary has consistently taken a strong stance to maintain the integrity of the judicial system. Based on previous jurisprudence, the likely outcome for Alfredo Espina, given the severity of his misconduct, would be his dismissal from service, forfeiture of benefits, and perpetual disqualification from public service. This aligns with the recommendations of the Judicial Integrity Board (JIB) and reflects the judiciary's commitment to upholding ethical standards and deterring similar misconduct.\n",
      "[END]\n",
      "[START]\n",
      "User Input: Can you identify references to support this likely outcome?\n",
      "Context: NO CONTEXT FOUND\n",
      "Context URL: NONE\n",
      "Context Score: 0\n",
      "Assistant Thought: Since no specific context was found, I will rely on general principles and well-known cases in Philippine jurisprudence to support the likely outcome for Alfredo Espina.\n",
      "\n",
      "Assistant Response: In the absence of specific references from the database, I can point to general principles and well-known cases in Philippine jurisprudence that support the likely outcome for Alfredo Espina. The judiciary has consistently upheld strict penalties for court personnel involved in bribery and extortion to maintain the integrity of the judicial system. For instance:\n",
      "\n",
      "1. **Re: Undated Letter with the Heading \"Exposé\" of a Concerned Mediaman on the Alleged Illegal Acts of Judge Julian C. Ocampo III and Clerk of Court Renato C. San Juan (A.M. No. 00-10-230-MTCC, June 20, 2001)** - In this case, the court took strong action against the involved personnel to uphold judicial integrity.\n",
      "\n",
      "2. **Office of the Court Administrator v. Judge Jaime V. Quitain (A.M. No. RTJ-06-2006, March 14, 2008)** - The court dismissed a judge for gross misconduct involving bribery, emphasizing the need for strict adherence to ethical standards.\n",
      "\n",
      "3. **Re: Anonymous Complaint Against Clerk of Court III, Regional Trial Court, Branch 24, Biñan, Laguna (A.M. No. P-02-1561, August 1, 2002)** - The court dismissed a clerk of court for extortion, underscoring the judiciary's zero-tolerance policy for such offenses.\n",
      "\n",
      "These cases illustrate the judiciary's commitment to imposing severe penalties, including dismissal, forfeiture of benefits, and perpetual disqualification from public service, for court personnel found guilty of bribery and extortion.\n",
      "[END]\n"
     ]
    }
   ],
   "source": [
    "print(r.running_convo)"
   ]
  },
  {
   "cell_type": "code",
   "execution_count": 122,
   "id": "708cf6da-bad1-4b89-a133-bc1b09920ba6",
   "metadata": {
    "execution": {
     "iopub.execute_input": "2024-08-25T14:20:50.240540Z",
     "iopub.status.busy": "2024-08-25T14:20:50.239871Z",
     "iopub.status.idle": "2024-08-25T14:20:50.249782Z",
     "shell.execute_reply": "2024-08-25T14:20:50.248263Z",
     "shell.execute_reply.started": "2024-08-25T14:20:50.240482Z"
    }
   },
   "outputs": [],
   "source": [
    "query_phlex = \"\"\"Presiding Judge Maria Torres of the Regional Trial Court, Branch 45 in Davao City, filed an administrative complaint against Alfredo Espina, a court clerk in the same branch. The complaint arose after a concerned litigant, Leah Perez, reported that Espina was colluding with an outsider named Roberto Cruz to solicit money in exchange for a favorable court ruling. Leah, whose husband had a pending motion for reconsideration, claimed that Cruz introduced himself as a close associate of Judge Torres and assured her that with a payment of PHP 150,000, the motion would be granted. Leah was hesitant but eventually agreed to pay after Cruz brought Espina into the conversation, who then confirmed that he would “talk to the judge.” Leah later discovered that the court ruling had nothing to do with the payment but was based purely on the merits of the case. Disturbed, she reported the incident directly to Judge Torres, who promptly coordinated with the National Bureau of Investigation (NBI) for an entrapment operation. The operation led to the arrest of Cruz and implicated Espina after text messages between them were retrieved. Despite his denials, Espina was found to have orchestrated multiple similar extortion schemes using his position and knowledge of court proceedings. Judge Torres requested the immediate suspension of Espina and the filing of administrative and criminal charges. The investigation revealed that Espina had been taking advantage of vulnerable litigants for years. The Judicial Integrity Board (JIB) recommended his dismissal, forfeiture of benefits, and perpetual disqualification from public service.\"\"\""
   ]
  },
  {
   "cell_type": "code",
   "execution_count": 123,
   "id": "b9307ede-57e1-49ec-9fe4-dbcc69032fc6",
   "metadata": {
    "execution": {
     "iopub.execute_input": "2024-08-25T14:21:58.622681Z",
     "iopub.status.busy": "2024-08-25T14:21:58.622016Z",
     "iopub.status.idle": "2024-08-25T14:22:02.016971Z",
     "shell.execute_reply": "2024-08-25T14:22:02.015098Z",
     "shell.execute_reply.started": "2024-08-25T14:21:58.622624Z"
    }
   },
   "outputs": [
    {
     "name": "stdout",
     "output_type": "stream",
     "text": [
      "https://elibrary.judiciary.gov.ph/thebookshelf/showdocs/1/52307 0.651597619 letter alleged the following:(1) Justice is for sa\n",
      "fe24a198c02210f66959fd54c5a0ee8d\n",
      "d41d8cd98f00b204e9800998ecf8427e\n",
      "https://elibrary.judiciary.gov.ph/thebookshelf/showdocs/1/47423 0.640378475  Errol De Villar and Rodeo Lerio, as well as their\n",
      "a89df0b8f625392377558c0f35422d93\n",
      "d41d8cd98f00b204e9800998ecf8427e\n",
      "https://elibrary.judiciary.gov.ph/thebookshelf/showdocs/1/43534 0.634960651 s to release the accused in each of the following \n",
      "4845f8bb86bee072d700d6bb35507cd4\n",
      "d41d8cd98f00b204e9800998ecf8427e\n",
      "https://elibrary.judiciary.gov.ph/thebookshelf/showdocs/1/47130 0.634479284  Order directing herein respondent to put on aucti\n",
      "88a89117ac3702ea9577da3bf8690c7a\n",
      "d41d8cd98f00b204e9800998ecf8427e\n",
      "https://elibrary.judiciary.gov.ph/thebookshelf/showdocs/1/46814 0.625724375  of Court with the directive that she issue the co\n",
      "b1d7b7e45aad985b5e9c3631b8c3fef1\n",
      "d41d8cd98f00b204e9800998ecf8427e\n",
      "https://elibrary.judiciary.gov.ph/thebookshelf/showdocs/1/42385 0.624379814 ty one (91) cases and resolve the pending motions \n",
      "a83a44310aec9c94bd955aef7fb86ca6\n",
      "d41d8cd98f00b204e9800998ecf8427e\n",
      "https://elibrary.judiciary.gov.ph/thebookshelf/showdocs/1/41853 0.622772038 that effect thus depriving Cruz the right to chall\n",
      "9cec651ce2aa5c74751b2ac9e88437de\n",
      "d41d8cd98f00b204e9800998ecf8427e\n",
      "https://elibrary.judiciary.gov.ph/thebookshelf/showdocs/1/33729 0.620226502 z a total sum of nine thousand pesos (P9,000.00), \n",
      "b17f15472edefb68d49373e734974f33\n",
      "d41d8cd98f00b204e9800998ecf8427e\n",
      "https://elibrary.judiciary.gov.ph/thebookshelf/showdocs/1/63157 0.617333293 ion of the alleged solicitation by respondent Cruz\n",
      "9f1519172e6b077d6f549bd66281c607\n",
      "d41d8cd98f00b204e9800998ecf8427e\n",
      "https://elibrary.judiciary.gov.ph/thebookshelf/showdocs/1/65147 0.615600765 entitled Spouses Roman and Estela Trinidad v. Erli\n",
      "cfc039b25806ea5147c2b05f9aea9889\n",
      "d41d8cd98f00b204e9800998ecf8427e\n"
     ]
    }
   ],
   "source": [
    "matching_documents_phlex = query_from_pinecone(query_phlex, top_k=10)\n",
    "for matching_doc in matching_documents_phlex:\n",
    "    print(matching_doc['metadata']['url'], matching_doc['score'], matching_doc['metadata']['text'][-50:])\n",
    "    print(matching_doc['id'])\n",
    "    print(convert_to_hash(extract_text_data(matching_doc['metadata']['url'])))"
   ]
  },
  {
   "cell_type": "code",
   "execution_count": 137,
   "id": "957a9e26-ebbd-49e7-9005-b011326e7b58",
   "metadata": {
    "execution": {
     "iopub.execute_input": "2024-08-27T13:53:17.609602Z",
     "iopub.status.busy": "2024-08-27T13:53:17.608683Z",
     "iopub.status.idle": "2024-08-27T13:53:17.615699Z",
     "shell.execute_reply": "2024-08-27T13:53:17.614411Z",
     "shell.execute_reply.started": "2024-08-27T13:53:17.609551Z"
    }
   },
   "outputs": [],
   "source": [
    "# commonwealthAct1 = \"\"\"Commonwealth Act No. 1, also known as the National Defense Act of 1935, was a law enacted by the Philippine Commonwealth government. It was signed into law by President Manuel L. Quezon on December 21, 1935. The act aimed to create an independent Philippine military force to defend the country from external aggression and to maintain internal peace and order. It established the framework for the organization, training, and mobilization of the Philippine Army.\"\"\""
   ]
  },
  {
   "cell_type": "code",
   "execution_count": 147,
   "id": "ea6e5feb-8e58-4ae3-a55e-1e948ed81a90",
   "metadata": {
    "execution": {
     "iopub.execute_input": "2024-08-27T14:20:30.031125Z",
     "iopub.status.busy": "2024-08-27T14:20:30.030462Z",
     "iopub.status.idle": "2024-08-27T14:20:30.038168Z",
     "shell.execute_reply": "2024-08-27T14:20:30.036637Z",
     "shell.execute_reply.started": "2024-08-27T14:20:30.031068Z"
    }
   },
   "outputs": [],
   "source": [
    "commonwealthAct1 = \"What is Commonwealth Act No. 1?\" "
   ]
  },
  {
   "cell_type": "code",
   "execution_count": 148,
   "id": "0627e7c5-2383-49c4-b9db-f3c687c7df48",
   "metadata": {
    "execution": {
     "iopub.execute_input": "2024-08-27T14:20:32.391138Z",
     "iopub.status.busy": "2024-08-27T14:20:32.390534Z",
     "iopub.status.idle": "2024-08-27T14:20:35.256333Z",
     "shell.execute_reply": "2024-08-27T14:20:35.254752Z",
     "shell.execute_reply.started": "2024-08-27T14:20:32.391088Z"
    }
   },
   "outputs": [
    {
     "name": "stdout",
     "output_type": "stream",
     "text": [
      "https://elibrary.judiciary.gov.ph/thebookshelf/showdocs/1/42735 0.372489512\n",
      "\t\t\t\n",
      "\n",
      "SECOND DIVISION\n",
      "[ G.R. NO. 156117, May 26, 2005 ]\n",
      "REPUBLIC OF THE PHILIPPINES, PETITIONER, VS. \n",
      "['Property Registration Decree', 'Public Land Act', 'Subject Lots', 'land registration court', 'land registration']\n",
      "https://elibrary.judiciary.gov.ph/thebookshelf/showdocs/1/50669 0.360729903\n",
      "\t\t\t\n",
      "\n",
      "EN BANC\n",
      "[ G.R. No. 186616, November 20, 2009 ]\n",
      "COMMISSION ON ELECTIONS, PETITIONER, VS. CONRADO\n",
      "['barangay elective officials', 'Barangay officials', 'Local Government Code', 'local elective officials', 'Barangay']\n",
      "https://elibrary.judiciary.gov.ph/thebookshelf/showdocs/1/44546 0.351162046\n",
      "\t\t\t\n",
      "\n",
      "THIRD DIVISION\n",
      "[ G.R. No. 110478[1], October 15, 2007 ]\n",
      "FERMIN MANAPAT, PETITIONER, VS. COURT O\n",
      "['COURT', 'NATIONAL HOUSING AUTHORITY', 'Grace Park Subdivision', 'Grace Park', 'appellate court']\n"
     ]
    }
   ],
   "source": [
    "matching_documents = query_from_pinecone(commonwealthAct1, top_k=3)\n",
    "for matching_doc in matching_documents:\n",
    "    print(matching_doc['metadata']['url'], matching_doc['score'])\n",
    "    print(matching_doc['metadata']['text'][:100])\n",
    "    print(matching_doc['metadata']['tags'])"
   ]
  },
  {
   "cell_type": "code",
   "execution_count": 149,
   "id": "b570d74a-397b-4c09-99af-c4964f9324e1",
   "metadata": {
    "execution": {
     "iopub.execute_input": "2024-08-27T14:20:43.754027Z",
     "iopub.status.busy": "2024-08-27T14:20:43.753291Z",
     "iopub.status.idle": "2024-08-27T14:20:48.759935Z",
     "shell.execute_reply": "2024-08-27T14:20:48.758494Z",
     "shell.execute_reply.started": "2024-08-27T14:20:43.753969Z"
    }
   },
   "outputs": [
    {
     "name": "stdout",
     "output_type": "stream",
     "text": [
      "0.372489512\n",
      "Assistant Thought: Since no context was found in the database, I will provide information based on general knowledge.\n",
      "\n",
      "Assistant Response: Commonwealth Act No. 1, also known as the National Defense Act of 1935, was a law enacted by the Philippine Commonwealth government. It established the legal basis for the creation of the Armed Forces of the Philippines (AFP) and laid down the framework for national defense. The act was signed into law by President Manuel L. Quezon on December 21, 1935, and it aimed to ensure the security and defense of the Philippines in the face of potential external threats.\n"
     ]
    }
   ],
   "source": [
    "r = RagBot(llm=OpenAIChatLLM(temperature=0.0), stop_pattern=['[END]'])\n",
    "print(r.run(commonwealthAct1))"
   ]
  },
  {
   "cell_type": "markdown",
   "id": "0f98e78e-17f1-417d-bbe4-d89529e43a0b",
   "metadata": {},
   "source": [
    "## **Costing**"
   ]
  },
  {
   "cell_type": "code",
   "execution_count": 124,
   "id": "8ab68637-bd60-4332-9603-7ef04b96163f",
   "metadata": {
    "execution": {
     "iopub.execute_input": "2024-08-25T14:27:51.375917Z",
     "iopub.status.busy": "2024-08-25T14:27:51.375226Z",
     "iopub.status.idle": "2024-08-25T14:27:52.368246Z",
     "shell.execute_reply": "2024-08-25T14:27:52.367337Z",
     "shell.execute_reply.started": "2024-08-25T14:27:51.375860Z"
    }
   },
   "outputs": [
    {
     "data": {
      "text/html": [
       "<div>\n",
       "<style scoped>\n",
       "    .dataframe tbody tr th:only-of-type {\n",
       "        vertical-align: middle;\n",
       "    }\n",
       "\n",
       "    .dataframe tbody tr th {\n",
       "        vertical-align: top;\n",
       "    }\n",
       "\n",
       "    .dataframe thead th {\n",
       "        text-align: right;\n",
       "    }\n",
       "</style>\n",
       "<table border=\"1\" class=\"dataframe\">\n",
       "  <thead>\n",
       "    <tr style=\"text-align: right;\">\n",
       "      <th></th>\n",
       "      <th>id</th>\n",
       "      <th>created_at</th>\n",
       "      <th>prompt</th>\n",
       "      <th>response</th>\n",
       "      <th>input_tokens</th>\n",
       "      <th>output_tokens</th>\n",
       "      <th>model</th>\n",
       "      <th>inference_params</th>\n",
       "      <th>is_openai</th>\n",
       "      <th>app</th>\n",
       "    </tr>\n",
       "    <tr>\n",
       "      <th>created_at</th>\n",
       "      <th></th>\n",
       "      <th></th>\n",
       "      <th></th>\n",
       "      <th></th>\n",
       "      <th></th>\n",
       "      <th></th>\n",
       "      <th></th>\n",
       "      <th></th>\n",
       "      <th></th>\n",
       "      <th></th>\n",
       "    </tr>\n",
       "  </thead>\n",
       "  <tbody>\n",
       "    <tr>\n",
       "      <th>2024-08-25 13:39:31.124513+00:00</th>\n",
       "      <td>858f6d84-a301-4e94-8bec-64cba4633e50</td>\n",
       "      <td>2024-08-25T13:39:31.124513+00:00</td>\n",
       "      <td>hi</td>\n",
       "      <td>Hello! How can I assist you today?</td>\n",
       "      <td>8</td>\n",
       "      <td>9</td>\n",
       "      <td>gpt-4o</td>\n",
       "      <td>{'stop': None, 'temperature': 0.0}</td>\n",
       "      <td>True</td>\n",
       "      <td>RAG</td>\n",
       "    </tr>\n",
       "    <tr>\n",
       "      <th>2024-08-25 14:10:03.572990+00:00</th>\n",
       "      <td>536d3606-46e4-4323-bf62-89813de388a5</td>\n",
       "      <td>2024-08-25T14:10:03.57299+00:00</td>\n",
       "      <td>Today is 2024-08-25 and you can retrieve infor...</td>\n",
       "      <td>Assistant Thought: The provided context discus...</td>\n",
       "      <td>956</td>\n",
       "      <td>180</td>\n",
       "      <td>gpt-4o</td>\n",
       "      <td>{'stop': ['[END]'], 'temperature': 0.0}</td>\n",
       "      <td>True</td>\n",
       "      <td>RAG</td>\n",
       "    </tr>\n",
       "    <tr>\n",
       "      <th>2024-08-25 14:18:16.125662+00:00</th>\n",
       "      <td>536a6713-59c7-4cac-96fb-0ec0b7b4c3a6</td>\n",
       "      <td>2024-08-25T14:18:16.125662+00:00</td>\n",
       "      <td>Today is 2024-08-25 and you can retrieve infor...</td>\n",
       "      <td>Assistant Thought: Since no specific context w...</td>\n",
       "      <td>1173</td>\n",
       "      <td>362</td>\n",
       "      <td>gpt-4o</td>\n",
       "      <td>{'stop': ['[END]'], 'temperature': 0.0}</td>\n",
       "      <td>True</td>\n",
       "      <td>RAG</td>\n",
       "    </tr>\n",
       "  </tbody>\n",
       "</table>\n",
       "</div>"
      ],
      "text/plain": [
       "                                                                    id  \\\n",
       "created_at                                                               \n",
       "2024-08-25 13:39:31.124513+00:00  858f6d84-a301-4e94-8bec-64cba4633e50   \n",
       "2024-08-25 14:10:03.572990+00:00  536d3606-46e4-4323-bf62-89813de388a5   \n",
       "2024-08-25 14:18:16.125662+00:00  536a6713-59c7-4cac-96fb-0ec0b7b4c3a6   \n",
       "\n",
       "                                                        created_at  \\\n",
       "created_at                                                           \n",
       "2024-08-25 13:39:31.124513+00:00  2024-08-25T13:39:31.124513+00:00   \n",
       "2024-08-25 14:10:03.572990+00:00   2024-08-25T14:10:03.57299+00:00   \n",
       "2024-08-25 14:18:16.125662+00:00  2024-08-25T14:18:16.125662+00:00   \n",
       "\n",
       "                                                                             prompt  \\\n",
       "created_at                                                                            \n",
       "2024-08-25 13:39:31.124513+00:00                                                 hi   \n",
       "2024-08-25 14:10:03.572990+00:00  Today is 2024-08-25 and you can retrieve infor...   \n",
       "2024-08-25 14:18:16.125662+00:00  Today is 2024-08-25 and you can retrieve infor...   \n",
       "\n",
       "                                                                           response  \\\n",
       "created_at                                                                            \n",
       "2024-08-25 13:39:31.124513+00:00                 Hello! How can I assist you today?   \n",
       "2024-08-25 14:10:03.572990+00:00  Assistant Thought: The provided context discus...   \n",
       "2024-08-25 14:18:16.125662+00:00  Assistant Thought: Since no specific context w...   \n",
       "\n",
       "                                  input_tokens  output_tokens   model  \\\n",
       "created_at                                                              \n",
       "2024-08-25 13:39:31.124513+00:00             8              9  gpt-4o   \n",
       "2024-08-25 14:10:03.572990+00:00           956            180  gpt-4o   \n",
       "2024-08-25 14:18:16.125662+00:00          1173            362  gpt-4o   \n",
       "\n",
       "                                                         inference_params  \\\n",
       "created_at                                                                  \n",
       "2024-08-25 13:39:31.124513+00:00       {'stop': None, 'temperature': 0.0}   \n",
       "2024-08-25 14:10:03.572990+00:00  {'stop': ['[END]'], 'temperature': 0.0}   \n",
       "2024-08-25 14:18:16.125662+00:00  {'stop': ['[END]'], 'temperature': 0.0}   \n",
       "\n",
       "                                  is_openai  app  \n",
       "created_at                                        \n",
       "2024-08-25 13:39:31.124513+00:00       True  RAG  \n",
       "2024-08-25 14:10:03.572990+00:00       True  RAG  \n",
       "2024-08-25 14:18:16.125662+00:00       True  RAG  "
      ]
     },
     "execution_count": 124,
     "metadata": {},
     "output_type": "execute_result"
    }
   ],
   "source": [
    "response = supabase.table('cost_projecting').select(\"*\").eq('app', 'RAG').execute()\n",
    "completions_df = pd.DataFrame(response.data)\n",
    "completions_df.index = pd.to_datetime(completions_df['created_at'])\n",
    "\n",
    "completions_df.head()"
   ]
  },
  {
   "cell_type": "code",
   "execution_count": 125,
   "id": "ec32dec3-b471-45e6-a18a-69b81de80c03",
   "metadata": {
    "execution": {
     "iopub.execute_input": "2024-08-25T14:28:49.177223Z",
     "iopub.status.busy": "2024-08-25T14:28:49.176566Z",
     "iopub.status.idle": "2024-08-25T14:28:49.191862Z",
     "shell.execute_reply": "2024-08-25T14:28:49.190720Z",
     "shell.execute_reply.started": "2024-08-25T14:28:49.177169Z"
    }
   },
   "outputs": [
    {
     "data": {
      "text/plain": [
       "(0.000754, 0.000754)"
      ]
     },
     "execution_count": 125,
     "metadata": {},
     "output_type": "execute_result"
    }
   ],
   "source": [
    "prices = { # per 1M tokens\n",
    "    'gpt-3.5-turbo': {\n",
    "        'prompt': 0.5,\n",
    "        'completion': 1.5\n",
    "    },\n",
    "    'gpt-4o': {\n",
    "        'prompt': 5,\n",
    "        'completion': 15\n",
    "    },\n",
    "}\n",
    "\n",
    "def calculate_cost(input_tokens, output_tokens, model):\n",
    "    if model not in prices:\n",
    "        return None\n",
    "\n",
    "    prompt_cost = input_tokens / 1e6\n",
    "    completion_cost = output_tokens / 1e6\n",
    "\n",
    "    return prompt_cost + completion_cost\n",
    "\n",
    "calculate_cost(354, 400, 'gpt-3.5-turbo'), calculate_cost(354, 400, 'gpt-4o')"
   ]
  },
  {
   "cell_type": "code",
   "execution_count": 126,
   "id": "57c27c52-0e17-410e-a61e-711cd53e88ff",
   "metadata": {
    "execution": {
     "iopub.execute_input": "2024-08-25T14:29:15.206651Z",
     "iopub.status.busy": "2024-08-25T14:29:15.206003Z",
     "iopub.status.idle": "2024-08-25T14:29:15.219474Z",
     "shell.execute_reply": "2024-08-25T14:29:15.217759Z",
     "shell.execute_reply.started": "2024-08-25T14:29:15.206595Z"
    }
   },
   "outputs": [],
   "source": [
    "# run calculate_cost over every row\n",
    "completions_df['cost'] = completions_df.apply(\n",
    "    lambda row: calculate_cost(row['input_tokens'], row['output_tokens'], row['model']), axis=1\n",
    "    )"
   ]
  },
  {
   "cell_type": "code",
   "execution_count": 127,
   "id": "9c0779ce-ba28-4853-a817-ef2e176b6434",
   "metadata": {
    "execution": {
     "iopub.execute_input": "2024-08-25T14:29:17.302524Z",
     "iopub.status.busy": "2024-08-25T14:29:17.301871Z",
     "iopub.status.idle": "2024-08-25T14:29:17.326818Z",
     "shell.execute_reply": "2024-08-25T14:29:17.325476Z",
     "shell.execute_reply.started": "2024-08-25T14:29:17.302469Z"
    }
   },
   "outputs": [
    {
     "data": {
      "text/plain": [
       "created_at\n",
       "2024-08-26 00:00:00+00:00    0.002688\n",
       "Freq: W-MON, Name: cost, dtype: float64"
      ]
     },
     "execution_count": 127,
     "metadata": {},
     "output_type": "execute_result"
    }
   ],
   "source": [
    "completions_df['cost'].resample('W-Mon').sum().sort_index()"
   ]
  },
  {
   "cell_type": "code",
   "execution_count": 128,
   "id": "dafc92da-6deb-40ba-8ac7-c15af0a149c3",
   "metadata": {
    "execution": {
     "iopub.execute_input": "2024-08-25T14:29:55.028100Z",
     "iopub.status.busy": "2024-08-25T14:29:55.027450Z",
     "iopub.status.idle": "2024-08-25T14:29:55.178019Z",
     "shell.execute_reply": "2024-08-25T14:29:55.177109Z",
     "shell.execute_reply.started": "2024-08-25T14:29:55.028042Z"
    }
   },
   "outputs": [
    {
     "data": {
      "text/plain": [
       "<AxesSubplot:xlabel='created_at'>"
      ]
     },
     "execution_count": 128,
     "metadata": {},
     "output_type": "execute_result"
    },
    {
     "data": {
      "image/png": "[encoded data removed]",
      "text/plain": [
       "<Figure size 640x480 with 1 Axes>"
      ]
     },
     "metadata": {},
     "output_type": "display_data"
    }
   ],
   "source": [
    "completions_df['cost'].resample('W-Mon').sum().sort_index().plot(kind='bar')"
   ]
  },
  {
   "cell_type": "markdown",
   "id": "e2817f94-ac8a-4e9e-8a5a-100c91adeeaf",
   "metadata": {},
   "source": [
    "## **References**"
   ]
  },
  {
   "cell_type": "markdown",
   "id": "4a5b644a-e508-4851-b231-1dabf1a29737",
   "metadata": {},
   "source": [
    "1. Andrade-Udarbe, J. and Ballena, C. (2021). Exploring frontiers in electronic evidence: the philippine experience. Philippine Social Science Journal, 4(4), 104-112. https://doi.org/10.52006/main.v4i4.417\n",
    "2. Arifany, P. (2021). Analisis implementasi pelaksanaan e-court di pengadilan agama. Jurnal Riset Hukum Keluarga Islam, 1(1), 37-42. https://doi.org/10.29313/jrhki.v1i1.199\n",
    "3. Donoghue, J. (2017). The rise of digital justice: courtroom technology, public participation and access to justice. Modern Law Review, 80(6), 995-1025. https://doi.org/10.1111/1468-2230.12300\n",
    "4. Eltis, K. (2011). The judicial system in the digital age: revisiting the relationship between privacy and accessibility in the cyber context. McGill Law Journal, 56(2), 289-316. https://doi.org/10.7202/1002368ar\n",
    "5. Grepon, B. (2021). Designing and implementing e-justice systems: an information systems approach to regional trial court case docket management in northern mindanao, philippines.. https://doi.org/10.5281/zenodo.4459814\n",
    "6. Guinigundo, D. (2021). A path to restorative justice: applicability of mental health courts in the philippines. Asian Journal of Legal Education, 8(2), 205-219. https://doi.org/10.1177/23220058211028411\n",
    "7. Kondori, N. (2023). Identifying and ranking critical success factors for digital court. Journal of Organizational Change Management, 36(6), 1077-1094. https://doi.org/10.1108/jocm-03-2023-0087\n",
    "8. Lee, S. and Narag, R. (2018). Fanning the flames: understanding gang involvement among philippine prisoners. International Journal of Offender Therapy and Comparative Criminology, 63(3), 424-447. https://doi.org/10.1177/0306624x18798225\n",
    "9. Masriyani, M. (2024). Electronic court (e-court) at the sarolangun religious court. International Journal of Multidisciplinary Sciences and Arts, 2(2), 271-276. https://doi.org/10.47709/ijmdsa.v2i2.3603\n",
    "10. Muhammad, M. (2023). Implementation of online registration e-court at indonesia religious courts. Arena Hukum, 16(02), 232-256. https://doi.org/10.21776/ub.arenahukum.2023.01602.2\n",
    "11. Narag, R. (2017). Understanding factors related to prolonged trial of detained defendants in the philippines. International Journal of Offender Therapy and Comparative Criminology, 62(8), 2461-2487. https://doi.org/10.1177/0306624x17736041\n",
    "12. Ngoepe, M. and Makhubela, S. (2015). “justice delayed is justice denied”. Records Management Journal, 25(3), 288-305. https://doi.org/10.1108/rmj-06-2015-0023\n",
    "13. Santosa, D. (2023). How artificial intelligence can be useful for criminal courts in indonesia.. https://doi.org/10.4108/eai.28-10-2023.2341682\n",
    "14. Setiawan, H. (2024). Digitalization of legal transformation on  judicial review in the constitutional court. Journal of Human Rights Culture and Legal System, 4(2), 263-298. https://doi.org/10.53955/jhcls.v4i2.263\n"
   ]
  },
  {
   "cell_type": "markdown",
   "id": "eff9f9ca-ce53-4673-81c1-bd791ccf34da",
   "metadata": {},
   "source": [
    "## **Add Document**"
   ]
  },
  {
   "cell_type": "code",
   "execution_count": 96,
   "id": "598a2aa5-6655-45f8-b06c-ff0d88b5816a",
   "metadata": {
    "execution": {
     "iopub.execute_input": "2024-08-27T13:14:57.834655Z",
     "iopub.status.busy": "2024-08-27T13:14:57.833710Z",
     "iopub.status.idle": "2024-08-27T13:15:00.100419Z",
     "shell.execute_reply": "2024-08-27T13:15:00.099230Z",
     "shell.execute_reply.started": "2024-08-27T13:14:57.834594Z"
    }
   },
   "outputs": [
    {
     "data": {
      "text/plain": [
       "'[Commonwealth Act No. 1, December 21, 1935] There '"
      ]
     },
     "execution_count": 96,
     "metadata": {},
     "output_type": "execute_result"
    }
   ],
   "source": [
    "url = 'https://elibrary.judiciary.gov.ph/thebookshelf/showdocs/29/26021'\n",
    "doc2add = extract_text_data(url)\n",
    "title = get_text_inside_brackets(doc2add)\n",
    "summary_doc2add = summarize_text(doc2add)\n",
    "summary_doc2add = '[' + title.strip() + '] ' + summary_doc2add\n",
    "summary_doc2add[:50]"
   ]
  },
  {
   "cell_type": "code",
   "execution_count": 122,
   "id": "8e79918b-7b09-411c-b0a8-b73d1b935491",
   "metadata": {
    "execution": {
     "iopub.execute_input": "2024-08-27T13:18:07.634456Z",
     "iopub.status.busy": "2024-08-27T13:18:07.633815Z",
     "iopub.status.idle": "2024-08-27T13:18:10.097642Z",
     "shell.execute_reply": "2024-08-27T13:18:10.096082Z",
     "shell.execute_reply.started": "2024-08-27T13:18:07.634402Z"
    }
   },
   "outputs": [
    {
     "name": "stderr",
     "output_type": "stream",
     "text": [
      "100%|██████████| 1/1 [00:02<00:00,  2.45s/it]\n"
     ]
    },
    {
     "data": {
      "text/plain": [
       "1"
      ]
     },
     "execution_count": 122,
     "metadata": {},
     "output_type": "execute_result"
    }
   ],
   "source": [
    "upload_texts_to_pinecone(\n",
    "    texts=[summary_doc2add],\n",
    "    batch_size=1,\n",
    "    show_progress_bar=True,\n",
    "    urls=[url]\n",
    ")"
   ]
  },
  {
   "cell_type": "code",
   "execution_count": 123,
   "id": "f7c8fdec-2531-4fc0-8fe1-9cbcaf50248a",
   "metadata": {
    "execution": {
     "iopub.execute_input": "2024-08-27T13:18:47.770229Z",
     "iopub.status.busy": "2024-08-27T13:18:47.769520Z",
     "iopub.status.idle": "2024-08-27T13:18:48.048387Z",
     "shell.execute_reply": "2024-08-27T13:18:48.046841Z",
     "shell.execute_reply.started": "2024-08-27T13:18:47.770171Z"
    }
   },
   "outputs": [
    {
     "data": {
      "text/plain": [
       "{'dimension': 1536,\n",
       " 'index_fullness': 0.0,\n",
       " 'namespaces': {'default': {'vector_count': 318}},\n",
       " 'total_vector_count': 318}"
      ]
     },
     "execution_count": 123,
     "metadata": {},
     "output_type": "execute_result"
    }
   ],
   "source": [
    "# Check stats to see if upsert was successful\n",
    "index.describe_index_stats()"
   ]
  }
 ],
 "metadata": {
  "kernelspec": {
   "display_name": "Python 3 (ipykernel)",
   "language": "python",
   "name": "python3"
  },
  "language_info": {
   "codemirror_mode": {
    "name": "ipython",
    "version": 3
   },
   "file_extension": ".py",
   "mimetype": "text/x-python",
   "name": "python",
   "nbconvert_exporter": "python",
   "pygments_lexer": "ipython3",
   "version": "3.12.5"
  }
 },
 "nbformat": 4,
 "nbformat_minor": 5
}
